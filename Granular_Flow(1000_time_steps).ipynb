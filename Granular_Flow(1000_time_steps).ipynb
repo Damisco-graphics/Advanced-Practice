{
 "cells": [
  {
   "cell_type": "markdown",
   "id": "4b49399e-fdf7-4e5a-9351-79754e455df6",
   "metadata": {},
   "source": [
    "#  Data Analytics and Machine Learning of the Data space in Granular Flow\n",
    "    *Training and Developing the Machine Learning model with 30 time_steps"
   ]
  },
  {
   "cell_type": "code",
   "execution_count": 1,
   "id": "be4fdd26-0a4a-43d3-b735-d96dcc573b6a",
   "metadata": {},
   "outputs": [],
   "source": [
    "%matplotlib inline\n",
    "import pandas as pd\n",
    "import numpy as np\n",
    "import matplotlib.pyplot as plt"
   ]
  },
  {
   "cell_type": "code",
   "execution_count": 2,
   "id": "f956a917-720a-49f8-93db-8b0e0735149e",
   "metadata": {},
   "outputs": [],
   "source": [
    "#pd.set_option('display.max_column', None)\n",
    "#pd.set_option('display.max_rows', None)"
   ]
  },
  {
   "cell_type": "markdown",
   "id": "206ad89a-1937-40fe-9611-ab4c7c5e8e7d",
   "metadata": {},
   "source": [
    "# 1.0 Combining the data gathered for each time step into a single csv file"
   ]
  },
  {
   "cell_type": "code",
   "execution_count": 3,
   "id": "790bd4bb-0350-4293-a1ec-475a61caf964",
   "metadata": {},
   "outputs": [],
   "source": [
    "granular_flow_data_paths=[]\n",
    "\n",
    "tot=np.arange(100,100000,100)\n",
    "for i in range(tot.size):\n",
    "    if i==0:\n",
    "        pass\n",
    "    else:\n",
    "        a=[f\"\"\"./Updated Data and AI Simulations/Getting the Data/ChuteFlowDemo/Tables/XYZ_Internal_Table_table_{i*100}.csv\"\"\"]\n",
    "        granular_flow_data_paths+=a\n",
    "\n",
    "\n",
    "\n",
    "granular_flow_dataset = []\n",
    "for datapath in granular_flow_data_paths:\n",
    "    df=pd.read_csv(datapath)\n",
    "    granular_flow_dataset.append(df)\n"
   ]
  },
  {
   "cell_type": "code",
   "execution_count": 4,
   "id": "9a2234d7",
   "metadata": {},
   "outputs": [
    {
     "data": {
      "text/plain": [
       "998"
      ]
     },
     "execution_count": 4,
     "metadata": {},
     "output_type": "execute_result"
    }
   ],
   "source": [
    "len(granular_flow_dataset)"
   ]
  },
  {
   "cell_type": "code",
   "execution_count": 5,
   "id": "97526889-3389-4342-9679-ace46ac32364",
   "metadata": {},
   "outputs": [],
   "source": [
    "y=pd.concat(granular_flow_dataset)\n",
    "Combined_flow_data=y.to_csv('./Combined flow data(#30).csv')\n",
    "Combined_flow_data"
   ]
  },
  {
   "cell_type": "markdown",
   "id": "5cf71c68-8ea9-4a9b-969c-d6f3ecb1a8ba",
   "metadata": {},
   "source": [
    "# 2.0 Working With the Saved file"
   ]
  },
  {
   "cell_type": "markdown",
   "id": "63da890d-4efb-4d52-809e-22c2d91d4329",
   "metadata": {
    "tags": []
   },
   "source": [
    "## 2.1 Reading (Loading) the combined saved data"
   ]
  },
  {
   "cell_type": "code",
   "execution_count": 6,
   "id": "92eaa73b-6241-4ae4-a88a-7d79304c27b3",
   "metadata": {
    "tags": []
   },
   "outputs": [
    {
     "data": {
      "text/html": [
       "<div>\n",
       "<style scoped>\n",
       "    .dataframe tbody tr th:only-of-type {\n",
       "        vertical-align: middle;\n",
       "    }\n",
       "\n",
       "    .dataframe tbody tr th {\n",
       "        vertical-align: top;\n",
       "    }\n",
       "\n",
       "    .dataframe thead th {\n",
       "        text-align: right;\n",
       "    }\n",
       "</style>\n",
       "<table border=\"1\" class=\"dataframe\">\n",
       "  <thead>\n",
       "    <tr style=\"text-align: right;\">\n",
       "      <th></th>\n",
       "      <th>Unnamed: 0</th>\n",
       "      <th>Time (s)</th>\n",
       "      <th>Parcel Centroid[X] (m)</th>\n",
       "      <th>Parcel Centroid[Y] (m)</th>\n",
       "      <th>Parcel Centroid[Z] (m)</th>\n",
       "      <th>Particle Velocity[i] (m/s)</th>\n",
       "      <th>Particle Velocity[j] (m/s)</th>\n",
       "      <th>Particle Velocity[k] (m/s)</th>\n",
       "      <th>Particle Velocity: Magnitude (m/s)</th>\n",
       "      <th>Volume Fraction of Phase 1</th>\n",
       "      <th>Wall Shear Stress: Magnitude (Pa)</th>\n",
       "      <th>Report: Element Count 1</th>\n",
       "      <th>Report: Total Solver CPU Time (s)</th>\n",
       "      <th>X (m)</th>\n",
       "      <th>Y (m)</th>\n",
       "      <th>Z (m)</th>\n",
       "    </tr>\n",
       "  </thead>\n",
       "  <tbody>\n",
       "    <tr>\n",
       "      <th>0</th>\n",
       "      <td>0</td>\n",
       "      <td>0.02</td>\n",
       "      <td>-0.113685</td>\n",
       "      <td>0.032540</td>\n",
       "      <td>0.014828</td>\n",
       "      <td>0.576229</td>\n",
       "      <td>0.000008</td>\n",
       "      <td>-0.156682</td>\n",
       "      <td>0.597151</td>\n",
       "      <td>0.010824</td>\n",
       "      <td>0.0</td>\n",
       "      <td>1128.0</td>\n",
       "      <td>2.668</td>\n",
       "      <td>-0.113685</td>\n",
       "      <td>0.032540</td>\n",
       "      <td>0.014828</td>\n",
       "    </tr>\n",
       "    <tr>\n",
       "      <th>1</th>\n",
       "      <td>1</td>\n",
       "      <td>0.02</td>\n",
       "      <td>-0.113686</td>\n",
       "      <td>0.025651</td>\n",
       "      <td>0.007872</td>\n",
       "      <td>0.575964</td>\n",
       "      <td>-0.000034</td>\n",
       "      <td>-0.156740</td>\n",
       "      <td>0.596911</td>\n",
       "      <td>0.006975</td>\n",
       "      <td>0.0</td>\n",
       "      <td>1128.0</td>\n",
       "      <td>2.668</td>\n",
       "      <td>-0.113686</td>\n",
       "      <td>0.025651</td>\n",
       "      <td>0.007872</td>\n",
       "    </tr>\n",
       "    <tr>\n",
       "      <th>2</th>\n",
       "      <td>2</td>\n",
       "      <td>0.02</td>\n",
       "      <td>-0.113689</td>\n",
       "      <td>0.024866</td>\n",
       "      <td>0.018086</td>\n",
       "      <td>0.576129</td>\n",
       "      <td>0.000081</td>\n",
       "      <td>-0.156886</td>\n",
       "      <td>0.597108</td>\n",
       "      <td>0.010824</td>\n",
       "      <td>0.0</td>\n",
       "      <td>1128.0</td>\n",
       "      <td>2.668</td>\n",
       "      <td>-0.113689</td>\n",
       "      <td>0.024866</td>\n",
       "      <td>0.018086</td>\n",
       "    </tr>\n",
       "    <tr>\n",
       "      <th>3</th>\n",
       "      <td>3</td>\n",
       "      <td>0.02</td>\n",
       "      <td>-0.113687</td>\n",
       "      <td>0.038670</td>\n",
       "      <td>0.008284</td>\n",
       "      <td>0.576709</td>\n",
       "      <td>-0.000411</td>\n",
       "      <td>-0.155926</td>\n",
       "      <td>0.597417</td>\n",
       "      <td>0.034522</td>\n",
       "      <td>0.0</td>\n",
       "      <td>1128.0</td>\n",
       "      <td>2.668</td>\n",
       "      <td>-0.113687</td>\n",
       "      <td>0.038670</td>\n",
       "      <td>0.008284</td>\n",
       "    </tr>\n",
       "    <tr>\n",
       "      <th>4</th>\n",
       "      <td>4</td>\n",
       "      <td>0.02</td>\n",
       "      <td>-0.113689</td>\n",
       "      <td>0.026663</td>\n",
       "      <td>0.013483</td>\n",
       "      <td>0.576153</td>\n",
       "      <td>0.000033</td>\n",
       "      <td>-0.156845</td>\n",
       "      <td>0.597121</td>\n",
       "      <td>0.010824</td>\n",
       "      <td>0.0</td>\n",
       "      <td>1128.0</td>\n",
       "      <td>2.668</td>\n",
       "      <td>-0.113689</td>\n",
       "      <td>0.026663</td>\n",
       "      <td>0.013483</td>\n",
       "    </tr>\n",
       "    <tr>\n",
       "      <th>...</th>\n",
       "      <td>...</td>\n",
       "      <td>...</td>\n",
       "      <td>...</td>\n",
       "      <td>...</td>\n",
       "      <td>...</td>\n",
       "      <td>...</td>\n",
       "      <td>...</td>\n",
       "      <td>...</td>\n",
       "      <td>...</td>\n",
       "      <td>...</td>\n",
       "      <td>...</td>\n",
       "      <td>...</td>\n",
       "      <td>...</td>\n",
       "      <td>...</td>\n",
       "      <td>...</td>\n",
       "      <td>...</td>\n",
       "    </tr>\n",
       "    <tr>\n",
       "      <th>13438097</th>\n",
       "      <td>7862</td>\n",
       "      <td>9.04</td>\n",
       "      <td>-0.007282</td>\n",
       "      <td>0.035696</td>\n",
       "      <td>0.005896</td>\n",
       "      <td>0.988063</td>\n",
       "      <td>-0.005595</td>\n",
       "      <td>-0.011772</td>\n",
       "      <td>0.988149</td>\n",
       "      <td>0.119034</td>\n",
       "      <td>0.0</td>\n",
       "      <td>30746.0</td>\n",
       "      <td>26681.377</td>\n",
       "      <td>-0.007282</td>\n",
       "      <td>0.035696</td>\n",
       "      <td>0.005896</td>\n",
       "    </tr>\n",
       "    <tr>\n",
       "      <th>13438098</th>\n",
       "      <td>7863</td>\n",
       "      <td>9.04</td>\n",
       "      <td>-0.014942</td>\n",
       "      <td>0.026426</td>\n",
       "      <td>0.004031</td>\n",
       "      <td>0.911534</td>\n",
       "      <td>0.009530</td>\n",
       "      <td>0.068215</td>\n",
       "      <td>0.914132</td>\n",
       "      <td>0.159722</td>\n",
       "      <td>0.0</td>\n",
       "      <td>30746.0</td>\n",
       "      <td>26681.377</td>\n",
       "      <td>-0.014942</td>\n",
       "      <td>0.026426</td>\n",
       "      <td>0.004031</td>\n",
       "    </tr>\n",
       "    <tr>\n",
       "      <th>13438099</th>\n",
       "      <td>7864</td>\n",
       "      <td>9.04</td>\n",
       "      <td>-0.009485</td>\n",
       "      <td>0.034536</td>\n",
       "      <td>0.004924</td>\n",
       "      <td>0.963286</td>\n",
       "      <td>0.011837</td>\n",
       "      <td>-0.021977</td>\n",
       "      <td>0.963609</td>\n",
       "      <td>0.119034</td>\n",
       "      <td>0.0</td>\n",
       "      <td>30746.0</td>\n",
       "      <td>26681.377</td>\n",
       "      <td>-0.009485</td>\n",
       "      <td>0.034536</td>\n",
       "      <td>0.004924</td>\n",
       "    </tr>\n",
       "    <tr>\n",
       "      <th>13438100</th>\n",
       "      <td>7865</td>\n",
       "      <td>9.04</td>\n",
       "      <td>-0.018894</td>\n",
       "      <td>0.035162</td>\n",
       "      <td>0.001725</td>\n",
       "      <td>0.914124</td>\n",
       "      <td>0.014848</td>\n",
       "      <td>-0.002953</td>\n",
       "      <td>0.914249</td>\n",
       "      <td>0.119034</td>\n",
       "      <td>0.0</td>\n",
       "      <td>30746.0</td>\n",
       "      <td>26681.377</td>\n",
       "      <td>-0.018894</td>\n",
       "      <td>0.035162</td>\n",
       "      <td>0.001725</td>\n",
       "    </tr>\n",
       "    <tr>\n",
       "      <th>13438101</th>\n",
       "      <td>7866</td>\n",
       "      <td>9.04</td>\n",
       "      <td>-0.008973</td>\n",
       "      <td>0.039772</td>\n",
       "      <td>0.006379</td>\n",
       "      <td>0.982137</td>\n",
       "      <td>0.022488</td>\n",
       "      <td>0.000250</td>\n",
       "      <td>0.982395</td>\n",
       "      <td>0.119034</td>\n",
       "      <td>0.0</td>\n",
       "      <td>30746.0</td>\n",
       "      <td>26681.377</td>\n",
       "      <td>-0.008973</td>\n",
       "      <td>0.039772</td>\n",
       "      <td>0.006379</td>\n",
       "    </tr>\n",
       "  </tbody>\n",
       "</table>\n",
       "<p>13438102 rows × 16 columns</p>\n",
       "</div>"
      ],
      "text/plain": [
       "          Unnamed: 0  Time (s)  Parcel Centroid[X] (m)  \\\n",
       "0                  0      0.02               -0.113685   \n",
       "1                  1      0.02               -0.113686   \n",
       "2                  2      0.02               -0.113689   \n",
       "3                  3      0.02               -0.113687   \n",
       "4                  4      0.02               -0.113689   \n",
       "...              ...       ...                     ...   \n",
       "13438097        7862      9.04               -0.007282   \n",
       "13438098        7863      9.04               -0.014942   \n",
       "13438099        7864      9.04               -0.009485   \n",
       "13438100        7865      9.04               -0.018894   \n",
       "13438101        7866      9.04               -0.008973   \n",
       "\n",
       "          Parcel Centroid[Y] (m)  Parcel Centroid[Z] (m)  \\\n",
       "0                       0.032540                0.014828   \n",
       "1                       0.025651                0.007872   \n",
       "2                       0.024866                0.018086   \n",
       "3                       0.038670                0.008284   \n",
       "4                       0.026663                0.013483   \n",
       "...                          ...                     ...   \n",
       "13438097                0.035696                0.005896   \n",
       "13438098                0.026426                0.004031   \n",
       "13438099                0.034536                0.004924   \n",
       "13438100                0.035162                0.001725   \n",
       "13438101                0.039772                0.006379   \n",
       "\n",
       "          Particle Velocity[i] (m/s)  Particle Velocity[j] (m/s)  \\\n",
       "0                           0.576229                    0.000008   \n",
       "1                           0.575964                   -0.000034   \n",
       "2                           0.576129                    0.000081   \n",
       "3                           0.576709                   -0.000411   \n",
       "4                           0.576153                    0.000033   \n",
       "...                              ...                         ...   \n",
       "13438097                    0.988063                   -0.005595   \n",
       "13438098                    0.911534                    0.009530   \n",
       "13438099                    0.963286                    0.011837   \n",
       "13438100                    0.914124                    0.014848   \n",
       "13438101                    0.982137                    0.022488   \n",
       "\n",
       "          Particle Velocity[k] (m/s)  Particle Velocity: Magnitude (m/s)  \\\n",
       "0                          -0.156682                            0.597151   \n",
       "1                          -0.156740                            0.596911   \n",
       "2                          -0.156886                            0.597108   \n",
       "3                          -0.155926                            0.597417   \n",
       "4                          -0.156845                            0.597121   \n",
       "...                              ...                                 ...   \n",
       "13438097                   -0.011772                            0.988149   \n",
       "13438098                    0.068215                            0.914132   \n",
       "13438099                   -0.021977                            0.963609   \n",
       "13438100                   -0.002953                            0.914249   \n",
       "13438101                    0.000250                            0.982395   \n",
       "\n",
       "          Volume Fraction of Phase 1  Wall Shear Stress: Magnitude (Pa)  \\\n",
       "0                           0.010824                                0.0   \n",
       "1                           0.006975                                0.0   \n",
       "2                           0.010824                                0.0   \n",
       "3                           0.034522                                0.0   \n",
       "4                           0.010824                                0.0   \n",
       "...                              ...                                ...   \n",
       "13438097                    0.119034                                0.0   \n",
       "13438098                    0.159722                                0.0   \n",
       "13438099                    0.119034                                0.0   \n",
       "13438100                    0.119034                                0.0   \n",
       "13438101                    0.119034                                0.0   \n",
       "\n",
       "          Report: Element Count 1  Report: Total Solver CPU Time (s)  \\\n",
       "0                          1128.0                              2.668   \n",
       "1                          1128.0                              2.668   \n",
       "2                          1128.0                              2.668   \n",
       "3                          1128.0                              2.668   \n",
       "4                          1128.0                              2.668   \n",
       "...                           ...                                ...   \n",
       "13438097                  30746.0                          26681.377   \n",
       "13438098                  30746.0                          26681.377   \n",
       "13438099                  30746.0                          26681.377   \n",
       "13438100                  30746.0                          26681.377   \n",
       "13438101                  30746.0                          26681.377   \n",
       "\n",
       "             X (m)     Y (m)     Z (m)  \n",
       "0        -0.113685  0.032540  0.014828  \n",
       "1        -0.113686  0.025651  0.007872  \n",
       "2        -0.113689  0.024866  0.018086  \n",
       "3        -0.113687  0.038670  0.008284  \n",
       "4        -0.113689  0.026663  0.013483  \n",
       "...            ...       ...       ...  \n",
       "13438097 -0.007282  0.035696  0.005896  \n",
       "13438098 -0.014942  0.026426  0.004031  \n",
       "13438099 -0.009485  0.034536  0.004924  \n",
       "13438100 -0.018894  0.035162  0.001725  \n",
       "13438101 -0.008973  0.039772  0.006379  \n",
       "\n",
       "[13438102 rows x 16 columns]"
      ]
     },
     "execution_count": 6,
     "metadata": {},
     "output_type": "execute_result"
    }
   ],
   "source": [
    "\n",
    "Granular_flow_data= pd.read_csv('./Combined flow data(#30).csv')\n",
    "Granular_flow_data= Granular_flow_data[:13438102]\n",
    "Granular_flow_data"
   ]
  },
  {
   "cell_type": "markdown",
   "id": "cb4183b5-00fc-4a4a-9532-e3ea06caaf6f",
   "metadata": {},
   "source": [
    "## Finding patterns in the data using correlation matrix"
   ]
  },
  {
   "cell_type": "code",
   "execution_count": 7,
   "id": "84fbe249-08c8-4061-9b12-036e1978c30e",
   "metadata": {},
   "outputs": [
    {
     "data": {
      "image/png": "[encoded data removed]",
      "text/plain": [
       "<Figure size 1250x1000 with 2 Axes>"
      ]
     },
     "metadata": {},
     "output_type": "display_data"
    }
   ],
   "source": [
    "import seaborn as sns\n",
    "\n",
    "corr_matrix =Granular_flow_data.corr()\n",
    "\n",
    "fig, ax_corr_Matrix=plt.subplots(figsize=(12.5,10))\n",
    "\n",
    "color = plt.get_cmap('YlGnBu')   # default color\n",
    "color.set_bad('lightblue')  \n",
    "\n",
    "ax =sns.heatmap(corr_matrix, \n",
    "                annot=True,\n",
    "                fmt=\".2f\",\n",
    "                cmap=color\n",
    "               )\n",
    "fig.savefig('./Correlation_matrix_for_the_data(#30).png', bbox_inches='tight', dpi=1200)"
   ]
  },
  {
   "cell_type": "markdown",
   "id": "06c198f6-1712-4fd4-ad89-7802118f586a",
   "metadata": {},
   "source": [
    "## 2.2 Splitting the data"
   ]
  },
  {
   "cell_type": "code",
   "execution_count": 8,
   "id": "5f60ea1a-676d-484e-8f95-f9fe85272743",
   "metadata": {},
   "outputs": [],
   "source": [
    "\n",
    "X=Granular_flow_data.drop(['Parcel Centroid[X] (m)', 'Parcel Centroid[Y] (m)', 'Parcel Centroid[Z] (m)', 'X (m)',\t'Y (m)',\t'Z (m)'], axis=1)\n",
    "y= Granular_flow_data[['Parcel Centroid[X] (m)', 'Parcel Centroid[Y] (m)', 'Parcel Centroid[Z] (m)']]\n"
   ]
  },
  {
   "cell_type": "code",
   "execution_count": 9,
   "id": "7f23a498-fed8-4cbe-8dd4-97597f9bd8a4",
   "metadata": {},
   "outputs": [
    {
     "data": {
      "text/html": [
       "<div>\n",
       "<style scoped>\n",
       "    .dataframe tbody tr th:only-of-type {\n",
       "        vertical-align: middle;\n",
       "    }\n",
       "\n",
       "    .dataframe tbody tr th {\n",
       "        vertical-align: top;\n",
       "    }\n",
       "\n",
       "    .dataframe thead th {\n",
       "        text-align: right;\n",
       "    }\n",
       "</style>\n",
       "<table border=\"1\" class=\"dataframe\">\n",
       "  <thead>\n",
       "    <tr style=\"text-align: right;\">\n",
       "      <th></th>\n",
       "      <th>Unnamed: 0</th>\n",
       "      <th>Time (s)</th>\n",
       "      <th>Particle Velocity[i] (m/s)</th>\n",
       "      <th>Particle Velocity[j] (m/s)</th>\n",
       "      <th>Particle Velocity[k] (m/s)</th>\n",
       "      <th>Particle Velocity: Magnitude (m/s)</th>\n",
       "      <th>Volume Fraction of Phase 1</th>\n",
       "      <th>Wall Shear Stress: Magnitude (Pa)</th>\n",
       "      <th>Report: Element Count 1</th>\n",
       "      <th>Report: Total Solver CPU Time (s)</th>\n",
       "    </tr>\n",
       "  </thead>\n",
       "  <tbody>\n",
       "    <tr>\n",
       "      <th>0</th>\n",
       "      <td>0</td>\n",
       "      <td>0.02</td>\n",
       "      <td>0.576229</td>\n",
       "      <td>0.000008</td>\n",
       "      <td>-0.156682</td>\n",
       "      <td>0.597151</td>\n",
       "      <td>0.010824</td>\n",
       "      <td>0.0</td>\n",
       "      <td>1128.0</td>\n",
       "      <td>2.668</td>\n",
       "    </tr>\n",
       "    <tr>\n",
       "      <th>1</th>\n",
       "      <td>1</td>\n",
       "      <td>0.02</td>\n",
       "      <td>0.575964</td>\n",
       "      <td>-0.000034</td>\n",
       "      <td>-0.156740</td>\n",
       "      <td>0.596911</td>\n",
       "      <td>0.006975</td>\n",
       "      <td>0.0</td>\n",
       "      <td>1128.0</td>\n",
       "      <td>2.668</td>\n",
       "    </tr>\n",
       "    <tr>\n",
       "      <th>2</th>\n",
       "      <td>2</td>\n",
       "      <td>0.02</td>\n",
       "      <td>0.576129</td>\n",
       "      <td>0.000081</td>\n",
       "      <td>-0.156886</td>\n",
       "      <td>0.597108</td>\n",
       "      <td>0.010824</td>\n",
       "      <td>0.0</td>\n",
       "      <td>1128.0</td>\n",
       "      <td>2.668</td>\n",
       "    </tr>\n",
       "    <tr>\n",
       "      <th>3</th>\n",
       "      <td>3</td>\n",
       "      <td>0.02</td>\n",
       "      <td>0.576709</td>\n",
       "      <td>-0.000411</td>\n",
       "      <td>-0.155926</td>\n",
       "      <td>0.597417</td>\n",
       "      <td>0.034522</td>\n",
       "      <td>0.0</td>\n",
       "      <td>1128.0</td>\n",
       "      <td>2.668</td>\n",
       "    </tr>\n",
       "    <tr>\n",
       "      <th>4</th>\n",
       "      <td>4</td>\n",
       "      <td>0.02</td>\n",
       "      <td>0.576153</td>\n",
       "      <td>0.000033</td>\n",
       "      <td>-0.156845</td>\n",
       "      <td>0.597121</td>\n",
       "      <td>0.010824</td>\n",
       "      <td>0.0</td>\n",
       "      <td>1128.0</td>\n",
       "      <td>2.668</td>\n",
       "    </tr>\n",
       "    <tr>\n",
       "      <th>...</th>\n",
       "      <td>...</td>\n",
       "      <td>...</td>\n",
       "      <td>...</td>\n",
       "      <td>...</td>\n",
       "      <td>...</td>\n",
       "      <td>...</td>\n",
       "      <td>...</td>\n",
       "      <td>...</td>\n",
       "      <td>...</td>\n",
       "      <td>...</td>\n",
       "    </tr>\n",
       "    <tr>\n",
       "      <th>13438097</th>\n",
       "      <td>7862</td>\n",
       "      <td>9.04</td>\n",
       "      <td>0.988063</td>\n",
       "      <td>-0.005595</td>\n",
       "      <td>-0.011772</td>\n",
       "      <td>0.988149</td>\n",
       "      <td>0.119034</td>\n",
       "      <td>0.0</td>\n",
       "      <td>30746.0</td>\n",
       "      <td>26681.377</td>\n",
       "    </tr>\n",
       "    <tr>\n",
       "      <th>13438098</th>\n",
       "      <td>7863</td>\n",
       "      <td>9.04</td>\n",
       "      <td>0.911534</td>\n",
       "      <td>0.009530</td>\n",
       "      <td>0.068215</td>\n",
       "      <td>0.914132</td>\n",
       "      <td>0.159722</td>\n",
       "      <td>0.0</td>\n",
       "      <td>30746.0</td>\n",
       "      <td>26681.377</td>\n",
       "    </tr>\n",
       "    <tr>\n",
       "      <th>13438099</th>\n",
       "      <td>7864</td>\n",
       "      <td>9.04</td>\n",
       "      <td>0.963286</td>\n",
       "      <td>0.011837</td>\n",
       "      <td>-0.021977</td>\n",
       "      <td>0.963609</td>\n",
       "      <td>0.119034</td>\n",
       "      <td>0.0</td>\n",
       "      <td>30746.0</td>\n",
       "      <td>26681.377</td>\n",
       "    </tr>\n",
       "    <tr>\n",
       "      <th>13438100</th>\n",
       "      <td>7865</td>\n",
       "      <td>9.04</td>\n",
       "      <td>0.914124</td>\n",
       "      <td>0.014848</td>\n",
       "      <td>-0.002953</td>\n",
       "      <td>0.914249</td>\n",
       "      <td>0.119034</td>\n",
       "      <td>0.0</td>\n",
       "      <td>30746.0</td>\n",
       "      <td>26681.377</td>\n",
       "    </tr>\n",
       "    <tr>\n",
       "      <th>13438101</th>\n",
       "      <td>7866</td>\n",
       "      <td>9.04</td>\n",
       "      <td>0.982137</td>\n",
       "      <td>0.022488</td>\n",
       "      <td>0.000250</td>\n",
       "      <td>0.982395</td>\n",
       "      <td>0.119034</td>\n",
       "      <td>0.0</td>\n",
       "      <td>30746.0</td>\n",
       "      <td>26681.377</td>\n",
       "    </tr>\n",
       "  </tbody>\n",
       "</table>\n",
       "<p>13438102 rows × 10 columns</p>\n",
       "</div>"
      ],
      "text/plain": [
       "          Unnamed: 0  Time (s)  Particle Velocity[i] (m/s)  \\\n",
       "0                  0      0.02                    0.576229   \n",
       "1                  1      0.02                    0.575964   \n",
       "2                  2      0.02                    0.576129   \n",
       "3                  3      0.02                    0.576709   \n",
       "4                  4      0.02                    0.576153   \n",
       "...              ...       ...                         ...   \n",
       "13438097        7862      9.04                    0.988063   \n",
       "13438098        7863      9.04                    0.911534   \n",
       "13438099        7864      9.04                    0.963286   \n",
       "13438100        7865      9.04                    0.914124   \n",
       "13438101        7866      9.04                    0.982137   \n",
       "\n",
       "          Particle Velocity[j] (m/s)  Particle Velocity[k] (m/s)  \\\n",
       "0                           0.000008                   -0.156682   \n",
       "1                          -0.000034                   -0.156740   \n",
       "2                           0.000081                   -0.156886   \n",
       "3                          -0.000411                   -0.155926   \n",
       "4                           0.000033                   -0.156845   \n",
       "...                              ...                         ...   \n",
       "13438097                   -0.005595                   -0.011772   \n",
       "13438098                    0.009530                    0.068215   \n",
       "13438099                    0.011837                   -0.021977   \n",
       "13438100                    0.014848                   -0.002953   \n",
       "13438101                    0.022488                    0.000250   \n",
       "\n",
       "          Particle Velocity: Magnitude (m/s)  Volume Fraction of Phase 1  \\\n",
       "0                                   0.597151                    0.010824   \n",
       "1                                   0.596911                    0.006975   \n",
       "2                                   0.597108                    0.010824   \n",
       "3                                   0.597417                    0.034522   \n",
       "4                                   0.597121                    0.010824   \n",
       "...                                      ...                         ...   \n",
       "13438097                            0.988149                    0.119034   \n",
       "13438098                            0.914132                    0.159722   \n",
       "13438099                            0.963609                    0.119034   \n",
       "13438100                            0.914249                    0.119034   \n",
       "13438101                            0.982395                    0.119034   \n",
       "\n",
       "          Wall Shear Stress: Magnitude (Pa)  Report: Element Count 1  \\\n",
       "0                                       0.0                   1128.0   \n",
       "1                                       0.0                   1128.0   \n",
       "2                                       0.0                   1128.0   \n",
       "3                                       0.0                   1128.0   \n",
       "4                                       0.0                   1128.0   \n",
       "...                                     ...                      ...   \n",
       "13438097                                0.0                  30746.0   \n",
       "13438098                                0.0                  30746.0   \n",
       "13438099                                0.0                  30746.0   \n",
       "13438100                                0.0                  30746.0   \n",
       "13438101                                0.0                  30746.0   \n",
       "\n",
       "          Report: Total Solver CPU Time (s)  \n",
       "0                                     2.668  \n",
       "1                                     2.668  \n",
       "2                                     2.668  \n",
       "3                                     2.668  \n",
       "4                                     2.668  \n",
       "...                                     ...  \n",
       "13438097                          26681.377  \n",
       "13438098                          26681.377  \n",
       "13438099                          26681.377  \n",
       "13438100                          26681.377  \n",
       "13438101                          26681.377  \n",
       "\n",
       "[13438102 rows x 10 columns]"
      ]
     },
     "execution_count": 9,
     "metadata": {},
     "output_type": "execute_result"
    }
   ],
   "source": [
    "X"
   ]
  },
  {
   "cell_type": "code",
   "execution_count": 10,
   "id": "101a9fd5-1d03-4b92-a242-fc7434704cb7",
   "metadata": {},
   "outputs": [
    {
     "data": {
      "text/html": [
       "<div>\n",
       "<style scoped>\n",
       "    .dataframe tbody tr th:only-of-type {\n",
       "        vertical-align: middle;\n",
       "    }\n",
       "\n",
       "    .dataframe tbody tr th {\n",
       "        vertical-align: top;\n",
       "    }\n",
       "\n",
       "    .dataframe thead th {\n",
       "        text-align: right;\n",
       "    }\n",
       "</style>\n",
       "<table border=\"1\" class=\"dataframe\">\n",
       "  <thead>\n",
       "    <tr style=\"text-align: right;\">\n",
       "      <th></th>\n",
       "      <th>Parcel Centroid[X] (m)</th>\n",
       "      <th>Parcel Centroid[Y] (m)</th>\n",
       "      <th>Parcel Centroid[Z] (m)</th>\n",
       "    </tr>\n",
       "  </thead>\n",
       "  <tbody>\n",
       "    <tr>\n",
       "      <th>0</th>\n",
       "      <td>-0.113685</td>\n",
       "      <td>0.032540</td>\n",
       "      <td>0.014828</td>\n",
       "    </tr>\n",
       "    <tr>\n",
       "      <th>1</th>\n",
       "      <td>-0.113686</td>\n",
       "      <td>0.025651</td>\n",
       "      <td>0.007872</td>\n",
       "    </tr>\n",
       "    <tr>\n",
       "      <th>2</th>\n",
       "      <td>-0.113689</td>\n",
       "      <td>0.024866</td>\n",
       "      <td>0.018086</td>\n",
       "    </tr>\n",
       "    <tr>\n",
       "      <th>3</th>\n",
       "      <td>-0.113687</td>\n",
       "      <td>0.038670</td>\n",
       "      <td>0.008284</td>\n",
       "    </tr>\n",
       "    <tr>\n",
       "      <th>4</th>\n",
       "      <td>-0.113689</td>\n",
       "      <td>0.026663</td>\n",
       "      <td>0.013483</td>\n",
       "    </tr>\n",
       "    <tr>\n",
       "      <th>...</th>\n",
       "      <td>...</td>\n",
       "      <td>...</td>\n",
       "      <td>...</td>\n",
       "    </tr>\n",
       "    <tr>\n",
       "      <th>13438097</th>\n",
       "      <td>-0.007282</td>\n",
       "      <td>0.035696</td>\n",
       "      <td>0.005896</td>\n",
       "    </tr>\n",
       "    <tr>\n",
       "      <th>13438098</th>\n",
       "      <td>-0.014942</td>\n",
       "      <td>0.026426</td>\n",
       "      <td>0.004031</td>\n",
       "    </tr>\n",
       "    <tr>\n",
       "      <th>13438099</th>\n",
       "      <td>-0.009485</td>\n",
       "      <td>0.034536</td>\n",
       "      <td>0.004924</td>\n",
       "    </tr>\n",
       "    <tr>\n",
       "      <th>13438100</th>\n",
       "      <td>-0.018894</td>\n",
       "      <td>0.035162</td>\n",
       "      <td>0.001725</td>\n",
       "    </tr>\n",
       "    <tr>\n",
       "      <th>13438101</th>\n",
       "      <td>-0.008973</td>\n",
       "      <td>0.039772</td>\n",
       "      <td>0.006379</td>\n",
       "    </tr>\n",
       "  </tbody>\n",
       "</table>\n",
       "<p>13438102 rows × 3 columns</p>\n",
       "</div>"
      ],
      "text/plain": [
       "          Parcel Centroid[X] (m)  Parcel Centroid[Y] (m)  \\\n",
       "0                      -0.113685                0.032540   \n",
       "1                      -0.113686                0.025651   \n",
       "2                      -0.113689                0.024866   \n",
       "3                      -0.113687                0.038670   \n",
       "4                      -0.113689                0.026663   \n",
       "...                          ...                     ...   \n",
       "13438097               -0.007282                0.035696   \n",
       "13438098               -0.014942                0.026426   \n",
       "13438099               -0.009485                0.034536   \n",
       "13438100               -0.018894                0.035162   \n",
       "13438101               -0.008973                0.039772   \n",
       "\n",
       "          Parcel Centroid[Z] (m)  \n",
       "0                       0.014828  \n",
       "1                       0.007872  \n",
       "2                       0.018086  \n",
       "3                       0.008284  \n",
       "4                       0.013483  \n",
       "...                          ...  \n",
       "13438097                0.005896  \n",
       "13438098                0.004031  \n",
       "13438099                0.004924  \n",
       "13438100                0.001725  \n",
       "13438101                0.006379  \n",
       "\n",
       "[13438102 rows x 3 columns]"
      ]
     },
     "execution_count": 10,
     "metadata": {},
     "output_type": "execute_result"
    }
   ],
   "source": [
    "y"
   ]
  },
  {
   "cell_type": "markdown",
   "id": "d3969a21-d07e-4e49-bf81-a17a519835aa",
   "metadata": {},
   "source": [
    "## 2.3 Checking if there is any missing value in our data\n",
    "            * If there is any non-numerical value, we perform feature encoding\n",
    "            * And/ or if there is any missing value, we perform imputation\n",
    "            * If no missing value, then we continue to building the machine Learning Model"
   ]
  },
  {
   "cell_type": "code",
   "execution_count": 11,
   "id": "ac4438d5-345c-427f-9bad-02be39c8347c",
   "metadata": {},
   "outputs": [
    {
     "data": {
      "text/plain": [
       "Unnamed: 0                            0\n",
       "Time (s)                              0\n",
       "Particle Velocity[i] (m/s)            0\n",
       "Particle Velocity[j] (m/s)            0\n",
       "Particle Velocity[k] (m/s)            0\n",
       "Particle Velocity: Magnitude (m/s)    0\n",
       "Volume Fraction of Phase 1            0\n",
       "Wall Shear Stress: Magnitude (Pa)     0\n",
       "Report: Element Count 1               0\n",
       "Report: Total Solver CPU Time (s)     0\n",
       "dtype: int64"
      ]
     },
     "execution_count": 11,
     "metadata": {},
     "output_type": "execute_result"
    }
   ],
   "source": [
    "X.isna().sum()"
   ]
  },
  {
   "cell_type": "code",
   "execution_count": 12,
   "id": "03466f28-74e8-4b0d-bf70-7eb0b698015e",
   "metadata": {},
   "outputs": [
    {
     "data": {
      "text/plain": [
       "Parcel Centroid[X] (m)    0\n",
       "Parcel Centroid[Y] (m)    0\n",
       "Parcel Centroid[Z] (m)    0\n",
       "dtype: int64"
      ]
     },
     "execution_count": 12,
     "metadata": {},
     "output_type": "execute_result"
    }
   ],
   "source": [
    "y.isna().sum()"
   ]
  },
  {
   "cell_type": "markdown",
   "id": "d4d124dc-35ad-4296-94d8-0622f682aec9",
   "metadata": {},
   "source": [
    "# 3.0 Building and Training the Machine Learning Model for our Data"
   ]
  },
  {
   "cell_type": "code",
   "execution_count": 13,
   "id": "2b87d1d0-e55e-4ae4-9102-b224f44dfeab",
   "metadata": {},
   "outputs": [
    {
     "data": {
      "text/plain": [
       "<bound method BaseEstimator.get_params of RandomForestRegressor(n_estimators=90)>"
      ]
     },
     "execution_count": 13,
     "metadata": {},
     "output_type": "execute_result"
    }
   ],
   "source": [
    "from sklearn.ensemble import RandomForestRegressor\n",
    "\n",
    "model1 =RandomForestRegressor(n_estimators=90)\n",
    "model1.get_params"
   ]
  },
  {
   "cell_type": "code",
   "execution_count": 14,
   "id": "8139a34a-3cd8-47e1-9c07-cd9806ec41b7",
   "metadata": {},
   "outputs": [
    {
     "name": "stdout",
     "output_type": "stream",
     "text": [
      "CPU times: total: 2h 47min 5s\n",
      "Wall time: 2h 47min 20s\n"
     ]
    },
    {
     "data": {
      "text/html": [
       "<style>#sk-container-id-1 {color: black;background-color: white;}#sk-container-id-1 pre{padding: 0;}#sk-container-id-1 div.sk-toggleable {background-color: white;}#sk-container-id-1 label.sk-toggleable__label {cursor: pointer;display: block;width: 100%;margin-bottom: 0;padding: 0.3em;box-sizing: border-box;text-align: center;}#sk-container-id-1 label.sk-toggleable__label-arrow:before {content: \"▸\";float: left;margin-right: 0.25em;color: #696969;}#sk-container-id-1 label.sk-toggleable__label-arrow:hover:before {color: black;}#sk-container-id-1 div.sk-estimator:hover label.sk-toggleable__label-arrow:before {color: black;}#sk-container-id-1 div.sk-toggleable__content {max-height: 0;max-width: 0;overflow: hidden;text-align: left;background-color: #f0f8ff;}#sk-container-id-1 div.sk-toggleable__content pre {margin: 0.2em;color: black;border-radius: 0.25em;background-color: #f0f8ff;}#sk-container-id-1 input.sk-toggleable__control:checked~div.sk-toggleable__content {max-height: 200px;max-width: 100%;overflow: auto;}#sk-container-id-1 input.sk-toggleable__control:checked~label.sk-toggleable__label-arrow:before {content: \"▾\";}#sk-container-id-1 div.sk-estimator input.sk-toggleable__control:checked~label.sk-toggleable__label {background-color: #d4ebff;}#sk-container-id-1 div.sk-label input.sk-toggleable__control:checked~label.sk-toggleable__label {background-color: #d4ebff;}#sk-container-id-1 input.sk-hidden--visually {border: 0;clip: rect(1px 1px 1px 1px);clip: rect(1px, 1px, 1px, 1px);height: 1px;margin: -1px;overflow: hidden;padding: 0;position: absolute;width: 1px;}#sk-container-id-1 div.sk-estimator {font-family: monospace;background-color: #f0f8ff;border: 1px dotted black;border-radius: 0.25em;box-sizing: border-box;margin-bottom: 0.5em;}#sk-container-id-1 div.sk-estimator:hover {background-color: #d4ebff;}#sk-container-id-1 div.sk-parallel-item::after {content: \"\";width: 100%;border-bottom: 1px solid gray;flex-grow: 1;}#sk-container-id-1 div.sk-label:hover label.sk-toggleable__label {background-color: #d4ebff;}#sk-container-id-1 div.sk-serial::before {content: \"\";position: absolute;border-left: 1px solid gray;box-sizing: border-box;top: 0;bottom: 0;left: 50%;z-index: 0;}#sk-container-id-1 div.sk-serial {display: flex;flex-direction: column;align-items: center;background-color: white;padding-right: 0.2em;padding-left: 0.2em;position: relative;}#sk-container-id-1 div.sk-item {position: relative;z-index: 1;}#sk-container-id-1 div.sk-parallel {display: flex;align-items: stretch;justify-content: center;background-color: white;position: relative;}#sk-container-id-1 div.sk-item::before, #sk-container-id-1 div.sk-parallel-item::before {content: \"\";position: absolute;border-left: 1px solid gray;box-sizing: border-box;top: 0;bottom: 0;left: 50%;z-index: -1;}#sk-container-id-1 div.sk-parallel-item {display: flex;flex-direction: column;z-index: 1;position: relative;background-color: white;}#sk-container-id-1 div.sk-parallel-item:first-child::after {align-self: flex-end;width: 50%;}#sk-container-id-1 div.sk-parallel-item:last-child::after {align-self: flex-start;width: 50%;}#sk-container-id-1 div.sk-parallel-item:only-child::after {width: 0;}#sk-container-id-1 div.sk-dashed-wrapped {border: 1px dashed gray;margin: 0 0.4em 0.5em 0.4em;box-sizing: border-box;padding-bottom: 0.4em;background-color: white;}#sk-container-id-1 div.sk-label label {font-family: monospace;font-weight: bold;display: inline-block;line-height: 1.2em;}#sk-container-id-1 div.sk-label-container {text-align: center;}#sk-container-id-1 div.sk-container {/* jupyter's `normalize.less` sets `[hidden] { display: none; }` but bootstrap.min.css set `[hidden] { display: none !important; }` so we also need the `!important` here to be able to override the default hidden behavior on the sphinx rendered scikit-learn.org. See: https://github.com/scikit-learn/scikit-learn/issues/21755 */display: inline-block !important;position: relative;}#sk-container-id-1 div.sk-text-repr-fallback {display: none;}</style><div id=\"sk-container-id-1\" class=\"sk-top-container\"><div class=\"sk-text-repr-fallback\"><pre>RandomForestRegressor(n_estimators=90)</pre><b>In a Jupyter environment, please rerun this cell to show the HTML representation or trust the notebook. <br />On GitHub, the HTML representation is unable to render, please try loading this page with nbviewer.org.</b></div><div class=\"sk-container\" hidden><div class=\"sk-item\"><div class=\"sk-estimator sk-toggleable\"><input class=\"sk-toggleable__control sk-hidden--visually\" id=\"sk-estimator-id-1\" type=\"checkbox\" checked><label for=\"sk-estimator-id-1\" class=\"sk-toggleable__label sk-toggleable__label-arrow\">RandomForestRegressor</label><div class=\"sk-toggleable__content\"><pre>RandomForestRegressor(n_estimators=90)</pre></div></div></div></div></div>"
      ],
      "text/plain": [
       "RandomForestRegressor(n_estimators=90)"
      ]
     },
     "execution_count": 14,
     "metadata": {},
     "output_type": "execute_result"
    }
   ],
   "source": [
    "%%time\n",
    "\n",
    "np.random.seed(42)\n",
    "from sklearn.model_selection import train_test_split\n",
    "\n",
    "X_train, X_test, y_train, y_test= train_test_split(X,y,\n",
    "                                                   test_size=0.2)\n",
    "\n",
    "model1.fit(X_train, y_train)"
   ]
  },
  {
   "cell_type": "markdown",
   "id": "370c23f2-6b0f-4e52-aae4-f4db42a6134a",
   "metadata": {},
   "source": [
    "## 3.1 Predicting with our model"
   ]
  },
  {
   "cell_type": "code",
   "execution_count": 15,
   "id": "81f14ae7-b9af-48ef-b0e0-b51580ac410d",
   "metadata": {},
   "outputs": [
    {
     "data": {
      "text/plain": [
       "array([[-0.07377443,  0.03595589,  0.00554639],\n",
       "       [ 0.0235051 ,  0.02501602,  0.00336942],\n",
       "       [-0.06954531,  0.03771092,  0.00461849],\n",
       "       ...,\n",
       "       [-0.1121747 ,  0.02719028,  0.00088633],\n",
       "       [-0.08813563,  0.03393633,  0.00946032],\n",
       "       [-0.02855409,  0.03542349,  0.00697576]])"
      ]
     },
     "execution_count": 15,
     "metadata": {},
     "output_type": "execute_result"
    }
   ],
   "source": [
    "y_preds=model1.predict(X_test)\n",
    "  \n",
    "y_preds\n"
   ]
  },
  {
   "cell_type": "code",
   "execution_count": 16,
   "id": "b239e1da-d3fa-4eb7-8315-83c2e8022814",
   "metadata": {},
   "outputs": [
    {
     "data": {
      "text/html": [
       "<div>\n",
       "<style scoped>\n",
       "    .dataframe tbody tr th:only-of-type {\n",
       "        vertical-align: middle;\n",
       "    }\n",
       "\n",
       "    .dataframe tbody tr th {\n",
       "        vertical-align: top;\n",
       "    }\n",
       "\n",
       "    .dataframe thead th {\n",
       "        text-align: right;\n",
       "    }\n",
       "</style>\n",
       "<table border=\"1\" class=\"dataframe\">\n",
       "  <thead>\n",
       "    <tr style=\"text-align: right;\">\n",
       "      <th></th>\n",
       "      <th>Parcel Centroid[X] (m)</th>\n",
       "      <th>Parcel Centroid[Y] (m)</th>\n",
       "      <th>Parcel Centroid[Z] (m)</th>\n",
       "    </tr>\n",
       "  </thead>\n",
       "  <tbody>\n",
       "    <tr>\n",
       "      <th>0</th>\n",
       "      <td>-0.073774</td>\n",
       "      <td>0.035956</td>\n",
       "      <td>0.005546</td>\n",
       "    </tr>\n",
       "    <tr>\n",
       "      <th>1</th>\n",
       "      <td>0.023505</td>\n",
       "      <td>0.025016</td>\n",
       "      <td>0.003369</td>\n",
       "    </tr>\n",
       "    <tr>\n",
       "      <th>2</th>\n",
       "      <td>-0.069545</td>\n",
       "      <td>0.037711</td>\n",
       "      <td>0.004618</td>\n",
       "    </tr>\n",
       "    <tr>\n",
       "      <th>3</th>\n",
       "      <td>0.024856</td>\n",
       "      <td>0.036296</td>\n",
       "      <td>0.003500</td>\n",
       "    </tr>\n",
       "    <tr>\n",
       "      <th>4</th>\n",
       "      <td>-0.035934</td>\n",
       "      <td>0.026787</td>\n",
       "      <td>0.007172</td>\n",
       "    </tr>\n",
       "    <tr>\n",
       "      <th>...</th>\n",
       "      <td>...</td>\n",
       "      <td>...</td>\n",
       "      <td>...</td>\n",
       "    </tr>\n",
       "    <tr>\n",
       "      <th>2687616</th>\n",
       "      <td>-0.071302</td>\n",
       "      <td>0.025165</td>\n",
       "      <td>0.010225</td>\n",
       "    </tr>\n",
       "    <tr>\n",
       "      <th>2687617</th>\n",
       "      <td>-0.048098</td>\n",
       "      <td>0.034441</td>\n",
       "      <td>0.006663</td>\n",
       "    </tr>\n",
       "    <tr>\n",
       "      <th>2687618</th>\n",
       "      <td>-0.112175</td>\n",
       "      <td>0.027190</td>\n",
       "      <td>0.000886</td>\n",
       "    </tr>\n",
       "    <tr>\n",
       "      <th>2687619</th>\n",
       "      <td>-0.088136</td>\n",
       "      <td>0.033936</td>\n",
       "      <td>0.009460</td>\n",
       "    </tr>\n",
       "    <tr>\n",
       "      <th>2687620</th>\n",
       "      <td>-0.028554</td>\n",
       "      <td>0.035423</td>\n",
       "      <td>0.006976</td>\n",
       "    </tr>\n",
       "  </tbody>\n",
       "</table>\n",
       "<p>2687621 rows × 3 columns</p>\n",
       "</div>"
      ],
      "text/plain": [
       "         Parcel Centroid[X] (m)  Parcel Centroid[Y] (m)  \\\n",
       "0                     -0.073774                0.035956   \n",
       "1                      0.023505                0.025016   \n",
       "2                     -0.069545                0.037711   \n",
       "3                      0.024856                0.036296   \n",
       "4                     -0.035934                0.026787   \n",
       "...                         ...                     ...   \n",
       "2687616               -0.071302                0.025165   \n",
       "2687617               -0.048098                0.034441   \n",
       "2687618               -0.112175                0.027190   \n",
       "2687619               -0.088136                0.033936   \n",
       "2687620               -0.028554                0.035423   \n",
       "\n",
       "         Parcel Centroid[Z] (m)  \n",
       "0                      0.005546  \n",
       "1                      0.003369  \n",
       "2                      0.004618  \n",
       "3                      0.003500  \n",
       "4                      0.007172  \n",
       "...                         ...  \n",
       "2687616                0.010225  \n",
       "2687617                0.006663  \n",
       "2687618                0.000886  \n",
       "2687619                0.009460  \n",
       "2687620                0.006976  \n",
       "\n",
       "[2687621 rows x 3 columns]"
      ]
     },
     "execution_count": 16,
     "metadata": {},
     "output_type": "execute_result"
    }
   ],
   "source": [
    "y_preds=pd.DataFrame(y_preds, columns=['Parcel Centroid[X] (m)',\t'Parcel Centroid[Y] (m)',\t'Parcel Centroid[Z] (m)'])\n",
    "y_preds"
   ]
  },
  {
   "cell_type": "code",
   "execution_count": 17,
   "id": "e0f81926-7e76-472c-92af-13d97433f44e",
   "metadata": {},
   "outputs": [
    {
     "data": {
      "text/html": [
       "<div>\n",
       "<style scoped>\n",
       "    .dataframe tbody tr th:only-of-type {\n",
       "        vertical-align: middle;\n",
       "    }\n",
       "\n",
       "    .dataframe tbody tr th {\n",
       "        vertical-align: top;\n",
       "    }\n",
       "\n",
       "    .dataframe thead th {\n",
       "        text-align: right;\n",
       "    }\n",
       "</style>\n",
       "<table border=\"1\" class=\"dataframe\">\n",
       "  <thead>\n",
       "    <tr style=\"text-align: right;\">\n",
       "      <th></th>\n",
       "      <th>Parcel Centroid[X] (m)</th>\n",
       "      <th>Parcel Centroid[Y] (m)</th>\n",
       "      <th>Parcel Centroid[Z] (m)</th>\n",
       "    </tr>\n",
       "  </thead>\n",
       "  <tbody>\n",
       "    <tr>\n",
       "      <th>13327090</th>\n",
       "      <td>-0.073606</td>\n",
       "      <td>0.031286</td>\n",
       "      <td>0.006111</td>\n",
       "    </tr>\n",
       "    <tr>\n",
       "      <th>6146933</th>\n",
       "      <td>0.024962</td>\n",
       "      <td>0.023407</td>\n",
       "      <td>0.004229</td>\n",
       "    </tr>\n",
       "    <tr>\n",
       "      <th>13203006</th>\n",
       "      <td>-0.066708</td>\n",
       "      <td>0.041352</td>\n",
       "      <td>0.008279</td>\n",
       "    </tr>\n",
       "    <tr>\n",
       "      <th>558630</th>\n",
       "      <td>0.027742</td>\n",
       "      <td>0.040348</td>\n",
       "      <td>0.004788</td>\n",
       "    </tr>\n",
       "    <tr>\n",
       "      <th>11721179</th>\n",
       "      <td>-0.036798</td>\n",
       "      <td>0.028555</td>\n",
       "      <td>0.006229</td>\n",
       "    </tr>\n",
       "    <tr>\n",
       "      <th>...</th>\n",
       "      <td>...</td>\n",
       "      <td>...</td>\n",
       "      <td>...</td>\n",
       "    </tr>\n",
       "    <tr>\n",
       "      <th>5645066</th>\n",
       "      <td>-0.071070</td>\n",
       "      <td>0.025340</td>\n",
       "      <td>0.009442</td>\n",
       "    </tr>\n",
       "    <tr>\n",
       "      <th>9631950</th>\n",
       "      <td>-0.048285</td>\n",
       "      <td>0.036731</td>\n",
       "      <td>0.007063</td>\n",
       "    </tr>\n",
       "    <tr>\n",
       "      <th>2056235</th>\n",
       "      <td>-0.112218</td>\n",
       "      <td>0.023923</td>\n",
       "      <td>0.000509</td>\n",
       "    </tr>\n",
       "    <tr>\n",
       "      <th>7734016</th>\n",
       "      <td>-0.088002</td>\n",
       "      <td>0.030855</td>\n",
       "      <td>0.009781</td>\n",
       "    </tr>\n",
       "    <tr>\n",
       "      <th>9659399</th>\n",
       "      <td>-0.030139</td>\n",
       "      <td>0.036094</td>\n",
       "      <td>0.006036</td>\n",
       "    </tr>\n",
       "  </tbody>\n",
       "</table>\n",
       "<p>2687621 rows × 3 columns</p>\n",
       "</div>"
      ],
      "text/plain": [
       "          Parcel Centroid[X] (m)  Parcel Centroid[Y] (m)  \\\n",
       "13327090               -0.073606                0.031286   \n",
       "6146933                 0.024962                0.023407   \n",
       "13203006               -0.066708                0.041352   \n",
       "558630                  0.027742                0.040348   \n",
       "11721179               -0.036798                0.028555   \n",
       "...                          ...                     ...   \n",
       "5645066                -0.071070                0.025340   \n",
       "9631950                -0.048285                0.036731   \n",
       "2056235                -0.112218                0.023923   \n",
       "7734016                -0.088002                0.030855   \n",
       "9659399                -0.030139                0.036094   \n",
       "\n",
       "          Parcel Centroid[Z] (m)  \n",
       "13327090                0.006111  \n",
       "6146933                 0.004229  \n",
       "13203006                0.008279  \n",
       "558630                  0.004788  \n",
       "11721179                0.006229  \n",
       "...                          ...  \n",
       "5645066                 0.009442  \n",
       "9631950                 0.007063  \n",
       "2056235                 0.000509  \n",
       "7734016                 0.009781  \n",
       "9659399                 0.006036  \n",
       "\n",
       "[2687621 rows x 3 columns]"
      ]
     },
     "execution_count": 17,
     "metadata": {},
     "output_type": "execute_result"
    }
   ],
   "source": [
    "y_test"
   ]
  },
  {
   "cell_type": "markdown",
   "id": "7d02d00b-d740-43b7-add7-a74c474197d3",
   "metadata": {},
   "source": [
    "## 3.2 Scoring our model"
   ]
  },
  {
   "cell_type": "code",
   "execution_count": 18,
   "id": "4fa10599-4e93-4463-a8aa-1bc4bbbcdaf8",
   "metadata": {},
   "outputs": [
    {
     "data": {
      "text/plain": [
       "0.9843994022908507"
      ]
     },
     "execution_count": 18,
     "metadata": {},
     "output_type": "execute_result"
    }
   ],
   "source": [
    "model1.score(X_train, y_train)"
   ]
  },
  {
   "cell_type": "code",
   "execution_count": 19,
   "id": "43289846-de41-4ce1-84fb-6201221bbe69",
   "metadata": {},
   "outputs": [
    {
     "data": {
      "text/plain": [
       "{'r-squared': 0.8890501230240361,\n",
       " 'Mean absolute error (MAE)': 0.0013733714881667752,\n",
       " 'Mean squared error(MSE)': 3.994338412677581e-06}"
      ]
     },
     "execution_count": 19,
     "metadata": {},
     "output_type": "execute_result"
    }
   ],
   "source": [
    "from sklearn.metrics import r2_score, mean_squared_error, mean_absolute_error\n",
    "\n",
    "metrics ={\"r-squared\": r2_score, \n",
    "          \"Mean absolute error (MAE)\": mean_absolute_error, \n",
    "          \"Mean squared error(MSE)\":mean_squared_error, \n",
    "          \n",
    "         }\n",
    "model1_scores={}\n",
    "\n",
    "for key,value in metrics.items():\n",
    "    model1_scores[key]=value(y_test, y_preds)\n",
    "\n",
    "    \n",
    "model1_scores"
   ]
  },
  {
   "cell_type": "code",
   "execution_count": 20,
   "id": "11455e50",
   "metadata": {},
   "outputs": [
    {
     "data": {
      "text/html": [
       "<div>\n",
       "<style scoped>\n",
       "    .dataframe tbody tr th:only-of-type {\n",
       "        vertical-align: middle;\n",
       "    }\n",
       "\n",
       "    .dataframe tbody tr th {\n",
       "        vertical-align: top;\n",
       "    }\n",
       "\n",
       "    .dataframe thead th {\n",
       "        text-align: right;\n",
       "    }\n",
       "</style>\n",
       "<table border=\"1\" class=\"dataframe\">\n",
       "  <thead>\n",
       "    <tr style=\"text-align: right;\">\n",
       "      <th></th>\n",
       "      <th>Values</th>\n",
       "    </tr>\n",
       "  </thead>\n",
       "  <tbody>\n",
       "    <tr>\n",
       "      <th>r-squared</th>\n",
       "      <td>0.889050</td>\n",
       "    </tr>\n",
       "    <tr>\n",
       "      <th>Mean absolute error (MAE)</th>\n",
       "      <td>0.001373</td>\n",
       "    </tr>\n",
       "    <tr>\n",
       "      <th>Mean squared error(MSE)</th>\n",
       "      <td>0.000004</td>\n",
       "    </tr>\n",
       "  </tbody>\n",
       "</table>\n",
       "</div>"
      ],
      "text/plain": [
       "                             Values\n",
       "r-squared                  0.889050\n",
       "Mean absolute error (MAE)  0.001373\n",
       "Mean squared error(MSE)    0.000004"
      ]
     },
     "execution_count": 20,
     "metadata": {},
     "output_type": "execute_result"
    }
   ],
   "source": [
    "score30_table= pd.DataFrame(model1_scores.values(), index=model1_scores.keys(), columns=[\"Values\"])\n",
    "score30_table"
   ]
  },
  {
   "cell_type": "code",
   "execution_count": 21,
   "id": "f1974058",
   "metadata": {},
   "outputs": [],
   "source": [
    "score30_table.to_csv('#30scores.csv')"
   ]
  },
  {
   "cell_type": "markdown",
   "id": "dd412002-e681-4a45-b8c4-e66380881108",
   "metadata": {},
   "source": [
    "# 4.0 Plotting the Data\n",
    "Plotting at the first time-index of the test data This is equivalent to the zeroth index\n",
    "We can do the same for other indexes"
   ]
  },
  {
   "cell_type": "code",
   "execution_count": 22,
   "id": "449f0a0c-2f6d-4b6b-a48a-7292be95223b",
   "metadata": {},
   "outputs": [],
   "source": [
    "actual_Xi = y_test.iloc[:, :1]\n",
    "actual_Xj=y_test.iloc[:, :2].drop('Parcel Centroid[X] (m)', axis =1)\n",
    "\n",
    "predicted_Xi = y_preds.iloc[:, :1]\n",
    "predicted_Xj = y_preds.iloc[:, :2].drop('Parcel Centroid[X] (m)', axis =1)\n"
   ]
  },
  {
   "cell_type": "markdown",
   "id": "345aa1ef-44be-44f7-b6a1-edcd339a4eea",
   "metadata": {},
   "source": [
    "## 4.2 Separate plots of the Actual Granules Position and the Predicted Granules Position"
   ]
  },
  {
   "cell_type": "code",
   "execution_count": 23,
   "id": "2c155a44-24e9-48d9-8a44-ed2dbbf49a5a",
   "metadata": {},
   "outputs": [
    {
     "data": {
      "image/png": "[encoded data removed]",
      "text/plain": [
       "<Figure size 1000x1500 with 2 Axes>"
      ]
     },
     "metadata": {},
     "output_type": "display_data"
    }
   ],
   "source": [
    "#Plotting the actual and Predicted positions \n",
    "# Plot the actual and predicted positions\n",
    "#plt.scatter(actual_Xi, actual_Xj, color='blue', label='Actual')\n",
    "\n",
    "fig, (ax1, ax2) = plt.subplots(2,1, figsize=(10,15))\n",
    "\n",
    "ax1.scatter(actual_Xi, actual_Xj)\n",
    "ax2.scatter(predicted_Xi, predicted_Xj, color='red')\n",
    "\n",
    "ax1.set(title=\"Plot of actual Test data (y_test)\", \n",
    "              xlabel='i (m)',\n",
    "              ylabel='j (m)'\n",
    "             )\n",
    "fig.tight_layout(pad=5)\n",
    "\n",
    "ax2.set(title= \"Plot of the Predicted data (y_preds)\", \n",
    "        xlabel= 'i (m)',\n",
    "        ylabel='j (m)'\n",
    "       )\n",
    "\n",
    "plt.savefig(\"./Separate plots of Actual and Predicted granules Position(#30).png\", dpi=1200)"
   ]
  },
  {
   "cell_type": "markdown",
   "id": "c481f141-b603-4932-8aae-aafa76ed84f2",
   "metadata": {},
   "source": [
    "## 4.3 Plotting the Actual Granules Position against the Predicted Granules Position "
   ]
  },
  {
   "cell_type": "code",
   "execution_count": 24,
   "id": "c21ceb3d-378c-4058-af69-a716c8e0347c",
   "metadata": {},
   "outputs": [
    {
     "data": {
      "image/png": "[encoded data removed]",
      "text/plain": [
       "<Figure size 500x500 with 1 Axes>"
      ]
     },
     "metadata": {},
     "output_type": "display_data"
    }
   ],
   "source": [
    "fig, ax3 =plt.subplots(1,1,figsize=(5,5))\n",
    "\n",
    "ax3.scatter(actual_Xi, actual_Xj, color ='blue')\n",
    "\n",
    "ax3.scatter(predicted_Xi, predicted_Xj, color='red')\n",
    "\n",
    "ax3.set(title=\"Actual Granules Position against the Predicted Granules Position\",\n",
    "      xlabel=\"i (m)\",\n",
    "      ylabel=\"j (m)\")\n",
    "\n",
    "plt.savefig('./Actual vs Predicted(#30).png', dpi=1200)"
   ]
  },
  {
   "cell_type": "code",
   "execution_count": 25,
   "id": "d9d446fb-d1c3-4420-bf99-311e5a00efc4",
   "metadata": {},
   "outputs": [],
   "source": [
    "## 4.3 Plot of the Actual against the Predicted Granules position of the first 500 granules "
   ]
  },
  {
   "cell_type": "code",
   "execution_count": 26,
   "id": "ae517dd9-f5a4-4c3b-92cd-6e2fad4ca13d",
   "metadata": {},
   "outputs": [
    {
     "data": {
      "image/png": "[encoded data removed]",
      "text/plain": [
       "<Figure size 500x500 with 1 Axes>"
      ]
     },
     "metadata": {},
     "output_type": "display_data"
    }
   ],
   "source": [
    "fig, ax4 =plt.subplots(1,1,figsize=(5,5))\n",
    "plt.scatter(actual_Xi[:500], actual_Xj[:500], color ='blue')\n",
    "plt.scatter(predicted_Xi[:500], predicted_Xj[:500], color='red')\n",
    "\n",
    "ax4.set(title=\"Actual Granules Position against the Predicted Granules Position\",\n",
    "      xlabel=\"i (m)\",\n",
    "      ylabel=\"j (m)\")\n",
    "\n",
    "plt.savefig('./Actual vs Predicted(#30).png', dpi=1200)"
   ]
  },
  {
   "cell_type": "markdown",
   "id": "782c7cb5-9750-4464-b1b3-f7897ab2340a",
   "metadata": {},
   "source": [
    "# 5.0 Using Linear Regression Model"
   ]
  },
  {
   "cell_type": "code",
   "execution_count": 27,
   "id": "21b32d90-6207-428b-9af6-fdaf0166b913",
   "metadata": {},
   "outputs": [
    {
     "name": "stdout",
     "output_type": "stream",
     "text": [
      "CPU times: total: 7.33 s\n",
      "Wall time: 5.06 s\n"
     ]
    },
    {
     "data": {
      "text/html": [
       "<style>#sk-container-id-2 {color: black;background-color: white;}#sk-container-id-2 pre{padding: 0;}#sk-container-id-2 div.sk-toggleable {background-color: white;}#sk-container-id-2 label.sk-toggleable__label {cursor: pointer;display: block;width: 100%;margin-bottom: 0;padding: 0.3em;box-sizing: border-box;text-align: center;}#sk-container-id-2 label.sk-toggleable__label-arrow:before {content: \"▸\";float: left;margin-right: 0.25em;color: #696969;}#sk-container-id-2 label.sk-toggleable__label-arrow:hover:before {color: black;}#sk-container-id-2 div.sk-estimator:hover label.sk-toggleable__label-arrow:before {color: black;}#sk-container-id-2 div.sk-toggleable__content {max-height: 0;max-width: 0;overflow: hidden;text-align: left;background-color: #f0f8ff;}#sk-container-id-2 div.sk-toggleable__content pre {margin: 0.2em;color: black;border-radius: 0.25em;background-color: #f0f8ff;}#sk-container-id-2 input.sk-toggleable__control:checked~div.sk-toggleable__content {max-height: 200px;max-width: 100%;overflow: auto;}#sk-container-id-2 input.sk-toggleable__control:checked~label.sk-toggleable__label-arrow:before {content: \"▾\";}#sk-container-id-2 div.sk-estimator input.sk-toggleable__control:checked~label.sk-toggleable__label {background-color: #d4ebff;}#sk-container-id-2 div.sk-label input.sk-toggleable__control:checked~label.sk-toggleable__label {background-color: #d4ebff;}#sk-container-id-2 input.sk-hidden--visually {border: 0;clip: rect(1px 1px 1px 1px);clip: rect(1px, 1px, 1px, 1px);height: 1px;margin: -1px;overflow: hidden;padding: 0;position: absolute;width: 1px;}#sk-container-id-2 div.sk-estimator {font-family: monospace;background-color: #f0f8ff;border: 1px dotted black;border-radius: 0.25em;box-sizing: border-box;margin-bottom: 0.5em;}#sk-container-id-2 div.sk-estimator:hover {background-color: #d4ebff;}#sk-container-id-2 div.sk-parallel-item::after {content: \"\";width: 100%;border-bottom: 1px solid gray;flex-grow: 1;}#sk-container-id-2 div.sk-label:hover label.sk-toggleable__label {background-color: #d4ebff;}#sk-container-id-2 div.sk-serial::before {content: \"\";position: absolute;border-left: 1px solid gray;box-sizing: border-box;top: 0;bottom: 0;left: 50%;z-index: 0;}#sk-container-id-2 div.sk-serial {display: flex;flex-direction: column;align-items: center;background-color: white;padding-right: 0.2em;padding-left: 0.2em;position: relative;}#sk-container-id-2 div.sk-item {position: relative;z-index: 1;}#sk-container-id-2 div.sk-parallel {display: flex;align-items: stretch;justify-content: center;background-color: white;position: relative;}#sk-container-id-2 div.sk-item::before, #sk-container-id-2 div.sk-parallel-item::before {content: \"\";position: absolute;border-left: 1px solid gray;box-sizing: border-box;top: 0;bottom: 0;left: 50%;z-index: -1;}#sk-container-id-2 div.sk-parallel-item {display: flex;flex-direction: column;z-index: 1;position: relative;background-color: white;}#sk-container-id-2 div.sk-parallel-item:first-child::after {align-self: flex-end;width: 50%;}#sk-container-id-2 div.sk-parallel-item:last-child::after {align-self: flex-start;width: 50%;}#sk-container-id-2 div.sk-parallel-item:only-child::after {width: 0;}#sk-container-id-2 div.sk-dashed-wrapped {border: 1px dashed gray;margin: 0 0.4em 0.5em 0.4em;box-sizing: border-box;padding-bottom: 0.4em;background-color: white;}#sk-container-id-2 div.sk-label label {font-family: monospace;font-weight: bold;display: inline-block;line-height: 1.2em;}#sk-container-id-2 div.sk-label-container {text-align: center;}#sk-container-id-2 div.sk-container {/* jupyter's `normalize.less` sets `[hidden] { display: none; }` but bootstrap.min.css set `[hidden] { display: none !important; }` so we also need the `!important` here to be able to override the default hidden behavior on the sphinx rendered scikit-learn.org. See: https://github.com/scikit-learn/scikit-learn/issues/21755 */display: inline-block !important;position: relative;}#sk-container-id-2 div.sk-text-repr-fallback {display: none;}</style><div id=\"sk-container-id-2\" class=\"sk-top-container\"><div class=\"sk-text-repr-fallback\"><pre>LinearRegression()</pre><b>In a Jupyter environment, please rerun this cell to show the HTML representation or trust the notebook. <br />On GitHub, the HTML representation is unable to render, please try loading this page with nbviewer.org.</b></div><div class=\"sk-container\" hidden><div class=\"sk-item\"><div class=\"sk-estimator sk-toggleable\"><input class=\"sk-toggleable__control sk-hidden--visually\" id=\"sk-estimator-id-2\" type=\"checkbox\" checked><label for=\"sk-estimator-id-2\" class=\"sk-toggleable__label sk-toggleable__label-arrow\">LinearRegression</label><div class=\"sk-toggleable__content\"><pre>LinearRegression()</pre></div></div></div></div></div>"
      ],
      "text/plain": [
       "LinearRegression()"
      ]
     },
     "execution_count": 27,
     "metadata": {},
     "output_type": "execute_result"
    }
   ],
   "source": [
    "%%time\n",
    "\n",
    "from sklearn.linear_model import LinearRegression\n",
    "\n",
    "model2=LinearRegression()\n",
    "\n",
    "model2.get_params\n",
    "model2.fit(X_train, y_train)\n"
   ]
  },
  {
   "cell_type": "markdown",
   "id": "5324cfb3-2d22-44bc-9968-5fc46c899f42",
   "metadata": {},
   "source": [
    "## 5.1 Making Prediction"
   ]
  },
  {
   "cell_type": "code",
   "execution_count": 28,
   "id": "7b0eb2c1-2b13-47a5-b740-60ad3daebe55",
   "metadata": {},
   "outputs": [
    {
     "data": {
      "text/plain": [
       "array([[-0.07039147,  0.0313025 ,  0.0062137 ],\n",
       "       [ 0.01854068,  0.03031715,  0.00319431],\n",
       "       [-0.06522187,  0.03102615,  0.00618396],\n",
       "       ...,\n",
       "       [-0.12128336,  0.03145153,  0.00423175],\n",
       "       [-0.08568934,  0.03102448,  0.00787432],\n",
       "       [-0.02774714,  0.03285149,  0.00626231]])"
      ]
     },
     "execution_count": 28,
     "metadata": {},
     "output_type": "execute_result"
    }
   ],
   "source": [
    "yLinear_Preds=model2.predict(X_test)\n",
    "yLinear_Preds"
   ]
  },
  {
   "cell_type": "code",
   "execution_count": 29,
   "id": "339bc666-d8f7-4086-a912-529a848bdcb1",
   "metadata": {},
   "outputs": [
    {
     "data": {
      "text/html": [
       "<div>\n",
       "<style scoped>\n",
       "    .dataframe tbody tr th:only-of-type {\n",
       "        vertical-align: middle;\n",
       "    }\n",
       "\n",
       "    .dataframe tbody tr th {\n",
       "        vertical-align: top;\n",
       "    }\n",
       "\n",
       "    .dataframe thead th {\n",
       "        text-align: right;\n",
       "    }\n",
       "</style>\n",
       "<table border=\"1\" class=\"dataframe\">\n",
       "  <thead>\n",
       "    <tr style=\"text-align: right;\">\n",
       "      <th></th>\n",
       "      <th>Parcel Centroid[X] (m)</th>\n",
       "      <th>Parcel Centroid[Y] (m)</th>\n",
       "      <th>Parcel Centroid[Z] (m)</th>\n",
       "    </tr>\n",
       "  </thead>\n",
       "  <tbody>\n",
       "    <tr>\n",
       "      <th>0</th>\n",
       "      <td>-0.070391</td>\n",
       "      <td>0.031302</td>\n",
       "      <td>0.006214</td>\n",
       "    </tr>\n",
       "    <tr>\n",
       "      <th>1</th>\n",
       "      <td>0.018541</td>\n",
       "      <td>0.030317</td>\n",
       "      <td>0.003194</td>\n",
       "    </tr>\n",
       "    <tr>\n",
       "      <th>2</th>\n",
       "      <td>-0.065222</td>\n",
       "      <td>0.031026</td>\n",
       "      <td>0.006184</td>\n",
       "    </tr>\n",
       "    <tr>\n",
       "      <th>3</th>\n",
       "      <td>0.019112</td>\n",
       "      <td>0.032439</td>\n",
       "      <td>0.006436</td>\n",
       "    </tr>\n",
       "    <tr>\n",
       "      <th>4</th>\n",
       "      <td>-0.034223</td>\n",
       "      <td>0.031100</td>\n",
       "      <td>0.006053</td>\n",
       "    </tr>\n",
       "    <tr>\n",
       "      <th>...</th>\n",
       "      <td>...</td>\n",
       "      <td>...</td>\n",
       "      <td>...</td>\n",
       "    </tr>\n",
       "    <tr>\n",
       "      <th>2687616</th>\n",
       "      <td>-0.062682</td>\n",
       "      <td>0.035644</td>\n",
       "      <td>0.012204</td>\n",
       "    </tr>\n",
       "    <tr>\n",
       "      <th>2687617</th>\n",
       "      <td>-0.045140</td>\n",
       "      <td>0.031648</td>\n",
       "      <td>0.005977</td>\n",
       "    </tr>\n",
       "    <tr>\n",
       "      <th>2687618</th>\n",
       "      <td>-0.121283</td>\n",
       "      <td>0.031452</td>\n",
       "      <td>0.004232</td>\n",
       "    </tr>\n",
       "    <tr>\n",
       "      <th>2687619</th>\n",
       "      <td>-0.085689</td>\n",
       "      <td>0.031024</td>\n",
       "      <td>0.007874</td>\n",
       "    </tr>\n",
       "    <tr>\n",
       "      <th>2687620</th>\n",
       "      <td>-0.027747</td>\n",
       "      <td>0.032851</td>\n",
       "      <td>0.006262</td>\n",
       "    </tr>\n",
       "  </tbody>\n",
       "</table>\n",
       "<p>2687621 rows × 3 columns</p>\n",
       "</div>"
      ],
      "text/plain": [
       "         Parcel Centroid[X] (m)  Parcel Centroid[Y] (m)  \\\n",
       "0                     -0.070391                0.031302   \n",
       "1                      0.018541                0.030317   \n",
       "2                     -0.065222                0.031026   \n",
       "3                      0.019112                0.032439   \n",
       "4                     -0.034223                0.031100   \n",
       "...                         ...                     ...   \n",
       "2687616               -0.062682                0.035644   \n",
       "2687617               -0.045140                0.031648   \n",
       "2687618               -0.121283                0.031452   \n",
       "2687619               -0.085689                0.031024   \n",
       "2687620               -0.027747                0.032851   \n",
       "\n",
       "         Parcel Centroid[Z] (m)  \n",
       "0                      0.006214  \n",
       "1                      0.003194  \n",
       "2                      0.006184  \n",
       "3                      0.006436  \n",
       "4                      0.006053  \n",
       "...                         ...  \n",
       "2687616                0.012204  \n",
       "2687617                0.005977  \n",
       "2687618                0.004232  \n",
       "2687619                0.007874  \n",
       "2687620                0.006262  \n",
       "\n",
       "[2687621 rows x 3 columns]"
      ]
     },
     "execution_count": 29,
     "metadata": {},
     "output_type": "execute_result"
    }
   ],
   "source": [
    "yLinear_Preds=pd.DataFrame(yLinear_Preds, columns=['Parcel Centroid[X] (m)', 'Parcel Centroid[Y] (m)', 'Parcel Centroid[Z] (m)'])\n",
    "yLinear_Preds"
   ]
  },
  {
   "cell_type": "code",
   "execution_count": 30,
   "id": "c4242c11-beba-4edc-9f15-68276dfa50c3",
   "metadata": {},
   "outputs": [
    {
     "data": {
      "text/html": [
       "<div>\n",
       "<style scoped>\n",
       "    .dataframe tbody tr th:only-of-type {\n",
       "        vertical-align: middle;\n",
       "    }\n",
       "\n",
       "    .dataframe tbody tr th {\n",
       "        vertical-align: top;\n",
       "    }\n",
       "\n",
       "    .dataframe thead th {\n",
       "        text-align: right;\n",
       "    }\n",
       "</style>\n",
       "<table border=\"1\" class=\"dataframe\">\n",
       "  <thead>\n",
       "    <tr style=\"text-align: right;\">\n",
       "      <th></th>\n",
       "      <th>Parcel Centroid[X] (m)</th>\n",
       "      <th>Parcel Centroid[Y] (m)</th>\n",
       "      <th>Parcel Centroid[Z] (m)</th>\n",
       "    </tr>\n",
       "  </thead>\n",
       "  <tbody>\n",
       "    <tr>\n",
       "      <th>13327090</th>\n",
       "      <td>-0.073606</td>\n",
       "      <td>0.031286</td>\n",
       "      <td>0.006111</td>\n",
       "    </tr>\n",
       "    <tr>\n",
       "      <th>6146933</th>\n",
       "      <td>0.024962</td>\n",
       "      <td>0.023407</td>\n",
       "      <td>0.004229</td>\n",
       "    </tr>\n",
       "    <tr>\n",
       "      <th>13203006</th>\n",
       "      <td>-0.066708</td>\n",
       "      <td>0.041352</td>\n",
       "      <td>0.008279</td>\n",
       "    </tr>\n",
       "    <tr>\n",
       "      <th>558630</th>\n",
       "      <td>0.027742</td>\n",
       "      <td>0.040348</td>\n",
       "      <td>0.004788</td>\n",
       "    </tr>\n",
       "    <tr>\n",
       "      <th>11721179</th>\n",
       "      <td>-0.036798</td>\n",
       "      <td>0.028555</td>\n",
       "      <td>0.006229</td>\n",
       "    </tr>\n",
       "    <tr>\n",
       "      <th>...</th>\n",
       "      <td>...</td>\n",
       "      <td>...</td>\n",
       "      <td>...</td>\n",
       "    </tr>\n",
       "    <tr>\n",
       "      <th>5645066</th>\n",
       "      <td>-0.071070</td>\n",
       "      <td>0.025340</td>\n",
       "      <td>0.009442</td>\n",
       "    </tr>\n",
       "    <tr>\n",
       "      <th>9631950</th>\n",
       "      <td>-0.048285</td>\n",
       "      <td>0.036731</td>\n",
       "      <td>0.007063</td>\n",
       "    </tr>\n",
       "    <tr>\n",
       "      <th>2056235</th>\n",
       "      <td>-0.112218</td>\n",
       "      <td>0.023923</td>\n",
       "      <td>0.000509</td>\n",
       "    </tr>\n",
       "    <tr>\n",
       "      <th>7734016</th>\n",
       "      <td>-0.088002</td>\n",
       "      <td>0.030855</td>\n",
       "      <td>0.009781</td>\n",
       "    </tr>\n",
       "    <tr>\n",
       "      <th>9659399</th>\n",
       "      <td>-0.030139</td>\n",
       "      <td>0.036094</td>\n",
       "      <td>0.006036</td>\n",
       "    </tr>\n",
       "  </tbody>\n",
       "</table>\n",
       "<p>2687621 rows × 3 columns</p>\n",
       "</div>"
      ],
      "text/plain": [
       "          Parcel Centroid[X] (m)  Parcel Centroid[Y] (m)  \\\n",
       "13327090               -0.073606                0.031286   \n",
       "6146933                 0.024962                0.023407   \n",
       "13203006               -0.066708                0.041352   \n",
       "558630                  0.027742                0.040348   \n",
       "11721179               -0.036798                0.028555   \n",
       "...                          ...                     ...   \n",
       "5645066                -0.071070                0.025340   \n",
       "9631950                -0.048285                0.036731   \n",
       "2056235                -0.112218                0.023923   \n",
       "7734016                -0.088002                0.030855   \n",
       "9659399                -0.030139                0.036094   \n",
       "\n",
       "          Parcel Centroid[Z] (m)  \n",
       "13327090                0.006111  \n",
       "6146933                 0.004229  \n",
       "13203006                0.008279  \n",
       "558630                  0.004788  \n",
       "11721179                0.006229  \n",
       "...                          ...  \n",
       "5645066                 0.009442  \n",
       "9631950                 0.007063  \n",
       "2056235                 0.000509  \n",
       "7734016                 0.009781  \n",
       "9659399                 0.006036  \n",
       "\n",
       "[2687621 rows x 3 columns]"
      ]
     },
     "execution_count": 30,
     "metadata": {},
     "output_type": "execute_result"
    }
   ],
   "source": [
    " y_test"
   ]
  },
  {
   "cell_type": "markdown",
   "id": "d4ae8bd8-a981-4c3a-b88e-8f7339783516",
   "metadata": {},
   "source": [
    "## 5.2 Scoring the Linear Regression based model"
   ]
  },
  {
   "cell_type": "code",
   "execution_count": 31,
   "id": "85143a79-bc9b-41d2-9721-e8f73c08f0b8",
   "metadata": {},
   "outputs": [
    {
     "data": {
      "text/plain": [
       "0.5688138702460768"
      ]
     },
     "execution_count": 31,
     "metadata": {},
     "output_type": "execute_result"
    }
   ],
   "source": [
    "model2.score(X_train, y_train)"
   ]
  },
  {
   "cell_type": "code",
   "execution_count": 32,
   "id": "60ee154f-5038-487e-8bf8-75e33f387fde",
   "metadata": {},
   "outputs": [
    {
     "data": {
      "text/plain": [
       "0.5691356471977291"
      ]
     },
     "execution_count": 32,
     "metadata": {},
     "output_type": "execute_result"
    }
   ],
   "source": [
    "model2.score(X_test, y_test)"
   ]
  },
  {
   "cell_type": "code",
   "execution_count": null,
   "id": "5f6a8cde",
   "metadata": {},
   "outputs": [],
   "source": []
  },
  {
   "cell_type": "code",
   "execution_count": 33,
   "id": "bc815ccb",
   "metadata": {},
   "outputs": [
    {
     "data": {
      "text/html": [
       "<div>\n",
       "<style scoped>\n",
       "    .dataframe tbody tr th:only-of-type {\n",
       "        vertical-align: middle;\n",
       "    }\n",
       "\n",
       "    .dataframe tbody tr th {\n",
       "        vertical-align: top;\n",
       "    }\n",
       "\n",
       "    .dataframe thead th {\n",
       "        text-align: right;\n",
       "    }\n",
       "</style>\n",
       "<table border=\"1\" class=\"dataframe\">\n",
       "  <thead>\n",
       "    <tr style=\"text-align: right;\">\n",
       "      <th></th>\n",
       "      <th>Values</th>\n",
       "      <th>LinearRegression</th>\n",
       "    </tr>\n",
       "  </thead>\n",
       "  <tbody>\n",
       "    <tr>\n",
       "      <th>r-squared</th>\n",
       "      <td>0.889050</td>\n",
       "      <td>0.569136</td>\n",
       "    </tr>\n",
       "    <tr>\n",
       "      <th>Mean absolute error (MAE)</th>\n",
       "      <td>0.001373</td>\n",
       "      <td>0.003297</td>\n",
       "    </tr>\n",
       "    <tr>\n",
       "      <th>Mean squared error(MSE)</th>\n",
       "      <td>0.000004</td>\n",
       "      <td>0.000018</td>\n",
       "    </tr>\n",
       "  </tbody>\n",
       "</table>\n",
       "</div>"
      ],
      "text/plain": [
       "                             Values  LinearRegression\n",
       "r-squared                  0.889050          0.569136\n",
       "Mean absolute error (MAE)  0.001373          0.003297\n",
       "Mean squared error(MSE)    0.000004          0.000018"
      ]
     },
     "execution_count": 33,
     "metadata": {},
     "output_type": "execute_result"
    }
   ],
   "source": [
    "model2_scores={}\n",
    "\n",
    "for key,value in metrics.items():\n",
    "    model2_scores[key]=value(y_test, yLinear_Preds)\n",
    "\n",
    "    \n",
    "model2_scores\n",
    "\n",
    "score30_table['LinearRegression']= np.array(list(model2_scores.values()))\n",
    "score30_table"
   ]
  },
  {
   "cell_type": "code",
   "execution_count": 34,
   "id": "315e91fa",
   "metadata": {},
   "outputs": [
    {
     "data": {
      "text/plain": [
       "{'r-squared': 0.5691356471977291,\n",
       " 'Mean absolute error (MAE)': 0.00329673264265629,\n",
       " 'Mean squared error(MSE)': 1.8064121723003115e-05}"
      ]
     },
     "execution_count": 34,
     "metadata": {},
     "output_type": "execute_result"
    }
   ],
   "source": [
    "model2_scores"
   ]
  },
  {
   "cell_type": "markdown",
   "id": "bb0a0f3a-78b7-43fb-9f3a-a7c171dd7f58",
   "metadata": {},
   "source": [
    "## 5.3 Plots of the Actual vs  Predicted Granule Position Using the Linear Regression Model"
   ]
  },
  {
   "cell_type": "code",
   "execution_count": 35,
   "id": "ca8e509d-37b4-4ddd-8ce0-4adcd693f93e",
   "metadata": {},
   "outputs": [],
   "source": [
    "LR_Pred_Xi=yLinear_Preds.iloc[:,:1]\n",
    "LR_Pred_Xj=yLinear_Preds.iloc[:, :2].drop('Parcel Centroid[X] (m)', axis =1)"
   ]
  },
  {
   "cell_type": "code",
   "execution_count": 36,
   "id": "7d94cd4d-ba44-4f99-bb2f-2963f8ef92ce",
   "metadata": {},
   "outputs": [
    {
     "data": {
      "image/png": "[encoded data removed]",
      "text/plain": [
       "<Figure size 500x500 with 1 Axes>"
      ]
     },
     "metadata": {},
     "output_type": "display_data"
    }
   ],
   "source": [
    "fig, ax5= plt.subplots(figsize=(5,5))\n",
    "\n",
    "ax5.scatter(actual_Xi, actual_Xj, color='blue')\n",
    "ax5.scatter(LR_Pred_Xi, LR_Pred_Xj, color='red')\n",
    "\n",
    "plt.savefig('./LinearRegression_model(#30).png', dpi=1200)"
   ]
  },
  {
   "cell_type": "markdown",
   "id": "26a24ac2-c31a-4c9a-919a-59fe4a33fdec",
   "metadata": {},
   "source": [
    "# 6.0 Using Ridge Regression"
   ]
  },
  {
   "cell_type": "code",
   "execution_count": 37,
   "id": "ac4240cb-087c-4799-a993-524580bc9ecc",
   "metadata": {},
   "outputs": [
    {
     "name": "stdout",
     "output_type": "stream",
     "text": [
      "CPU times: total: 1.17 s\n",
      "Wall time: 871 ms\n"
     ]
    },
    {
     "data": {
      "text/html": [
       "<style>#sk-container-id-3 {color: black;background-color: white;}#sk-container-id-3 pre{padding: 0;}#sk-container-id-3 div.sk-toggleable {background-color: white;}#sk-container-id-3 label.sk-toggleable__label {cursor: pointer;display: block;width: 100%;margin-bottom: 0;padding: 0.3em;box-sizing: border-box;text-align: center;}#sk-container-id-3 label.sk-toggleable__label-arrow:before {content: \"▸\";float: left;margin-right: 0.25em;color: #696969;}#sk-container-id-3 label.sk-toggleable__label-arrow:hover:before {color: black;}#sk-container-id-3 div.sk-estimator:hover label.sk-toggleable__label-arrow:before {color: black;}#sk-container-id-3 div.sk-toggleable__content {max-height: 0;max-width: 0;overflow: hidden;text-align: left;background-color: #f0f8ff;}#sk-container-id-3 div.sk-toggleable__content pre {margin: 0.2em;color: black;border-radius: 0.25em;background-color: #f0f8ff;}#sk-container-id-3 input.sk-toggleable__control:checked~div.sk-toggleable__content {max-height: 200px;max-width: 100%;overflow: auto;}#sk-container-id-3 input.sk-toggleable__control:checked~label.sk-toggleable__label-arrow:before {content: \"▾\";}#sk-container-id-3 div.sk-estimator input.sk-toggleable__control:checked~label.sk-toggleable__label {background-color: #d4ebff;}#sk-container-id-3 div.sk-label input.sk-toggleable__control:checked~label.sk-toggleable__label {background-color: #d4ebff;}#sk-container-id-3 input.sk-hidden--visually {border: 0;clip: rect(1px 1px 1px 1px);clip: rect(1px, 1px, 1px, 1px);height: 1px;margin: -1px;overflow: hidden;padding: 0;position: absolute;width: 1px;}#sk-container-id-3 div.sk-estimator {font-family: monospace;background-color: #f0f8ff;border: 1px dotted black;border-radius: 0.25em;box-sizing: border-box;margin-bottom: 0.5em;}#sk-container-id-3 div.sk-estimator:hover {background-color: #d4ebff;}#sk-container-id-3 div.sk-parallel-item::after {content: \"\";width: 100%;border-bottom: 1px solid gray;flex-grow: 1;}#sk-container-id-3 div.sk-label:hover label.sk-toggleable__label {background-color: #d4ebff;}#sk-container-id-3 div.sk-serial::before {content: \"\";position: absolute;border-left: 1px solid gray;box-sizing: border-box;top: 0;bottom: 0;left: 50%;z-index: 0;}#sk-container-id-3 div.sk-serial {display: flex;flex-direction: column;align-items: center;background-color: white;padding-right: 0.2em;padding-left: 0.2em;position: relative;}#sk-container-id-3 div.sk-item {position: relative;z-index: 1;}#sk-container-id-3 div.sk-parallel {display: flex;align-items: stretch;justify-content: center;background-color: white;position: relative;}#sk-container-id-3 div.sk-item::before, #sk-container-id-3 div.sk-parallel-item::before {content: \"\";position: absolute;border-left: 1px solid gray;box-sizing: border-box;top: 0;bottom: 0;left: 50%;z-index: -1;}#sk-container-id-3 div.sk-parallel-item {display: flex;flex-direction: column;z-index: 1;position: relative;background-color: white;}#sk-container-id-3 div.sk-parallel-item:first-child::after {align-self: flex-end;width: 50%;}#sk-container-id-3 div.sk-parallel-item:last-child::after {align-self: flex-start;width: 50%;}#sk-container-id-3 div.sk-parallel-item:only-child::after {width: 0;}#sk-container-id-3 div.sk-dashed-wrapped {border: 1px dashed gray;margin: 0 0.4em 0.5em 0.4em;box-sizing: border-box;padding-bottom: 0.4em;background-color: white;}#sk-container-id-3 div.sk-label label {font-family: monospace;font-weight: bold;display: inline-block;line-height: 1.2em;}#sk-container-id-3 div.sk-label-container {text-align: center;}#sk-container-id-3 div.sk-container {/* jupyter's `normalize.less` sets `[hidden] { display: none; }` but bootstrap.min.css set `[hidden] { display: none !important; }` so we also need the `!important` here to be able to override the default hidden behavior on the sphinx rendered scikit-learn.org. See: https://github.com/scikit-learn/scikit-learn/issues/21755 */display: inline-block !important;position: relative;}#sk-container-id-3 div.sk-text-repr-fallback {display: none;}</style><div id=\"sk-container-id-3\" class=\"sk-top-container\"><div class=\"sk-text-repr-fallback\"><pre>Ridge()</pre><b>In a Jupyter environment, please rerun this cell to show the HTML representation or trust the notebook. <br />On GitHub, the HTML representation is unable to render, please try loading this page with nbviewer.org.</b></div><div class=\"sk-container\" hidden><div class=\"sk-item\"><div class=\"sk-estimator sk-toggleable\"><input class=\"sk-toggleable__control sk-hidden--visually\" id=\"sk-estimator-id-3\" type=\"checkbox\" checked><label for=\"sk-estimator-id-3\" class=\"sk-toggleable__label sk-toggleable__label-arrow\">Ridge</label><div class=\"sk-toggleable__content\"><pre>Ridge()</pre></div></div></div></div></div>"
      ],
      "text/plain": [
       "Ridge()"
      ]
     },
     "execution_count": 37,
     "metadata": {},
     "output_type": "execute_result"
    }
   ],
   "source": [
    "%%time\n",
    "\n",
    "from sklearn.linear_model import Ridge\n",
    "\n",
    "model3= Ridge()\n",
    "\n",
    "model3.get_params\n",
    "\n",
    "model3.fit(X_train, y_train)"
   ]
  },
  {
   "cell_type": "code",
   "execution_count": 38,
   "id": "8ae9d071-9e3e-4f44-940d-ccfcfd0908d1",
   "metadata": {},
   "outputs": [
    {
     "data": {
      "text/plain": [
       "array([[-0.07039732,  0.03130217,  0.00621196],\n",
       "       [ 0.01853016,  0.03031659,  0.00319128],\n",
       "       [-0.06523033,  0.03102569,  0.00618145],\n",
       "       ...,\n",
       "       [-0.12127545,  0.03145207,  0.00423399],\n",
       "       [-0.08569921,  0.03102388,  0.00787161],\n",
       "       [-0.02774174,  0.03285175,  0.00626394]])"
      ]
     },
     "execution_count": 38,
     "metadata": {},
     "output_type": "execute_result"
    }
   ],
   "source": [
    "yRidge_preds=model3.predict(X_test)\n",
    "yRidge_preds"
   ]
  },
  {
   "cell_type": "code",
   "execution_count": 39,
   "id": "e29f4d76-d415-4c9e-977a-3c94b2fd2111",
   "metadata": {},
   "outputs": [
    {
     "data": {
      "text/html": [
       "<div>\n",
       "<style scoped>\n",
       "    .dataframe tbody tr th:only-of-type {\n",
       "        vertical-align: middle;\n",
       "    }\n",
       "\n",
       "    .dataframe tbody tr th {\n",
       "        vertical-align: top;\n",
       "    }\n",
       "\n",
       "    .dataframe thead th {\n",
       "        text-align: right;\n",
       "    }\n",
       "</style>\n",
       "<table border=\"1\" class=\"dataframe\">\n",
       "  <thead>\n",
       "    <tr style=\"text-align: right;\">\n",
       "      <th></th>\n",
       "      <th>Parcel Centroid[X] (m)</th>\n",
       "      <th>Parcel Centroid[Y] (m)</th>\n",
       "      <th>Parcel Centroid[Z] (m)</th>\n",
       "    </tr>\n",
       "  </thead>\n",
       "  <tbody>\n",
       "    <tr>\n",
       "      <th>0</th>\n",
       "      <td>-0.070397</td>\n",
       "      <td>0.031302</td>\n",
       "      <td>0.006212</td>\n",
       "    </tr>\n",
       "    <tr>\n",
       "      <th>1</th>\n",
       "      <td>0.018530</td>\n",
       "      <td>0.030317</td>\n",
       "      <td>0.003191</td>\n",
       "    </tr>\n",
       "    <tr>\n",
       "      <th>2</th>\n",
       "      <td>-0.065230</td>\n",
       "      <td>0.031026</td>\n",
       "      <td>0.006181</td>\n",
       "    </tr>\n",
       "    <tr>\n",
       "      <th>3</th>\n",
       "      <td>0.019102</td>\n",
       "      <td>0.032438</td>\n",
       "      <td>0.006433</td>\n",
       "    </tr>\n",
       "    <tr>\n",
       "      <th>4</th>\n",
       "      <td>-0.034223</td>\n",
       "      <td>0.031100</td>\n",
       "      <td>0.006053</td>\n",
       "    </tr>\n",
       "    <tr>\n",
       "      <th>...</th>\n",
       "      <td>...</td>\n",
       "      <td>...</td>\n",
       "      <td>...</td>\n",
       "    </tr>\n",
       "    <tr>\n",
       "      <th>2687616</th>\n",
       "      <td>-0.062695</td>\n",
       "      <td>0.035643</td>\n",
       "      <td>0.012200</td>\n",
       "    </tr>\n",
       "    <tr>\n",
       "      <th>2687617</th>\n",
       "      <td>-0.045139</td>\n",
       "      <td>0.031648</td>\n",
       "      <td>0.005977</td>\n",
       "    </tr>\n",
       "    <tr>\n",
       "      <th>2687618</th>\n",
       "      <td>-0.121275</td>\n",
       "      <td>0.031452</td>\n",
       "      <td>0.004234</td>\n",
       "    </tr>\n",
       "    <tr>\n",
       "      <th>2687619</th>\n",
       "      <td>-0.085699</td>\n",
       "      <td>0.031024</td>\n",
       "      <td>0.007872</td>\n",
       "    </tr>\n",
       "    <tr>\n",
       "      <th>2687620</th>\n",
       "      <td>-0.027742</td>\n",
       "      <td>0.032852</td>\n",
       "      <td>0.006264</td>\n",
       "    </tr>\n",
       "  </tbody>\n",
       "</table>\n",
       "<p>2687621 rows × 3 columns</p>\n",
       "</div>"
      ],
      "text/plain": [
       "         Parcel Centroid[X] (m)  Parcel Centroid[Y] (m)  \\\n",
       "0                     -0.070397                0.031302   \n",
       "1                      0.018530                0.030317   \n",
       "2                     -0.065230                0.031026   \n",
       "3                      0.019102                0.032438   \n",
       "4                     -0.034223                0.031100   \n",
       "...                         ...                     ...   \n",
       "2687616               -0.062695                0.035643   \n",
       "2687617               -0.045139                0.031648   \n",
       "2687618               -0.121275                0.031452   \n",
       "2687619               -0.085699                0.031024   \n",
       "2687620               -0.027742                0.032852   \n",
       "\n",
       "         Parcel Centroid[Z] (m)  \n",
       "0                      0.006212  \n",
       "1                      0.003191  \n",
       "2                      0.006181  \n",
       "3                      0.006433  \n",
       "4                      0.006053  \n",
       "...                         ...  \n",
       "2687616                0.012200  \n",
       "2687617                0.005977  \n",
       "2687618                0.004234  \n",
       "2687619                0.007872  \n",
       "2687620                0.006264  \n",
       "\n",
       "[2687621 rows x 3 columns]"
      ]
     },
     "execution_count": 39,
     "metadata": {},
     "output_type": "execute_result"
    }
   ],
   "source": [
    "yRidge_preds=pd.DataFrame(yRidge_preds, columns=['Parcel Centroid[X] (m)', 'Parcel Centroid[Y] (m)', 'Parcel Centroid[Z] (m)'])\n",
    "yRidge_preds"
   ]
  },
  {
   "cell_type": "code",
   "execution_count": 40,
   "id": "933bc617-0af8-4cea-a1e1-3d4e91b83c24",
   "metadata": {},
   "outputs": [
    {
     "data": {
      "text/html": [
       "<div>\n",
       "<style scoped>\n",
       "    .dataframe tbody tr th:only-of-type {\n",
       "        vertical-align: middle;\n",
       "    }\n",
       "\n",
       "    .dataframe tbody tr th {\n",
       "        vertical-align: top;\n",
       "    }\n",
       "\n",
       "    .dataframe thead th {\n",
       "        text-align: right;\n",
       "    }\n",
       "</style>\n",
       "<table border=\"1\" class=\"dataframe\">\n",
       "  <thead>\n",
       "    <tr style=\"text-align: right;\">\n",
       "      <th></th>\n",
       "      <th>Parcel Centroid[X] (m)</th>\n",
       "      <th>Parcel Centroid[Y] (m)</th>\n",
       "      <th>Parcel Centroid[Z] (m)</th>\n",
       "    </tr>\n",
       "  </thead>\n",
       "  <tbody>\n",
       "    <tr>\n",
       "      <th>13327090</th>\n",
       "      <td>-0.073606</td>\n",
       "      <td>0.031286</td>\n",
       "      <td>0.006111</td>\n",
       "    </tr>\n",
       "    <tr>\n",
       "      <th>6146933</th>\n",
       "      <td>0.024962</td>\n",
       "      <td>0.023407</td>\n",
       "      <td>0.004229</td>\n",
       "    </tr>\n",
       "    <tr>\n",
       "      <th>13203006</th>\n",
       "      <td>-0.066708</td>\n",
       "      <td>0.041352</td>\n",
       "      <td>0.008279</td>\n",
       "    </tr>\n",
       "    <tr>\n",
       "      <th>558630</th>\n",
       "      <td>0.027742</td>\n",
       "      <td>0.040348</td>\n",
       "      <td>0.004788</td>\n",
       "    </tr>\n",
       "    <tr>\n",
       "      <th>11721179</th>\n",
       "      <td>-0.036798</td>\n",
       "      <td>0.028555</td>\n",
       "      <td>0.006229</td>\n",
       "    </tr>\n",
       "    <tr>\n",
       "      <th>...</th>\n",
       "      <td>...</td>\n",
       "      <td>...</td>\n",
       "      <td>...</td>\n",
       "    </tr>\n",
       "    <tr>\n",
       "      <th>5645066</th>\n",
       "      <td>-0.071070</td>\n",
       "      <td>0.025340</td>\n",
       "      <td>0.009442</td>\n",
       "    </tr>\n",
       "    <tr>\n",
       "      <th>9631950</th>\n",
       "      <td>-0.048285</td>\n",
       "      <td>0.036731</td>\n",
       "      <td>0.007063</td>\n",
       "    </tr>\n",
       "    <tr>\n",
       "      <th>2056235</th>\n",
       "      <td>-0.112218</td>\n",
       "      <td>0.023923</td>\n",
       "      <td>0.000509</td>\n",
       "    </tr>\n",
       "    <tr>\n",
       "      <th>7734016</th>\n",
       "      <td>-0.088002</td>\n",
       "      <td>0.030855</td>\n",
       "      <td>0.009781</td>\n",
       "    </tr>\n",
       "    <tr>\n",
       "      <th>9659399</th>\n",
       "      <td>-0.030139</td>\n",
       "      <td>0.036094</td>\n",
       "      <td>0.006036</td>\n",
       "    </tr>\n",
       "  </tbody>\n",
       "</table>\n",
       "<p>2687621 rows × 3 columns</p>\n",
       "</div>"
      ],
      "text/plain": [
       "          Parcel Centroid[X] (m)  Parcel Centroid[Y] (m)  \\\n",
       "13327090               -0.073606                0.031286   \n",
       "6146933                 0.024962                0.023407   \n",
       "13203006               -0.066708                0.041352   \n",
       "558630                  0.027742                0.040348   \n",
       "11721179               -0.036798                0.028555   \n",
       "...                          ...                     ...   \n",
       "5645066                -0.071070                0.025340   \n",
       "9631950                -0.048285                0.036731   \n",
       "2056235                -0.112218                0.023923   \n",
       "7734016                -0.088002                0.030855   \n",
       "9659399                -0.030139                0.036094   \n",
       "\n",
       "          Parcel Centroid[Z] (m)  \n",
       "13327090                0.006111  \n",
       "6146933                 0.004229  \n",
       "13203006                0.008279  \n",
       "558630                  0.004788  \n",
       "11721179                0.006229  \n",
       "...                          ...  \n",
       "5645066                 0.009442  \n",
       "9631950                 0.007063  \n",
       "2056235                 0.000509  \n",
       "7734016                 0.009781  \n",
       "9659399                 0.006036  \n",
       "\n",
       "[2687621 rows x 3 columns]"
      ]
     },
     "execution_count": 40,
     "metadata": {},
     "output_type": "execute_result"
    }
   ],
   "source": [
    "y_test"
   ]
  },
  {
   "cell_type": "code",
   "execution_count": 41,
   "id": "dc74458d-dcce-419f-93f6-b93cf950d02a",
   "metadata": {},
   "outputs": [
    {
     "data": {
      "text/plain": [
       "0.568813742264318"
      ]
     },
     "execution_count": 41,
     "metadata": {},
     "output_type": "execute_result"
    }
   ],
   "source": [
    "model3.score(X_train, y_train)"
   ]
  },
  {
   "cell_type": "code",
   "execution_count": 42,
   "id": "d13b8827-9bcd-49e6-8c12-4a629f9b1eb5",
   "metadata": {},
   "outputs": [
    {
     "data": {
      "text/plain": [
       "0.5691354988471989"
      ]
     },
     "execution_count": 42,
     "metadata": {},
     "output_type": "execute_result"
    }
   ],
   "source": [
    "model3.score(X_test, y_test)"
   ]
  },
  {
   "cell_type": "code",
   "execution_count": 43,
   "id": "149f0224",
   "metadata": {},
   "outputs": [
    {
     "data": {
      "text/html": [
       "<div>\n",
       "<style scoped>\n",
       "    .dataframe tbody tr th:only-of-type {\n",
       "        vertical-align: middle;\n",
       "    }\n",
       "\n",
       "    .dataframe tbody tr th {\n",
       "        vertical-align: top;\n",
       "    }\n",
       "\n",
       "    .dataframe thead th {\n",
       "        text-align: right;\n",
       "    }\n",
       "</style>\n",
       "<table border=\"1\" class=\"dataframe\">\n",
       "  <thead>\n",
       "    <tr style=\"text-align: right;\">\n",
       "      <th></th>\n",
       "      <th>Values</th>\n",
       "      <th>LinearRegression</th>\n",
       "      <th>RidgeRegression</th>\n",
       "    </tr>\n",
       "  </thead>\n",
       "  <tbody>\n",
       "    <tr>\n",
       "      <th>r-squared</th>\n",
       "      <td>0.889050</td>\n",
       "      <td>0.569136</td>\n",
       "      <td>0.569135</td>\n",
       "    </tr>\n",
       "    <tr>\n",
       "      <th>Mean absolute error (MAE)</th>\n",
       "      <td>0.001373</td>\n",
       "      <td>0.003297</td>\n",
       "      <td>0.003297</td>\n",
       "    </tr>\n",
       "    <tr>\n",
       "      <th>Mean squared error(MSE)</th>\n",
       "      <td>0.000004</td>\n",
       "      <td>0.000018</td>\n",
       "      <td>0.000018</td>\n",
       "    </tr>\n",
       "  </tbody>\n",
       "</table>\n",
       "</div>"
      ],
      "text/plain": [
       "                             Values  LinearRegression  RidgeRegression\n",
       "r-squared                  0.889050          0.569136         0.569135\n",
       "Mean absolute error (MAE)  0.001373          0.003297         0.003297\n",
       "Mean squared error(MSE)    0.000004          0.000018         0.000018"
      ]
     },
     "execution_count": 43,
     "metadata": {},
     "output_type": "execute_result"
    }
   ],
   "source": [
    "model3_scores={}\n",
    "\n",
    "for key,value in metrics.items():\n",
    "    model3_scores[key]=value(y_test, yRidge_preds)\n",
    "\n",
    "    \n",
    "model3_scores\n",
    "\n",
    "score30_table['RidgeRegression']= np.array(list(model3_scores.values()))\n",
    "score30_table"
   ]
  },
  {
   "cell_type": "markdown",
   "id": "5f26f07c-300d-45ca-b26c-2cff912592a8",
   "metadata": {},
   "source": [
    "## 6.3 Plotting the graph of Actual against Predicted for the Ridge regression Model"
   ]
  },
  {
   "cell_type": "code",
   "execution_count": 44,
   "id": "8ae32248-db12-464e-8ff9-eb03f1019188",
   "metadata": {},
   "outputs": [],
   "source": [
    "RR_preds_Xi= yRidge_preds.iloc[:,:1]\n",
    "RR_preds_Xj= yRidge_preds.iloc[:, :2].drop('Parcel Centroid[X] (m)', axis =1)\n"
   ]
  },
  {
   "cell_type": "code",
   "execution_count": 45,
   "id": "559a3846-d876-469b-94f4-2c4087da2269",
   "metadata": {},
   "outputs": [
    {
     "data": {
      "image/png": "[encoded data removed]",
      "text/plain": [
       "<Figure size 500x500 with 1 Axes>"
      ]
     },
     "metadata": {},
     "output_type": "display_data"
    }
   ],
   "source": [
    "fig, ax6= plt.subplots(figsize=(5,5))\n",
    "\n",
    "ax6.scatter(actual_Xi, actual_Xj, color='blue')\n",
    "ax6.scatter(RR_preds_Xi, RR_preds_Xj, color='red')\n",
    "\n",
    "plt.savefig('./Ridge Model plot(#30).png', dpi=1200)"
   ]
  },
  {
   "cell_type": "markdown",
   "id": "6e2abbda-5be7-44a0-bc80-0e9b780dec69",
   "metadata": {},
   "source": [
    "# 7 Using SVR"
   ]
  },
  {
   "cell_type": "code",
   "execution_count": 46,
   "id": "33666f62-f18c-4ead-a842-9525ac8e28e0",
   "metadata": {},
   "outputs": [
    {
     "data": {
      "text/html": [
       "<style>#sk-container-id-4 {color: black;background-color: white;}#sk-container-id-4 pre{padding: 0;}#sk-container-id-4 div.sk-toggleable {background-color: white;}#sk-container-id-4 label.sk-toggleable__label {cursor: pointer;display: block;width: 100%;margin-bottom: 0;padding: 0.3em;box-sizing: border-box;text-align: center;}#sk-container-id-4 label.sk-toggleable__label-arrow:before {content: \"▸\";float: left;margin-right: 0.25em;color: #696969;}#sk-container-id-4 label.sk-toggleable__label-arrow:hover:before {color: black;}#sk-container-id-4 div.sk-estimator:hover label.sk-toggleable__label-arrow:before {color: black;}#sk-container-id-4 div.sk-toggleable__content {max-height: 0;max-width: 0;overflow: hidden;text-align: left;background-color: #f0f8ff;}#sk-container-id-4 div.sk-toggleable__content pre {margin: 0.2em;color: black;border-radius: 0.25em;background-color: #f0f8ff;}#sk-container-id-4 input.sk-toggleable__control:checked~div.sk-toggleable__content {max-height: 200px;max-width: 100%;overflow: auto;}#sk-container-id-4 input.sk-toggleable__control:checked~label.sk-toggleable__label-arrow:before {content: \"▾\";}#sk-container-id-4 div.sk-estimator input.sk-toggleable__control:checked~label.sk-toggleable__label {background-color: #d4ebff;}#sk-container-id-4 div.sk-label input.sk-toggleable__control:checked~label.sk-toggleable__label {background-color: #d4ebff;}#sk-container-id-4 input.sk-hidden--visually {border: 0;clip: rect(1px 1px 1px 1px);clip: rect(1px, 1px, 1px, 1px);height: 1px;margin: -1px;overflow: hidden;padding: 0;position: absolute;width: 1px;}#sk-container-id-4 div.sk-estimator {font-family: monospace;background-color: #f0f8ff;border: 1px dotted black;border-radius: 0.25em;box-sizing: border-box;margin-bottom: 0.5em;}#sk-container-id-4 div.sk-estimator:hover {background-color: #d4ebff;}#sk-container-id-4 div.sk-parallel-item::after {content: \"\";width: 100%;border-bottom: 1px solid gray;flex-grow: 1;}#sk-container-id-4 div.sk-label:hover label.sk-toggleable__label {background-color: #d4ebff;}#sk-container-id-4 div.sk-serial::before {content: \"\";position: absolute;border-left: 1px solid gray;box-sizing: border-box;top: 0;bottom: 0;left: 50%;z-index: 0;}#sk-container-id-4 div.sk-serial {display: flex;flex-direction: column;align-items: center;background-color: white;padding-right: 0.2em;padding-left: 0.2em;position: relative;}#sk-container-id-4 div.sk-item {position: relative;z-index: 1;}#sk-container-id-4 div.sk-parallel {display: flex;align-items: stretch;justify-content: center;background-color: white;position: relative;}#sk-container-id-4 div.sk-item::before, #sk-container-id-4 div.sk-parallel-item::before {content: \"\";position: absolute;border-left: 1px solid gray;box-sizing: border-box;top: 0;bottom: 0;left: 50%;z-index: -1;}#sk-container-id-4 div.sk-parallel-item {display: flex;flex-direction: column;z-index: 1;position: relative;background-color: white;}#sk-container-id-4 div.sk-parallel-item:first-child::after {align-self: flex-end;width: 50%;}#sk-container-id-4 div.sk-parallel-item:last-child::after {align-self: flex-start;width: 50%;}#sk-container-id-4 div.sk-parallel-item:only-child::after {width: 0;}#sk-container-id-4 div.sk-dashed-wrapped {border: 1px dashed gray;margin: 0 0.4em 0.5em 0.4em;box-sizing: border-box;padding-bottom: 0.4em;background-color: white;}#sk-container-id-4 div.sk-label label {font-family: monospace;font-weight: bold;display: inline-block;line-height: 1.2em;}#sk-container-id-4 div.sk-label-container {text-align: center;}#sk-container-id-4 div.sk-container {/* jupyter's `normalize.less` sets `[hidden] { display: none; }` but bootstrap.min.css set `[hidden] { display: none !important; }` so we also need the `!important` here to be able to override the default hidden behavior on the sphinx rendered scikit-learn.org. See: https://github.com/scikit-learn/scikit-learn/issues/21755 */display: inline-block !important;position: relative;}#sk-container-id-4 div.sk-text-repr-fallback {display: none;}</style><div id=\"sk-container-id-4\" class=\"sk-top-container\"><div class=\"sk-text-repr-fallback\"><pre>SVR(C=100, coef0=1, gamma=&#x27;auto&#x27;, kernel=&#x27;poly&#x27;)</pre><b>In a Jupyter environment, please rerun this cell to show the HTML representation or trust the notebook. <br />On GitHub, the HTML representation is unable to render, please try loading this page with nbviewer.org.</b></div><div class=\"sk-container\" hidden><div class=\"sk-item\"><div class=\"sk-estimator sk-toggleable\"><input class=\"sk-toggleable__control sk-hidden--visually\" id=\"sk-estimator-id-4\" type=\"checkbox\" checked><label for=\"sk-estimator-id-4\" class=\"sk-toggleable__label sk-toggleable__label-arrow\">SVR</label><div class=\"sk-toggleable__content\"><pre>SVR(C=100, coef0=1, gamma=&#x27;auto&#x27;, kernel=&#x27;poly&#x27;)</pre></div></div></div></div></div>"
      ],
      "text/plain": [
       "SVR(C=100, coef0=1, gamma='auto', kernel='poly')"
      ]
     },
     "execution_count": 46,
     "metadata": {},
     "output_type": "execute_result"
    }
   ],
   "source": [
    "from sklearn.svm import SVR\n",
    "\n",
    "model4= SVR(kernel=\"poly\", C=100, gamma=\"auto\", degree=3, epsilon=0.1, coef0=1)\n",
    "\n",
    "model4.get_params\n",
    "\n",
    "model4.fit(X_train, y_train.iloc[:, 0]) # can not capture the 2D array of y, it can predict for 1D"
   ]
  },
  {
   "cell_type": "code",
   "execution_count": 47,
   "id": "8009edaa-95fb-4304-9da2-e69324804cff",
   "metadata": {},
   "outputs": [
    {
     "data": {
      "text/plain": [
       "1464342    -0.074121\n",
       "4371352    -0.012983\n",
       "7770927    -0.113709\n",
       "10300805   -0.009313\n",
       "1887312    -0.042879\n",
       "              ...   \n",
       "13315092   -0.026589\n",
       "4304572     0.020536\n",
       "10081351    0.030973\n",
       "6550634    -0.002656\n",
       "6423388     0.004714\n",
       "Name: Parcel Centroid[X] (m), Length: 10750481, dtype: float64"
      ]
     },
     "execution_count": 47,
     "metadata": {},
     "output_type": "execute_result"
    }
   ],
   "source": [
    "y_train.iloc[:, 0]"
   ]
  },
  {
   "cell_type": "code",
   "execution_count": 48,
   "id": "d41cb196-264c-42f4-9144-ba7c273e5894",
   "metadata": {},
   "outputs": [
    {
     "data": {
      "text/plain": [
       "(10750481,)"
      ]
     },
     "execution_count": 48,
     "metadata": {},
     "output_type": "execute_result"
    }
   ],
   "source": [
    "y_train.iloc[:, 0].shape"
   ]
  },
  {
   "cell_type": "code",
   "execution_count": 49,
   "id": "dbe57fc2-941b-4551-9896-766ceb1c02d0",
   "metadata": {},
   "outputs": [
    {
     "data": {
      "text/plain": [
       "(10750481, 3)"
      ]
     },
     "execution_count": 49,
     "metadata": {},
     "output_type": "execute_result"
    }
   ],
   "source": [
    "y_train.shape"
   ]
  },
  {
   "cell_type": "code",
   "execution_count": 50,
   "id": "07a2eac2-8f94-423a-a307-ca7e457c8e58",
   "metadata": {},
   "outputs": [
    {
     "data": {
      "text/plain": [
       "-0.03289341870504048"
      ]
     },
     "execution_count": 50,
     "metadata": {},
     "output_type": "execute_result"
    }
   ],
   "source": [
    "model4.score(X_test, y_test.iloc[:,:1])"
   ]
  },
  {
   "cell_type": "code",
   "execution_count": 51,
   "id": "a92e22f0-c136-49f6-8900-f63d66c21a28",
   "metadata": {},
   "outputs": [
    {
     "data": {
      "text/plain": [
       "array([-0.04226984, -0.04226984, -0.04226984, ..., -0.04226984,\n",
       "       -0.04226984, -0.04226984])"
      ]
     },
     "execution_count": 51,
     "metadata": {},
     "output_type": "execute_result"
    }
   ],
   "source": [
    "ySVR_preds=model4.predict(X_test)\n",
    "ySVR_preds"
   ]
  },
  {
   "cell_type": "code",
   "execution_count": 52,
   "id": "e59c600b",
   "metadata": {},
   "outputs": [
    {
     "data": {
      "text/html": [
       "<div>\n",
       "<style scoped>\n",
       "    .dataframe tbody tr th:only-of-type {\n",
       "        vertical-align: middle;\n",
       "    }\n",
       "\n",
       "    .dataframe tbody tr th {\n",
       "        vertical-align: top;\n",
       "    }\n",
       "\n",
       "    .dataframe thead th {\n",
       "        text-align: right;\n",
       "    }\n",
       "</style>\n",
       "<table border=\"1\" class=\"dataframe\">\n",
       "  <thead>\n",
       "    <tr style=\"text-align: right;\">\n",
       "      <th></th>\n",
       "      <th>0</th>\n",
       "    </tr>\n",
       "  </thead>\n",
       "  <tbody>\n",
       "    <tr>\n",
       "      <th>0</th>\n",
       "      <td>-0.04227</td>\n",
       "    </tr>\n",
       "    <tr>\n",
       "      <th>1</th>\n",
       "      <td>-0.04227</td>\n",
       "    </tr>\n",
       "    <tr>\n",
       "      <th>2</th>\n",
       "      <td>-0.04227</td>\n",
       "    </tr>\n",
       "    <tr>\n",
       "      <th>3</th>\n",
       "      <td>-0.04227</td>\n",
       "    </tr>\n",
       "    <tr>\n",
       "      <th>4</th>\n",
       "      <td>-0.04227</td>\n",
       "    </tr>\n",
       "    <tr>\n",
       "      <th>...</th>\n",
       "      <td>...</td>\n",
       "    </tr>\n",
       "    <tr>\n",
       "      <th>2687616</th>\n",
       "      <td>-0.04227</td>\n",
       "    </tr>\n",
       "    <tr>\n",
       "      <th>2687617</th>\n",
       "      <td>-0.04227</td>\n",
       "    </tr>\n",
       "    <tr>\n",
       "      <th>2687618</th>\n",
       "      <td>-0.04227</td>\n",
       "    </tr>\n",
       "    <tr>\n",
       "      <th>2687619</th>\n",
       "      <td>-0.04227</td>\n",
       "    </tr>\n",
       "    <tr>\n",
       "      <th>2687620</th>\n",
       "      <td>-0.04227</td>\n",
       "    </tr>\n",
       "  </tbody>\n",
       "</table>\n",
       "<p>2687621 rows × 1 columns</p>\n",
       "</div>"
      ],
      "text/plain": [
       "               0\n",
       "0       -0.04227\n",
       "1       -0.04227\n",
       "2       -0.04227\n",
       "3       -0.04227\n",
       "4       -0.04227\n",
       "...          ...\n",
       "2687616 -0.04227\n",
       "2687617 -0.04227\n",
       "2687618 -0.04227\n",
       "2687619 -0.04227\n",
       "2687620 -0.04227\n",
       "\n",
       "[2687621 rows x 1 columns]"
      ]
     },
     "execution_count": 52,
     "metadata": {},
     "output_type": "execute_result"
    }
   ],
   "source": [
    "pd.DataFrame(ySVR_preds)"
   ]
  },
  {
   "cell_type": "code",
   "execution_count": 53,
   "id": "43ad2551-f653-4b6a-9e91-c425b1d0149d",
   "metadata": {},
   "outputs": [
    {
     "data": {
      "text/plain": [
       "13327090   -0.073606\n",
       "6146933     0.024962\n",
       "13203006   -0.066708\n",
       "558630      0.027742\n",
       "11721179   -0.036798\n",
       "              ...   \n",
       "5645066    -0.071070\n",
       "9631950    -0.048285\n",
       "2056235    -0.112218\n",
       "7734016    -0.088002\n",
       "9659399    -0.030139\n",
       "Name: Parcel Centroid[X] (m), Length: 2687621, dtype: float64"
      ]
     },
     "execution_count": 53,
     "metadata": {},
     "output_type": "execute_result"
    }
   ],
   "source": [
    "y_test.iloc[:,0]"
   ]
  },
  {
   "cell_type": "markdown",
   "id": "8e9886ad-a5f6-40ef-8bff-1911b95ae145",
   "metadata": {},
   "source": [
    "# 8.0 Comparing all the Regression Models"
   ]
  },
  {
   "cell_type": "code",
   "execution_count": 54,
   "id": "d7d1aa6a-80a6-4339-bba6-21f1f6ef8abe",
   "metadata": {},
   "outputs": [
    {
     "data": {
      "image/png": "[encoded data removed]",
      "text/plain": [
       "<Figure size 1500x500 with 3 Axes>"
      ]
     },
     "metadata": {},
     "output_type": "display_data"
    }
   ],
   "source": [
    "fig, (ax3, ax5, ax6) =plt.subplots(1,3,figsize=(15,5))\n",
    "\n",
    "\n",
    "l1=ax3.scatter(actual_Xi, actual_Xj, color ='blue')\n",
    "l2=ax3.scatter(predicted_Xi, predicted_Xj, color='red')\n",
    "ax3.set(title='RandomForestRegressor')\n",
    "\n",
    "ax5.scatter(actual_Xi, actual_Xj, color='blue')\n",
    "ax5.scatter(LR_Pred_Xi, LR_Pred_Xj, color='red')\n",
    "ax5.set(title='LinearRegressor')\n",
    "\n",
    "ax6.scatter(actual_Xi, actual_Xj, color='blue')\n",
    "ax6.scatter(RR_preds_Xi, RR_preds_Xj, color='red')\n",
    "ax6.set(title='RidgeRegressor')\n",
    "\n",
    "fig.tight_layout(pad=5.0)\n",
    "fig.legend(['Actual Granule Position', 'Predicted Granule Position'], loc='lower center')\n",
    "fig.suptitle('Comparison of the Different Machine Learning Model Regression Builds', fontsize=20)\n",
    "plt.savefig('./Comparison of the Different Machine Learning Model Regression Builds(#30).png', dpi=1200)"
   ]
  },
  {
   "cell_type": "code",
   "execution_count": 55,
   "id": "96685f01",
   "metadata": {},
   "outputs": [
    {
     "data": {
      "text/html": [
       "<div>\n",
       "<style scoped>\n",
       "    .dataframe tbody tr th:only-of-type {\n",
       "        vertical-align: middle;\n",
       "    }\n",
       "\n",
       "    .dataframe tbody tr th {\n",
       "        vertical-align: top;\n",
       "    }\n",
       "\n",
       "    .dataframe thead th {\n",
       "        text-align: right;\n",
       "    }\n",
       "</style>\n",
       "<table border=\"1\" class=\"dataframe\">\n",
       "  <thead>\n",
       "    <tr style=\"text-align: right;\">\n",
       "      <th></th>\n",
       "      <th>RandomForestRegression</th>\n",
       "      <th>LinearRegression</th>\n",
       "      <th>RidgeRegression</th>\n",
       "    </tr>\n",
       "  </thead>\n",
       "  <tbody>\n",
       "    <tr>\n",
       "      <th>r-squared</th>\n",
       "      <td>0.889050</td>\n",
       "      <td>0.569136</td>\n",
       "      <td>0.569135</td>\n",
       "    </tr>\n",
       "    <tr>\n",
       "      <th>Mean absolute error (MAE)</th>\n",
       "      <td>0.001373</td>\n",
       "      <td>0.003297</td>\n",
       "      <td>0.003297</td>\n",
       "    </tr>\n",
       "    <tr>\n",
       "      <th>Mean squared error(MSE)</th>\n",
       "      <td>0.000004</td>\n",
       "      <td>0.000018</td>\n",
       "      <td>0.000018</td>\n",
       "    </tr>\n",
       "  </tbody>\n",
       "</table>\n",
       "</div>"
      ],
      "text/plain": [
       "                           RandomForestRegression  LinearRegression  \\\n",
       "r-squared                                0.889050          0.569136   \n",
       "Mean absolute error (MAE)                0.001373          0.003297   \n",
       "Mean squared error(MSE)                  0.000004          0.000018   \n",
       "\n",
       "                           RidgeRegression  \n",
       "r-squared                         0.569135  \n",
       "Mean absolute error (MAE)         0.003297  \n",
       "Mean squared error(MSE)           0.000018  "
      ]
     },
     "execution_count": 55,
     "metadata": {},
     "output_type": "execute_result"
    }
   ],
   "source": [
    "model1_scores={}\n",
    "model2_scores={}\n",
    "model3_scores={}\n",
    "\n",
    "for key,value in metrics.items():\n",
    "    model1_scores[key]=value(y_test, y_preds)\n",
    "    model2_scores[key]=value(y_test, yLinear_Preds)\n",
    "    model3_scores[key]=value(y_test, yRidge_preds)\n",
    "\n",
    "  \n",
    "\n",
    "\n",
    "score30_table= pd.DataFrame(model1_scores.values(),  columns=['RandomForestRegression'], index= model1_scores.keys())\n",
    "score30_table['LinearRegression']= model2_scores.values()\n",
    "score30_table['RidgeRegression'] = model3_scores.values()\n",
    "\n",
    "score30_table.to_csv('#30scores.csv')\n",
    "\n",
    "score30_table"
   ]
  },
  {
   "cell_type": "markdown",
   "id": "70a30501-aba9-468c-a7f9-c7a543bfbe72",
   "metadata": {},
   "source": [
    "# RandomSearchCV"
   ]
  },
  {
   "cell_type": "code",
   "execution_count": 56,
   "id": "d23ca926-47cb-4991-a8ac-e18733e9c303",
   "metadata": {},
   "outputs": [],
   "source": [
    "%%time\n",
    "\n",
    "from sklearn.model_selection import RandomizedSearchCV\n",
    "\n",
    "RndmFrst_grid={\"n_estimators\": np.arange(10,100,10),\n",
    "               \"max_depth\":[None]\n",
    "              }\n",
    "\n",
    "RndmSrch_RndmFrst=RandomizedSearchCV(RandomForestRegressor(),\n",
    "                              param_distributions= RndmFrst_grid,\n",
    "                              cv=5,\n",
    "                              verbose= 10\n",
    "                             )\n",
    "RndmSrch_RndmFrst.fit(X_train, y_train)"
   ]
  },
  {
   "cell_type": "code",
   "execution_count": 57,
   "id": "00171382-3039-47fa-9a57-f0ce6daf8d48",
   "metadata": {},
   "outputs": [],
   "source": [
    "RndmSrch_RndmFrst.best_params_"
   ]
  },
  {
   "cell_type": "code",
   "execution_count": 58,
   "id": "d83e78ad-e0d7-4bb8-9f38-30ecc880aaa1",
   "metadata": {},
   "outputs": [],
   "source": [
    "%%time\n",
    "\n",
    "from sklearn.model_selection import GridSearchCV\n",
    "\n",
    "GridSrch_RndmFrst= GridSearchCV(RandomForestRegressor(),\n",
    "                                param_grid=RndmFrst_grid,\n",
    "                                cv=5,\n",
    "                                verbose=10)\n",
    "GridSrch_RndmFrst.fit(X_train, y_train)"
   ]
  },
  {
   "cell_type": "code",
   "execution_count": 59,
   "id": "b267a63b-1d3b-454c-9fbb-8a372fd1416e",
   "metadata": {},
   "outputs": [],
   "source": [
    "GridSrch_RndmFrst.best_params_"
   ]
  },
  {
   "cell_type": "markdown",
   "id": "b21c8093",
   "metadata": {},
   "source": [
    "## Making Use of the RandomizedSearchCV RandomForest Best_params for predicting our data"
   ]
  },
  {
   "cell_type": "code",
   "execution_count": 60,
   "id": "55a4bb64",
   "metadata": {},
   "outputs": [
    {
     "data": {
      "text/html": [
       "<style>#sk-container-id-5 {color: black;background-color: white;}#sk-container-id-5 pre{padding: 0;}#sk-container-id-5 div.sk-toggleable {background-color: white;}#sk-container-id-5 label.sk-toggleable__label {cursor: pointer;display: block;width: 100%;margin-bottom: 0;padding: 0.3em;box-sizing: border-box;text-align: center;}#sk-container-id-5 label.sk-toggleable__label-arrow:before {content: \"▸\";float: left;margin-right: 0.25em;color: #696969;}#sk-container-id-5 label.sk-toggleable__label-arrow:hover:before {color: black;}#sk-container-id-5 div.sk-estimator:hover label.sk-toggleable__label-arrow:before {color: black;}#sk-container-id-5 div.sk-toggleable__content {max-height: 0;max-width: 0;overflow: hidden;text-align: left;background-color: #f0f8ff;}#sk-container-id-5 div.sk-toggleable__content pre {margin: 0.2em;color: black;border-radius: 0.25em;background-color: #f0f8ff;}#sk-container-id-5 input.sk-toggleable__control:checked~div.sk-toggleable__content {max-height: 200px;max-width: 100%;overflow: auto;}#sk-container-id-5 input.sk-toggleable__control:checked~label.sk-toggleable__label-arrow:before {content: \"▾\";}#sk-container-id-5 div.sk-estimator input.sk-toggleable__control:checked~label.sk-toggleable__label {background-color: #d4ebff;}#sk-container-id-5 div.sk-label input.sk-toggleable__control:checked~label.sk-toggleable__label {background-color: #d4ebff;}#sk-container-id-5 input.sk-hidden--visually {border: 0;clip: rect(1px 1px 1px 1px);clip: rect(1px, 1px, 1px, 1px);height: 1px;margin: -1px;overflow: hidden;padding: 0;position: absolute;width: 1px;}#sk-container-id-5 div.sk-estimator {font-family: monospace;background-color: #f0f8ff;border: 1px dotted black;border-radius: 0.25em;box-sizing: border-box;margin-bottom: 0.5em;}#sk-container-id-5 div.sk-estimator:hover {background-color: #d4ebff;}#sk-container-id-5 div.sk-parallel-item::after {content: \"\";width: 100%;border-bottom: 1px solid gray;flex-grow: 1;}#sk-container-id-5 div.sk-label:hover label.sk-toggleable__label {background-color: #d4ebff;}#sk-container-id-5 div.sk-serial::before {content: \"\";position: absolute;border-left: 1px solid gray;box-sizing: border-box;top: 0;bottom: 0;left: 50%;z-index: 0;}#sk-container-id-5 div.sk-serial {display: flex;flex-direction: column;align-items: center;background-color: white;padding-right: 0.2em;padding-left: 0.2em;position: relative;}#sk-container-id-5 div.sk-item {position: relative;z-index: 1;}#sk-container-id-5 div.sk-parallel {display: flex;align-items: stretch;justify-content: center;background-color: white;position: relative;}#sk-container-id-5 div.sk-item::before, #sk-container-id-5 div.sk-parallel-item::before {content: \"\";position: absolute;border-left: 1px solid gray;box-sizing: border-box;top: 0;bottom: 0;left: 50%;z-index: -1;}#sk-container-id-5 div.sk-parallel-item {display: flex;flex-direction: column;z-index: 1;position: relative;background-color: white;}#sk-container-id-5 div.sk-parallel-item:first-child::after {align-self: flex-end;width: 50%;}#sk-container-id-5 div.sk-parallel-item:last-child::after {align-self: flex-start;width: 50%;}#sk-container-id-5 div.sk-parallel-item:only-child::after {width: 0;}#sk-container-id-5 div.sk-dashed-wrapped {border: 1px dashed gray;margin: 0 0.4em 0.5em 0.4em;box-sizing: border-box;padding-bottom: 0.4em;background-color: white;}#sk-container-id-5 div.sk-label label {font-family: monospace;font-weight: bold;display: inline-block;line-height: 1.2em;}#sk-container-id-5 div.sk-label-container {text-align: center;}#sk-container-id-5 div.sk-container {/* jupyter's `normalize.less` sets `[hidden] { display: none; }` but bootstrap.min.css set `[hidden] { display: none !important; }` so we also need the `!important` here to be able to override the default hidden behavior on the sphinx rendered scikit-learn.org. See: https://github.com/scikit-learn/scikit-learn/issues/21755 */display: inline-block !important;position: relative;}#sk-container-id-5 div.sk-text-repr-fallback {display: none;}</style><div id=\"sk-container-id-5\" class=\"sk-top-container\"><div class=\"sk-text-repr-fallback\"><pre>RandomForestRegressor(max_depth=7, n_estimators=90)</pre><b>In a Jupyter environment, please rerun this cell to show the HTML representation or trust the notebook. <br />On GitHub, the HTML representation is unable to render, please try loading this page with nbviewer.org.</b></div><div class=\"sk-container\" hidden><div class=\"sk-item\"><div class=\"sk-estimator sk-toggleable\"><input class=\"sk-toggleable__control sk-hidden--visually\" id=\"sk-estimator-id-5\" type=\"checkbox\" checked><label for=\"sk-estimator-id-5\" class=\"sk-toggleable__label sk-toggleable__label-arrow\">RandomForestRegressor</label><div class=\"sk-toggleable__content\"><pre>RandomForestRegressor(max_depth=7, n_estimators=90)</pre></div></div></div></div></div>"
      ],
      "text/plain": [
       "RandomForestRegressor(max_depth=7, n_estimators=90)"
      ]
     },
     "execution_count": 60,
     "metadata": {},
     "output_type": "execute_result"
    }
   ],
   "source": [
    "improved_model1=RandomForestRegressor(90,max_depth=7)\n",
    "improved_model1\n",
    "\n",
    "improved_model1.fit(X_train,y_train)"
   ]
  },
  {
   "cell_type": "code",
   "execution_count": 61,
   "id": "1098c652",
   "metadata": {},
   "outputs": [
    {
     "data": {
      "text/plain": [
       "array([[-0.07267902,  0.03613292,  0.00392522],\n",
       "       [ 0.02567731,  0.02574914,  0.00445926],\n",
       "       [-0.07236456,  0.0363245 ,  0.00357096],\n",
       "       ...,\n",
       "       [-0.11081915,  0.02650605,  0.00371382],\n",
       "       [-0.08555924,  0.03445608,  0.00839472],\n",
       "       [-0.02774116,  0.03471457,  0.00674556]])"
      ]
     },
     "execution_count": 61,
     "metadata": {},
     "output_type": "execute_result"
    }
   ],
   "source": [
    "improvedModel_yPreds=improved_model1.predict(X_test)\n",
    "improvedModel_yPreds"
   ]
  },
  {
   "cell_type": "markdown",
   "id": "5e08cd41-b712-46b4-8c69-34597c1ab36a",
   "metadata": {},
   "source": [
    "# Evaluating the tuned model"
   ]
  },
  {
   "cell_type": "markdown",
   "id": "87f1bbfc-cace-4954-b4ed-52be8f52f6f6",
   "metadata": {},
   "source": [
    " *The problem in question is that of regression and not classification, so we need to use the Regression metrics.\n",
    "    https://scikit-learn.org/stable/modules/model_evaluation.html\n",
    "    * The metrics used in this study are:\n",
    "            > R-squared score (r-squared)\n",
    "            > Mean absolute error (MAE)\n",
    "            > Mean squared error (MSE)\n",
    "            > Root mean squared error (RMSE)\n",
    "            > Max error\n",
    "            "
   ]
  },
  {
   "cell_type": "code",
   "execution_count": 62,
   "id": "beb77ee8",
   "metadata": {},
   "outputs": [
    {
     "data": {
      "text/plain": [
       "{'r-squared': 0.7999438699983236,\n",
       " 'Mean absolute error (MAE)': 0.0024720162006707964,\n",
       " 'Mean squared error(MSE)': 1.1784919615329117e-05}"
      ]
     },
     "execution_count": 62,
     "metadata": {},
     "output_type": "execute_result"
    }
   ],
   "source": [
    "from sklearn.metrics import r2_score, mean_squared_error, mean_absolute_error\n",
    "\n",
    "metrics ={\"r-squared\": r2_score, \n",
    "          \"Mean absolute error (MAE)\": mean_absolute_error, \n",
    "          \"Mean squared error(MSE)\":mean_squared_error\n",
    "         }\n",
    "\n",
    "Improved_model1_scores={}\n",
    "\n",
    "for key,value in metrics.items():\n",
    "   Improved_model1_scores[key]= value(y_test, improvedModel_yPreds).astype(\"float\")\n",
    "\n",
    "Improved_model1_scores"
   ]
  },
  {
   "cell_type": "markdown",
   "id": "38c4edd3-a9aa-404b-a018-02478b75020b",
   "metadata": {},
   "source": [
    "# Comparing these values with the values obtained before Tuning the Machine learning model"
   ]
  },
  {
   "cell_type": "markdown",
   "id": "e3826eee-72ae-484d-9fd6-75fa84e757a0",
   "metadata": {},
   "source": [
    "Recalling the score values of both models"
   ]
  },
  {
   "cell_type": "code",
   "execution_count": 63,
   "id": "7488b1d1-3ec1-4488-b8a2-13bc18ccef79",
   "metadata": {},
   "outputs": [
    {
     "data": {
      "text/plain": [
       "{'r-squared': 0.8890501230240361,\n",
       " 'Mean absolute error (MAE)': 0.0013733714881667752,\n",
       " 'Mean squared error(MSE)': 3.994338412677581e-06}"
      ]
     },
     "execution_count": 63,
     "metadata": {},
     "output_type": "execute_result"
    }
   ],
   "source": [
    "model1_scores"
   ]
  },
  {
   "cell_type": "code",
   "execution_count": 64,
   "id": "d9a703f5-de5d-4d1e-a153-aa892b54e4a9",
   "metadata": {},
   "outputs": [
    {
     "data": {
      "text/plain": [
       "{'r-squared': 0.7999438699983236,\n",
       " 'Mean absolute error (MAE)': 0.0024720162006707964,\n",
       " 'Mean squared error(MSE)': 1.1784919615329117e-05}"
      ]
     },
     "execution_count": 64,
     "metadata": {},
     "output_type": "execute_result"
    }
   ],
   "source": [
    "Improved_model1_scores"
   ]
  },
  {
   "cell_type": "markdown",
   "id": "67effbbf-d920-4eb5-b47f-d35a99ea5008",
   "metadata": {},
   "source": [
    "## Finding the Difference"
   ]
  },
  {
   "cell_type": "code",
   "execution_count": 65,
   "id": "152e4536-d91c-44dc-9d34-62ac5ecc97de",
   "metadata": {},
   "outputs": [
    {
     "data": {
      "text/plain": [
       "array([-8.91062530e-02,  1.09864471e-03,  7.79058120e-06])"
      ]
     },
     "execution_count": 65,
     "metadata": {},
     "output_type": "execute_result"
    }
   ],
   "source": [
    "score_differences=(np.array(list(Improved_model1_scores.values()))-np.array(list(model1_scores.values())))\n",
    "score_differences"
   ]
  },
  {
   "cell_type": "markdown",
   "id": "0a4de145-05e5-4d2e-806b-b2834e092439",
   "metadata": {},
   "source": [
    "## Showing the difference in a table"
   ]
  },
  {
   "cell_type": "code",
   "execution_count": 66,
   "id": "c7e3e2c5-5557-4070-aba8-4c506ec888a0",
   "metadata": {},
   "outputs": [
    {
     "data": {
      "text/html": [
       "<div>\n",
       "<style scoped>\n",
       "    .dataframe tbody tr th:only-of-type {\n",
       "        vertical-align: middle;\n",
       "    }\n",
       "\n",
       "    .dataframe tbody tr th {\n",
       "        vertical-align: top;\n",
       "    }\n",
       "\n",
       "    .dataframe thead tr th {\n",
       "        text-align: left;\n",
       "    }\n",
       "</style>\n",
       "<table border=\"1\" class=\"dataframe\">\n",
       "  <thead>\n",
       "    <tr>\n",
       "      <th></th>\n",
       "      <th>R-squared diff</th>\n",
       "      <th>Mean absolute error (MAE) diff</th>\n",
       "      <th>Mean squared error(MSE) diff</th>\n",
       "    </tr>\n",
       "  </thead>\n",
       "  <tbody>\n",
       "    <tr>\n",
       "      <th>0</th>\n",
       "      <td>-0.089106</td>\n",
       "      <td>0.001099</td>\n",
       "      <td>0.000008</td>\n",
       "    </tr>\n",
       "  </tbody>\n",
       "</table>\n",
       "</div>"
      ],
      "text/plain": [
       "  R-squared diff Mean absolute error (MAE) diff Mean squared error(MSE) diff\n",
       "0      -0.089106                       0.001099                     0.000008"
      ]
     },
     "execution_count": 66,
     "metadata": {},
     "output_type": "execute_result"
    }
   ],
   "source": [
    "pd.DataFrame([score_differences] ,columns=[['R-squared diff','Mean absolute error (MAE) diff' ,'Mean squared error(MSE) diff']])"
   ]
  },
  {
   "cell_type": "markdown",
   "id": "a784a817-4650-450b-b4ed-aa071a4908e3",
   "metadata": {
    "tags": []
   },
   "source": [
    "# Performing Feature Importance\n",
    "    Feature importance is a model inspection technique that measures the contribution of each feature to a fitted model's statistical performance on a given tabular dataset ."
   ]
  },
  {
   "cell_type": "code",
   "execution_count": 67,
   "id": "36424f71",
   "metadata": {},
   "outputs": [],
   "source": [
    "feature_importance = improved_model1.feature_importances_\n",
    "feature_importances= feature_importance[:20]"
   ]
  },
  {
   "cell_type": "code",
   "execution_count": 68,
   "id": "3d363066-b37f-45a0-8f50-9c09bf0d97ba",
   "metadata": {},
   "outputs": [
    {
     "data": {
      "image/png": "[encoded data removed]",
      "text/plain": [
       "<Figure size 640x480 with 1 Axes>"
      ]
     },
     "metadata": {},
     "output_type": "display_data"
    }
   ],
   "source": [
    "plt.barh( X_train.columns, feature_importances)\n",
    "plt.savefig('./Graph Showing Feature Importance(#30).pdf', dpi=1200, format= 'pdf')"
   ]
  },
  {
   "cell_type": "markdown",
   "id": "fdc18014-8e5b-41af-9746-e0488a35e14f",
   "metadata": {
    "tags": []
   },
   "source": [
    "# Predicting the velocity"
   ]
  },
  {
   "cell_type": "code",
   "execution_count": 69,
   "id": "22e10fff-4aca-4037-9c66-9ff6de70caee",
   "metadata": {},
   "outputs": [
    {
     "data": {
      "text/html": [
       "<div>\n",
       "<style scoped>\n",
       "    .dataframe tbody tr th:only-of-type {\n",
       "        vertical-align: middle;\n",
       "    }\n",
       "\n",
       "    .dataframe tbody tr th {\n",
       "        vertical-align: top;\n",
       "    }\n",
       "\n",
       "    .dataframe thead th {\n",
       "        text-align: right;\n",
       "    }\n",
       "</style>\n",
       "<table border=\"1\" class=\"dataframe\">\n",
       "  <thead>\n",
       "    <tr style=\"text-align: right;\">\n",
       "      <th></th>\n",
       "      <th>Unnamed: 0</th>\n",
       "      <th>Time (s)</th>\n",
       "      <th>Volume Fraction of Phase 1</th>\n",
       "      <th>Wall Shear Stress: Magnitude (Pa)</th>\n",
       "      <th>Report: Element Count 1</th>\n",
       "      <th>Report: Total Solver CPU Time (s)</th>\n",
       "      <th>X (m)</th>\n",
       "      <th>Y (m)</th>\n",
       "      <th>Z (m)</th>\n",
       "    </tr>\n",
       "  </thead>\n",
       "  <tbody>\n",
       "    <tr>\n",
       "      <th>0</th>\n",
       "      <td>0</td>\n",
       "      <td>0.02</td>\n",
       "      <td>0.010824</td>\n",
       "      <td>0.0</td>\n",
       "      <td>1128.0</td>\n",
       "      <td>2.668</td>\n",
       "      <td>-0.113685</td>\n",
       "      <td>0.032540</td>\n",
       "      <td>0.014828</td>\n",
       "    </tr>\n",
       "    <tr>\n",
       "      <th>1</th>\n",
       "      <td>1</td>\n",
       "      <td>0.02</td>\n",
       "      <td>0.006975</td>\n",
       "      <td>0.0</td>\n",
       "      <td>1128.0</td>\n",
       "      <td>2.668</td>\n",
       "      <td>-0.113686</td>\n",
       "      <td>0.025651</td>\n",
       "      <td>0.007872</td>\n",
       "    </tr>\n",
       "    <tr>\n",
       "      <th>2</th>\n",
       "      <td>2</td>\n",
       "      <td>0.02</td>\n",
       "      <td>0.010824</td>\n",
       "      <td>0.0</td>\n",
       "      <td>1128.0</td>\n",
       "      <td>2.668</td>\n",
       "      <td>-0.113689</td>\n",
       "      <td>0.024866</td>\n",
       "      <td>0.018086</td>\n",
       "    </tr>\n",
       "    <tr>\n",
       "      <th>3</th>\n",
       "      <td>3</td>\n",
       "      <td>0.02</td>\n",
       "      <td>0.034522</td>\n",
       "      <td>0.0</td>\n",
       "      <td>1128.0</td>\n",
       "      <td>2.668</td>\n",
       "      <td>-0.113687</td>\n",
       "      <td>0.038670</td>\n",
       "      <td>0.008284</td>\n",
       "    </tr>\n",
       "    <tr>\n",
       "      <th>4</th>\n",
       "      <td>4</td>\n",
       "      <td>0.02</td>\n",
       "      <td>0.010824</td>\n",
       "      <td>0.0</td>\n",
       "      <td>1128.0</td>\n",
       "      <td>2.668</td>\n",
       "      <td>-0.113689</td>\n",
       "      <td>0.026663</td>\n",
       "      <td>0.013483</td>\n",
       "    </tr>\n",
       "    <tr>\n",
       "      <th>...</th>\n",
       "      <td>...</td>\n",
       "      <td>...</td>\n",
       "      <td>...</td>\n",
       "      <td>...</td>\n",
       "      <td>...</td>\n",
       "      <td>...</td>\n",
       "      <td>...</td>\n",
       "      <td>...</td>\n",
       "      <td>...</td>\n",
       "    </tr>\n",
       "    <tr>\n",
       "      <th>13438097</th>\n",
       "      <td>7862</td>\n",
       "      <td>9.04</td>\n",
       "      <td>0.119034</td>\n",
       "      <td>0.0</td>\n",
       "      <td>30746.0</td>\n",
       "      <td>26681.377</td>\n",
       "      <td>-0.007282</td>\n",
       "      <td>0.035696</td>\n",
       "      <td>0.005896</td>\n",
       "    </tr>\n",
       "    <tr>\n",
       "      <th>13438098</th>\n",
       "      <td>7863</td>\n",
       "      <td>9.04</td>\n",
       "      <td>0.159722</td>\n",
       "      <td>0.0</td>\n",
       "      <td>30746.0</td>\n",
       "      <td>26681.377</td>\n",
       "      <td>-0.014942</td>\n",
       "      <td>0.026426</td>\n",
       "      <td>0.004031</td>\n",
       "    </tr>\n",
       "    <tr>\n",
       "      <th>13438099</th>\n",
       "      <td>7864</td>\n",
       "      <td>9.04</td>\n",
       "      <td>0.119034</td>\n",
       "      <td>0.0</td>\n",
       "      <td>30746.0</td>\n",
       "      <td>26681.377</td>\n",
       "      <td>-0.009485</td>\n",
       "      <td>0.034536</td>\n",
       "      <td>0.004924</td>\n",
       "    </tr>\n",
       "    <tr>\n",
       "      <th>13438100</th>\n",
       "      <td>7865</td>\n",
       "      <td>9.04</td>\n",
       "      <td>0.119034</td>\n",
       "      <td>0.0</td>\n",
       "      <td>30746.0</td>\n",
       "      <td>26681.377</td>\n",
       "      <td>-0.018894</td>\n",
       "      <td>0.035162</td>\n",
       "      <td>0.001725</td>\n",
       "    </tr>\n",
       "    <tr>\n",
       "      <th>13438101</th>\n",
       "      <td>7866</td>\n",
       "      <td>9.04</td>\n",
       "      <td>0.119034</td>\n",
       "      <td>0.0</td>\n",
       "      <td>30746.0</td>\n",
       "      <td>26681.377</td>\n",
       "      <td>-0.008973</td>\n",
       "      <td>0.039772</td>\n",
       "      <td>0.006379</td>\n",
       "    </tr>\n",
       "  </tbody>\n",
       "</table>\n",
       "<p>13438102 rows × 9 columns</p>\n",
       "</div>"
      ],
      "text/plain": [
       "          Unnamed: 0  Time (s)  Volume Fraction of Phase 1  \\\n",
       "0                  0      0.02                    0.010824   \n",
       "1                  1      0.02                    0.006975   \n",
       "2                  2      0.02                    0.010824   \n",
       "3                  3      0.02                    0.034522   \n",
       "4                  4      0.02                    0.010824   \n",
       "...              ...       ...                         ...   \n",
       "13438097        7862      9.04                    0.119034   \n",
       "13438098        7863      9.04                    0.159722   \n",
       "13438099        7864      9.04                    0.119034   \n",
       "13438100        7865      9.04                    0.119034   \n",
       "13438101        7866      9.04                    0.119034   \n",
       "\n",
       "          Wall Shear Stress: Magnitude (Pa)  Report: Element Count 1  \\\n",
       "0                                       0.0                   1128.0   \n",
       "1                                       0.0                   1128.0   \n",
       "2                                       0.0                   1128.0   \n",
       "3                                       0.0                   1128.0   \n",
       "4                                       0.0                   1128.0   \n",
       "...                                     ...                      ...   \n",
       "13438097                                0.0                  30746.0   \n",
       "13438098                                0.0                  30746.0   \n",
       "13438099                                0.0                  30746.0   \n",
       "13438100                                0.0                  30746.0   \n",
       "13438101                                0.0                  30746.0   \n",
       "\n",
       "          Report: Total Solver CPU Time (s)     X (m)     Y (m)     Z (m)  \n",
       "0                                     2.668 -0.113685  0.032540  0.014828  \n",
       "1                                     2.668 -0.113686  0.025651  0.007872  \n",
       "2                                     2.668 -0.113689  0.024866  0.018086  \n",
       "3                                     2.668 -0.113687  0.038670  0.008284  \n",
       "4                                     2.668 -0.113689  0.026663  0.013483  \n",
       "...                                     ...       ...       ...       ...  \n",
       "13438097                          26681.377 -0.007282  0.035696  0.005896  \n",
       "13438098                          26681.377 -0.014942  0.026426  0.004031  \n",
       "13438099                          26681.377 -0.009485  0.034536  0.004924  \n",
       "13438100                          26681.377 -0.018894  0.035162  0.001725  \n",
       "13438101                          26681.377 -0.008973  0.039772  0.006379  \n",
       "\n",
       "[13438102 rows x 9 columns]"
      ]
     },
     "execution_count": 69,
     "metadata": {},
     "output_type": "execute_result"
    }
   ],
   "source": [
    "U=Granular_flow_data.drop([\"Parcel Centroid[X] (m)\", \"Parcel Centroid[Y] (m)\", \"Parcel Centroid[Z] (m)\", \"Particle Velocity[i] (m/s)\", \"Particle Velocity[j] (m/s)\", \"Particle Velocity[k] (m/s)\", \"Particle Velocity: Magnitude (m/s)\"], axis=1)\n",
    "U"
   ]
  },
  {
   "cell_type": "code",
   "execution_count": 70,
   "id": "de416768-8f2f-433b-84a4-a5d6e8c02979",
   "metadata": {},
   "outputs": [
    {
     "data": {
      "text/plain": [
       "count    13438102.0\n",
       "mean            0.0\n",
       "std             0.0\n",
       "min             0.0\n",
       "25%             0.0\n",
       "50%             0.0\n",
       "75%             0.0\n",
       "max             0.0\n",
       "Name: Wall Shear Stress: Magnitude (Pa), dtype: float64"
      ]
     },
     "execution_count": 70,
     "metadata": {},
     "output_type": "execute_result"
    }
   ],
   "source": [
    "U[\"Wall Shear Stress: Magnitude (Pa)\"].describe()"
   ]
  },
  {
   "cell_type": "code",
   "execution_count": 71,
   "id": "e7f7bae1-0492-4692-9c63-09be356a1aa3",
   "metadata": {},
   "outputs": [
    {
     "data": {
      "text/html": [
       "<div>\n",
       "<style scoped>\n",
       "    .dataframe tbody tr th:only-of-type {\n",
       "        vertical-align: middle;\n",
       "    }\n",
       "\n",
       "    .dataframe tbody tr th {\n",
       "        vertical-align: top;\n",
       "    }\n",
       "\n",
       "    .dataframe thead th {\n",
       "        text-align: right;\n",
       "    }\n",
       "</style>\n",
       "<table border=\"1\" class=\"dataframe\">\n",
       "  <thead>\n",
       "    <tr style=\"text-align: right;\">\n",
       "      <th></th>\n",
       "      <th>Particle Velocity[i] (m/s)</th>\n",
       "      <th>Particle Velocity[j] (m/s)</th>\n",
       "      <th>Particle Velocity[k] (m/s)</th>\n",
       "    </tr>\n",
       "  </thead>\n",
       "  <tbody>\n",
       "    <tr>\n",
       "      <th>0</th>\n",
       "      <td>0.576229</td>\n",
       "      <td>0.000008</td>\n",
       "      <td>-0.156682</td>\n",
       "    </tr>\n",
       "    <tr>\n",
       "      <th>1</th>\n",
       "      <td>0.575964</td>\n",
       "      <td>-0.000034</td>\n",
       "      <td>-0.156740</td>\n",
       "    </tr>\n",
       "    <tr>\n",
       "      <th>2</th>\n",
       "      <td>0.576129</td>\n",
       "      <td>0.000081</td>\n",
       "      <td>-0.156886</td>\n",
       "    </tr>\n",
       "    <tr>\n",
       "      <th>3</th>\n",
       "      <td>0.576709</td>\n",
       "      <td>-0.000411</td>\n",
       "      <td>-0.155926</td>\n",
       "    </tr>\n",
       "    <tr>\n",
       "      <th>4</th>\n",
       "      <td>0.576153</td>\n",
       "      <td>0.000033</td>\n",
       "      <td>-0.156845</td>\n",
       "    </tr>\n",
       "    <tr>\n",
       "      <th>...</th>\n",
       "      <td>...</td>\n",
       "      <td>...</td>\n",
       "      <td>...</td>\n",
       "    </tr>\n",
       "    <tr>\n",
       "      <th>13438097</th>\n",
       "      <td>0.988063</td>\n",
       "      <td>-0.005595</td>\n",
       "      <td>-0.011772</td>\n",
       "    </tr>\n",
       "    <tr>\n",
       "      <th>13438098</th>\n",
       "      <td>0.911534</td>\n",
       "      <td>0.009530</td>\n",
       "      <td>0.068215</td>\n",
       "    </tr>\n",
       "    <tr>\n",
       "      <th>13438099</th>\n",
       "      <td>0.963286</td>\n",
       "      <td>0.011837</td>\n",
       "      <td>-0.021977</td>\n",
       "    </tr>\n",
       "    <tr>\n",
       "      <th>13438100</th>\n",
       "      <td>0.914124</td>\n",
       "      <td>0.014848</td>\n",
       "      <td>-0.002953</td>\n",
       "    </tr>\n",
       "    <tr>\n",
       "      <th>13438101</th>\n",
       "      <td>0.982137</td>\n",
       "      <td>0.022488</td>\n",
       "      <td>0.000250</td>\n",
       "    </tr>\n",
       "  </tbody>\n",
       "</table>\n",
       "<p>13438102 rows × 3 columns</p>\n",
       "</div>"
      ],
      "text/plain": [
       "          Particle Velocity[i] (m/s)  Particle Velocity[j] (m/s)  \\\n",
       "0                           0.576229                    0.000008   \n",
       "1                           0.575964                   -0.000034   \n",
       "2                           0.576129                    0.000081   \n",
       "3                           0.576709                   -0.000411   \n",
       "4                           0.576153                    0.000033   \n",
       "...                              ...                         ...   \n",
       "13438097                    0.988063                   -0.005595   \n",
       "13438098                    0.911534                    0.009530   \n",
       "13438099                    0.963286                    0.011837   \n",
       "13438100                    0.914124                    0.014848   \n",
       "13438101                    0.982137                    0.022488   \n",
       "\n",
       "          Particle Velocity[k] (m/s)  \n",
       "0                          -0.156682  \n",
       "1                          -0.156740  \n",
       "2                          -0.156886  \n",
       "3                          -0.155926  \n",
       "4                          -0.156845  \n",
       "...                              ...  \n",
       "13438097                   -0.011772  \n",
       "13438098                    0.068215  \n",
       "13438099                   -0.021977  \n",
       "13438100                   -0.002953  \n",
       "13438101                    0.000250  \n",
       "\n",
       "[13438102 rows x 3 columns]"
      ]
     },
     "execution_count": 71,
     "metadata": {},
     "output_type": "execute_result"
    }
   ],
   "source": [
    "v=Granular_flow_data[[\"Particle Velocity[i] (m/s)\", \"Particle Velocity[j] (m/s)\", \"Particle Velocity[k] (m/s)\"]]\n",
    "v"
   ]
  },
  {
   "cell_type": "code",
   "execution_count": 72,
   "id": "d62b1d19-dd55-4156-af29-e2d8dd25f0dd",
   "metadata": {},
   "outputs": [
    {
     "ename": "MemoryError",
     "evalue": "could not allocate 939524096 bytes",
     "output_type": "error",
     "traceback": [
      "\u001b[1;31m---------------------------------------------------------------------------\u001b[0m",
      "\u001b[1;31mMemoryError\u001b[0m                               Traceback (most recent call last)",
      "File \u001b[1;32m<timed exec>:6\u001b[0m\n",
      "File \u001b[1;32mC:\\ProgramData\\anaconda3\\lib\\site-packages\\sklearn\\ensemble\\_forest.py:476\u001b[0m, in \u001b[0;36mBaseForest.fit\u001b[1;34m(self, X, y, sample_weight)\u001b[0m\n\u001b[0;32m    465\u001b[0m trees \u001b[38;5;241m=\u001b[39m [\n\u001b[0;32m    466\u001b[0m     \u001b[38;5;28mself\u001b[39m\u001b[38;5;241m.\u001b[39m_make_estimator(append\u001b[38;5;241m=\u001b[39m\u001b[38;5;28;01mFalse\u001b[39;00m, random_state\u001b[38;5;241m=\u001b[39mrandom_state)\n\u001b[0;32m    467\u001b[0m     \u001b[38;5;28;01mfor\u001b[39;00m i \u001b[38;5;129;01min\u001b[39;00m \u001b[38;5;28mrange\u001b[39m(n_more_estimators)\n\u001b[0;32m    468\u001b[0m ]\n\u001b[0;32m    470\u001b[0m \u001b[38;5;66;03m# Parallel loop: we prefer the threading backend as the Cython code\u001b[39;00m\n\u001b[0;32m    471\u001b[0m \u001b[38;5;66;03m# for fitting the trees is internally releasing the Python GIL\u001b[39;00m\n\u001b[0;32m    472\u001b[0m \u001b[38;5;66;03m# making threading more efficient than multiprocessing in\u001b[39;00m\n\u001b[0;32m    473\u001b[0m \u001b[38;5;66;03m# that case. However, for joblib 0.12+ we respect any\u001b[39;00m\n\u001b[0;32m    474\u001b[0m \u001b[38;5;66;03m# parallel_backend contexts set at a higher level,\u001b[39;00m\n\u001b[0;32m    475\u001b[0m \u001b[38;5;66;03m# since correctness does not rely on using threads.\u001b[39;00m\n\u001b[1;32m--> 476\u001b[0m trees \u001b[38;5;241m=\u001b[39m \u001b[43mParallel\u001b[49m\u001b[43m(\u001b[49m\n\u001b[0;32m    477\u001b[0m \u001b[43m    \u001b[49m\u001b[43mn_jobs\u001b[49m\u001b[38;5;241;43m=\u001b[39;49m\u001b[38;5;28;43mself\u001b[39;49m\u001b[38;5;241;43m.\u001b[39;49m\u001b[43mn_jobs\u001b[49m\u001b[43m,\u001b[49m\n\u001b[0;32m    478\u001b[0m \u001b[43m    \u001b[49m\u001b[43mverbose\u001b[49m\u001b[38;5;241;43m=\u001b[39;49m\u001b[38;5;28;43mself\u001b[39;49m\u001b[38;5;241;43m.\u001b[39;49m\u001b[43mverbose\u001b[49m\u001b[43m,\u001b[49m\n\u001b[0;32m    479\u001b[0m \u001b[43m    \u001b[49m\u001b[43mprefer\u001b[49m\u001b[38;5;241;43m=\u001b[39;49m\u001b[38;5;124;43m\"\u001b[39;49m\u001b[38;5;124;43mthreads\u001b[39;49m\u001b[38;5;124;43m\"\u001b[39;49m\u001b[43m,\u001b[49m\n\u001b[0;32m    480\u001b[0m \u001b[43m\u001b[49m\u001b[43m)\u001b[49m\u001b[43m(\u001b[49m\n\u001b[0;32m    481\u001b[0m \u001b[43m    \u001b[49m\u001b[43mdelayed\u001b[49m\u001b[43m(\u001b[49m\u001b[43m_parallel_build_trees\u001b[49m\u001b[43m)\u001b[49m\u001b[43m(\u001b[49m\n\u001b[0;32m    482\u001b[0m \u001b[43m        \u001b[49m\u001b[43mt\u001b[49m\u001b[43m,\u001b[49m\n\u001b[0;32m    483\u001b[0m \u001b[43m        \u001b[49m\u001b[38;5;28;43mself\u001b[39;49m\u001b[38;5;241;43m.\u001b[39;49m\u001b[43mbootstrap\u001b[49m\u001b[43m,\u001b[49m\n\u001b[0;32m    484\u001b[0m \u001b[43m        \u001b[49m\u001b[43mX\u001b[49m\u001b[43m,\u001b[49m\n\u001b[0;32m    485\u001b[0m \u001b[43m        \u001b[49m\u001b[43my\u001b[49m\u001b[43m,\u001b[49m\n\u001b[0;32m    486\u001b[0m \u001b[43m        \u001b[49m\u001b[43msample_weight\u001b[49m\u001b[43m,\u001b[49m\n\u001b[0;32m    487\u001b[0m \u001b[43m        \u001b[49m\u001b[43mi\u001b[49m\u001b[43m,\u001b[49m\n\u001b[0;32m    488\u001b[0m \u001b[43m        \u001b[49m\u001b[38;5;28;43mlen\u001b[39;49m\u001b[43m(\u001b[49m\u001b[43mtrees\u001b[49m\u001b[43m)\u001b[49m\u001b[43m,\u001b[49m\n\u001b[0;32m    489\u001b[0m \u001b[43m        \u001b[49m\u001b[43mverbose\u001b[49m\u001b[38;5;241;43m=\u001b[39;49m\u001b[38;5;28;43mself\u001b[39;49m\u001b[38;5;241;43m.\u001b[39;49m\u001b[43mverbose\u001b[49m\u001b[43m,\u001b[49m\n\u001b[0;32m    490\u001b[0m \u001b[43m        \u001b[49m\u001b[43mclass_weight\u001b[49m\u001b[38;5;241;43m=\u001b[39;49m\u001b[38;5;28;43mself\u001b[39;49m\u001b[38;5;241;43m.\u001b[39;49m\u001b[43mclass_weight\u001b[49m\u001b[43m,\u001b[49m\n\u001b[0;32m    491\u001b[0m \u001b[43m        \u001b[49m\u001b[43mn_samples_bootstrap\u001b[49m\u001b[38;5;241;43m=\u001b[39;49m\u001b[43mn_samples_bootstrap\u001b[49m\u001b[43m,\u001b[49m\n\u001b[0;32m    492\u001b[0m \u001b[43m    \u001b[49m\u001b[43m)\u001b[49m\n\u001b[0;32m    493\u001b[0m \u001b[43m    \u001b[49m\u001b[38;5;28;43;01mfor\u001b[39;49;00m\u001b[43m \u001b[49m\u001b[43mi\u001b[49m\u001b[43m,\u001b[49m\u001b[43m \u001b[49m\u001b[43mt\u001b[49m\u001b[43m \u001b[49m\u001b[38;5;129;43;01min\u001b[39;49;00m\u001b[43m \u001b[49m\u001b[38;5;28;43menumerate\u001b[39;49m\u001b[43m(\u001b[49m\u001b[43mtrees\u001b[49m\u001b[43m)\u001b[49m\n\u001b[0;32m    494\u001b[0m \u001b[43m\u001b[49m\u001b[43m)\u001b[49m\n\u001b[0;32m    496\u001b[0m \u001b[38;5;66;03m# Collect newly grown trees\u001b[39;00m\n\u001b[0;32m    497\u001b[0m \u001b[38;5;28mself\u001b[39m\u001b[38;5;241m.\u001b[39mestimators_\u001b[38;5;241m.\u001b[39mextend(trees)\n",
      "File \u001b[1;32mC:\\ProgramData\\anaconda3\\lib\\site-packages\\joblib\\parallel.py:1088\u001b[0m, in \u001b[0;36mParallel.__call__\u001b[1;34m(self, iterable)\u001b[0m\n\u001b[0;32m   1085\u001b[0m \u001b[38;5;28;01mif\u001b[39;00m \u001b[38;5;28mself\u001b[39m\u001b[38;5;241m.\u001b[39mdispatch_one_batch(iterator):\n\u001b[0;32m   1086\u001b[0m     \u001b[38;5;28mself\u001b[39m\u001b[38;5;241m.\u001b[39m_iterating \u001b[38;5;241m=\u001b[39m \u001b[38;5;28mself\u001b[39m\u001b[38;5;241m.\u001b[39m_original_iterator \u001b[38;5;129;01mis\u001b[39;00m \u001b[38;5;129;01mnot\u001b[39;00m \u001b[38;5;28;01mNone\u001b[39;00m\n\u001b[1;32m-> 1088\u001b[0m \u001b[38;5;28;01mwhile\u001b[39;00m \u001b[38;5;28;43mself\u001b[39;49m\u001b[38;5;241;43m.\u001b[39;49m\u001b[43mdispatch_one_batch\u001b[49m\u001b[43m(\u001b[49m\u001b[43miterator\u001b[49m\u001b[43m)\u001b[49m:\n\u001b[0;32m   1089\u001b[0m     \u001b[38;5;28;01mpass\u001b[39;00m\n\u001b[0;32m   1091\u001b[0m \u001b[38;5;28;01mif\u001b[39;00m pre_dispatch \u001b[38;5;241m==\u001b[39m \u001b[38;5;124m\"\u001b[39m\u001b[38;5;124mall\u001b[39m\u001b[38;5;124m\"\u001b[39m \u001b[38;5;129;01mor\u001b[39;00m n_jobs \u001b[38;5;241m==\u001b[39m \u001b[38;5;241m1\u001b[39m:\n\u001b[0;32m   1092\u001b[0m     \u001b[38;5;66;03m# The iterable was consumed all at once by the above for loop.\u001b[39;00m\n\u001b[0;32m   1093\u001b[0m     \u001b[38;5;66;03m# No need to wait for async callbacks to trigger to\u001b[39;00m\n\u001b[0;32m   1094\u001b[0m     \u001b[38;5;66;03m# consumption.\u001b[39;00m\n",
      "File \u001b[1;32mC:\\ProgramData\\anaconda3\\lib\\site-packages\\joblib\\parallel.py:901\u001b[0m, in \u001b[0;36mParallel.dispatch_one_batch\u001b[1;34m(self, iterator)\u001b[0m\n\u001b[0;32m    899\u001b[0m     \u001b[38;5;28;01mreturn\u001b[39;00m \u001b[38;5;28;01mFalse\u001b[39;00m\n\u001b[0;32m    900\u001b[0m \u001b[38;5;28;01melse\u001b[39;00m:\n\u001b[1;32m--> 901\u001b[0m     \u001b[38;5;28;43mself\u001b[39;49m\u001b[38;5;241;43m.\u001b[39;49m\u001b[43m_dispatch\u001b[49m\u001b[43m(\u001b[49m\u001b[43mtasks\u001b[49m\u001b[43m)\u001b[49m\n\u001b[0;32m    902\u001b[0m     \u001b[38;5;28;01mreturn\u001b[39;00m \u001b[38;5;28;01mTrue\u001b[39;00m\n",
      "File \u001b[1;32mC:\\ProgramData\\anaconda3\\lib\\site-packages\\joblib\\parallel.py:819\u001b[0m, in \u001b[0;36mParallel._dispatch\u001b[1;34m(self, batch)\u001b[0m\n\u001b[0;32m    817\u001b[0m \u001b[38;5;28;01mwith\u001b[39;00m \u001b[38;5;28mself\u001b[39m\u001b[38;5;241m.\u001b[39m_lock:\n\u001b[0;32m    818\u001b[0m     job_idx \u001b[38;5;241m=\u001b[39m \u001b[38;5;28mlen\u001b[39m(\u001b[38;5;28mself\u001b[39m\u001b[38;5;241m.\u001b[39m_jobs)\n\u001b[1;32m--> 819\u001b[0m     job \u001b[38;5;241m=\u001b[39m \u001b[38;5;28;43mself\u001b[39;49m\u001b[38;5;241;43m.\u001b[39;49m\u001b[43m_backend\u001b[49m\u001b[38;5;241;43m.\u001b[39;49m\u001b[43mapply_async\u001b[49m\u001b[43m(\u001b[49m\u001b[43mbatch\u001b[49m\u001b[43m,\u001b[49m\u001b[43m \u001b[49m\u001b[43mcallback\u001b[49m\u001b[38;5;241;43m=\u001b[39;49m\u001b[43mcb\u001b[49m\u001b[43m)\u001b[49m\n\u001b[0;32m    820\u001b[0m     \u001b[38;5;66;03m# A job can complete so quickly than its callback is\u001b[39;00m\n\u001b[0;32m    821\u001b[0m     \u001b[38;5;66;03m# called before we get here, causing self._jobs to\u001b[39;00m\n\u001b[0;32m    822\u001b[0m     \u001b[38;5;66;03m# grow. To ensure correct results ordering, .insert is\u001b[39;00m\n\u001b[0;32m    823\u001b[0m     \u001b[38;5;66;03m# used (rather than .append) in the following line\u001b[39;00m\n\u001b[0;32m    824\u001b[0m     \u001b[38;5;28mself\u001b[39m\u001b[38;5;241m.\u001b[39m_jobs\u001b[38;5;241m.\u001b[39minsert(job_idx, job)\n",
      "File \u001b[1;32mC:\\ProgramData\\anaconda3\\lib\\site-packages\\joblib\\_parallel_backends.py:208\u001b[0m, in \u001b[0;36mSequentialBackend.apply_async\u001b[1;34m(self, func, callback)\u001b[0m\n\u001b[0;32m    206\u001b[0m \u001b[38;5;28;01mdef\u001b[39;00m \u001b[38;5;21mapply_async\u001b[39m(\u001b[38;5;28mself\u001b[39m, func, callback\u001b[38;5;241m=\u001b[39m\u001b[38;5;28;01mNone\u001b[39;00m):\n\u001b[0;32m    207\u001b[0m \u001b[38;5;250m    \u001b[39m\u001b[38;5;124;03m\"\"\"Schedule a func to be run\"\"\"\u001b[39;00m\n\u001b[1;32m--> 208\u001b[0m     result \u001b[38;5;241m=\u001b[39m \u001b[43mImmediateResult\u001b[49m\u001b[43m(\u001b[49m\u001b[43mfunc\u001b[49m\u001b[43m)\u001b[49m\n\u001b[0;32m    209\u001b[0m     \u001b[38;5;28;01mif\u001b[39;00m callback:\n\u001b[0;32m    210\u001b[0m         callback(result)\n",
      "File \u001b[1;32mC:\\ProgramData\\anaconda3\\lib\\site-packages\\joblib\\_parallel_backends.py:597\u001b[0m, in \u001b[0;36mImmediateResult.__init__\u001b[1;34m(self, batch)\u001b[0m\n\u001b[0;32m    594\u001b[0m \u001b[38;5;28;01mdef\u001b[39;00m \u001b[38;5;21m__init__\u001b[39m(\u001b[38;5;28mself\u001b[39m, batch):\n\u001b[0;32m    595\u001b[0m     \u001b[38;5;66;03m# Don't delay the application, to avoid keeping the input\u001b[39;00m\n\u001b[0;32m    596\u001b[0m     \u001b[38;5;66;03m# arguments in memory\u001b[39;00m\n\u001b[1;32m--> 597\u001b[0m     \u001b[38;5;28mself\u001b[39m\u001b[38;5;241m.\u001b[39mresults \u001b[38;5;241m=\u001b[39m \u001b[43mbatch\u001b[49m\u001b[43m(\u001b[49m\u001b[43m)\u001b[49m\n",
      "File \u001b[1;32mC:\\ProgramData\\anaconda3\\lib\\site-packages\\joblib\\parallel.py:288\u001b[0m, in \u001b[0;36mBatchedCalls.__call__\u001b[1;34m(self)\u001b[0m\n\u001b[0;32m    284\u001b[0m \u001b[38;5;28;01mdef\u001b[39;00m \u001b[38;5;21m__call__\u001b[39m(\u001b[38;5;28mself\u001b[39m):\n\u001b[0;32m    285\u001b[0m     \u001b[38;5;66;03m# Set the default nested backend to self._backend but do not set the\u001b[39;00m\n\u001b[0;32m    286\u001b[0m     \u001b[38;5;66;03m# change the default number of processes to -1\u001b[39;00m\n\u001b[0;32m    287\u001b[0m     \u001b[38;5;28;01mwith\u001b[39;00m parallel_backend(\u001b[38;5;28mself\u001b[39m\u001b[38;5;241m.\u001b[39m_backend, n_jobs\u001b[38;5;241m=\u001b[39m\u001b[38;5;28mself\u001b[39m\u001b[38;5;241m.\u001b[39m_n_jobs):\n\u001b[1;32m--> 288\u001b[0m         \u001b[38;5;28;01mreturn\u001b[39;00m [func(\u001b[38;5;241m*\u001b[39margs, \u001b[38;5;241m*\u001b[39m\u001b[38;5;241m*\u001b[39mkwargs)\n\u001b[0;32m    289\u001b[0m                 \u001b[38;5;28;01mfor\u001b[39;00m func, args, kwargs \u001b[38;5;129;01min\u001b[39;00m \u001b[38;5;28mself\u001b[39m\u001b[38;5;241m.\u001b[39mitems]\n",
      "File \u001b[1;32mC:\\ProgramData\\anaconda3\\lib\\site-packages\\joblib\\parallel.py:288\u001b[0m, in \u001b[0;36m<listcomp>\u001b[1;34m(.0)\u001b[0m\n\u001b[0;32m    284\u001b[0m \u001b[38;5;28;01mdef\u001b[39;00m \u001b[38;5;21m__call__\u001b[39m(\u001b[38;5;28mself\u001b[39m):\n\u001b[0;32m    285\u001b[0m     \u001b[38;5;66;03m# Set the default nested backend to self._backend but do not set the\u001b[39;00m\n\u001b[0;32m    286\u001b[0m     \u001b[38;5;66;03m# change the default number of processes to -1\u001b[39;00m\n\u001b[0;32m    287\u001b[0m     \u001b[38;5;28;01mwith\u001b[39;00m parallel_backend(\u001b[38;5;28mself\u001b[39m\u001b[38;5;241m.\u001b[39m_backend, n_jobs\u001b[38;5;241m=\u001b[39m\u001b[38;5;28mself\u001b[39m\u001b[38;5;241m.\u001b[39m_n_jobs):\n\u001b[1;32m--> 288\u001b[0m         \u001b[38;5;28;01mreturn\u001b[39;00m [func(\u001b[38;5;241m*\u001b[39margs, \u001b[38;5;241m*\u001b[39m\u001b[38;5;241m*\u001b[39mkwargs)\n\u001b[0;32m    289\u001b[0m                 \u001b[38;5;28;01mfor\u001b[39;00m func, args, kwargs \u001b[38;5;129;01min\u001b[39;00m \u001b[38;5;28mself\u001b[39m\u001b[38;5;241m.\u001b[39mitems]\n",
      "File \u001b[1;32mC:\\ProgramData\\anaconda3\\lib\\site-packages\\sklearn\\utils\\fixes.py:117\u001b[0m, in \u001b[0;36m_FuncWrapper.__call__\u001b[1;34m(self, *args, **kwargs)\u001b[0m\n\u001b[0;32m    115\u001b[0m \u001b[38;5;28;01mdef\u001b[39;00m \u001b[38;5;21m__call__\u001b[39m(\u001b[38;5;28mself\u001b[39m, \u001b[38;5;241m*\u001b[39margs, \u001b[38;5;241m*\u001b[39m\u001b[38;5;241m*\u001b[39mkwargs):\n\u001b[0;32m    116\u001b[0m     \u001b[38;5;28;01mwith\u001b[39;00m config_context(\u001b[38;5;241m*\u001b[39m\u001b[38;5;241m*\u001b[39m\u001b[38;5;28mself\u001b[39m\u001b[38;5;241m.\u001b[39mconfig):\n\u001b[1;32m--> 117\u001b[0m         \u001b[38;5;28;01mreturn\u001b[39;00m \u001b[38;5;28mself\u001b[39m\u001b[38;5;241m.\u001b[39mfunction(\u001b[38;5;241m*\u001b[39margs, \u001b[38;5;241m*\u001b[39m\u001b[38;5;241m*\u001b[39mkwargs)\n",
      "File \u001b[1;32mC:\\ProgramData\\anaconda3\\lib\\site-packages\\sklearn\\ensemble\\_forest.py:189\u001b[0m, in \u001b[0;36m_parallel_build_trees\u001b[1;34m(tree, bootstrap, X, y, sample_weight, tree_idx, n_trees, verbose, class_weight, n_samples_bootstrap)\u001b[0m\n\u001b[0;32m    186\u001b[0m     \u001b[38;5;28;01melif\u001b[39;00m class_weight \u001b[38;5;241m==\u001b[39m \u001b[38;5;124m\"\u001b[39m\u001b[38;5;124mbalanced_subsample\u001b[39m\u001b[38;5;124m\"\u001b[39m:\n\u001b[0;32m    187\u001b[0m         curr_sample_weight \u001b[38;5;241m*\u001b[39m\u001b[38;5;241m=\u001b[39m compute_sample_weight(\u001b[38;5;124m\"\u001b[39m\u001b[38;5;124mbalanced\u001b[39m\u001b[38;5;124m\"\u001b[39m, y, indices\u001b[38;5;241m=\u001b[39mindices)\n\u001b[1;32m--> 189\u001b[0m     \u001b[43mtree\u001b[49m\u001b[38;5;241;43m.\u001b[39;49m\u001b[43mfit\u001b[49m\u001b[43m(\u001b[49m\u001b[43mX\u001b[49m\u001b[43m,\u001b[49m\u001b[43m \u001b[49m\u001b[43my\u001b[49m\u001b[43m,\u001b[49m\u001b[43m \u001b[49m\u001b[43msample_weight\u001b[49m\u001b[38;5;241;43m=\u001b[39;49m\u001b[43mcurr_sample_weight\u001b[49m\u001b[43m,\u001b[49m\u001b[43m \u001b[49m\u001b[43mcheck_input\u001b[49m\u001b[38;5;241;43m=\u001b[39;49m\u001b[38;5;28;43;01mFalse\u001b[39;49;00m\u001b[43m)\u001b[49m\n\u001b[0;32m    190\u001b[0m \u001b[38;5;28;01melse\u001b[39;00m:\n\u001b[0;32m    191\u001b[0m     tree\u001b[38;5;241m.\u001b[39mfit(X, y, sample_weight\u001b[38;5;241m=\u001b[39msample_weight, check_input\u001b[38;5;241m=\u001b[39m\u001b[38;5;28;01mFalse\u001b[39;00m)\n",
      "File \u001b[1;32mC:\\ProgramData\\anaconda3\\lib\\site-packages\\sklearn\\tree\\_classes.py:1342\u001b[0m, in \u001b[0;36mDecisionTreeRegressor.fit\u001b[1;34m(self, X, y, sample_weight, check_input)\u001b[0m\n\u001b[0;32m   1313\u001b[0m \u001b[38;5;28;01mdef\u001b[39;00m \u001b[38;5;21mfit\u001b[39m(\u001b[38;5;28mself\u001b[39m, X, y, sample_weight\u001b[38;5;241m=\u001b[39m\u001b[38;5;28;01mNone\u001b[39;00m, check_input\u001b[38;5;241m=\u001b[39m\u001b[38;5;28;01mTrue\u001b[39;00m):\n\u001b[0;32m   1314\u001b[0m \u001b[38;5;250m    \u001b[39m\u001b[38;5;124;03m\"\"\"Build a decision tree regressor from the training set (X, y).\u001b[39;00m\n\u001b[0;32m   1315\u001b[0m \n\u001b[0;32m   1316\u001b[0m \u001b[38;5;124;03m    Parameters\u001b[39;00m\n\u001b[1;32m   (...)\u001b[0m\n\u001b[0;32m   1339\u001b[0m \u001b[38;5;124;03m        Fitted estimator.\u001b[39;00m\n\u001b[0;32m   1340\u001b[0m \u001b[38;5;124;03m    \"\"\"\u001b[39;00m\n\u001b[1;32m-> 1342\u001b[0m     \u001b[38;5;28;43msuper\u001b[39;49m\u001b[43m(\u001b[49m\u001b[43m)\u001b[49m\u001b[38;5;241;43m.\u001b[39;49m\u001b[43mfit\u001b[49m\u001b[43m(\u001b[49m\n\u001b[0;32m   1343\u001b[0m \u001b[43m        \u001b[49m\u001b[43mX\u001b[49m\u001b[43m,\u001b[49m\n\u001b[0;32m   1344\u001b[0m \u001b[43m        \u001b[49m\u001b[43my\u001b[49m\u001b[43m,\u001b[49m\n\u001b[0;32m   1345\u001b[0m \u001b[43m        \u001b[49m\u001b[43msample_weight\u001b[49m\u001b[38;5;241;43m=\u001b[39;49m\u001b[43msample_weight\u001b[49m\u001b[43m,\u001b[49m\n\u001b[0;32m   1346\u001b[0m \u001b[43m        \u001b[49m\u001b[43mcheck_input\u001b[49m\u001b[38;5;241;43m=\u001b[39;49m\u001b[43mcheck_input\u001b[49m\u001b[43m,\u001b[49m\n\u001b[0;32m   1347\u001b[0m \u001b[43m    \u001b[49m\u001b[43m)\u001b[49m\n\u001b[0;32m   1348\u001b[0m     \u001b[38;5;28;01mreturn\u001b[39;00m \u001b[38;5;28mself\u001b[39m\n",
      "File \u001b[1;32mC:\\ProgramData\\anaconda3\\lib\\site-packages\\sklearn\\tree\\_classes.py:458\u001b[0m, in \u001b[0;36mBaseDecisionTree.fit\u001b[1;34m(self, X, y, sample_weight, check_input)\u001b[0m\n\u001b[0;32m    447\u001b[0m \u001b[38;5;28;01melse\u001b[39;00m:\n\u001b[0;32m    448\u001b[0m     builder \u001b[38;5;241m=\u001b[39m BestFirstTreeBuilder(\n\u001b[0;32m    449\u001b[0m         splitter,\n\u001b[0;32m    450\u001b[0m         min_samples_split,\n\u001b[1;32m   (...)\u001b[0m\n\u001b[0;32m    455\u001b[0m         \u001b[38;5;28mself\u001b[39m\u001b[38;5;241m.\u001b[39mmin_impurity_decrease,\n\u001b[0;32m    456\u001b[0m     )\n\u001b[1;32m--> 458\u001b[0m \u001b[43mbuilder\u001b[49m\u001b[38;5;241;43m.\u001b[39;49m\u001b[43mbuild\u001b[49m\u001b[43m(\u001b[49m\u001b[38;5;28;43mself\u001b[39;49m\u001b[38;5;241;43m.\u001b[39;49m\u001b[43mtree_\u001b[49m\u001b[43m,\u001b[49m\u001b[43m \u001b[49m\u001b[43mX\u001b[49m\u001b[43m,\u001b[49m\u001b[43m \u001b[49m\u001b[43my\u001b[49m\u001b[43m,\u001b[49m\u001b[43m \u001b[49m\u001b[43msample_weight\u001b[49m\u001b[43m)\u001b[49m\n\u001b[0;32m    460\u001b[0m \u001b[38;5;28;01mif\u001b[39;00m \u001b[38;5;28mself\u001b[39m\u001b[38;5;241m.\u001b[39mn_outputs_ \u001b[38;5;241m==\u001b[39m \u001b[38;5;241m1\u001b[39m \u001b[38;5;129;01mand\u001b[39;00m is_classifier(\u001b[38;5;28mself\u001b[39m):\n\u001b[0;32m    461\u001b[0m     \u001b[38;5;28mself\u001b[39m\u001b[38;5;241m.\u001b[39mn_classes_ \u001b[38;5;241m=\u001b[39m \u001b[38;5;28mself\u001b[39m\u001b[38;5;241m.\u001b[39mn_classes_[\u001b[38;5;241m0\u001b[39m]\n",
      "File \u001b[1;32msklearn\\tree\\_tree.pyx:148\u001b[0m, in \u001b[0;36msklearn.tree._tree.DepthFirstTreeBuilder.build\u001b[1;34m()\u001b[0m\n",
      "File \u001b[1;32msklearn\\tree\\_tree.pyx:248\u001b[0m, in \u001b[0;36msklearn.tree._tree.DepthFirstTreeBuilder.build\u001b[1;34m()\u001b[0m\n",
      "File \u001b[1;32msklearn\\tree\\_tree.pyx:763\u001b[0m, in \u001b[0;36msklearn.tree._tree.Tree._add_node\u001b[1;34m()\u001b[0m\n",
      "File \u001b[1;32msklearn\\tree\\_tree.pyx:734\u001b[0m, in \u001b[0;36msklearn.tree._tree.Tree._resize_c\u001b[1;34m()\u001b[0m\n",
      "File \u001b[1;32msklearn\\tree\\_utils.pyx:36\u001b[0m, in \u001b[0;36msklearn.tree._utils.safe_realloc\u001b[1;34m()\u001b[0m\n",
      "\u001b[1;31mMemoryError\u001b[0m: could not allocate 939524096 bytes"
     ]
    }
   ],
   "source": [
    "%%time\n",
    "\n",
    "U_train, U_test, v_train, v_test=train_test_split(U,v,\n",
    "                                                  test_size=0.2, \n",
    "                                                  random_state=42)\n",
    "\n",
    "velocity_model1= RandomForestRegressor(n_estimators=200)\n",
    "velocity_model1.fit(U_train, v_train)"
   ]
  },
  {
   "cell_type": "code",
   "execution_count": 73,
   "id": "be8e2a2f-3d24-4bc7-b8a5-344b1f79865a",
   "metadata": {},
   "outputs": [
    {
     "name": "stderr",
     "output_type": "stream",
     "text": [
      "C:\\ProgramData\\anaconda3\\lib\\site-packages\\sklearn\\ensemble\\_forest.py:1009: RuntimeWarning: invalid value encountered in divide\n",
      "  y_hat /= len(self.estimators_)\n"
     ]
    },
    {
     "ename": "ValueError",
     "evalue": "Input contains NaN.",
     "output_type": "error",
     "traceback": [
      "\u001b[1;31m---------------------------------------------------------------------------\u001b[0m",
      "\u001b[1;31mValueError\u001b[0m                                Traceback (most recent call last)",
      "Cell \u001b[1;32mIn[73], line 1\u001b[0m\n\u001b[1;32m----> 1\u001b[0m \u001b[43mvelocity_model1\u001b[49m\u001b[38;5;241;43m.\u001b[39;49m\u001b[43mscore\u001b[49m\u001b[43m(\u001b[49m\u001b[43mU_test\u001b[49m\u001b[43m,\u001b[49m\u001b[43m \u001b[49m\u001b[43mv_test\u001b[49m\u001b[43m)\u001b[49m\n",
      "File \u001b[1;32mC:\\ProgramData\\anaconda3\\lib\\site-packages\\sklearn\\base.py:721\u001b[0m, in \u001b[0;36mRegressorMixin.score\u001b[1;34m(self, X, y, sample_weight)\u001b[0m\n\u001b[0;32m    718\u001b[0m \u001b[38;5;28;01mfrom\u001b[39;00m \u001b[38;5;21;01m.\u001b[39;00m\u001b[38;5;21;01mmetrics\u001b[39;00m \u001b[38;5;28;01mimport\u001b[39;00m r2_score\n\u001b[0;32m    720\u001b[0m y_pred \u001b[38;5;241m=\u001b[39m \u001b[38;5;28mself\u001b[39m\u001b[38;5;241m.\u001b[39mpredict(X)\n\u001b[1;32m--> 721\u001b[0m \u001b[38;5;28;01mreturn\u001b[39;00m \u001b[43mr2_score\u001b[49m\u001b[43m(\u001b[49m\u001b[43my\u001b[49m\u001b[43m,\u001b[49m\u001b[43m \u001b[49m\u001b[43my_pred\u001b[49m\u001b[43m,\u001b[49m\u001b[43m \u001b[49m\u001b[43msample_weight\u001b[49m\u001b[38;5;241;43m=\u001b[39;49m\u001b[43msample_weight\u001b[49m\u001b[43m)\u001b[49m\n",
      "File \u001b[1;32mC:\\ProgramData\\anaconda3\\lib\\site-packages\\sklearn\\metrics\\_regression.py:911\u001b[0m, in \u001b[0;36mr2_score\u001b[1;34m(y_true, y_pred, sample_weight, multioutput, force_finite)\u001b[0m\n\u001b[0;32m    784\u001b[0m \u001b[38;5;28;01mdef\u001b[39;00m \u001b[38;5;21mr2_score\u001b[39m(\n\u001b[0;32m    785\u001b[0m     y_true,\n\u001b[0;32m    786\u001b[0m     y_pred,\n\u001b[1;32m   (...)\u001b[0m\n\u001b[0;32m    790\u001b[0m     force_finite\u001b[38;5;241m=\u001b[39m\u001b[38;5;28;01mTrue\u001b[39;00m,\n\u001b[0;32m    791\u001b[0m ):\n\u001b[0;32m    792\u001b[0m \u001b[38;5;250m    \u001b[39m\u001b[38;5;124;03m\"\"\":math:`R^2` (coefficient of determination) regression score function.\u001b[39;00m\n\u001b[0;32m    793\u001b[0m \n\u001b[0;32m    794\u001b[0m \u001b[38;5;124;03m    Best possible score is 1.0 and it can be negative (because the\u001b[39;00m\n\u001b[1;32m   (...)\u001b[0m\n\u001b[0;32m    909\u001b[0m \u001b[38;5;124;03m    -inf\u001b[39;00m\n\u001b[0;32m    910\u001b[0m \u001b[38;5;124;03m    \"\"\"\u001b[39;00m\n\u001b[1;32m--> 911\u001b[0m     y_type, y_true, y_pred, multioutput \u001b[38;5;241m=\u001b[39m \u001b[43m_check_reg_targets\u001b[49m\u001b[43m(\u001b[49m\n\u001b[0;32m    912\u001b[0m \u001b[43m        \u001b[49m\u001b[43my_true\u001b[49m\u001b[43m,\u001b[49m\u001b[43m \u001b[49m\u001b[43my_pred\u001b[49m\u001b[43m,\u001b[49m\u001b[43m \u001b[49m\u001b[43mmultioutput\u001b[49m\n\u001b[0;32m    913\u001b[0m \u001b[43m    \u001b[49m\u001b[43m)\u001b[49m\n\u001b[0;32m    914\u001b[0m     check_consistent_length(y_true, y_pred, sample_weight)\n\u001b[0;32m    916\u001b[0m     \u001b[38;5;28;01mif\u001b[39;00m _num_samples(y_pred) \u001b[38;5;241m<\u001b[39m \u001b[38;5;241m2\u001b[39m:\n",
      "File \u001b[1;32mC:\\ProgramData\\anaconda3\\lib\\site-packages\\sklearn\\metrics\\_regression.py:102\u001b[0m, in \u001b[0;36m_check_reg_targets\u001b[1;34m(y_true, y_pred, multioutput, dtype)\u001b[0m\n\u001b[0;32m    100\u001b[0m check_consistent_length(y_true, y_pred)\n\u001b[0;32m    101\u001b[0m y_true \u001b[38;5;241m=\u001b[39m check_array(y_true, ensure_2d\u001b[38;5;241m=\u001b[39m\u001b[38;5;28;01mFalse\u001b[39;00m, dtype\u001b[38;5;241m=\u001b[39mdtype)\n\u001b[1;32m--> 102\u001b[0m y_pred \u001b[38;5;241m=\u001b[39m \u001b[43mcheck_array\u001b[49m\u001b[43m(\u001b[49m\u001b[43my_pred\u001b[49m\u001b[43m,\u001b[49m\u001b[43m \u001b[49m\u001b[43mensure_2d\u001b[49m\u001b[38;5;241;43m=\u001b[39;49m\u001b[38;5;28;43;01mFalse\u001b[39;49;00m\u001b[43m,\u001b[49m\u001b[43m \u001b[49m\u001b[43mdtype\u001b[49m\u001b[38;5;241;43m=\u001b[39;49m\u001b[43mdtype\u001b[49m\u001b[43m)\u001b[49m\n\u001b[0;32m    104\u001b[0m \u001b[38;5;28;01mif\u001b[39;00m y_true\u001b[38;5;241m.\u001b[39mndim \u001b[38;5;241m==\u001b[39m \u001b[38;5;241m1\u001b[39m:\n\u001b[0;32m    105\u001b[0m     y_true \u001b[38;5;241m=\u001b[39m y_true\u001b[38;5;241m.\u001b[39mreshape((\u001b[38;5;241m-\u001b[39m\u001b[38;5;241m1\u001b[39m, \u001b[38;5;241m1\u001b[39m))\n",
      "File \u001b[1;32mC:\\ProgramData\\anaconda3\\lib\\site-packages\\sklearn\\utils\\validation.py:899\u001b[0m, in \u001b[0;36mcheck_array\u001b[1;34m(array, accept_sparse, accept_large_sparse, dtype, order, copy, force_all_finite, ensure_2d, allow_nd, ensure_min_samples, ensure_min_features, estimator, input_name)\u001b[0m\n\u001b[0;32m    893\u001b[0m         \u001b[38;5;28;01mraise\u001b[39;00m \u001b[38;5;167;01mValueError\u001b[39;00m(\n\u001b[0;32m    894\u001b[0m             \u001b[38;5;124m\"\u001b[39m\u001b[38;5;124mFound array with dim \u001b[39m\u001b[38;5;132;01m%d\u001b[39;00m\u001b[38;5;124m. \u001b[39m\u001b[38;5;132;01m%s\u001b[39;00m\u001b[38;5;124m expected <= 2.\u001b[39m\u001b[38;5;124m\"\u001b[39m\n\u001b[0;32m    895\u001b[0m             \u001b[38;5;241m%\u001b[39m (array\u001b[38;5;241m.\u001b[39mndim, estimator_name)\n\u001b[0;32m    896\u001b[0m         )\n\u001b[0;32m    898\u001b[0m     \u001b[38;5;28;01mif\u001b[39;00m force_all_finite:\n\u001b[1;32m--> 899\u001b[0m         \u001b[43m_assert_all_finite\u001b[49m\u001b[43m(\u001b[49m\n\u001b[0;32m    900\u001b[0m \u001b[43m            \u001b[49m\u001b[43marray\u001b[49m\u001b[43m,\u001b[49m\n\u001b[0;32m    901\u001b[0m \u001b[43m            \u001b[49m\u001b[43minput_name\u001b[49m\u001b[38;5;241;43m=\u001b[39;49m\u001b[43minput_name\u001b[49m\u001b[43m,\u001b[49m\n\u001b[0;32m    902\u001b[0m \u001b[43m            \u001b[49m\u001b[43mestimator_name\u001b[49m\u001b[38;5;241;43m=\u001b[39;49m\u001b[43mestimator_name\u001b[49m\u001b[43m,\u001b[49m\n\u001b[0;32m    903\u001b[0m \u001b[43m            \u001b[49m\u001b[43mallow_nan\u001b[49m\u001b[38;5;241;43m=\u001b[39;49m\u001b[43mforce_all_finite\u001b[49m\u001b[43m \u001b[49m\u001b[38;5;241;43m==\u001b[39;49m\u001b[43m \u001b[49m\u001b[38;5;124;43m\"\u001b[39;49m\u001b[38;5;124;43mallow-nan\u001b[39;49m\u001b[38;5;124;43m\"\u001b[39;49m\u001b[43m,\u001b[49m\n\u001b[0;32m    904\u001b[0m \u001b[43m        \u001b[49m\u001b[43m)\u001b[49m\n\u001b[0;32m    906\u001b[0m \u001b[38;5;28;01mif\u001b[39;00m ensure_min_samples \u001b[38;5;241m>\u001b[39m \u001b[38;5;241m0\u001b[39m:\n\u001b[0;32m    907\u001b[0m     n_samples \u001b[38;5;241m=\u001b[39m _num_samples(array)\n",
      "File \u001b[1;32mC:\\ProgramData\\anaconda3\\lib\\site-packages\\sklearn\\utils\\validation.py:146\u001b[0m, in \u001b[0;36m_assert_all_finite\u001b[1;34m(X, allow_nan, msg_dtype, estimator_name, input_name)\u001b[0m\n\u001b[0;32m    124\u001b[0m         \u001b[38;5;28;01mif\u001b[39;00m (\n\u001b[0;32m    125\u001b[0m             \u001b[38;5;129;01mnot\u001b[39;00m allow_nan\n\u001b[0;32m    126\u001b[0m             \u001b[38;5;129;01mand\u001b[39;00m estimator_name\n\u001b[1;32m   (...)\u001b[0m\n\u001b[0;32m    130\u001b[0m             \u001b[38;5;66;03m# Improve the error message on how to handle missing values in\u001b[39;00m\n\u001b[0;32m    131\u001b[0m             \u001b[38;5;66;03m# scikit-learn.\u001b[39;00m\n\u001b[0;32m    132\u001b[0m             msg_err \u001b[38;5;241m+\u001b[39m\u001b[38;5;241m=\u001b[39m (\n\u001b[0;32m    133\u001b[0m                 \u001b[38;5;124mf\u001b[39m\u001b[38;5;124m\"\u001b[39m\u001b[38;5;130;01m\\n\u001b[39;00m\u001b[38;5;132;01m{\u001b[39;00mestimator_name\u001b[38;5;132;01m}\u001b[39;00m\u001b[38;5;124m does not accept missing values\u001b[39m\u001b[38;5;124m\"\u001b[39m\n\u001b[0;32m    134\u001b[0m                 \u001b[38;5;124m\"\u001b[39m\u001b[38;5;124m encoded as NaN natively. For supervised learning, you might want\u001b[39m\u001b[38;5;124m\"\u001b[39m\n\u001b[1;32m   (...)\u001b[0m\n\u001b[0;32m    144\u001b[0m                 \u001b[38;5;124m\"\u001b[39m\u001b[38;5;124m#estimators-that-handle-nan-values\u001b[39m\u001b[38;5;124m\"\u001b[39m\n\u001b[0;32m    145\u001b[0m             )\n\u001b[1;32m--> 146\u001b[0m         \u001b[38;5;28;01mraise\u001b[39;00m \u001b[38;5;167;01mValueError\u001b[39;00m(msg_err)\n\u001b[0;32m    148\u001b[0m \u001b[38;5;66;03m# for object dtype data, we only check for NaNs (GH-13254)\u001b[39;00m\n\u001b[0;32m    149\u001b[0m \u001b[38;5;28;01melif\u001b[39;00m X\u001b[38;5;241m.\u001b[39mdtype \u001b[38;5;241m==\u001b[39m np\u001b[38;5;241m.\u001b[39mdtype(\u001b[38;5;124m\"\u001b[39m\u001b[38;5;124mobject\u001b[39m\u001b[38;5;124m\"\u001b[39m) \u001b[38;5;129;01mand\u001b[39;00m \u001b[38;5;129;01mnot\u001b[39;00m allow_nan:\n",
      "\u001b[1;31mValueError\u001b[0m: Input contains NaN."
     ]
    }
   ],
   "source": [
    "velocity_model1.score(U_test, v_test)"
   ]
  },
  {
   "cell_type": "markdown",
   "id": "a398a5ce-c9d7-46ec-a679-265f395ce588",
   "metadata": {},
   "source": [
    "# Using Multi-layer Percerptron Regressor (MLP Regressor)"
   ]
  },
  {
   "cell_type": "code",
   "execution_count": null,
   "id": "7d78fae9-b8ee-4cc7-a68a-0354879106e3",
   "metadata": {},
   "outputs": [],
   "source": [
    "%%time\n",
    "\n",
    "from sklearn.neural_network import MLPRegressor\n",
    "\n",
    "\n",
    "MLP= MLPRegressor(random_state=42)\n",
    "\n",
    "MLP.fit(U_train, v_train)"
   ]
  },
  {
   "cell_type": "code",
   "execution_count": null,
   "id": "53fe7519-bae9-4b9e-86bf-10079fb13634",
   "metadata": {},
   "outputs": [],
   "source": [
    "MLP.score(X=U_test,y=v_test)"
   ]
  },
  {
   "cell_type": "code",
   "execution_count": null,
   "id": "646cf1a4-71a1-44d7-aa69-9be3a794eefa",
   "metadata": {},
   "outputs": [],
   "source": [
    "from datetime import datetime\n",
    "\n",
    "\n",
    "print(f\"This notebook code was last run on {datetime.now()}\")"
   ]
  },
  {
   "cell_type": "markdown",
   "id": "84e0e2ef",
   "metadata": {},
   "source": [
    "## Exporting the y_test and the RandomForestRegressor Predicted data (y_preds)"
   ]
  },
  {
   "cell_type": "code",
   "execution_count": null,
   "id": "2cd0198d",
   "metadata": {},
   "outputs": [],
   "source": [
    "test_n_predicted_data=pd.DataFrame(np.array(y_test), columns=['y_test(i)','y_test(j)', 'y_test(k)'])\n",
    "\n",
    "test_n_predicted_data[['y_preds(i)', 'y_preds(j)', 'y_preds(k)']]=np.array(y_preds)\n",
    "\n",
    "test_n_predicted_data.to_csv('./test_n_predicted_data(#30).csv', index=False)\n",
    "\n",
    "test_n_predicted_data"
   ]
  },
  {
   "cell_type": "markdown",
   "id": "be84c6aa",
   "metadata": {},
   "source": [
    "## Difference Between the y_test (Actual data) and the y_preds (Predicted Data )"
   ]
  },
  {
   "cell_type": "code",
   "execution_count": null,
   "id": "39e8f390",
   "metadata": {},
   "outputs": [],
   "source": [
    "dataDifference = np.array(y_test)-np.array(y_preds)\n",
    "df_dataDifference=pd.DataFrame(dataDifference, columns=['y_test(i) - y_preds(i)', 'y_test(j) - y_preds(j)', 'y_test(k) - y_preds(k)'])\n",
    "df_dataDifference"
   ]
  },
  {
   "cell_type": "markdown",
   "id": "5f2566d7",
   "metadata": {},
   "source": [
    "*The dataDifference is approximately equal to zero, this is better seen when the values are rounded to 3 decimal places as shown below\n"
   ]
  },
  {
   "cell_type": "code",
   "execution_count": null,
   "id": "995419e9",
   "metadata": {},
   "outputs": [],
   "source": [
    "df_dataDifference.round(3)"
   ]
  },
  {
   "cell_type": "markdown",
   "id": "5389b60f",
   "metadata": {},
   "source": [
    "## Exporting the dataDifference"
   ]
  },
  {
   "cell_type": "code",
   "execution_count": null,
   "id": "1e3d0d71",
   "metadata": {},
   "outputs": [],
   "source": [
    "df_dataDifference.to_csv('difference btw y_test and y_preds(#30).csv', index=False)"
   ]
  },
  {
   "cell_type": "markdown",
   "id": "4555a81a",
   "metadata": {},
   "source": [
    "## Exporting the Training Data (X_train and y_train)"
   ]
  },
  {
   "cell_type": "code",
   "execution_count": null,
   "id": "8d1397c7",
   "metadata": {},
   "outputs": [],
   "source": [
    "TrainingData = X_train\n",
    "TrainingData[['Parcel Centroid[X] (m)', 'Parcel Centroid[Y] (m)', 'Parcel Centroid[Z] (m)']]=y_train\n",
    "TrainingData"
   ]
  },
  {
   "cell_type": "code",
   "execution_count": null,
   "id": "44b00811",
   "metadata": {},
   "outputs": [],
   "source": [
    "TrainingData.to_csv('./Training_Data(#30).csv', index=False)"
   ]
  },
  {
   "cell_type": "markdown",
   "id": "2141caef",
   "metadata": {},
   "source": [
    "## Exporting X_test"
   ]
  },
  {
   "cell_type": "code",
   "execution_count": null,
   "id": "45fdeb5c",
   "metadata": {},
   "outputs": [],
   "source": [
    "Xtest=X_test\n",
    "Xtest.to_csv('./X_test(#30).csv')"
   ]
  },
  {
   "cell_type": "code",
   "execution_count": null,
   "id": "48cb96ac",
   "metadata": {},
   "outputs": [],
   "source": [
    "## Exporting y_test\n",
    "Ytest=y_test\n",
    "Ytest.to_csv('./y_test(#30).csv')"
   ]
  },
  {
   "cell_type": "markdown",
   "id": "7641cec6",
   "metadata": {},
   "source": [
    "## Exporting both X_test and y_test as a combined file"
   ]
  },
  {
   "cell_type": "code",
   "execution_count": null,
   "id": "78d012c3",
   "metadata": {},
   "outputs": [],
   "source": [
    "Xtest[['Parcel Centroid[X] (m)', 'Parcel Centroid[Y] (m)', 'Parcel Centroid[Z] (m)']]=Ytest\n",
    "Xtest.to_csv('./X_test and y_test(#30).csv')"
   ]
  },
  {
   "cell_type": "markdown",
   "id": "fb6c12aa",
   "metadata": {},
   "source": [
    "## Saving the model as a file"
   ]
  },
  {
   "cell_type": "code",
   "execution_count": null,
   "id": "150cd32e",
   "metadata": {},
   "outputs": [],
   "source": [
    "import pickle\n",
    "import joblib\n",
    "\n",
    "saved_RndmFrst_model30 =pickle.dumps(model1)\n",
    "\n",
    "joblib.dump(model1, './saved_RandomFrstRegresor_model30.pkl') #RandomForestRegressor\n",
    "joblib.dump(model2, './saved_LinearRegrsor_model30.pkl') #LinearRegressor\n",
    "joblib.dump(model3, './saved_RidgeRegrsor_model30.pkl') #RidgeRegressor"
   ]
  },
  {
   "cell_type": "code",
   "execution_count": null,
   "id": "d918fc61",
   "metadata": {},
   "outputs": [],
   "source": []
  }
 ],
 "metadata": {
  "kernelspec": {
   "display_name": "Python 3 (ipykernel)",
   "language": "python",
   "name": "python3"
  },
  "language_info": {
   "codemirror_mode": {
    "name": "ipython",
    "version": 3
   },
   "file_extension": ".py",
   "mimetype": "text/x-python",
   "name": "python",
   "nbconvert_exporter": "python",
   "pygments_lexer": "ipython3",
   "version": "3.10.9"
  }
 },
 "nbformat": 4,
 "nbformat_minor": 5
}
