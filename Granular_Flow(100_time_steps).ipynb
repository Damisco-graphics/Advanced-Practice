{
 "cells": [
  {
   "cell_type": "markdown",
   "id": "4b49399e-fdf7-4e5a-9351-79754e455df6",
   "metadata": {},
   "source": [
    "#  Data Analytics and Machine Learning of the Data space in Granular Flow\n",
    "    *Developing the machine learning model with 100 time_steps"
   ]
  },
  {
   "cell_type": "code",
   "execution_count": 1,
   "id": "be4fdd26-0a4a-43d3-b735-d96dcc573b6a",
   "metadata": {},
   "outputs": [],
   "source": [
    "%matplotlib inline\n",
    "import pandas as pd\n",
    "import numpy as np\n",
    "import matplotlib.pyplot as plt"
   ]
  },
  {
   "cell_type": "code",
   "execution_count": 2,
   "id": "f956a917-720a-49f8-93db-8b0e0735149e",
   "metadata": {},
   "outputs": [],
   "source": [
    "#pd.set_option('display.max_column', None)\n",
    "#pd.set_option('display.max_rows', None)"
   ]
  },
  {
   "cell_type": "markdown",
   "id": "206ad89a-1937-40fe-9611-ab4c7c5e8e7d",
   "metadata": {},
   "source": [
    "# 1.0 Combining the data gathered for each time step into a single csv file"
   ]
  },
  {
   "cell_type": "code",
   "execution_count": 3,
   "id": "790bd4bb-0350-4293-a1ec-475a61caf964",
   "metadata": {},
   "outputs": [],
   "source": [
    "granular_flow_data_paths=[]\n",
    "\n",
    "tot=np.arange(100,10100,100)\n",
    "for i in range(tot.size+1):\n",
    "    if i==0:\n",
    "        pass\n",
    "    else:\n",
    "        a=[f\"\"\"../Tables (Data set)/XYZ_Internal_Table_table_{i*100}.csv\"\"\"]\n",
    "        granular_flow_data_paths+=a\n",
    "\n",
    "\n",
    "\n",
    "granular_flow_dataset = []\n",
    "for datapath in granular_flow_data_paths:\n",
    "    df=pd.read_csv(datapath)\n",
    "    granular_flow_dataset.append(df)\n"
   ]
  },
  {
   "cell_type": "code",
   "execution_count": 4,
   "id": "9a2234d7",
   "metadata": {},
   "outputs": [
    {
     "data": {
      "text/plain": [
       "100"
      ]
     },
     "execution_count": 4,
     "metadata": {},
     "output_type": "execute_result"
    }
   ],
   "source": [
    "len(granular_flow_dataset)"
   ]
  },
  {
   "cell_type": "code",
   "execution_count": 5,
   "id": "97526889-3389-4342-9679-ace46ac32364",
   "metadata": {},
   "outputs": [],
   "source": [
    "y=pd.concat(granular_flow_dataset)\n",
    "Combined_flow_data=y.to_csv('./Combined flow data(#100).csv')\n",
    "Combined_flow_data"
   ]
  },
  {
   "cell_type": "markdown",
   "id": "5cf71c68-8ea9-4a9b-969c-d6f3ecb1a8ba",
   "metadata": {},
   "source": [
    "# 2.0 Working With the Saved file"
   ]
  },
  {
   "cell_type": "markdown",
   "id": "63da890d-4efb-4d52-809e-22c2d91d4329",
   "metadata": {
    "tags": []
   },
   "source": [
    "## 2.1 Reading (Loading) the combined saved data"
   ]
  },
  {
   "cell_type": "code",
   "execution_count": 6,
   "id": "92eaa73b-6241-4ae4-a88a-7d79304c27b3",
   "metadata": {
    "tags": []
   },
   "outputs": [
    {
     "data": {
      "text/html": [
       "<div>\n",
       "<style scoped>\n",
       "    .dataframe tbody tr th:only-of-type {\n",
       "        vertical-align: middle;\n",
       "    }\n",
       "\n",
       "    .dataframe tbody tr th {\n",
       "        vertical-align: top;\n",
       "    }\n",
       "\n",
       "    .dataframe thead th {\n",
       "        text-align: right;\n",
       "    }\n",
       "</style>\n",
       "<table border=\"1\" class=\"dataframe\">\n",
       "  <thead>\n",
       "    <tr style=\"text-align: right;\">\n",
       "      <th></th>\n",
       "      <th>Unnamed: 0</th>\n",
       "      <th>Time (s)</th>\n",
       "      <th>Parcel Centroid[X] (m)</th>\n",
       "      <th>Parcel Centroid[Y] (m)</th>\n",
       "      <th>Parcel Centroid[Z] (m)</th>\n",
       "      <th>Particle Velocity[i] (m/s)</th>\n",
       "      <th>Particle Velocity[j] (m/s)</th>\n",
       "      <th>Particle Velocity[k] (m/s)</th>\n",
       "      <th>Particle Velocity: Magnitude (m/s)</th>\n",
       "      <th>Volume Fraction of Phase 1</th>\n",
       "      <th>Wall Shear Stress: Magnitude (Pa)</th>\n",
       "      <th>Report: Element Count 1</th>\n",
       "      <th>Report: Total Solver CPU Time (s)</th>\n",
       "      <th>X (m)</th>\n",
       "      <th>Y (m)</th>\n",
       "      <th>Z (m)</th>\n",
       "    </tr>\n",
       "  </thead>\n",
       "  <tbody>\n",
       "    <tr>\n",
       "      <th>0</th>\n",
       "      <td>0</td>\n",
       "      <td>0.02</td>\n",
       "      <td>-0.113685</td>\n",
       "      <td>0.032540</td>\n",
       "      <td>0.014828</td>\n",
       "      <td>0.576229</td>\n",
       "      <td>7.599137e-06</td>\n",
       "      <td>-0.156682</td>\n",
       "      <td>0.597151</td>\n",
       "      <td>0.010824</td>\n",
       "      <td>0</td>\n",
       "      <td>1128</td>\n",
       "      <td>5.851</td>\n",
       "      <td>-0.113685</td>\n",
       "      <td>0.032540</td>\n",
       "      <td>0.014828</td>\n",
       "    </tr>\n",
       "    <tr>\n",
       "      <th>1</th>\n",
       "      <td>1</td>\n",
       "      <td>0.02</td>\n",
       "      <td>-0.113686</td>\n",
       "      <td>0.025651</td>\n",
       "      <td>0.007872</td>\n",
       "      <td>0.575964</td>\n",
       "      <td>-3.384995e-05</td>\n",
       "      <td>-0.156740</td>\n",
       "      <td>0.596911</td>\n",
       "      <td>0.006975</td>\n",
       "      <td>0</td>\n",
       "      <td>1128</td>\n",
       "      <td>5.851</td>\n",
       "      <td>-0.113686</td>\n",
       "      <td>0.025651</td>\n",
       "      <td>0.007872</td>\n",
       "    </tr>\n",
       "    <tr>\n",
       "      <th>2</th>\n",
       "      <td>2</td>\n",
       "      <td>0.02</td>\n",
       "      <td>-0.113689</td>\n",
       "      <td>0.024866</td>\n",
       "      <td>0.018086</td>\n",
       "      <td>0.576129</td>\n",
       "      <td>8.063311e-05</td>\n",
       "      <td>-0.156886</td>\n",
       "      <td>0.597108</td>\n",
       "      <td>0.010824</td>\n",
       "      <td>0</td>\n",
       "      <td>1128</td>\n",
       "      <td>5.851</td>\n",
       "      <td>-0.113689</td>\n",
       "      <td>0.024866</td>\n",
       "      <td>0.018086</td>\n",
       "    </tr>\n",
       "    <tr>\n",
       "      <th>3</th>\n",
       "      <td>3</td>\n",
       "      <td>0.02</td>\n",
       "      <td>-0.113687</td>\n",
       "      <td>0.038670</td>\n",
       "      <td>0.008284</td>\n",
       "      <td>0.576709</td>\n",
       "      <td>-4.113741e-04</td>\n",
       "      <td>-0.155926</td>\n",
       "      <td>0.597417</td>\n",
       "      <td>0.034522</td>\n",
       "      <td>0</td>\n",
       "      <td>1128</td>\n",
       "      <td>5.851</td>\n",
       "      <td>-0.113687</td>\n",
       "      <td>0.038670</td>\n",
       "      <td>0.008284</td>\n",
       "    </tr>\n",
       "    <tr>\n",
       "      <th>4</th>\n",
       "      <td>4</td>\n",
       "      <td>0.02</td>\n",
       "      <td>-0.113689</td>\n",
       "      <td>0.026663</td>\n",
       "      <td>0.013483</td>\n",
       "      <td>0.576153</td>\n",
       "      <td>3.311456e-05</td>\n",
       "      <td>-0.156845</td>\n",
       "      <td>0.597121</td>\n",
       "      <td>0.010824</td>\n",
       "      <td>0</td>\n",
       "      <td>1128</td>\n",
       "      <td>5.851</td>\n",
       "      <td>-0.113689</td>\n",
       "      <td>0.026663</td>\n",
       "      <td>0.013483</td>\n",
       "    </tr>\n",
       "    <tr>\n",
       "      <th>...</th>\n",
       "      <td>...</td>\n",
       "      <td>...</td>\n",
       "      <td>...</td>\n",
       "      <td>...</td>\n",
       "      <td>...</td>\n",
       "      <td>...</td>\n",
       "      <td>...</td>\n",
       "      <td>...</td>\n",
       "      <td>...</td>\n",
       "      <td>...</td>\n",
       "      <td>...</td>\n",
       "      <td>...</td>\n",
       "      <td>...</td>\n",
       "      <td>...</td>\n",
       "      <td>...</td>\n",
       "      <td>...</td>\n",
       "    </tr>\n",
       "    <tr>\n",
       "      <th>2641417</th>\n",
       "      <td>30668</td>\n",
       "      <td>2.00</td>\n",
       "      <td>-0.117250</td>\n",
       "      <td>0.034019</td>\n",
       "      <td>0.007598</td>\n",
       "      <td>0.538821</td>\n",
       "      <td>-1.702028e-07</td>\n",
       "      <td>-0.108070</td>\n",
       "      <td>0.549552</td>\n",
       "      <td>0.085416</td>\n",
       "      <td>0</td>\n",
       "      <td>30673</td>\n",
       "      <td>10843.272</td>\n",
       "      <td>-0.117250</td>\n",
       "      <td>0.034019</td>\n",
       "      <td>0.007598</td>\n",
       "    </tr>\n",
       "    <tr>\n",
       "      <th>2641418</th>\n",
       "      <td>30669</td>\n",
       "      <td>2.00</td>\n",
       "      <td>-0.117254</td>\n",
       "      <td>0.029126</td>\n",
       "      <td>0.007375</td>\n",
       "      <td>0.538780</td>\n",
       "      <td>-1.942652e-07</td>\n",
       "      <td>-0.108018</td>\n",
       "      <td>0.549502</td>\n",
       "      <td>0.085416</td>\n",
       "      <td>0</td>\n",
       "      <td>30673</td>\n",
       "      <td>10843.272</td>\n",
       "      <td>-0.117254</td>\n",
       "      <td>0.029126</td>\n",
       "      <td>0.007375</td>\n",
       "    </tr>\n",
       "    <tr>\n",
       "      <th>2641419</th>\n",
       "      <td>30670</td>\n",
       "      <td>2.00</td>\n",
       "      <td>-0.117258</td>\n",
       "      <td>0.035297</td>\n",
       "      <td>0.015387</td>\n",
       "      <td>0.538740</td>\n",
       "      <td>-2.003241e-08</td>\n",
       "      <td>-0.107967</td>\n",
       "      <td>0.549452</td>\n",
       "      <td>0.049209</td>\n",
       "      <td>0</td>\n",
       "      <td>30673</td>\n",
       "      <td>10843.272</td>\n",
       "      <td>-0.117258</td>\n",
       "      <td>0.035297</td>\n",
       "      <td>0.015387</td>\n",
       "    </tr>\n",
       "    <tr>\n",
       "      <th>2641420</th>\n",
       "      <td>30671</td>\n",
       "      <td>2.00</td>\n",
       "      <td>-0.117258</td>\n",
       "      <td>0.026099</td>\n",
       "      <td>0.002817</td>\n",
       "      <td>0.538740</td>\n",
       "      <td>-4.235156e-08</td>\n",
       "      <td>-0.107966</td>\n",
       "      <td>0.549452</td>\n",
       "      <td>0.163638</td>\n",
       "      <td>0</td>\n",
       "      <td>30673</td>\n",
       "      <td>10843.272</td>\n",
       "      <td>-0.117258</td>\n",
       "      <td>0.026099</td>\n",
       "      <td>0.002817</td>\n",
       "    </tr>\n",
       "    <tr>\n",
       "      <th>2641421</th>\n",
       "      <td>30672</td>\n",
       "      <td>2.00</td>\n",
       "      <td>-0.117258</td>\n",
       "      <td>0.028311</td>\n",
       "      <td>0.014175</td>\n",
       "      <td>0.538740</td>\n",
       "      <td>-9.259014e-08</td>\n",
       "      <td>-0.107967</td>\n",
       "      <td>0.549452</td>\n",
       "      <td>0.049209</td>\n",
       "      <td>0</td>\n",
       "      <td>30673</td>\n",
       "      <td>10843.272</td>\n",
       "      <td>-0.117258</td>\n",
       "      <td>0.028311</td>\n",
       "      <td>0.014175</td>\n",
       "    </tr>\n",
       "  </tbody>\n",
       "</table>\n",
       "<p>2641422 rows × 16 columns</p>\n",
       "</div>"
      ],
      "text/plain": [
       "         Unnamed: 0  Time (s)  Parcel Centroid[X] (m)  Parcel Centroid[Y] (m)  \\\n",
       "0                 0      0.02               -0.113685                0.032540   \n",
       "1                 1      0.02               -0.113686                0.025651   \n",
       "2                 2      0.02               -0.113689                0.024866   \n",
       "3                 3      0.02               -0.113687                0.038670   \n",
       "4                 4      0.02               -0.113689                0.026663   \n",
       "...             ...       ...                     ...                     ...   \n",
       "2641417       30668      2.00               -0.117250                0.034019   \n",
       "2641418       30669      2.00               -0.117254                0.029126   \n",
       "2641419       30670      2.00               -0.117258                0.035297   \n",
       "2641420       30671      2.00               -0.117258                0.026099   \n",
       "2641421       30672      2.00               -0.117258                0.028311   \n",
       "\n",
       "         Parcel Centroid[Z] (m)  Particle Velocity[i] (m/s)  \\\n",
       "0                      0.014828                    0.576229   \n",
       "1                      0.007872                    0.575964   \n",
       "2                      0.018086                    0.576129   \n",
       "3                      0.008284                    0.576709   \n",
       "4                      0.013483                    0.576153   \n",
       "...                         ...                         ...   \n",
       "2641417                0.007598                    0.538821   \n",
       "2641418                0.007375                    0.538780   \n",
       "2641419                0.015387                    0.538740   \n",
       "2641420                0.002817                    0.538740   \n",
       "2641421                0.014175                    0.538740   \n",
       "\n",
       "         Particle Velocity[j] (m/s)  Particle Velocity[k] (m/s)  \\\n",
       "0                      7.599137e-06                   -0.156682   \n",
       "1                     -3.384995e-05                   -0.156740   \n",
       "2                      8.063311e-05                   -0.156886   \n",
       "3                     -4.113741e-04                   -0.155926   \n",
       "4                      3.311456e-05                   -0.156845   \n",
       "...                             ...                         ...   \n",
       "2641417               -1.702028e-07                   -0.108070   \n",
       "2641418               -1.942652e-07                   -0.108018   \n",
       "2641419               -2.003241e-08                   -0.107967   \n",
       "2641420               -4.235156e-08                   -0.107966   \n",
       "2641421               -9.259014e-08                   -0.107967   \n",
       "\n",
       "         Particle Velocity: Magnitude (m/s)  Volume Fraction of Phase 1  \\\n",
       "0                                  0.597151                    0.010824   \n",
       "1                                  0.596911                    0.006975   \n",
       "2                                  0.597108                    0.010824   \n",
       "3                                  0.597417                    0.034522   \n",
       "4                                  0.597121                    0.010824   \n",
       "...                                     ...                         ...   \n",
       "2641417                            0.549552                    0.085416   \n",
       "2641418                            0.549502                    0.085416   \n",
       "2641419                            0.549452                    0.049209   \n",
       "2641420                            0.549452                    0.163638   \n",
       "2641421                            0.549452                    0.049209   \n",
       "\n",
       "         Wall Shear Stress: Magnitude (Pa)  Report: Element Count 1  \\\n",
       "0                                        0                     1128   \n",
       "1                                        0                     1128   \n",
       "2                                        0                     1128   \n",
       "3                                        0                     1128   \n",
       "4                                        0                     1128   \n",
       "...                                    ...                      ...   \n",
       "2641417                                  0                    30673   \n",
       "2641418                                  0                    30673   \n",
       "2641419                                  0                    30673   \n",
       "2641420                                  0                    30673   \n",
       "2641421                                  0                    30673   \n",
       "\n",
       "         Report: Total Solver CPU Time (s)     X (m)     Y (m)     Z (m)  \n",
       "0                                    5.851 -0.113685  0.032540  0.014828  \n",
       "1                                    5.851 -0.113686  0.025651  0.007872  \n",
       "2                                    5.851 -0.113689  0.024866  0.018086  \n",
       "3                                    5.851 -0.113687  0.038670  0.008284  \n",
       "4                                    5.851 -0.113689  0.026663  0.013483  \n",
       "...                                    ...       ...       ...       ...  \n",
       "2641417                          10843.272 -0.117250  0.034019  0.007598  \n",
       "2641418                          10843.272 -0.117254  0.029126  0.007375  \n",
       "2641419                          10843.272 -0.117258  0.035297  0.015387  \n",
       "2641420                          10843.272 -0.117258  0.026099  0.002817  \n",
       "2641421                          10843.272 -0.117258  0.028311  0.014175  \n",
       "\n",
       "[2641422 rows x 16 columns]"
      ]
     },
     "execution_count": 6,
     "metadata": {},
     "output_type": "execute_result"
    }
   ],
   "source": [
    "\n",
    "Granular_flow_data= pd.read_csv('./Combined flow data(#100).csv')\n",
    "Granular_flow_data"
   ]
  },
  {
   "cell_type": "markdown",
   "id": "cb4183b5-00fc-4a4a-9532-e3ea06caaf6f",
   "metadata": {},
   "source": [
    "## Finding patterns in the data using correlation matrix"
   ]
  },
  {
   "cell_type": "code",
   "execution_count": 7,
   "id": "84fbe249-08c8-4061-9b12-036e1978c30e",
   "metadata": {},
   "outputs": [
    {
     "data": {
      "image/png": "[encoded data removed]",
      "text/plain": [
       "<Figure size 1250x1000 with 2 Axes>"
      ]
     },
     "metadata": {},
     "output_type": "display_data"
    }
   ],
   "source": [
    "import seaborn as sns\n",
    "\n",
    "corr_matrix =Granular_flow_data.corr()\n",
    "\n",
    "fig, ax_corr_Matrix=plt.subplots(figsize=(12.5,10))\n",
    "\n",
    "color = plt.get_cmap('YlGnBu')   # default color\n",
    "color.set_bad('lightblue')  \n",
    "\n",
    "ax =sns.heatmap(corr_matrix, \n",
    "                annot=True,\n",
    "                fmt=\".2f\",\n",
    "                cmap=color\n",
    "               )\n",
    "fig.savefig('./Correlation_matrix_for_the_data(#100).png', bbox_inches='tight', dpi=1200)"
   ]
  },
  {
   "cell_type": "markdown",
   "id": "06c198f6-1712-4fd4-ad89-7802118f586a",
   "metadata": {},
   "source": [
    "## 2.2 Splitting the data"
   ]
  },
  {
   "cell_type": "code",
   "execution_count": 8,
   "id": "5f60ea1a-676d-484e-8f95-f9fe85272743",
   "metadata": {},
   "outputs": [],
   "source": [
    "\n",
    "X=Granular_flow_data.drop(['Parcel Centroid[X] (m)', 'Parcel Centroid[Y] (m)', 'Parcel Centroid[Z] (m)', 'X (m)',\t'Y (m)',\t'Z (m)'], axis=1)\n",
    "y= Granular_flow_data[['Parcel Centroid[X] (m)', 'Parcel Centroid[Y] (m)', 'Parcel Centroid[Z] (m)']]\n"
   ]
  },
  {
   "cell_type": "code",
   "execution_count": 9,
   "id": "7f23a498-fed8-4cbe-8dd4-97597f9bd8a4",
   "metadata": {},
   "outputs": [
    {
     "data": {
      "text/html": [
       "<div>\n",
       "<style scoped>\n",
       "    .dataframe tbody tr th:only-of-type {\n",
       "        vertical-align: middle;\n",
       "    }\n",
       "\n",
       "    .dataframe tbody tr th {\n",
       "        vertical-align: top;\n",
       "    }\n",
       "\n",
       "    .dataframe thead th {\n",
       "        text-align: right;\n",
       "    }\n",
       "</style>\n",
       "<table border=\"1\" class=\"dataframe\">\n",
       "  <thead>\n",
       "    <tr style=\"text-align: right;\">\n",
       "      <th></th>\n",
       "      <th>Unnamed: 0</th>\n",
       "      <th>Time (s)</th>\n",
       "      <th>Particle Velocity[i] (m/s)</th>\n",
       "      <th>Particle Velocity[j] (m/s)</th>\n",
       "      <th>Particle Velocity[k] (m/s)</th>\n",
       "      <th>Particle Velocity: Magnitude (m/s)</th>\n",
       "      <th>Volume Fraction of Phase 1</th>\n",
       "      <th>Wall Shear Stress: Magnitude (Pa)</th>\n",
       "      <th>Report: Element Count 1</th>\n",
       "      <th>Report: Total Solver CPU Time (s)</th>\n",
       "    </tr>\n",
       "  </thead>\n",
       "  <tbody>\n",
       "    <tr>\n",
       "      <th>0</th>\n",
       "      <td>0</td>\n",
       "      <td>0.02</td>\n",
       "      <td>0.576229</td>\n",
       "      <td>7.599137e-06</td>\n",
       "      <td>-0.156682</td>\n",
       "      <td>0.597151</td>\n",
       "      <td>0.010824</td>\n",
       "      <td>0</td>\n",
       "      <td>1128</td>\n",
       "      <td>5.851</td>\n",
       "    </tr>\n",
       "    <tr>\n",
       "      <th>1</th>\n",
       "      <td>1</td>\n",
       "      <td>0.02</td>\n",
       "      <td>0.575964</td>\n",
       "      <td>-3.384995e-05</td>\n",
       "      <td>-0.156740</td>\n",
       "      <td>0.596911</td>\n",
       "      <td>0.006975</td>\n",
       "      <td>0</td>\n",
       "      <td>1128</td>\n",
       "      <td>5.851</td>\n",
       "    </tr>\n",
       "    <tr>\n",
       "      <th>2</th>\n",
       "      <td>2</td>\n",
       "      <td>0.02</td>\n",
       "      <td>0.576129</td>\n",
       "      <td>8.063311e-05</td>\n",
       "      <td>-0.156886</td>\n",
       "      <td>0.597108</td>\n",
       "      <td>0.010824</td>\n",
       "      <td>0</td>\n",
       "      <td>1128</td>\n",
       "      <td>5.851</td>\n",
       "    </tr>\n",
       "    <tr>\n",
       "      <th>3</th>\n",
       "      <td>3</td>\n",
       "      <td>0.02</td>\n",
       "      <td>0.576709</td>\n",
       "      <td>-4.113741e-04</td>\n",
       "      <td>-0.155926</td>\n",
       "      <td>0.597417</td>\n",
       "      <td>0.034522</td>\n",
       "      <td>0</td>\n",
       "      <td>1128</td>\n",
       "      <td>5.851</td>\n",
       "    </tr>\n",
       "    <tr>\n",
       "      <th>4</th>\n",
       "      <td>4</td>\n",
       "      <td>0.02</td>\n",
       "      <td>0.576153</td>\n",
       "      <td>3.311456e-05</td>\n",
       "      <td>-0.156845</td>\n",
       "      <td>0.597121</td>\n",
       "      <td>0.010824</td>\n",
       "      <td>0</td>\n",
       "      <td>1128</td>\n",
       "      <td>5.851</td>\n",
       "    </tr>\n",
       "    <tr>\n",
       "      <th>...</th>\n",
       "      <td>...</td>\n",
       "      <td>...</td>\n",
       "      <td>...</td>\n",
       "      <td>...</td>\n",
       "      <td>...</td>\n",
       "      <td>...</td>\n",
       "      <td>...</td>\n",
       "      <td>...</td>\n",
       "      <td>...</td>\n",
       "      <td>...</td>\n",
       "    </tr>\n",
       "    <tr>\n",
       "      <th>2641417</th>\n",
       "      <td>30668</td>\n",
       "      <td>2.00</td>\n",
       "      <td>0.538821</td>\n",
       "      <td>-1.702028e-07</td>\n",
       "      <td>-0.108070</td>\n",
       "      <td>0.549552</td>\n",
       "      <td>0.085416</td>\n",
       "      <td>0</td>\n",
       "      <td>30673</td>\n",
       "      <td>10843.272</td>\n",
       "    </tr>\n",
       "    <tr>\n",
       "      <th>2641418</th>\n",
       "      <td>30669</td>\n",
       "      <td>2.00</td>\n",
       "      <td>0.538780</td>\n",
       "      <td>-1.942652e-07</td>\n",
       "      <td>-0.108018</td>\n",
       "      <td>0.549502</td>\n",
       "      <td>0.085416</td>\n",
       "      <td>0</td>\n",
       "      <td>30673</td>\n",
       "      <td>10843.272</td>\n",
       "    </tr>\n",
       "    <tr>\n",
       "      <th>2641419</th>\n",
       "      <td>30670</td>\n",
       "      <td>2.00</td>\n",
       "      <td>0.538740</td>\n",
       "      <td>-2.003241e-08</td>\n",
       "      <td>-0.107967</td>\n",
       "      <td>0.549452</td>\n",
       "      <td>0.049209</td>\n",
       "      <td>0</td>\n",
       "      <td>30673</td>\n",
       "      <td>10843.272</td>\n",
       "    </tr>\n",
       "    <tr>\n",
       "      <th>2641420</th>\n",
       "      <td>30671</td>\n",
       "      <td>2.00</td>\n",
       "      <td>0.538740</td>\n",
       "      <td>-4.235156e-08</td>\n",
       "      <td>-0.107966</td>\n",
       "      <td>0.549452</td>\n",
       "      <td>0.163638</td>\n",
       "      <td>0</td>\n",
       "      <td>30673</td>\n",
       "      <td>10843.272</td>\n",
       "    </tr>\n",
       "    <tr>\n",
       "      <th>2641421</th>\n",
       "      <td>30672</td>\n",
       "      <td>2.00</td>\n",
       "      <td>0.538740</td>\n",
       "      <td>-9.259014e-08</td>\n",
       "      <td>-0.107967</td>\n",
       "      <td>0.549452</td>\n",
       "      <td>0.049209</td>\n",
       "      <td>0</td>\n",
       "      <td>30673</td>\n",
       "      <td>10843.272</td>\n",
       "    </tr>\n",
       "  </tbody>\n",
       "</table>\n",
       "<p>2641422 rows × 10 columns</p>\n",
       "</div>"
      ],
      "text/plain": [
       "         Unnamed: 0  Time (s)  Particle Velocity[i] (m/s)  \\\n",
       "0                 0      0.02                    0.576229   \n",
       "1                 1      0.02                    0.575964   \n",
       "2                 2      0.02                    0.576129   \n",
       "3                 3      0.02                    0.576709   \n",
       "4                 4      0.02                    0.576153   \n",
       "...             ...       ...                         ...   \n",
       "2641417       30668      2.00                    0.538821   \n",
       "2641418       30669      2.00                    0.538780   \n",
       "2641419       30670      2.00                    0.538740   \n",
       "2641420       30671      2.00                    0.538740   \n",
       "2641421       30672      2.00                    0.538740   \n",
       "\n",
       "         Particle Velocity[j] (m/s)  Particle Velocity[k] (m/s)  \\\n",
       "0                      7.599137e-06                   -0.156682   \n",
       "1                     -3.384995e-05                   -0.156740   \n",
       "2                      8.063311e-05                   -0.156886   \n",
       "3                     -4.113741e-04                   -0.155926   \n",
       "4                      3.311456e-05                   -0.156845   \n",
       "...                             ...                         ...   \n",
       "2641417               -1.702028e-07                   -0.108070   \n",
       "2641418               -1.942652e-07                   -0.108018   \n",
       "2641419               -2.003241e-08                   -0.107967   \n",
       "2641420               -4.235156e-08                   -0.107966   \n",
       "2641421               -9.259014e-08                   -0.107967   \n",
       "\n",
       "         Particle Velocity: Magnitude (m/s)  Volume Fraction of Phase 1  \\\n",
       "0                                  0.597151                    0.010824   \n",
       "1                                  0.596911                    0.006975   \n",
       "2                                  0.597108                    0.010824   \n",
       "3                                  0.597417                    0.034522   \n",
       "4                                  0.597121                    0.010824   \n",
       "...                                     ...                         ...   \n",
       "2641417                            0.549552                    0.085416   \n",
       "2641418                            0.549502                    0.085416   \n",
       "2641419                            0.549452                    0.049209   \n",
       "2641420                            0.549452                    0.163638   \n",
       "2641421                            0.549452                    0.049209   \n",
       "\n",
       "         Wall Shear Stress: Magnitude (Pa)  Report: Element Count 1  \\\n",
       "0                                        0                     1128   \n",
       "1                                        0                     1128   \n",
       "2                                        0                     1128   \n",
       "3                                        0                     1128   \n",
       "4                                        0                     1128   \n",
       "...                                    ...                      ...   \n",
       "2641417                                  0                    30673   \n",
       "2641418                                  0                    30673   \n",
       "2641419                                  0                    30673   \n",
       "2641420                                  0                    30673   \n",
       "2641421                                  0                    30673   \n",
       "\n",
       "         Report: Total Solver CPU Time (s)  \n",
       "0                                    5.851  \n",
       "1                                    5.851  \n",
       "2                                    5.851  \n",
       "3                                    5.851  \n",
       "4                                    5.851  \n",
       "...                                    ...  \n",
       "2641417                          10843.272  \n",
       "2641418                          10843.272  \n",
       "2641419                          10843.272  \n",
       "2641420                          10843.272  \n",
       "2641421                          10843.272  \n",
       "\n",
       "[2641422 rows x 10 columns]"
      ]
     },
     "execution_count": 9,
     "metadata": {},
     "output_type": "execute_result"
    }
   ],
   "source": [
    "X"
   ]
  },
  {
   "cell_type": "code",
   "execution_count": 10,
   "id": "101a9fd5-1d03-4b92-a242-fc7434704cb7",
   "metadata": {},
   "outputs": [
    {
     "data": {
      "text/html": [
       "<div>\n",
       "<style scoped>\n",
       "    .dataframe tbody tr th:only-of-type {\n",
       "        vertical-align: middle;\n",
       "    }\n",
       "\n",
       "    .dataframe tbody tr th {\n",
       "        vertical-align: top;\n",
       "    }\n",
       "\n",
       "    .dataframe thead th {\n",
       "        text-align: right;\n",
       "    }\n",
       "</style>\n",
       "<table border=\"1\" class=\"dataframe\">\n",
       "  <thead>\n",
       "    <tr style=\"text-align: right;\">\n",
       "      <th></th>\n",
       "      <th>Parcel Centroid[X] (m)</th>\n",
       "      <th>Parcel Centroid[Y] (m)</th>\n",
       "      <th>Parcel Centroid[Z] (m)</th>\n",
       "    </tr>\n",
       "  </thead>\n",
       "  <tbody>\n",
       "    <tr>\n",
       "      <th>0</th>\n",
       "      <td>-0.113685</td>\n",
       "      <td>0.032540</td>\n",
       "      <td>0.014828</td>\n",
       "    </tr>\n",
       "    <tr>\n",
       "      <th>1</th>\n",
       "      <td>-0.113686</td>\n",
       "      <td>0.025651</td>\n",
       "      <td>0.007872</td>\n",
       "    </tr>\n",
       "    <tr>\n",
       "      <th>2</th>\n",
       "      <td>-0.113689</td>\n",
       "      <td>0.024866</td>\n",
       "      <td>0.018086</td>\n",
       "    </tr>\n",
       "    <tr>\n",
       "      <th>3</th>\n",
       "      <td>-0.113687</td>\n",
       "      <td>0.038670</td>\n",
       "      <td>0.008284</td>\n",
       "    </tr>\n",
       "    <tr>\n",
       "      <th>4</th>\n",
       "      <td>-0.113689</td>\n",
       "      <td>0.026663</td>\n",
       "      <td>0.013483</td>\n",
       "    </tr>\n",
       "    <tr>\n",
       "      <th>...</th>\n",
       "      <td>...</td>\n",
       "      <td>...</td>\n",
       "      <td>...</td>\n",
       "    </tr>\n",
       "    <tr>\n",
       "      <th>2641417</th>\n",
       "      <td>-0.117250</td>\n",
       "      <td>0.034019</td>\n",
       "      <td>0.007598</td>\n",
       "    </tr>\n",
       "    <tr>\n",
       "      <th>2641418</th>\n",
       "      <td>-0.117254</td>\n",
       "      <td>0.029126</td>\n",
       "      <td>0.007375</td>\n",
       "    </tr>\n",
       "    <tr>\n",
       "      <th>2641419</th>\n",
       "      <td>-0.117258</td>\n",
       "      <td>0.035297</td>\n",
       "      <td>0.015387</td>\n",
       "    </tr>\n",
       "    <tr>\n",
       "      <th>2641420</th>\n",
       "      <td>-0.117258</td>\n",
       "      <td>0.026099</td>\n",
       "      <td>0.002817</td>\n",
       "    </tr>\n",
       "    <tr>\n",
       "      <th>2641421</th>\n",
       "      <td>-0.117258</td>\n",
       "      <td>0.028311</td>\n",
       "      <td>0.014175</td>\n",
       "    </tr>\n",
       "  </tbody>\n",
       "</table>\n",
       "<p>2641422 rows × 3 columns</p>\n",
       "</div>"
      ],
      "text/plain": [
       "         Parcel Centroid[X] (m)  Parcel Centroid[Y] (m)  \\\n",
       "0                     -0.113685                0.032540   \n",
       "1                     -0.113686                0.025651   \n",
       "2                     -0.113689                0.024866   \n",
       "3                     -0.113687                0.038670   \n",
       "4                     -0.113689                0.026663   \n",
       "...                         ...                     ...   \n",
       "2641417               -0.117250                0.034019   \n",
       "2641418               -0.117254                0.029126   \n",
       "2641419               -0.117258                0.035297   \n",
       "2641420               -0.117258                0.026099   \n",
       "2641421               -0.117258                0.028311   \n",
       "\n",
       "         Parcel Centroid[Z] (m)  \n",
       "0                      0.014828  \n",
       "1                      0.007872  \n",
       "2                      0.018086  \n",
       "3                      0.008284  \n",
       "4                      0.013483  \n",
       "...                         ...  \n",
       "2641417                0.007598  \n",
       "2641418                0.007375  \n",
       "2641419                0.015387  \n",
       "2641420                0.002817  \n",
       "2641421                0.014175  \n",
       "\n",
       "[2641422 rows x 3 columns]"
      ]
     },
     "execution_count": 10,
     "metadata": {},
     "output_type": "execute_result"
    }
   ],
   "source": [
    "y"
   ]
  },
  {
   "cell_type": "markdown",
   "id": "d3969a21-d07e-4e49-bf81-a17a519835aa",
   "metadata": {},
   "source": [
    "## 2.3 Checking if there is any missing value in our data\n",
    "            * If there is any non-numerical value, we perform feature encoding\n",
    "            * And/ or if there is any missing value, we perform imputation\n",
    "            * If no missing value, then we continue to building the machine Learning Model"
   ]
  },
  {
   "cell_type": "code",
   "execution_count": 11,
   "id": "ac4438d5-345c-427f-9bad-02be39c8347c",
   "metadata": {},
   "outputs": [
    {
     "data": {
      "text/plain": [
       "Unnamed: 0                            0\n",
       "Time (s)                              0\n",
       "Particle Velocity[i] (m/s)            0\n",
       "Particle Velocity[j] (m/s)            0\n",
       "Particle Velocity[k] (m/s)            0\n",
       "Particle Velocity: Magnitude (m/s)    0\n",
       "Volume Fraction of Phase 1            0\n",
       "Wall Shear Stress: Magnitude (Pa)     0\n",
       "Report: Element Count 1               0\n",
       "Report: Total Solver CPU Time (s)     0\n",
       "dtype: int64"
      ]
     },
     "execution_count": 11,
     "metadata": {},
     "output_type": "execute_result"
    }
   ],
   "source": [
    "X.isna().sum()"
   ]
  },
  {
   "cell_type": "code",
   "execution_count": 12,
   "id": "03466f28-74e8-4b0d-bf70-7eb0b698015e",
   "metadata": {},
   "outputs": [
    {
     "data": {
      "text/plain": [
       "Parcel Centroid[X] (m)    0\n",
       "Parcel Centroid[Y] (m)    0\n",
       "Parcel Centroid[Z] (m)    0\n",
       "dtype: int64"
      ]
     },
     "execution_count": 12,
     "metadata": {},
     "output_type": "execute_result"
    }
   ],
   "source": [
    "y.isna().sum()"
   ]
  },
  {
   "cell_type": "markdown",
   "id": "d4d124dc-35ad-4296-94d8-0622f682aec9",
   "metadata": {},
   "source": [
    "# 3.0 Building and Training the Machine Learning Model for our Data"
   ]
  },
  {
   "cell_type": "code",
   "execution_count": 13,
   "id": "2b87d1d0-e55e-4ae4-9102-b224f44dfeab",
   "metadata": {},
   "outputs": [
    {
     "data": {
      "text/plain": [
       "<bound method BaseEstimator.get_params of RandomForestRegressor(n_estimators=90)>"
      ]
     },
     "execution_count": 13,
     "metadata": {},
     "output_type": "execute_result"
    }
   ],
   "source": [
    "from sklearn.ensemble import RandomForestRegressor\n",
    "\n",
    "model1 =RandomForestRegressor(n_estimators=90)\n",
    "model1.get_params"
   ]
  },
  {
   "cell_type": "code",
   "execution_count": 14,
   "id": "8139a34a-3cd8-47e1-9c07-cd9806ec41b7",
   "metadata": {},
   "outputs": [
    {
     "name": "stdout",
     "output_type": "stream",
     "text": [
      "CPU times: total: 36min 54s\n",
      "Wall time: 37min 29s\n"
     ]
    },
    {
     "data": {
      "text/html": [
       "<style>#sk-container-id-1 {color: black;background-color: white;}#sk-container-id-1 pre{padding: 0;}#sk-container-id-1 div.sk-toggleable {background-color: white;}#sk-container-id-1 label.sk-toggleable__label {cursor: pointer;display: block;width: 100%;margin-bottom: 0;padding: 0.3em;box-sizing: border-box;text-align: center;}#sk-container-id-1 label.sk-toggleable__label-arrow:before {content: \"▸\";float: left;margin-right: 0.25em;color: #696969;}#sk-container-id-1 label.sk-toggleable__label-arrow:hover:before {color: black;}#sk-container-id-1 div.sk-estimator:hover label.sk-toggleable__label-arrow:before {color: black;}#sk-container-id-1 div.sk-toggleable__content {max-height: 0;max-width: 0;overflow: hidden;text-align: left;background-color: #f0f8ff;}#sk-container-id-1 div.sk-toggleable__content pre {margin: 0.2em;color: black;border-radius: 0.25em;background-color: #f0f8ff;}#sk-container-id-1 input.sk-toggleable__control:checked~div.sk-toggleable__content {max-height: 200px;max-width: 100%;overflow: auto;}#sk-container-id-1 input.sk-toggleable__control:checked~label.sk-toggleable__label-arrow:before {content: \"▾\";}#sk-container-id-1 div.sk-estimator input.sk-toggleable__control:checked~label.sk-toggleable__label {background-color: #d4ebff;}#sk-container-id-1 div.sk-label input.sk-toggleable__control:checked~label.sk-toggleable__label {background-color: #d4ebff;}#sk-container-id-1 input.sk-hidden--visually {border: 0;clip: rect(1px 1px 1px 1px);clip: rect(1px, 1px, 1px, 1px);height: 1px;margin: -1px;overflow: hidden;padding: 0;position: absolute;width: 1px;}#sk-container-id-1 div.sk-estimator {font-family: monospace;background-color: #f0f8ff;border: 1px dotted black;border-radius: 0.25em;box-sizing: border-box;margin-bottom: 0.5em;}#sk-container-id-1 div.sk-estimator:hover {background-color: #d4ebff;}#sk-container-id-1 div.sk-parallel-item::after {content: \"\";width: 100%;border-bottom: 1px solid gray;flex-grow: 1;}#sk-container-id-1 div.sk-label:hover label.sk-toggleable__label {background-color: #d4ebff;}#sk-container-id-1 div.sk-serial::before {content: \"\";position: absolute;border-left: 1px solid gray;box-sizing: border-box;top: 0;bottom: 0;left: 50%;z-index: 0;}#sk-container-id-1 div.sk-serial {display: flex;flex-direction: column;align-items: center;background-color: white;padding-right: 0.2em;padding-left: 0.2em;position: relative;}#sk-container-id-1 div.sk-item {position: relative;z-index: 1;}#sk-container-id-1 div.sk-parallel {display: flex;align-items: stretch;justify-content: center;background-color: white;position: relative;}#sk-container-id-1 div.sk-item::before, #sk-container-id-1 div.sk-parallel-item::before {content: \"\";position: absolute;border-left: 1px solid gray;box-sizing: border-box;top: 0;bottom: 0;left: 50%;z-index: -1;}#sk-container-id-1 div.sk-parallel-item {display: flex;flex-direction: column;z-index: 1;position: relative;background-color: white;}#sk-container-id-1 div.sk-parallel-item:first-child::after {align-self: flex-end;width: 50%;}#sk-container-id-1 div.sk-parallel-item:last-child::after {align-self: flex-start;width: 50%;}#sk-container-id-1 div.sk-parallel-item:only-child::after {width: 0;}#sk-container-id-1 div.sk-dashed-wrapped {border: 1px dashed gray;margin: 0 0.4em 0.5em 0.4em;box-sizing: border-box;padding-bottom: 0.4em;background-color: white;}#sk-container-id-1 div.sk-label label {font-family: monospace;font-weight: bold;display: inline-block;line-height: 1.2em;}#sk-container-id-1 div.sk-label-container {text-align: center;}#sk-container-id-1 div.sk-container {/* jupyter's `normalize.less` sets `[hidden] { display: none; }` but bootstrap.min.css set `[hidden] { display: none !important; }` so we also need the `!important` here to be able to override the default hidden behavior on the sphinx rendered scikit-learn.org. See: https://github.com/scikit-learn/scikit-learn/issues/21755 */display: inline-block !important;position: relative;}#sk-container-id-1 div.sk-text-repr-fallback {display: none;}</style><div id=\"sk-container-id-1\" class=\"sk-top-container\"><div class=\"sk-text-repr-fallback\"><pre>RandomForestRegressor(n_estimators=90)</pre><b>In a Jupyter environment, please rerun this cell to show the HTML representation or trust the notebook. <br />On GitHub, the HTML representation is unable to render, please try loading this page with nbviewer.org.</b></div><div class=\"sk-container\" hidden><div class=\"sk-item\"><div class=\"sk-estimator sk-toggleable\"><input class=\"sk-toggleable__control sk-hidden--visually\" id=\"sk-estimator-id-1\" type=\"checkbox\" checked><label for=\"sk-estimator-id-1\" class=\"sk-toggleable__label sk-toggleable__label-arrow\">RandomForestRegressor</label><div class=\"sk-toggleable__content\"><pre>RandomForestRegressor(n_estimators=90)</pre></div></div></div></div></div>"
      ],
      "text/plain": [
       "RandomForestRegressor(n_estimators=90)"
      ]
     },
     "execution_count": 14,
     "metadata": {},
     "output_type": "execute_result"
    }
   ],
   "source": [
    "%%time\n",
    "\n",
    "np.random.seed(42)\n",
    "from sklearn.model_selection import train_test_split\n",
    "\n",
    "X_train, X_test, y_train, y_test= train_test_split(X,y,\n",
    "                                                   test_size=0.2)\n",
    "\n",
    "model1.fit(X_train, y_train)"
   ]
  },
  {
   "cell_type": "markdown",
   "id": "370c23f2-6b0f-4e52-aae4-f4db42a6134a",
   "metadata": {},
   "source": [
    "## 3.1 Predicting with our model"
   ]
  },
  {
   "cell_type": "code",
   "execution_count": 15,
   "id": "81f14ae7-b9af-48ef-b0e0-b51580ac410d",
   "metadata": {},
   "outputs": [
    {
     "data": {
      "text/plain": [
       "array([[ 0.02931952,  0.03494501,  0.0023466 ],\n",
       "       [-0.04845363,  0.03514172,  0.00715939],\n",
       "       [ 0.00894774,  0.02616653,  0.0053462 ],\n",
       "       ...,\n",
       "       [ 0.00174136,  0.03558545,  0.00069888],\n",
       "       [-0.05864979,  0.02845735,  0.00215667],\n",
       "       [ 0.02190922,  0.034998  ,  0.00359932]])"
      ]
     },
     "execution_count": 15,
     "metadata": {},
     "output_type": "execute_result"
    }
   ],
   "source": [
    "y_preds=model1.predict(X_test)\n",
    "  \n",
    "y_preds\n"
   ]
  },
  {
   "cell_type": "code",
   "execution_count": 16,
   "id": "b239e1da-d3fa-4eb7-8315-83c2e8022814",
   "metadata": {},
   "outputs": [
    {
     "data": {
      "text/html": [
       "<div>\n",
       "<style scoped>\n",
       "    .dataframe tbody tr th:only-of-type {\n",
       "        vertical-align: middle;\n",
       "    }\n",
       "\n",
       "    .dataframe tbody tr th {\n",
       "        vertical-align: top;\n",
       "    }\n",
       "\n",
       "    .dataframe thead th {\n",
       "        text-align: right;\n",
       "    }\n",
       "</style>\n",
       "<table border=\"1\" class=\"dataframe\">\n",
       "  <thead>\n",
       "    <tr style=\"text-align: right;\">\n",
       "      <th></th>\n",
       "      <th>Parcel Centroid[X] (m)</th>\n",
       "      <th>Parcel Centroid[Y] (m)</th>\n",
       "      <th>Parcel Centroid[Z] (m)</th>\n",
       "    </tr>\n",
       "  </thead>\n",
       "  <tbody>\n",
       "    <tr>\n",
       "      <th>0</th>\n",
       "      <td>0.029320</td>\n",
       "      <td>0.034945</td>\n",
       "      <td>0.002347</td>\n",
       "    </tr>\n",
       "    <tr>\n",
       "      <th>1</th>\n",
       "      <td>-0.048454</td>\n",
       "      <td>0.035142</td>\n",
       "      <td>0.007159</td>\n",
       "    </tr>\n",
       "    <tr>\n",
       "      <th>2</th>\n",
       "      <td>0.008948</td>\n",
       "      <td>0.026167</td>\n",
       "      <td>0.005346</td>\n",
       "    </tr>\n",
       "    <tr>\n",
       "      <th>3</th>\n",
       "      <td>0.019014</td>\n",
       "      <td>0.024825</td>\n",
       "      <td>0.004230</td>\n",
       "    </tr>\n",
       "    <tr>\n",
       "      <th>4</th>\n",
       "      <td>-0.067198</td>\n",
       "      <td>0.032203</td>\n",
       "      <td>0.008307</td>\n",
       "    </tr>\n",
       "    <tr>\n",
       "      <th>...</th>\n",
       "      <td>...</td>\n",
       "      <td>...</td>\n",
       "      <td>...</td>\n",
       "    </tr>\n",
       "    <tr>\n",
       "      <th>528280</th>\n",
       "      <td>-0.080161</td>\n",
       "      <td>0.032603</td>\n",
       "      <td>0.009480</td>\n",
       "    </tr>\n",
       "    <tr>\n",
       "      <th>528281</th>\n",
       "      <td>-0.050342</td>\n",
       "      <td>0.034435</td>\n",
       "      <td>0.003297</td>\n",
       "    </tr>\n",
       "    <tr>\n",
       "      <th>528282</th>\n",
       "      <td>0.001741</td>\n",
       "      <td>0.035585</td>\n",
       "      <td>0.000699</td>\n",
       "    </tr>\n",
       "    <tr>\n",
       "      <th>528283</th>\n",
       "      <td>-0.058650</td>\n",
       "      <td>0.028457</td>\n",
       "      <td>0.002157</td>\n",
       "    </tr>\n",
       "    <tr>\n",
       "      <th>528284</th>\n",
       "      <td>0.021909</td>\n",
       "      <td>0.034998</td>\n",
       "      <td>0.003599</td>\n",
       "    </tr>\n",
       "  </tbody>\n",
       "</table>\n",
       "<p>528285 rows × 3 columns</p>\n",
       "</div>"
      ],
      "text/plain": [
       "        Parcel Centroid[X] (m)  Parcel Centroid[Y] (m)  Parcel Centroid[Z] (m)\n",
       "0                     0.029320                0.034945                0.002347\n",
       "1                    -0.048454                0.035142                0.007159\n",
       "2                     0.008948                0.026167                0.005346\n",
       "3                     0.019014                0.024825                0.004230\n",
       "4                    -0.067198                0.032203                0.008307\n",
       "...                        ...                     ...                     ...\n",
       "528280               -0.080161                0.032603                0.009480\n",
       "528281               -0.050342                0.034435                0.003297\n",
       "528282                0.001741                0.035585                0.000699\n",
       "528283               -0.058650                0.028457                0.002157\n",
       "528284                0.021909                0.034998                0.003599\n",
       "\n",
       "[528285 rows x 3 columns]"
      ]
     },
     "execution_count": 16,
     "metadata": {},
     "output_type": "execute_result"
    }
   ],
   "source": [
    "y_preds=pd.DataFrame(y_preds, columns=['Parcel Centroid[X] (m)',\t'Parcel Centroid[Y] (m)',\t'Parcel Centroid[Z] (m)'])\n",
    "y_preds"
   ]
  },
  {
   "cell_type": "code",
   "execution_count": 17,
   "id": "e0f81926-7e76-472c-92af-13d97433f44e",
   "metadata": {},
   "outputs": [
    {
     "data": {
      "text/html": [
       "<div>\n",
       "<style scoped>\n",
       "    .dataframe tbody tr th:only-of-type {\n",
       "        vertical-align: middle;\n",
       "    }\n",
       "\n",
       "    .dataframe tbody tr th {\n",
       "        vertical-align: top;\n",
       "    }\n",
       "\n",
       "    .dataframe thead th {\n",
       "        text-align: right;\n",
       "    }\n",
       "</style>\n",
       "<table border=\"1\" class=\"dataframe\">\n",
       "  <thead>\n",
       "    <tr style=\"text-align: right;\">\n",
       "      <th></th>\n",
       "      <th>Parcel Centroid[X] (m)</th>\n",
       "      <th>Parcel Centroid[Y] (m)</th>\n",
       "      <th>Parcel Centroid[Z] (m)</th>\n",
       "    </tr>\n",
       "  </thead>\n",
       "  <tbody>\n",
       "    <tr>\n",
       "      <th>412383</th>\n",
       "      <td>0.031502</td>\n",
       "      <td>0.033440</td>\n",
       "      <td>0.002208</td>\n",
       "    </tr>\n",
       "    <tr>\n",
       "      <th>541694</th>\n",
       "      <td>-0.049162</td>\n",
       "      <td>0.029499</td>\n",
       "      <td>0.007040</td>\n",
       "    </tr>\n",
       "    <tr>\n",
       "      <th>2308287</th>\n",
       "      <td>0.007145</td>\n",
       "      <td>0.025976</td>\n",
       "      <td>0.005395</td>\n",
       "    </tr>\n",
       "    <tr>\n",
       "      <th>2551475</th>\n",
       "      <td>0.017912</td>\n",
       "      <td>0.026251</td>\n",
       "      <td>0.003920</td>\n",
       "    </tr>\n",
       "    <tr>\n",
       "      <th>1094681</th>\n",
       "      <td>-0.066240</td>\n",
       "      <td>0.033535</td>\n",
       "      <td>0.008997</td>\n",
       "    </tr>\n",
       "    <tr>\n",
       "      <th>...</th>\n",
       "      <td>...</td>\n",
       "      <td>...</td>\n",
       "      <td>...</td>\n",
       "    </tr>\n",
       "    <tr>\n",
       "      <th>179283</th>\n",
       "      <td>-0.079945</td>\n",
       "      <td>0.034668</td>\n",
       "      <td>0.009816</td>\n",
       "    </tr>\n",
       "    <tr>\n",
       "      <th>101560</th>\n",
       "      <td>-0.049620</td>\n",
       "      <td>0.037336</td>\n",
       "      <td>0.003339</td>\n",
       "    </tr>\n",
       "    <tr>\n",
       "      <th>2305778</th>\n",
       "      <td>0.000587</td>\n",
       "      <td>0.034223</td>\n",
       "      <td>0.000501</td>\n",
       "    </tr>\n",
       "    <tr>\n",
       "      <th>1705144</th>\n",
       "      <td>-0.057399</td>\n",
       "      <td>0.027527</td>\n",
       "      <td>0.003134</td>\n",
       "    </tr>\n",
       "    <tr>\n",
       "      <th>1445684</th>\n",
       "      <td>0.024550</td>\n",
       "      <td>0.034840</td>\n",
       "      <td>0.003569</td>\n",
       "    </tr>\n",
       "  </tbody>\n",
       "</table>\n",
       "<p>528285 rows × 3 columns</p>\n",
       "</div>"
      ],
      "text/plain": [
       "         Parcel Centroid[X] (m)  Parcel Centroid[Y] (m)  \\\n",
       "412383                 0.031502                0.033440   \n",
       "541694                -0.049162                0.029499   \n",
       "2308287                0.007145                0.025976   \n",
       "2551475                0.017912                0.026251   \n",
       "1094681               -0.066240                0.033535   \n",
       "...                         ...                     ...   \n",
       "179283                -0.079945                0.034668   \n",
       "101560                -0.049620                0.037336   \n",
       "2305778                0.000587                0.034223   \n",
       "1705144               -0.057399                0.027527   \n",
       "1445684                0.024550                0.034840   \n",
       "\n",
       "         Parcel Centroid[Z] (m)  \n",
       "412383                 0.002208  \n",
       "541694                 0.007040  \n",
       "2308287                0.005395  \n",
       "2551475                0.003920  \n",
       "1094681                0.008997  \n",
       "...                         ...  \n",
       "179283                 0.009816  \n",
       "101560                 0.003339  \n",
       "2305778                0.000501  \n",
       "1705144                0.003134  \n",
       "1445684                0.003569  \n",
       "\n",
       "[528285 rows x 3 columns]"
      ]
     },
     "execution_count": 17,
     "metadata": {},
     "output_type": "execute_result"
    }
   ],
   "source": [
    "y_test"
   ]
  },
  {
   "cell_type": "markdown",
   "id": "7d02d00b-d740-43b7-add7-a74c474197d3",
   "metadata": {},
   "source": [
    "## 3.2 Scoring our model"
   ]
  },
  {
   "cell_type": "code",
   "execution_count": 18,
   "id": "4fa10599-4e93-4463-a8aa-1bc4bbbcdaf8",
   "metadata": {},
   "outputs": [
    {
     "data": {
      "text/plain": [
       "0.9840213739698179"
      ]
     },
     "execution_count": 18,
     "metadata": {},
     "output_type": "execute_result"
    }
   ],
   "source": [
    "model1.score(X_train, y_train)"
   ]
  },
  {
   "cell_type": "code",
   "execution_count": 19,
   "id": "43289846-de41-4ce1-84fb-6201221bbe69",
   "metadata": {},
   "outputs": [
    {
     "data": {
      "text/plain": [
       "{'r-squared': 0.88625952668291,\n",
       " 'Mean absolute error (MAE)': 0.0013891598366113965,\n",
       " 'Mean squared error(MSE)': 4.072962682930386e-06}"
      ]
     },
     "execution_count": 19,
     "metadata": {},
     "output_type": "execute_result"
    }
   ],
   "source": [
    "from sklearn.metrics import r2_score, mean_squared_error, mean_absolute_error\n",
    "\n",
    "metrics ={\"r-squared\": r2_score, \n",
    "          \"Mean absolute error (MAE)\": mean_absolute_error, \n",
    "          \"Mean squared error(MSE)\":mean_squared_error, \n",
    "          \n",
    "         }\n",
    "model1_scores={}\n",
    "\n",
    "for key,value in metrics.items():\n",
    "    model1_scores[key]=value(y_test, y_preds)\n",
    "\n",
    "    \n",
    "model1_scores"
   ]
  },
  {
   "cell_type": "code",
   "execution_count": 20,
   "id": "11455e50",
   "metadata": {},
   "outputs": [
    {
     "data": {
      "text/html": [
       "<div>\n",
       "<style scoped>\n",
       "    .dataframe tbody tr th:only-of-type {\n",
       "        vertical-align: middle;\n",
       "    }\n",
       "\n",
       "    .dataframe tbody tr th {\n",
       "        vertical-align: top;\n",
       "    }\n",
       "\n",
       "    .dataframe thead th {\n",
       "        text-align: right;\n",
       "    }\n",
       "</style>\n",
       "<table border=\"1\" class=\"dataframe\">\n",
       "  <thead>\n",
       "    <tr style=\"text-align: right;\">\n",
       "      <th></th>\n",
       "      <th>Values</th>\n",
       "    </tr>\n",
       "  </thead>\n",
       "  <tbody>\n",
       "    <tr>\n",
       "      <th>r-squared</th>\n",
       "      <td>0.886260</td>\n",
       "    </tr>\n",
       "    <tr>\n",
       "      <th>Mean absolute error (MAE)</th>\n",
       "      <td>0.001389</td>\n",
       "    </tr>\n",
       "    <tr>\n",
       "      <th>Mean squared error(MSE)</th>\n",
       "      <td>0.000004</td>\n",
       "    </tr>\n",
       "  </tbody>\n",
       "</table>\n",
       "</div>"
      ],
      "text/plain": [
       "                             Values\n",
       "r-squared                  0.886260\n",
       "Mean absolute error (MAE)  0.001389\n",
       "Mean squared error(MSE)    0.000004"
      ]
     },
     "execution_count": 20,
     "metadata": {},
     "output_type": "execute_result"
    }
   ],
   "source": [
    "score100_table= pd.DataFrame(model1_scores.values(), index=model1_scores.keys(), columns=[\"Values\"])\n",
    "score100_table"
   ]
  },
  {
   "cell_type": "code",
   "execution_count": 21,
   "id": "f1974058",
   "metadata": {},
   "outputs": [],
   "source": [
    "score100_table.to_csv('#100scores.csv')"
   ]
  },
  {
   "cell_type": "markdown",
   "id": "dd412002-e681-4a45-b8c4-e66380881108",
   "metadata": {},
   "source": [
    "# 4.0 Plotting the Data\n",
    "Plotting at the first time-index of the test data This is equivalent to the zeroth index\n",
    "We can do the same for other indexes"
   ]
  },
  {
   "cell_type": "code",
   "execution_count": 22,
   "id": "449f0a0c-2f6d-4b6b-a48a-7292be95223b",
   "metadata": {},
   "outputs": [],
   "source": [
    "actual_Xi = y_test.iloc[:, :1]\n",
    "actual_Xj=y_test.iloc[:, :2].drop('Parcel Centroid[X] (m)', axis =1)\n",
    "\n",
    "predicted_Xi = y_preds.iloc[:, :1]\n",
    "predicted_Xj = y_preds.iloc[:, :2].drop('Parcel Centroid[X] (m)', axis =1)\n"
   ]
  },
  {
   "cell_type": "markdown",
   "id": "345aa1ef-44be-44f7-b6a1-edcd339a4eea",
   "metadata": {},
   "source": [
    "## 4.2 Separate plots of the Actual Granules Position and the Predicted Granules Position"
   ]
  },
  {
   "cell_type": "code",
   "execution_count": 23,
   "id": "2c155a44-24e9-48d9-8a44-ed2dbbf49a5a",
   "metadata": {},
   "outputs": [
    {
     "data": {
      "image/png": "[encoded data removed]",
      "text/plain": [
       "<Figure size 1000x1500 with 2 Axes>"
      ]
     },
     "metadata": {},
     "output_type": "display_data"
    }
   ],
   "source": [
    "#Plotting the actual and Predicted positions \n",
    "# Plot the actual and predicted positions\n",
    "#plt.scatter(actual_Xi, actual_Xj, color='blue', label='Actual')\n",
    "\n",
    "fig, (ax1, ax2) = plt.subplots(2,1, figsize=(10,15))\n",
    "\n",
    "ax1.scatter(actual_Xi, actual_Xj)\n",
    "ax2.scatter(predicted_Xi, predicted_Xj, color='red')\n",
    "\n",
    "ax1.set(title=\"Plot of actual Test data (y_test)\", \n",
    "              xlabel='i (m)',\n",
    "              ylabel='j (m)'\n",
    "             )\n",
    "fig.tight_layout(pad=5)\n",
    "\n",
    "ax2.set(title= \"Plot of the Predicted data (y_preds)\", \n",
    "        xlabel= 'i (m)',\n",
    "        ylabel='j (m)'\n",
    "       )\n",
    "\n",
    "plt.savefig(\"./Separate plots of Actual and Predicted granules Position(#100).png\", dpi=1200)"
   ]
  },
  {
   "cell_type": "markdown",
   "id": "c481f141-b603-4932-8aae-aafa76ed84f2",
   "metadata": {},
   "source": [
    "## 4.3 Plotting the Actual Granules Position against the Predicted Granules Position"
   ]
  },
  {
   "cell_type": "code",
   "execution_count": 24,
   "id": "c21ceb3d-378c-4058-af69-a716c8e0347c",
   "metadata": {},
   "outputs": [
    {
     "data": {
      "image/png": "[encoded data removed]",
      "text/plain": [
       "<Figure size 500x500 with 1 Axes>"
      ]
     },
     "metadata": {},
     "output_type": "display_data"
    }
   ],
   "source": [
    "fig, ax3 =plt.subplots(1,1,figsize=(5,5))\n",
    "\n",
    "ax3.scatter(actual_Xi, actual_Xj, color ='blue')\n",
    "\n",
    "ax3.scatter(predicted_Xi, predicted_Xj, color='red')\n",
    "\n",
    "ax3.set(title=\"Actual Granules Position against the Predicted Granules Position\",\n",
    "      xlabel=\"i (m)\",\n",
    "      ylabel=\"j (m)\")\n",
    "\n",
    "plt.savefig('./Actual vs Predicted(#100).png', dpi=1200)"
   ]
  },
  {
   "cell_type": "code",
   "execution_count": 25,
   "id": "d9d446fb-d1c3-4420-bf99-311e5a00efc4",
   "metadata": {},
   "outputs": [],
   "source": [
    "## 4.3 Plot of the Actual against the Predicted Granules position of the first 500 granules "
   ]
  },
  {
   "cell_type": "code",
   "execution_count": 26,
   "id": "ae517dd9-f5a4-4c3b-92cd-6e2fad4ca13d",
   "metadata": {},
   "outputs": [
    {
     "data": {
      "image/png": "[encoded data removed]",
      "text/plain": [
       "<Figure size 500x500 with 1 Axes>"
      ]
     },
     "metadata": {},
     "output_type": "display_data"
    }
   ],
   "source": [
    "fig, ax4 =plt.subplots(1,1,figsize=(5,5))\n",
    "plt.scatter(actual_Xi[:500], actual_Xj[:500], color ='blue')\n",
    "plt.scatter(predicted_Xi[:500], predicted_Xj[:500], color='red')\n",
    "\n",
    "ax4.set(title=\"Actual Granules Position against the Predicted Granules Position\",\n",
    "      xlabel=\"i (m)\",\n",
    "      ylabel=\"j (m)\")\n",
    "\n",
    "plt.savefig('./Actual vs Predicted(#100).png', dpi=1200)"
   ]
  },
  {
   "cell_type": "markdown",
   "id": "782c7cb5-9750-4464-b1b3-f7897ab2340a",
   "metadata": {},
   "source": [
    "# 5.0 Using Linear Regression Model"
   ]
  },
  {
   "cell_type": "code",
   "execution_count": 27,
   "id": "21b32d90-6207-428b-9af6-fdaf0166b913",
   "metadata": {},
   "outputs": [
    {
     "name": "stdout",
     "output_type": "stream",
     "text": [
      "CPU times: total: 1.77 s\n",
      "Wall time: 1.78 s\n"
     ]
    },
    {
     "data": {
      "text/html": [
       "<style>#sk-container-id-2 {color: black;background-color: white;}#sk-container-id-2 pre{padding: 0;}#sk-container-id-2 div.sk-toggleable {background-color: white;}#sk-container-id-2 label.sk-toggleable__label {cursor: pointer;display: block;width: 100%;margin-bottom: 0;padding: 0.3em;box-sizing: border-box;text-align: center;}#sk-container-id-2 label.sk-toggleable__label-arrow:before {content: \"▸\";float: left;margin-right: 0.25em;color: #696969;}#sk-container-id-2 label.sk-toggleable__label-arrow:hover:before {color: black;}#sk-container-id-2 div.sk-estimator:hover label.sk-toggleable__label-arrow:before {color: black;}#sk-container-id-2 div.sk-toggleable__content {max-height: 0;max-width: 0;overflow: hidden;text-align: left;background-color: #f0f8ff;}#sk-container-id-2 div.sk-toggleable__content pre {margin: 0.2em;color: black;border-radius: 0.25em;background-color: #f0f8ff;}#sk-container-id-2 input.sk-toggleable__control:checked~div.sk-toggleable__content {max-height: 200px;max-width: 100%;overflow: auto;}#sk-container-id-2 input.sk-toggleable__control:checked~label.sk-toggleable__label-arrow:before {content: \"▾\";}#sk-container-id-2 div.sk-estimator input.sk-toggleable__control:checked~label.sk-toggleable__label {background-color: #d4ebff;}#sk-container-id-2 div.sk-label input.sk-toggleable__control:checked~label.sk-toggleable__label {background-color: #d4ebff;}#sk-container-id-2 input.sk-hidden--visually {border: 0;clip: rect(1px 1px 1px 1px);clip: rect(1px, 1px, 1px, 1px);height: 1px;margin: -1px;overflow: hidden;padding: 0;position: absolute;width: 1px;}#sk-container-id-2 div.sk-estimator {font-family: monospace;background-color: #f0f8ff;border: 1px dotted black;border-radius: 0.25em;box-sizing: border-box;margin-bottom: 0.5em;}#sk-container-id-2 div.sk-estimator:hover {background-color: #d4ebff;}#sk-container-id-2 div.sk-parallel-item::after {content: \"\";width: 100%;border-bottom: 1px solid gray;flex-grow: 1;}#sk-container-id-2 div.sk-label:hover label.sk-toggleable__label {background-color: #d4ebff;}#sk-container-id-2 div.sk-serial::before {content: \"\";position: absolute;border-left: 1px solid gray;box-sizing: border-box;top: 0;bottom: 0;left: 50%;z-index: 0;}#sk-container-id-2 div.sk-serial {display: flex;flex-direction: column;align-items: center;background-color: white;padding-right: 0.2em;padding-left: 0.2em;position: relative;}#sk-container-id-2 div.sk-item {position: relative;z-index: 1;}#sk-container-id-2 div.sk-parallel {display: flex;align-items: stretch;justify-content: center;background-color: white;position: relative;}#sk-container-id-2 div.sk-item::before, #sk-container-id-2 div.sk-parallel-item::before {content: \"\";position: absolute;border-left: 1px solid gray;box-sizing: border-box;top: 0;bottom: 0;left: 50%;z-index: -1;}#sk-container-id-2 div.sk-parallel-item {display: flex;flex-direction: column;z-index: 1;position: relative;background-color: white;}#sk-container-id-2 div.sk-parallel-item:first-child::after {align-self: flex-end;width: 50%;}#sk-container-id-2 div.sk-parallel-item:last-child::after {align-self: flex-start;width: 50%;}#sk-container-id-2 div.sk-parallel-item:only-child::after {width: 0;}#sk-container-id-2 div.sk-dashed-wrapped {border: 1px dashed gray;margin: 0 0.4em 0.5em 0.4em;box-sizing: border-box;padding-bottom: 0.4em;background-color: white;}#sk-container-id-2 div.sk-label label {font-family: monospace;font-weight: bold;display: inline-block;line-height: 1.2em;}#sk-container-id-2 div.sk-label-container {text-align: center;}#sk-container-id-2 div.sk-container {/* jupyter's `normalize.less` sets `[hidden] { display: none; }` but bootstrap.min.css set `[hidden] { display: none !important; }` so we also need the `!important` here to be able to override the default hidden behavior on the sphinx rendered scikit-learn.org. See: https://github.com/scikit-learn/scikit-learn/issues/21755 */display: inline-block !important;position: relative;}#sk-container-id-2 div.sk-text-repr-fallback {display: none;}</style><div id=\"sk-container-id-2\" class=\"sk-top-container\"><div class=\"sk-text-repr-fallback\"><pre>LinearRegression()</pre><b>In a Jupyter environment, please rerun this cell to show the HTML representation or trust the notebook. <br />On GitHub, the HTML representation is unable to render, please try loading this page with nbviewer.org.</b></div><div class=\"sk-container\" hidden><div class=\"sk-item\"><div class=\"sk-estimator sk-toggleable\"><input class=\"sk-toggleable__control sk-hidden--visually\" id=\"sk-estimator-id-2\" type=\"checkbox\" checked><label for=\"sk-estimator-id-2\" class=\"sk-toggleable__label sk-toggleable__label-arrow\">LinearRegression</label><div class=\"sk-toggleable__content\"><pre>LinearRegression()</pre></div></div></div></div></div>"
      ],
      "text/plain": [
       "LinearRegression()"
      ]
     },
     "execution_count": 27,
     "metadata": {},
     "output_type": "execute_result"
    }
   ],
   "source": [
    "%%time\n",
    "\n",
    "from sklearn.linear_model import LinearRegression\n",
    "\n",
    "model2=LinearRegression()\n",
    "\n",
    "model2.get_params\n",
    "model2.fit(X_train, y_train)\n"
   ]
  },
  {
   "cell_type": "markdown",
   "id": "5324cfb3-2d22-44bc-9968-5fc46c899f42",
   "metadata": {},
   "source": [
    "## 5.1 Making Prediction"
   ]
  },
  {
   "cell_type": "code",
   "execution_count": 28,
   "id": "7b0eb2c1-2b13-47a5-b740-60ad3daebe55",
   "metadata": {},
   "outputs": [
    {
     "data": {
      "text/plain": [
       "array([[ 0.01948815,  0.03265657,  0.00707624],\n",
       "       [-0.04585043,  0.03119339,  0.0061401 ],\n",
       "       [ 0.00403521,  0.03104953,  0.00397579],\n",
       "       ...,\n",
       "       [ 0.00663659,  0.03250792,  0.00083009],\n",
       "       [-0.05352953,  0.03098448,  0.0047603 ],\n",
       "       [ 0.01722162,  0.03279783,  0.00346996]])"
      ]
     },
     "execution_count": 28,
     "metadata": {},
     "output_type": "execute_result"
    }
   ],
   "source": [
    "yLinear_Preds=model2.predict(X_test)\n",
    "yLinear_Preds"
   ]
  },
  {
   "cell_type": "code",
   "execution_count": 29,
   "id": "339bc666-d8f7-4086-a912-529a848bdcb1",
   "metadata": {},
   "outputs": [
    {
     "data": {
      "text/html": [
       "<div>\n",
       "<style scoped>\n",
       "    .dataframe tbody tr th:only-of-type {\n",
       "        vertical-align: middle;\n",
       "    }\n",
       "\n",
       "    .dataframe tbody tr th {\n",
       "        vertical-align: top;\n",
       "    }\n",
       "\n",
       "    .dataframe thead th {\n",
       "        text-align: right;\n",
       "    }\n",
       "</style>\n",
       "<table border=\"1\" class=\"dataframe\">\n",
       "  <thead>\n",
       "    <tr style=\"text-align: right;\">\n",
       "      <th></th>\n",
       "      <th>Parcel Centroid[X] (m)</th>\n",
       "      <th>Parcel Centroid[Y] (m)</th>\n",
       "      <th>Parcel Centroid[Z] (m)</th>\n",
       "    </tr>\n",
       "  </thead>\n",
       "  <tbody>\n",
       "    <tr>\n",
       "      <th>0</th>\n",
       "      <td>0.019488</td>\n",
       "      <td>0.032657</td>\n",
       "      <td>0.007076</td>\n",
       "    </tr>\n",
       "    <tr>\n",
       "      <th>1</th>\n",
       "      <td>-0.045850</td>\n",
       "      <td>0.031193</td>\n",
       "      <td>0.006140</td>\n",
       "    </tr>\n",
       "    <tr>\n",
       "      <th>2</th>\n",
       "      <td>0.004035</td>\n",
       "      <td>0.031050</td>\n",
       "      <td>0.003976</td>\n",
       "    </tr>\n",
       "    <tr>\n",
       "      <th>3</th>\n",
       "      <td>0.015080</td>\n",
       "      <td>0.030095</td>\n",
       "      <td>0.004257</td>\n",
       "    </tr>\n",
       "    <tr>\n",
       "      <th>4</th>\n",
       "      <td>-0.063723</td>\n",
       "      <td>0.031261</td>\n",
       "      <td>0.007058</td>\n",
       "    </tr>\n",
       "    <tr>\n",
       "      <th>...</th>\n",
       "      <td>...</td>\n",
       "      <td>...</td>\n",
       "      <td>...</td>\n",
       "    </tr>\n",
       "    <tr>\n",
       "      <th>528280</th>\n",
       "      <td>-0.077138</td>\n",
       "      <td>0.030881</td>\n",
       "      <td>0.006350</td>\n",
       "    </tr>\n",
       "    <tr>\n",
       "      <th>528281</th>\n",
       "      <td>-0.045392</td>\n",
       "      <td>0.031492</td>\n",
       "      <td>0.008104</td>\n",
       "    </tr>\n",
       "    <tr>\n",
       "      <th>528282</th>\n",
       "      <td>0.006637</td>\n",
       "      <td>0.032508</td>\n",
       "      <td>0.000830</td>\n",
       "    </tr>\n",
       "    <tr>\n",
       "      <th>528283</th>\n",
       "      <td>-0.053530</td>\n",
       "      <td>0.030984</td>\n",
       "      <td>0.004760</td>\n",
       "    </tr>\n",
       "    <tr>\n",
       "      <th>528284</th>\n",
       "      <td>0.017222</td>\n",
       "      <td>0.032798</td>\n",
       "      <td>0.003470</td>\n",
       "    </tr>\n",
       "  </tbody>\n",
       "</table>\n",
       "<p>528285 rows × 3 columns</p>\n",
       "</div>"
      ],
      "text/plain": [
       "        Parcel Centroid[X] (m)  Parcel Centroid[Y] (m)  Parcel Centroid[Z] (m)\n",
       "0                     0.019488                0.032657                0.007076\n",
       "1                    -0.045850                0.031193                0.006140\n",
       "2                     0.004035                0.031050                0.003976\n",
       "3                     0.015080                0.030095                0.004257\n",
       "4                    -0.063723                0.031261                0.007058\n",
       "...                        ...                     ...                     ...\n",
       "528280               -0.077138                0.030881                0.006350\n",
       "528281               -0.045392                0.031492                0.008104\n",
       "528282                0.006637                0.032508                0.000830\n",
       "528283               -0.053530                0.030984                0.004760\n",
       "528284                0.017222                0.032798                0.003470\n",
       "\n",
       "[528285 rows x 3 columns]"
      ]
     },
     "execution_count": 29,
     "metadata": {},
     "output_type": "execute_result"
    }
   ],
   "source": [
    "yLinear_Preds=pd.DataFrame(yLinear_Preds, columns=['Parcel Centroid[X] (m)', 'Parcel Centroid[Y] (m)', 'Parcel Centroid[Z] (m)'])\n",
    "yLinear_Preds"
   ]
  },
  {
   "cell_type": "code",
   "execution_count": 30,
   "id": "c4242c11-beba-4edc-9f15-68276dfa50c3",
   "metadata": {},
   "outputs": [
    {
     "data": {
      "text/html": [
       "<div>\n",
       "<style scoped>\n",
       "    .dataframe tbody tr th:only-of-type {\n",
       "        vertical-align: middle;\n",
       "    }\n",
       "\n",
       "    .dataframe tbody tr th {\n",
       "        vertical-align: top;\n",
       "    }\n",
       "\n",
       "    .dataframe thead th {\n",
       "        text-align: right;\n",
       "    }\n",
       "</style>\n",
       "<table border=\"1\" class=\"dataframe\">\n",
       "  <thead>\n",
       "    <tr style=\"text-align: right;\">\n",
       "      <th></th>\n",
       "      <th>Parcel Centroid[X] (m)</th>\n",
       "      <th>Parcel Centroid[Y] (m)</th>\n",
       "      <th>Parcel Centroid[Z] (m)</th>\n",
       "    </tr>\n",
       "  </thead>\n",
       "  <tbody>\n",
       "    <tr>\n",
       "      <th>412383</th>\n",
       "      <td>0.031502</td>\n",
       "      <td>0.033440</td>\n",
       "      <td>0.002208</td>\n",
       "    </tr>\n",
       "    <tr>\n",
       "      <th>541694</th>\n",
       "      <td>-0.049162</td>\n",
       "      <td>0.029499</td>\n",
       "      <td>0.007040</td>\n",
       "    </tr>\n",
       "    <tr>\n",
       "      <th>2308287</th>\n",
       "      <td>0.007145</td>\n",
       "      <td>0.025976</td>\n",
       "      <td>0.005395</td>\n",
       "    </tr>\n",
       "    <tr>\n",
       "      <th>2551475</th>\n",
       "      <td>0.017912</td>\n",
       "      <td>0.026251</td>\n",
       "      <td>0.003920</td>\n",
       "    </tr>\n",
       "    <tr>\n",
       "      <th>1094681</th>\n",
       "      <td>-0.066240</td>\n",
       "      <td>0.033535</td>\n",
       "      <td>0.008997</td>\n",
       "    </tr>\n",
       "    <tr>\n",
       "      <th>...</th>\n",
       "      <td>...</td>\n",
       "      <td>...</td>\n",
       "      <td>...</td>\n",
       "    </tr>\n",
       "    <tr>\n",
       "      <th>179283</th>\n",
       "      <td>-0.079945</td>\n",
       "      <td>0.034668</td>\n",
       "      <td>0.009816</td>\n",
       "    </tr>\n",
       "    <tr>\n",
       "      <th>101560</th>\n",
       "      <td>-0.049620</td>\n",
       "      <td>0.037336</td>\n",
       "      <td>0.003339</td>\n",
       "    </tr>\n",
       "    <tr>\n",
       "      <th>2305778</th>\n",
       "      <td>0.000587</td>\n",
       "      <td>0.034223</td>\n",
       "      <td>0.000501</td>\n",
       "    </tr>\n",
       "    <tr>\n",
       "      <th>1705144</th>\n",
       "      <td>-0.057399</td>\n",
       "      <td>0.027527</td>\n",
       "      <td>0.003134</td>\n",
       "    </tr>\n",
       "    <tr>\n",
       "      <th>1445684</th>\n",
       "      <td>0.024550</td>\n",
       "      <td>0.034840</td>\n",
       "      <td>0.003569</td>\n",
       "    </tr>\n",
       "  </tbody>\n",
       "</table>\n",
       "<p>528285 rows × 3 columns</p>\n",
       "</div>"
      ],
      "text/plain": [
       "         Parcel Centroid[X] (m)  Parcel Centroid[Y] (m)  \\\n",
       "412383                 0.031502                0.033440   \n",
       "541694                -0.049162                0.029499   \n",
       "2308287                0.007145                0.025976   \n",
       "2551475                0.017912                0.026251   \n",
       "1094681               -0.066240                0.033535   \n",
       "...                         ...                     ...   \n",
       "179283                -0.079945                0.034668   \n",
       "101560                -0.049620                0.037336   \n",
       "2305778                0.000587                0.034223   \n",
       "1705144               -0.057399                0.027527   \n",
       "1445684                0.024550                0.034840   \n",
       "\n",
       "         Parcel Centroid[Z] (m)  \n",
       "412383                 0.002208  \n",
       "541694                 0.007040  \n",
       "2308287                0.005395  \n",
       "2551475                0.003920  \n",
       "1094681                0.008997  \n",
       "...                         ...  \n",
       "179283                 0.009816  \n",
       "101560                 0.003339  \n",
       "2305778                0.000501  \n",
       "1705144                0.003134  \n",
       "1445684                0.003569  \n",
       "\n",
       "[528285 rows x 3 columns]"
      ]
     },
     "execution_count": 30,
     "metadata": {},
     "output_type": "execute_result"
    }
   ],
   "source": [
    " y_test"
   ]
  },
  {
   "cell_type": "markdown",
   "id": "d4ae8bd8-a981-4c3a-b88e-8f7339783516",
   "metadata": {},
   "source": [
    "## 5.2 Scoring the Linear Regression based model"
   ]
  },
  {
   "cell_type": "code",
   "execution_count": 31,
   "id": "85143a79-bc9b-41d2-9721-e8f73c08f0b8",
   "metadata": {},
   "outputs": [
    {
     "data": {
      "text/plain": [
       "0.5530048483735288"
      ]
     },
     "execution_count": 31,
     "metadata": {},
     "output_type": "execute_result"
    }
   ],
   "source": [
    "model2.score(X_train, y_train)"
   ]
  },
  {
   "cell_type": "code",
   "execution_count": 32,
   "id": "60ee154f-5038-487e-8bf8-75e33f387fde",
   "metadata": {},
   "outputs": [
    {
     "data": {
      "text/plain": [
       "0.5535297387096006"
      ]
     },
     "execution_count": 32,
     "metadata": {},
     "output_type": "execute_result"
    }
   ],
   "source": [
    "model2.score(X_test, y_test)"
   ]
  },
  {
   "cell_type": "code",
   "execution_count": null,
   "id": "5f6a8cde",
   "metadata": {},
   "outputs": [],
   "source": []
  },
  {
   "cell_type": "code",
   "execution_count": 33,
   "id": "bc815ccb",
   "metadata": {},
   "outputs": [
    {
     "data": {
      "text/html": [
       "<div>\n",
       "<style scoped>\n",
       "    .dataframe tbody tr th:only-of-type {\n",
       "        vertical-align: middle;\n",
       "    }\n",
       "\n",
       "    .dataframe tbody tr th {\n",
       "        vertical-align: top;\n",
       "    }\n",
       "\n",
       "    .dataframe thead th {\n",
       "        text-align: right;\n",
       "    }\n",
       "</style>\n",
       "<table border=\"1\" class=\"dataframe\">\n",
       "  <thead>\n",
       "    <tr style=\"text-align: right;\">\n",
       "      <th></th>\n",
       "      <th>Values</th>\n",
       "      <th>LinearRegression</th>\n",
       "    </tr>\n",
       "  </thead>\n",
       "  <tbody>\n",
       "    <tr>\n",
       "      <th>r-squared</th>\n",
       "      <td>0.886260</td>\n",
       "      <td>0.553530</td>\n",
       "    </tr>\n",
       "    <tr>\n",
       "      <th>Mean absolute error (MAE)</th>\n",
       "      <td>0.001389</td>\n",
       "      <td>0.003346</td>\n",
       "    </tr>\n",
       "    <tr>\n",
       "      <th>Mean squared error(MSE)</th>\n",
       "      <td>0.000004</td>\n",
       "      <td>0.000018</td>\n",
       "    </tr>\n",
       "  </tbody>\n",
       "</table>\n",
       "</div>"
      ],
      "text/plain": [
       "                             Values  LinearRegression\n",
       "r-squared                  0.886260          0.553530\n",
       "Mean absolute error (MAE)  0.001389          0.003346\n",
       "Mean squared error(MSE)    0.000004          0.000018"
      ]
     },
     "execution_count": 33,
     "metadata": {},
     "output_type": "execute_result"
    }
   ],
   "source": [
    "model2_scores={}\n",
    "\n",
    "for key,value in metrics.items():\n",
    "    model2_scores[key]=value(y_test, yLinear_Preds)\n",
    "\n",
    "    \n",
    "model2_scores\n",
    "\n",
    "score100_table['LinearRegression']= np.array(list(model2_scores.values()))\n",
    "score100_table"
   ]
  },
  {
   "cell_type": "code",
   "execution_count": 34,
   "id": "315e91fa",
   "metadata": {},
   "outputs": [
    {
     "data": {
      "text/plain": [
       "{'r-squared': 0.5535297387096006,\n",
       " 'Mean absolute error (MAE)': 0.0033456526332714975,\n",
       " 'Mean squared error(MSE)': 1.8457236273240583e-05}"
      ]
     },
     "execution_count": 34,
     "metadata": {},
     "output_type": "execute_result"
    }
   ],
   "source": [
    "model2_scores"
   ]
  },
  {
   "cell_type": "markdown",
   "id": "bb0a0f3a-78b7-43fb-9f3a-a7c171dd7f58",
   "metadata": {},
   "source": [
    "## 5.3 Plots of the Actual vs  Predicted Granule Position Using the Linear Regression Model"
   ]
  },
  {
   "cell_type": "code",
   "execution_count": 35,
   "id": "ca8e509d-37b4-4ddd-8ce0-4adcd693f93e",
   "metadata": {},
   "outputs": [],
   "source": [
    "LR_Pred_Xi=yLinear_Preds.iloc[:,:1]\n",
    "LR_Pred_Xj=yLinear_Preds.iloc[:, :2].drop('Parcel Centroid[X] (m)', axis =1)"
   ]
  },
  {
   "cell_type": "code",
   "execution_count": 36,
   "id": "7d94cd4d-ba44-4f99-bb2f-2963f8ef92ce",
   "metadata": {},
   "outputs": [
    {
     "data": {
      "image/png": "[encoded data removed]",
      "text/plain": [
       "<Figure size 500x500 with 1 Axes>"
      ]
     },
     "metadata": {},
     "output_type": "display_data"
    }
   ],
   "source": [
    "fig, ax5= plt.subplots(figsize=(5,5))\n",
    "\n",
    "ax5.scatter(actual_Xi, actual_Xj, color='blue')\n",
    "ax5.scatter(LR_Pred_Xi, LR_Pred_Xj, color='red')\n",
    "\n",
    "plt.savefig('./LinearRegression_model(#100).png', dpi=1200)"
   ]
  },
  {
   "cell_type": "markdown",
   "id": "26a24ac2-c31a-4c9a-919a-59fe4a33fdec",
   "metadata": {},
   "source": [
    "# 6.0 Using Ridge Regression"
   ]
  },
  {
   "cell_type": "code",
   "execution_count": 37,
   "id": "ac4240cb-087c-4799-a993-524580bc9ecc",
   "metadata": {},
   "outputs": [
    {
     "name": "stdout",
     "output_type": "stream",
     "text": [
      "CPU times: total: 453 ms\n",
      "Wall time: 245 ms\n"
     ]
    },
    {
     "data": {
      "text/html": [
       "<style>#sk-container-id-3 {color: black;background-color: white;}#sk-container-id-3 pre{padding: 0;}#sk-container-id-3 div.sk-toggleable {background-color: white;}#sk-container-id-3 label.sk-toggleable__label {cursor: pointer;display: block;width: 100%;margin-bottom: 0;padding: 0.3em;box-sizing: border-box;text-align: center;}#sk-container-id-3 label.sk-toggleable__label-arrow:before {content: \"▸\";float: left;margin-right: 0.25em;color: #696969;}#sk-container-id-3 label.sk-toggleable__label-arrow:hover:before {color: black;}#sk-container-id-3 div.sk-estimator:hover label.sk-toggleable__label-arrow:before {color: black;}#sk-container-id-3 div.sk-toggleable__content {max-height: 0;max-width: 0;overflow: hidden;text-align: left;background-color: #f0f8ff;}#sk-container-id-3 div.sk-toggleable__content pre {margin: 0.2em;color: black;border-radius: 0.25em;background-color: #f0f8ff;}#sk-container-id-3 input.sk-toggleable__control:checked~div.sk-toggleable__content {max-height: 200px;max-width: 100%;overflow: auto;}#sk-container-id-3 input.sk-toggleable__control:checked~label.sk-toggleable__label-arrow:before {content: \"▾\";}#sk-container-id-3 div.sk-estimator input.sk-toggleable__control:checked~label.sk-toggleable__label {background-color: #d4ebff;}#sk-container-id-3 div.sk-label input.sk-toggleable__control:checked~label.sk-toggleable__label {background-color: #d4ebff;}#sk-container-id-3 input.sk-hidden--visually {border: 0;clip: rect(1px 1px 1px 1px);clip: rect(1px, 1px, 1px, 1px);height: 1px;margin: -1px;overflow: hidden;padding: 0;position: absolute;width: 1px;}#sk-container-id-3 div.sk-estimator {font-family: monospace;background-color: #f0f8ff;border: 1px dotted black;border-radius: 0.25em;box-sizing: border-box;margin-bottom: 0.5em;}#sk-container-id-3 div.sk-estimator:hover {background-color: #d4ebff;}#sk-container-id-3 div.sk-parallel-item::after {content: \"\";width: 100%;border-bottom: 1px solid gray;flex-grow: 1;}#sk-container-id-3 div.sk-label:hover label.sk-toggleable__label {background-color: #d4ebff;}#sk-container-id-3 div.sk-serial::before {content: \"\";position: absolute;border-left: 1px solid gray;box-sizing: border-box;top: 0;bottom: 0;left: 50%;z-index: 0;}#sk-container-id-3 div.sk-serial {display: flex;flex-direction: column;align-items: center;background-color: white;padding-right: 0.2em;padding-left: 0.2em;position: relative;}#sk-container-id-3 div.sk-item {position: relative;z-index: 1;}#sk-container-id-3 div.sk-parallel {display: flex;align-items: stretch;justify-content: center;background-color: white;position: relative;}#sk-container-id-3 div.sk-item::before, #sk-container-id-3 div.sk-parallel-item::before {content: \"\";position: absolute;border-left: 1px solid gray;box-sizing: border-box;top: 0;bottom: 0;left: 50%;z-index: -1;}#sk-container-id-3 div.sk-parallel-item {display: flex;flex-direction: column;z-index: 1;position: relative;background-color: white;}#sk-container-id-3 div.sk-parallel-item:first-child::after {align-self: flex-end;width: 50%;}#sk-container-id-3 div.sk-parallel-item:last-child::after {align-self: flex-start;width: 50%;}#sk-container-id-3 div.sk-parallel-item:only-child::after {width: 0;}#sk-container-id-3 div.sk-dashed-wrapped {border: 1px dashed gray;margin: 0 0.4em 0.5em 0.4em;box-sizing: border-box;padding-bottom: 0.4em;background-color: white;}#sk-container-id-3 div.sk-label label {font-family: monospace;font-weight: bold;display: inline-block;line-height: 1.2em;}#sk-container-id-3 div.sk-label-container {text-align: center;}#sk-container-id-3 div.sk-container {/* jupyter's `normalize.less` sets `[hidden] { display: none; }` but bootstrap.min.css set `[hidden] { display: none !important; }` so we also need the `!important` here to be able to override the default hidden behavior on the sphinx rendered scikit-learn.org. See: https://github.com/scikit-learn/scikit-learn/issues/21755 */display: inline-block !important;position: relative;}#sk-container-id-3 div.sk-text-repr-fallback {display: none;}</style><div id=\"sk-container-id-3\" class=\"sk-top-container\"><div class=\"sk-text-repr-fallback\"><pre>Ridge()</pre><b>In a Jupyter environment, please rerun this cell to show the HTML representation or trust the notebook. <br />On GitHub, the HTML representation is unable to render, please try loading this page with nbviewer.org.</b></div><div class=\"sk-container\" hidden><div class=\"sk-item\"><div class=\"sk-estimator sk-toggleable\"><input class=\"sk-toggleable__control sk-hidden--visually\" id=\"sk-estimator-id-3\" type=\"checkbox\" checked><label for=\"sk-estimator-id-3\" class=\"sk-toggleable__label sk-toggleable__label-arrow\">Ridge</label><div class=\"sk-toggleable__content\"><pre>Ridge()</pre></div></div></div></div></div>"
      ],
      "text/plain": [
       "Ridge()"
      ]
     },
     "execution_count": 37,
     "metadata": {},
     "output_type": "execute_result"
    }
   ],
   "source": [
    "%%time\n",
    "\n",
    "from sklearn.linear_model import Ridge\n",
    "\n",
    "model3= Ridge()\n",
    "\n",
    "model3.get_params\n",
    "\n",
    "model3.fit(X_train, y_train)"
   ]
  },
  {
   "cell_type": "code",
   "execution_count": 38,
   "id": "8ae9d071-9e3e-4f44-940d-ccfcfd0908d1",
   "metadata": {},
   "outputs": [
    {
     "data": {
      "text/plain": [
       "array([[ 0.01949836,  0.03265729,  0.00707914],\n",
       "       [-0.04586458,  0.03119333,  0.00613501],\n",
       "       [ 0.00404134,  0.03105028,  0.0039779 ],\n",
       "       ...,\n",
       "       [ 0.00662186,  0.03250623,  0.00082536],\n",
       "       [-0.05355782,  0.03098306,  0.00475113],\n",
       "       [ 0.0172484 ,  0.03279897,  0.00347881]])"
      ]
     },
     "execution_count": 38,
     "metadata": {},
     "output_type": "execute_result"
    }
   ],
   "source": [
    "yRidge_preds=model3.predict(X_test)\n",
    "yRidge_preds"
   ]
  },
  {
   "cell_type": "code",
   "execution_count": 39,
   "id": "e29f4d76-d415-4c9e-977a-3c94b2fd2111",
   "metadata": {},
   "outputs": [
    {
     "data": {
      "text/html": [
       "<div>\n",
       "<style scoped>\n",
       "    .dataframe tbody tr th:only-of-type {\n",
       "        vertical-align: middle;\n",
       "    }\n",
       "\n",
       "    .dataframe tbody tr th {\n",
       "        vertical-align: top;\n",
       "    }\n",
       "\n",
       "    .dataframe thead th {\n",
       "        text-align: right;\n",
       "    }\n",
       "</style>\n",
       "<table border=\"1\" class=\"dataframe\">\n",
       "  <thead>\n",
       "    <tr style=\"text-align: right;\">\n",
       "      <th></th>\n",
       "      <th>Parcel Centroid[X] (m)</th>\n",
       "      <th>Parcel Centroid[Y] (m)</th>\n",
       "      <th>Parcel Centroid[Z] (m)</th>\n",
       "    </tr>\n",
       "  </thead>\n",
       "  <tbody>\n",
       "    <tr>\n",
       "      <th>0</th>\n",
       "      <td>0.019498</td>\n",
       "      <td>0.032657</td>\n",
       "      <td>0.007079</td>\n",
       "    </tr>\n",
       "    <tr>\n",
       "      <th>1</th>\n",
       "      <td>-0.045865</td>\n",
       "      <td>0.031193</td>\n",
       "      <td>0.006135</td>\n",
       "    </tr>\n",
       "    <tr>\n",
       "      <th>2</th>\n",
       "      <td>0.004041</td>\n",
       "      <td>0.031050</td>\n",
       "      <td>0.003978</td>\n",
       "    </tr>\n",
       "    <tr>\n",
       "      <th>3</th>\n",
       "      <td>0.015022</td>\n",
       "      <td>0.030092</td>\n",
       "      <td>0.004238</td>\n",
       "    </tr>\n",
       "    <tr>\n",
       "      <th>4</th>\n",
       "      <td>-0.063743</td>\n",
       "      <td>0.031260</td>\n",
       "      <td>0.007051</td>\n",
       "    </tr>\n",
       "    <tr>\n",
       "      <th>...</th>\n",
       "      <td>...</td>\n",
       "      <td>...</td>\n",
       "      <td>...</td>\n",
       "    </tr>\n",
       "    <tr>\n",
       "      <th>528280</th>\n",
       "      <td>-0.077156</td>\n",
       "      <td>0.030879</td>\n",
       "      <td>0.006346</td>\n",
       "    </tr>\n",
       "    <tr>\n",
       "      <th>528281</th>\n",
       "      <td>-0.045429</td>\n",
       "      <td>0.031489</td>\n",
       "      <td>0.008094</td>\n",
       "    </tr>\n",
       "    <tr>\n",
       "      <th>528282</th>\n",
       "      <td>0.006622</td>\n",
       "      <td>0.032506</td>\n",
       "      <td>0.000825</td>\n",
       "    </tr>\n",
       "    <tr>\n",
       "      <th>528283</th>\n",
       "      <td>-0.053558</td>\n",
       "      <td>0.030983</td>\n",
       "      <td>0.004751</td>\n",
       "    </tr>\n",
       "    <tr>\n",
       "      <th>528284</th>\n",
       "      <td>0.017248</td>\n",
       "      <td>0.032799</td>\n",
       "      <td>0.003479</td>\n",
       "    </tr>\n",
       "  </tbody>\n",
       "</table>\n",
       "<p>528285 rows × 3 columns</p>\n",
       "</div>"
      ],
      "text/plain": [
       "        Parcel Centroid[X] (m)  Parcel Centroid[Y] (m)  Parcel Centroid[Z] (m)\n",
       "0                     0.019498                0.032657                0.007079\n",
       "1                    -0.045865                0.031193                0.006135\n",
       "2                     0.004041                0.031050                0.003978\n",
       "3                     0.015022                0.030092                0.004238\n",
       "4                    -0.063743                0.031260                0.007051\n",
       "...                        ...                     ...                     ...\n",
       "528280               -0.077156                0.030879                0.006346\n",
       "528281               -0.045429                0.031489                0.008094\n",
       "528282                0.006622                0.032506                0.000825\n",
       "528283               -0.053558                0.030983                0.004751\n",
       "528284                0.017248                0.032799                0.003479\n",
       "\n",
       "[528285 rows x 3 columns]"
      ]
     },
     "execution_count": 39,
     "metadata": {},
     "output_type": "execute_result"
    }
   ],
   "source": [
    "yRidge_preds=pd.DataFrame(yRidge_preds, columns=['Parcel Centroid[X] (m)', 'Parcel Centroid[Y] (m)', 'Parcel Centroid[Z] (m)'])\n",
    "yRidge_preds"
   ]
  },
  {
   "cell_type": "code",
   "execution_count": 40,
   "id": "933bc617-0af8-4cea-a1e1-3d4e91b83c24",
   "metadata": {},
   "outputs": [
    {
     "data": {
      "text/html": [
       "<div>\n",
       "<style scoped>\n",
       "    .dataframe tbody tr th:only-of-type {\n",
       "        vertical-align: middle;\n",
       "    }\n",
       "\n",
       "    .dataframe tbody tr th {\n",
       "        vertical-align: top;\n",
       "    }\n",
       "\n",
       "    .dataframe thead th {\n",
       "        text-align: right;\n",
       "    }\n",
       "</style>\n",
       "<table border=\"1\" class=\"dataframe\">\n",
       "  <thead>\n",
       "    <tr style=\"text-align: right;\">\n",
       "      <th></th>\n",
       "      <th>Parcel Centroid[X] (m)</th>\n",
       "      <th>Parcel Centroid[Y] (m)</th>\n",
       "      <th>Parcel Centroid[Z] (m)</th>\n",
       "    </tr>\n",
       "  </thead>\n",
       "  <tbody>\n",
       "    <tr>\n",
       "      <th>412383</th>\n",
       "      <td>0.031502</td>\n",
       "      <td>0.033440</td>\n",
       "      <td>0.002208</td>\n",
       "    </tr>\n",
       "    <tr>\n",
       "      <th>541694</th>\n",
       "      <td>-0.049162</td>\n",
       "      <td>0.029499</td>\n",
       "      <td>0.007040</td>\n",
       "    </tr>\n",
       "    <tr>\n",
       "      <th>2308287</th>\n",
       "      <td>0.007145</td>\n",
       "      <td>0.025976</td>\n",
       "      <td>0.005395</td>\n",
       "    </tr>\n",
       "    <tr>\n",
       "      <th>2551475</th>\n",
       "      <td>0.017912</td>\n",
       "      <td>0.026251</td>\n",
       "      <td>0.003920</td>\n",
       "    </tr>\n",
       "    <tr>\n",
       "      <th>1094681</th>\n",
       "      <td>-0.066240</td>\n",
       "      <td>0.033535</td>\n",
       "      <td>0.008997</td>\n",
       "    </tr>\n",
       "    <tr>\n",
       "      <th>...</th>\n",
       "      <td>...</td>\n",
       "      <td>...</td>\n",
       "      <td>...</td>\n",
       "    </tr>\n",
       "    <tr>\n",
       "      <th>179283</th>\n",
       "      <td>-0.079945</td>\n",
       "      <td>0.034668</td>\n",
       "      <td>0.009816</td>\n",
       "    </tr>\n",
       "    <tr>\n",
       "      <th>101560</th>\n",
       "      <td>-0.049620</td>\n",
       "      <td>0.037336</td>\n",
       "      <td>0.003339</td>\n",
       "    </tr>\n",
       "    <tr>\n",
       "      <th>2305778</th>\n",
       "      <td>0.000587</td>\n",
       "      <td>0.034223</td>\n",
       "      <td>0.000501</td>\n",
       "    </tr>\n",
       "    <tr>\n",
       "      <th>1705144</th>\n",
       "      <td>-0.057399</td>\n",
       "      <td>0.027527</td>\n",
       "      <td>0.003134</td>\n",
       "    </tr>\n",
       "    <tr>\n",
       "      <th>1445684</th>\n",
       "      <td>0.024550</td>\n",
       "      <td>0.034840</td>\n",
       "      <td>0.003569</td>\n",
       "    </tr>\n",
       "  </tbody>\n",
       "</table>\n",
       "<p>528285 rows × 3 columns</p>\n",
       "</div>"
      ],
      "text/plain": [
       "         Parcel Centroid[X] (m)  Parcel Centroid[Y] (m)  \\\n",
       "412383                 0.031502                0.033440   \n",
       "541694                -0.049162                0.029499   \n",
       "2308287                0.007145                0.025976   \n",
       "2551475                0.017912                0.026251   \n",
       "1094681               -0.066240                0.033535   \n",
       "...                         ...                     ...   \n",
       "179283                -0.079945                0.034668   \n",
       "101560                -0.049620                0.037336   \n",
       "2305778                0.000587                0.034223   \n",
       "1705144               -0.057399                0.027527   \n",
       "1445684                0.024550                0.034840   \n",
       "\n",
       "         Parcel Centroid[Z] (m)  \n",
       "412383                 0.002208  \n",
       "541694                 0.007040  \n",
       "2308287                0.005395  \n",
       "2551475                0.003920  \n",
       "1094681                0.008997  \n",
       "...                         ...  \n",
       "179283                 0.009816  \n",
       "101560                 0.003339  \n",
       "2305778                0.000501  \n",
       "1705144                0.003134  \n",
       "1445684                0.003569  \n",
       "\n",
       "[528285 rows x 3 columns]"
      ]
     },
     "execution_count": 40,
     "metadata": {},
     "output_type": "execute_result"
    }
   ],
   "source": [
    "y_test"
   ]
  },
  {
   "cell_type": "code",
   "execution_count": 41,
   "id": "dc74458d-dcce-419f-93f6-b93cf950d02a",
   "metadata": {},
   "outputs": [
    {
     "data": {
      "text/plain": [
       "0.5530016147043105"
      ]
     },
     "execution_count": 41,
     "metadata": {},
     "output_type": "execute_result"
    }
   ],
   "source": [
    "model3.score(X_train, y_train)"
   ]
  },
  {
   "cell_type": "code",
   "execution_count": 42,
   "id": "d13b8827-9bcd-49e6-8c12-4a629f9b1eb5",
   "metadata": {},
   "outputs": [
    {
     "data": {
      "text/plain": [
       "0.5535259805820036"
      ]
     },
     "execution_count": 42,
     "metadata": {},
     "output_type": "execute_result"
    }
   ],
   "source": [
    "model3.score(X_test, y_test)"
   ]
  },
  {
   "cell_type": "code",
   "execution_count": 43,
   "id": "149f0224",
   "metadata": {},
   "outputs": [
    {
     "data": {
      "text/html": [
       "<div>\n",
       "<style scoped>\n",
       "    .dataframe tbody tr th:only-of-type {\n",
       "        vertical-align: middle;\n",
       "    }\n",
       "\n",
       "    .dataframe tbody tr th {\n",
       "        vertical-align: top;\n",
       "    }\n",
       "\n",
       "    .dataframe thead th {\n",
       "        text-align: right;\n",
       "    }\n",
       "</style>\n",
       "<table border=\"1\" class=\"dataframe\">\n",
       "  <thead>\n",
       "    <tr style=\"text-align: right;\">\n",
       "      <th></th>\n",
       "      <th>Values</th>\n",
       "      <th>LinearRegression</th>\n",
       "      <th>RidgeRegression</th>\n",
       "    </tr>\n",
       "  </thead>\n",
       "  <tbody>\n",
       "    <tr>\n",
       "      <th>r-squared</th>\n",
       "      <td>0.886260</td>\n",
       "      <td>0.553530</td>\n",
       "      <td>0.553526</td>\n",
       "    </tr>\n",
       "    <tr>\n",
       "      <th>Mean absolute error (MAE)</th>\n",
       "      <td>0.001389</td>\n",
       "      <td>0.003346</td>\n",
       "      <td>0.003346</td>\n",
       "    </tr>\n",
       "    <tr>\n",
       "      <th>Mean squared error(MSE)</th>\n",
       "      <td>0.000004</td>\n",
       "      <td>0.000018</td>\n",
       "      <td>0.000018</td>\n",
       "    </tr>\n",
       "  </tbody>\n",
       "</table>\n",
       "</div>"
      ],
      "text/plain": [
       "                             Values  LinearRegression  RidgeRegression\n",
       "r-squared                  0.886260          0.553530         0.553526\n",
       "Mean absolute error (MAE)  0.001389          0.003346         0.003346\n",
       "Mean squared error(MSE)    0.000004          0.000018         0.000018"
      ]
     },
     "execution_count": 43,
     "metadata": {},
     "output_type": "execute_result"
    }
   ],
   "source": [
    "model3_scores={}\n",
    "\n",
    "for key,value in metrics.items():\n",
    "    model3_scores[key]=value(y_test, yRidge_preds)\n",
    "\n",
    "    \n",
    "model3_scores\n",
    "\n",
    "score100_table['RidgeRegression']= np.array(list(model3_scores.values()))\n",
    "score100_table"
   ]
  },
  {
   "cell_type": "markdown",
   "id": "5f26f07c-300d-45ca-b26c-2cff912592a8",
   "metadata": {},
   "source": [
    "## 6.3 Plotting the graph of Actual against Predicted for the Ridge regression Model"
   ]
  },
  {
   "cell_type": "code",
   "execution_count": 44,
   "id": "8ae32248-db12-464e-8ff9-eb03f1019188",
   "metadata": {},
   "outputs": [],
   "source": [
    "RR_preds_Xi= yRidge_preds.iloc[:,:1]\n",
    "RR_preds_Xj= yRidge_preds.iloc[:, :2].drop('Parcel Centroid[X] (m)', axis =1)\n"
   ]
  },
  {
   "cell_type": "code",
   "execution_count": 45,
   "id": "559a3846-d876-469b-94f4-2c4087da2269",
   "metadata": {},
   "outputs": [
    {
     "data": {
      "image/png": "[encoded data removed]",
      "text/plain": [
       "<Figure size 500x500 with 1 Axes>"
      ]
     },
     "metadata": {},
     "output_type": "display_data"
    }
   ],
   "source": [
    "fig, ax6= plt.subplots(figsize=(5,5))\n",
    "\n",
    "ax6.scatter(actual_Xi, actual_Xj, color='blue')\n",
    "ax6.scatter(RR_preds_Xi, RR_preds_Xj, color='red')\n",
    "\n",
    "plt.savefig('./Ridge Model plot(#100).png', dpi=1200)"
   ]
  },
  {
   "cell_type": "markdown",
   "id": "6e2abbda-5be7-44a0-bc80-0e9b780dec69",
   "metadata": {},
   "source": [
    "# 7 Using SVR"
   ]
  },
  {
   "cell_type": "code",
   "execution_count": 46,
   "id": "33666f62-f18c-4ead-a842-9525ac8e28e0",
   "metadata": {},
   "outputs": [
    {
     "data": {
      "text/html": [
       "<style>#sk-container-id-4 {color: black;background-color: white;}#sk-container-id-4 pre{padding: 0;}#sk-container-id-4 div.sk-toggleable {background-color: white;}#sk-container-id-4 label.sk-toggleable__label {cursor: pointer;display: block;width: 100%;margin-bottom: 0;padding: 0.3em;box-sizing: border-box;text-align: center;}#sk-container-id-4 label.sk-toggleable__label-arrow:before {content: \"▸\";float: left;margin-right: 0.25em;color: #696969;}#sk-container-id-4 label.sk-toggleable__label-arrow:hover:before {color: black;}#sk-container-id-4 div.sk-estimator:hover label.sk-toggleable__label-arrow:before {color: black;}#sk-container-id-4 div.sk-toggleable__content {max-height: 0;max-width: 0;overflow: hidden;text-align: left;background-color: #f0f8ff;}#sk-container-id-4 div.sk-toggleable__content pre {margin: 0.2em;color: black;border-radius: 0.25em;background-color: #f0f8ff;}#sk-container-id-4 input.sk-toggleable__control:checked~div.sk-toggleable__content {max-height: 200px;max-width: 100%;overflow: auto;}#sk-container-id-4 input.sk-toggleable__control:checked~label.sk-toggleable__label-arrow:before {content: \"▾\";}#sk-container-id-4 div.sk-estimator input.sk-toggleable__control:checked~label.sk-toggleable__label {background-color: #d4ebff;}#sk-container-id-4 div.sk-label input.sk-toggleable__control:checked~label.sk-toggleable__label {background-color: #d4ebff;}#sk-container-id-4 input.sk-hidden--visually {border: 0;clip: rect(1px 1px 1px 1px);clip: rect(1px, 1px, 1px, 1px);height: 1px;margin: -1px;overflow: hidden;padding: 0;position: absolute;width: 1px;}#sk-container-id-4 div.sk-estimator {font-family: monospace;background-color: #f0f8ff;border: 1px dotted black;border-radius: 0.25em;box-sizing: border-box;margin-bottom: 0.5em;}#sk-container-id-4 div.sk-estimator:hover {background-color: #d4ebff;}#sk-container-id-4 div.sk-parallel-item::after {content: \"\";width: 100%;border-bottom: 1px solid gray;flex-grow: 1;}#sk-container-id-4 div.sk-label:hover label.sk-toggleable__label {background-color: #d4ebff;}#sk-container-id-4 div.sk-serial::before {content: \"\";position: absolute;border-left: 1px solid gray;box-sizing: border-box;top: 0;bottom: 0;left: 50%;z-index: 0;}#sk-container-id-4 div.sk-serial {display: flex;flex-direction: column;align-items: center;background-color: white;padding-right: 0.2em;padding-left: 0.2em;position: relative;}#sk-container-id-4 div.sk-item {position: relative;z-index: 1;}#sk-container-id-4 div.sk-parallel {display: flex;align-items: stretch;justify-content: center;background-color: white;position: relative;}#sk-container-id-4 div.sk-item::before, #sk-container-id-4 div.sk-parallel-item::before {content: \"\";position: absolute;border-left: 1px solid gray;box-sizing: border-box;top: 0;bottom: 0;left: 50%;z-index: -1;}#sk-container-id-4 div.sk-parallel-item {display: flex;flex-direction: column;z-index: 1;position: relative;background-color: white;}#sk-container-id-4 div.sk-parallel-item:first-child::after {align-self: flex-end;width: 50%;}#sk-container-id-4 div.sk-parallel-item:last-child::after {align-self: flex-start;width: 50%;}#sk-container-id-4 div.sk-parallel-item:only-child::after {width: 0;}#sk-container-id-4 div.sk-dashed-wrapped {border: 1px dashed gray;margin: 0 0.4em 0.5em 0.4em;box-sizing: border-box;padding-bottom: 0.4em;background-color: white;}#sk-container-id-4 div.sk-label label {font-family: monospace;font-weight: bold;display: inline-block;line-height: 1.2em;}#sk-container-id-4 div.sk-label-container {text-align: center;}#sk-container-id-4 div.sk-container {/* jupyter's `normalize.less` sets `[hidden] { display: none; }` but bootstrap.min.css set `[hidden] { display: none !important; }` so we also need the `!important` here to be able to override the default hidden behavior on the sphinx rendered scikit-learn.org. See: https://github.com/scikit-learn/scikit-learn/issues/21755 */display: inline-block !important;position: relative;}#sk-container-id-4 div.sk-text-repr-fallback {display: none;}</style><div id=\"sk-container-id-4\" class=\"sk-top-container\"><div class=\"sk-text-repr-fallback\"><pre>SVR(C=100, coef0=1, gamma=&#x27;auto&#x27;, kernel=&#x27;poly&#x27;)</pre><b>In a Jupyter environment, please rerun this cell to show the HTML representation or trust the notebook. <br />On GitHub, the HTML representation is unable to render, please try loading this page with nbviewer.org.</b></div><div class=\"sk-container\" hidden><div class=\"sk-item\"><div class=\"sk-estimator sk-toggleable\"><input class=\"sk-toggleable__control sk-hidden--visually\" id=\"sk-estimator-id-4\" type=\"checkbox\" checked><label for=\"sk-estimator-id-4\" class=\"sk-toggleable__label sk-toggleable__label-arrow\">SVR</label><div class=\"sk-toggleable__content\"><pre>SVR(C=100, coef0=1, gamma=&#x27;auto&#x27;, kernel=&#x27;poly&#x27;)</pre></div></div></div></div></div>"
      ],
      "text/plain": [
       "SVR(C=100, coef0=1, gamma='auto', kernel='poly')"
      ]
     },
     "execution_count": 46,
     "metadata": {},
     "output_type": "execute_result"
    }
   ],
   "source": [
    "from sklearn.svm import SVR\n",
    "\n",
    "model4= SVR(kernel=\"poly\", C=100, gamma=\"auto\", degree=3, epsilon=0.1, coef0=1)\n",
    "\n",
    "model4.get_params\n",
    "\n",
    "model4.fit(X_train, y_train.iloc[:, 0]) # can not capture the 2D array of y, it can predict for 1D"
   ]
  },
  {
   "cell_type": "code",
   "execution_count": 47,
   "id": "8009edaa-95fb-4304-9da2-e69324804cff",
   "metadata": {},
   "outputs": [
    {
     "data": {
      "text/plain": [
       "206759    -0.108972\n",
       "1496358   -0.084143\n",
       "235984    -0.027211\n",
       "1917219   -0.047574\n",
       "1233298    0.019445\n",
       "             ...   \n",
       "110268    -0.096571\n",
       "1692743    0.011038\n",
       "2356330   -0.085467\n",
       "2229084   -0.067794\n",
       "2219110   -0.011003\n",
       "Name: Parcel Centroid[X] (m), Length: 2113137, dtype: float64"
      ]
     },
     "execution_count": 47,
     "metadata": {},
     "output_type": "execute_result"
    }
   ],
   "source": [
    "y_train.iloc[:, 0]"
   ]
  },
  {
   "cell_type": "code",
   "execution_count": 48,
   "id": "d41cb196-264c-42f4-9144-ba7c273e5894",
   "metadata": {},
   "outputs": [
    {
     "data": {
      "text/plain": [
       "(2113137,)"
      ]
     },
     "execution_count": 48,
     "metadata": {},
     "output_type": "execute_result"
    }
   ],
   "source": [
    "y_train.iloc[:, 0].shape"
   ]
  },
  {
   "cell_type": "code",
   "execution_count": 49,
   "id": "dbe57fc2-941b-4551-9896-766ceb1c02d0",
   "metadata": {},
   "outputs": [
    {
     "data": {
      "text/plain": [
       "(2113137, 3)"
      ]
     },
     "execution_count": 49,
     "metadata": {},
     "output_type": "execute_result"
    }
   ],
   "source": [
    "y_train.shape"
   ]
  },
  {
   "cell_type": "code",
   "execution_count": 50,
   "id": "07a2eac2-8f94-423a-a307-ca7e457c8e58",
   "metadata": {},
   "outputs": [
    {
     "data": {
      "text/plain": [
       "-0.06814842523438736"
      ]
     },
     "execution_count": 50,
     "metadata": {},
     "output_type": "execute_result"
    }
   ],
   "source": [
    "model4.score(X_test, y_test.iloc[:,:1])"
   ]
  },
  {
   "cell_type": "code",
   "execution_count": 51,
   "id": "a92e22f0-c136-49f6-8900-f63d66c21a28",
   "metadata": {},
   "outputs": [
    {
     "data": {
      "text/plain": [
       "array([-0.04227082, -0.04227082, -0.04227082, ..., -0.04227082,\n",
       "       -0.04227082, -0.04227082])"
      ]
     },
     "execution_count": 51,
     "metadata": {},
     "output_type": "execute_result"
    }
   ],
   "source": [
    "ySVR_preds=model4.predict(X_test)\n",
    "ySVR_preds"
   ]
  },
  {
   "cell_type": "code",
   "execution_count": 52,
   "id": "e59c600b",
   "metadata": {},
   "outputs": [
    {
     "data": {
      "text/html": [
       "<div>\n",
       "<style scoped>\n",
       "    .dataframe tbody tr th:only-of-type {\n",
       "        vertical-align: middle;\n",
       "    }\n",
       "\n",
       "    .dataframe tbody tr th {\n",
       "        vertical-align: top;\n",
       "    }\n",
       "\n",
       "    .dataframe thead th {\n",
       "        text-align: right;\n",
       "    }\n",
       "</style>\n",
       "<table border=\"1\" class=\"dataframe\">\n",
       "  <thead>\n",
       "    <tr style=\"text-align: right;\">\n",
       "      <th></th>\n",
       "      <th>0</th>\n",
       "    </tr>\n",
       "  </thead>\n",
       "  <tbody>\n",
       "    <tr>\n",
       "      <th>0</th>\n",
       "      <td>-0.042271</td>\n",
       "    </tr>\n",
       "    <tr>\n",
       "      <th>1</th>\n",
       "      <td>-0.042271</td>\n",
       "    </tr>\n",
       "    <tr>\n",
       "      <th>2</th>\n",
       "      <td>-0.042271</td>\n",
       "    </tr>\n",
       "    <tr>\n",
       "      <th>3</th>\n",
       "      <td>-0.042271</td>\n",
       "    </tr>\n",
       "    <tr>\n",
       "      <th>4</th>\n",
       "      <td>-0.042271</td>\n",
       "    </tr>\n",
       "    <tr>\n",
       "      <th>...</th>\n",
       "      <td>...</td>\n",
       "    </tr>\n",
       "    <tr>\n",
       "      <th>528280</th>\n",
       "      <td>-0.042271</td>\n",
       "    </tr>\n",
       "    <tr>\n",
       "      <th>528281</th>\n",
       "      <td>-0.042271</td>\n",
       "    </tr>\n",
       "    <tr>\n",
       "      <th>528282</th>\n",
       "      <td>-0.042271</td>\n",
       "    </tr>\n",
       "    <tr>\n",
       "      <th>528283</th>\n",
       "      <td>-0.042271</td>\n",
       "    </tr>\n",
       "    <tr>\n",
       "      <th>528284</th>\n",
       "      <td>-0.042271</td>\n",
       "    </tr>\n",
       "  </tbody>\n",
       "</table>\n",
       "<p>528285 rows × 1 columns</p>\n",
       "</div>"
      ],
      "text/plain": [
       "               0\n",
       "0      -0.042271\n",
       "1      -0.042271\n",
       "2      -0.042271\n",
       "3      -0.042271\n",
       "4      -0.042271\n",
       "...          ...\n",
       "528280 -0.042271\n",
       "528281 -0.042271\n",
       "528282 -0.042271\n",
       "528283 -0.042271\n",
       "528284 -0.042271\n",
       "\n",
       "[528285 rows x 1 columns]"
      ]
     },
     "execution_count": 52,
     "metadata": {},
     "output_type": "execute_result"
    }
   ],
   "source": [
    "pd.DataFrame(ySVR_preds)"
   ]
  },
  {
   "cell_type": "code",
   "execution_count": 53,
   "id": "43ad2551-f653-4b6a-9e91-c425b1d0149d",
   "metadata": {},
   "outputs": [
    {
     "data": {
      "text/plain": [
       "412383     0.031502\n",
       "541694    -0.049162\n",
       "2308287    0.007145\n",
       "2551475    0.017912\n",
       "1094681   -0.066240\n",
       "             ...   \n",
       "179283    -0.079945\n",
       "101560    -0.049620\n",
       "2305778    0.000587\n",
       "1705144   -0.057399\n",
       "1445684    0.024550\n",
       "Name: Parcel Centroid[X] (m), Length: 528285, dtype: float64"
      ]
     },
     "execution_count": 53,
     "metadata": {},
     "output_type": "execute_result"
    }
   ],
   "source": [
    "y_test.iloc[:,0]"
   ]
  },
  {
   "cell_type": "markdown",
   "id": "8e9886ad-a5f6-40ef-8bff-1911b95ae145",
   "metadata": {},
   "source": [
    "# 8.0 Comparing all the Regression Models"
   ]
  },
  {
   "cell_type": "code",
   "execution_count": 54,
   "id": "d7d1aa6a-80a6-4339-bba6-21f1f6ef8abe",
   "metadata": {},
   "outputs": [
    {
     "data": {
      "image/png": "[encoded data removed]",
      "text/plain": [
       "<Figure size 1500x500 with 3 Axes>"
      ]
     },
     "metadata": {},
     "output_type": "display_data"
    }
   ],
   "source": [
    "fig, (ax3, ax5, ax6) =plt.subplots(1,3,figsize=(15,5))\n",
    "\n",
    "\n",
    "l1=ax3.scatter(actual_Xi, actual_Xj, color ='blue')\n",
    "l2=ax3.scatter(predicted_Xi, predicted_Xj, color='red')\n",
    "ax3.set(title='RandomForestRegressor')\n",
    "\n",
    "ax5.scatter(actual_Xi, actual_Xj, color='blue')\n",
    "ax5.scatter(LR_Pred_Xi, LR_Pred_Xj, color='red')\n",
    "ax5.set(title='LinearRegressor')\n",
    "\n",
    "ax6.scatter(actual_Xi, actual_Xj, color='blue')\n",
    "ax6.scatter(RR_preds_Xi, RR_preds_Xj, color='red')\n",
    "ax6.set(title='RidgeRegressor')\n",
    "\n",
    "fig.tight_layout(pad=5.0)\n",
    "fig.legend(['Actual Granule Position', 'Predicted Granule Position'], loc='lower center')\n",
    "fig.suptitle('Comparison of the Different Machine Learning Model Regression Builds', fontsize=20)\n",
    "plt.savefig('./Comparison of the Different Machine Learning Model Regression Builds(#100).png', dpi=1200)"
   ]
  },
  {
   "cell_type": "code",
   "execution_count": 55,
   "id": "96685f01",
   "metadata": {},
   "outputs": [
    {
     "data": {
      "text/html": [
       "<div>\n",
       "<style scoped>\n",
       "    .dataframe tbody tr th:only-of-type {\n",
       "        vertical-align: middle;\n",
       "    }\n",
       "\n",
       "    .dataframe tbody tr th {\n",
       "        vertical-align: top;\n",
       "    }\n",
       "\n",
       "    .dataframe thead th {\n",
       "        text-align: right;\n",
       "    }\n",
       "</style>\n",
       "<table border=\"1\" class=\"dataframe\">\n",
       "  <thead>\n",
       "    <tr style=\"text-align: right;\">\n",
       "      <th></th>\n",
       "      <th>Values</th>\n",
       "      <th>LinearRegression</th>\n",
       "      <th>RidgeRegression</th>\n",
       "    </tr>\n",
       "  </thead>\n",
       "  <tbody>\n",
       "    <tr>\n",
       "      <th>r-squared</th>\n",
       "      <td>0.886260</td>\n",
       "      <td>0.553530</td>\n",
       "      <td>0.553526</td>\n",
       "    </tr>\n",
       "    <tr>\n",
       "      <th>Mean absolute error (MAE)</th>\n",
       "      <td>0.001389</td>\n",
       "      <td>0.003346</td>\n",
       "      <td>0.003346</td>\n",
       "    </tr>\n",
       "    <tr>\n",
       "      <th>Mean squared error(MSE)</th>\n",
       "      <td>0.000004</td>\n",
       "      <td>0.000018</td>\n",
       "      <td>0.000018</td>\n",
       "    </tr>\n",
       "  </tbody>\n",
       "</table>\n",
       "</div>"
      ],
      "text/plain": [
       "                             Values  LinearRegression  RidgeRegression\n",
       "r-squared                  0.886260          0.553530         0.553526\n",
       "Mean absolute error (MAE)  0.001389          0.003346         0.003346\n",
       "Mean squared error(MSE)    0.000004          0.000018         0.000018"
      ]
     },
     "execution_count": 55,
     "metadata": {},
     "output_type": "execute_result"
    }
   ],
   "source": [
    "model1_scores={}\n",
    "model2_scores={}\n",
    "model3_scores={}\n",
    "\n",
    "for key,value in metrics.items():\n",
    "    model1_scores[key]=value(y_test, y_preds)\n",
    "    model2_scores[key]=value(y_test, yLinear_Preds)\n",
    "    model3_scores[key]=value(y_test, yRidge_preds)\n",
    "\n",
    "  \n",
    "\n",
    "\n",
    "score30_table= pd.DataFrame(model1_scores.values(),  columns=['RandomForestRegression'], index= model1_scores.keys())\n",
    "score30_table['LinearRegression']= model2_scores.values()\n",
    "score30_table['RidgeRegression'] = model3_scores.values()\n",
    "\n",
    "score100_table.to_csv('#100scores.csv')\n",
    "\n",
    "score100_table"
   ]
  },
  {
   "cell_type": "markdown",
   "id": "70a30501-aba9-468c-a7f9-c7a543bfbe72",
   "metadata": {},
   "source": [
    "# RandomSearchCV"
   ]
  },
  {
   "cell_type": "code",
   "execution_count": 56,
   "id": "d23ca926-47cb-4991-a8ac-e18733e9c303",
   "metadata": {},
   "outputs": [],
   "source": [
    "# %%time\n",
    "\n",
    "# from sklearn.model_selection import RandomizedSearchCV\n",
    "\n",
    "# RndmFrst_grid={\"n_estimators\": np.arange(10,100,10),\n",
    "#                \"max_depth\":[None]\n",
    "#               }\n",
    "\n",
    "# RndmSrch_RndmFrst=RandomizedSearchCV(RandomForestRegressor(),\n",
    "#                               param_distributions= RndmFrst_grid,\n",
    "#                               cv=5,\n",
    "#                               verbose= 10\n",
    "#                              )\n",
    "# RndmSrch_RndmFrst.fit(X_train, y_train)"
   ]
  },
  {
   "cell_type": "code",
   "execution_count": 57,
   "id": "00171382-3039-47fa-9a57-f0ce6daf8d48",
   "metadata": {},
   "outputs": [],
   "source": [
    "# RndmSrch_RndmFrst.best_params_"
   ]
  },
  {
   "cell_type": "code",
   "execution_count": 58,
   "id": "d83e78ad-e0d7-4bb8-9f38-30ecc880aaa1",
   "metadata": {},
   "outputs": [],
   "source": [
    "# %%time\n",
    "\n",
    "# from sklearn.model_selection import GridSearchCV\n",
    "\n",
    "# GridSrch_RndmFrst= GridSearchCV(RandomForestRegressor(),\n",
    "#                                 param_grid=RndmFrst_grid,\n",
    "#                                 cv=5,\n",
    "#                                 verbose=10)\n",
    "# GridSrch_RndmFrst.fit(X_train, y_train)"
   ]
  },
  {
   "cell_type": "code",
   "execution_count": 59,
   "id": "b267a63b-1d3b-454c-9fbb-8a372fd1416e",
   "metadata": {},
   "outputs": [],
   "source": [
    "# GridSrch_RndmFrst.best_params_"
   ]
  },
  {
   "cell_type": "markdown",
   "id": "b21c8093",
   "metadata": {},
   "source": [
    "## Making Use of the RandomizedSearchCV RandomForest Best_params for predicting our data"
   ]
  },
  {
   "cell_type": "code",
   "execution_count": 60,
   "id": "55a4bb64",
   "metadata": {},
   "outputs": [
    {
     "data": {
      "text/html": [
       "<style>#sk-container-id-5 {color: black;background-color: white;}#sk-container-id-5 pre{padding: 0;}#sk-container-id-5 div.sk-toggleable {background-color: white;}#sk-container-id-5 label.sk-toggleable__label {cursor: pointer;display: block;width: 100%;margin-bottom: 0;padding: 0.3em;box-sizing: border-box;text-align: center;}#sk-container-id-5 label.sk-toggleable__label-arrow:before {content: \"▸\";float: left;margin-right: 0.25em;color: #696969;}#sk-container-id-5 label.sk-toggleable__label-arrow:hover:before {color: black;}#sk-container-id-5 div.sk-estimator:hover label.sk-toggleable__label-arrow:before {color: black;}#sk-container-id-5 div.sk-toggleable__content {max-height: 0;max-width: 0;overflow: hidden;text-align: left;background-color: #f0f8ff;}#sk-container-id-5 div.sk-toggleable__content pre {margin: 0.2em;color: black;border-radius: 0.25em;background-color: #f0f8ff;}#sk-container-id-5 input.sk-toggleable__control:checked~div.sk-toggleable__content {max-height: 200px;max-width: 100%;overflow: auto;}#sk-container-id-5 input.sk-toggleable__control:checked~label.sk-toggleable__label-arrow:before {content: \"▾\";}#sk-container-id-5 div.sk-estimator input.sk-toggleable__control:checked~label.sk-toggleable__label {background-color: #d4ebff;}#sk-container-id-5 div.sk-label input.sk-toggleable__control:checked~label.sk-toggleable__label {background-color: #d4ebff;}#sk-container-id-5 input.sk-hidden--visually {border: 0;clip: rect(1px 1px 1px 1px);clip: rect(1px, 1px, 1px, 1px);height: 1px;margin: -1px;overflow: hidden;padding: 0;position: absolute;width: 1px;}#sk-container-id-5 div.sk-estimator {font-family: monospace;background-color: #f0f8ff;border: 1px dotted black;border-radius: 0.25em;box-sizing: border-box;margin-bottom: 0.5em;}#sk-container-id-5 div.sk-estimator:hover {background-color: #d4ebff;}#sk-container-id-5 div.sk-parallel-item::after {content: \"\";width: 100%;border-bottom: 1px solid gray;flex-grow: 1;}#sk-container-id-5 div.sk-label:hover label.sk-toggleable__label {background-color: #d4ebff;}#sk-container-id-5 div.sk-serial::before {content: \"\";position: absolute;border-left: 1px solid gray;box-sizing: border-box;top: 0;bottom: 0;left: 50%;z-index: 0;}#sk-container-id-5 div.sk-serial {display: flex;flex-direction: column;align-items: center;background-color: white;padding-right: 0.2em;padding-left: 0.2em;position: relative;}#sk-container-id-5 div.sk-item {position: relative;z-index: 1;}#sk-container-id-5 div.sk-parallel {display: flex;align-items: stretch;justify-content: center;background-color: white;position: relative;}#sk-container-id-5 div.sk-item::before, #sk-container-id-5 div.sk-parallel-item::before {content: \"\";position: absolute;border-left: 1px solid gray;box-sizing: border-box;top: 0;bottom: 0;left: 50%;z-index: -1;}#sk-container-id-5 div.sk-parallel-item {display: flex;flex-direction: column;z-index: 1;position: relative;background-color: white;}#sk-container-id-5 div.sk-parallel-item:first-child::after {align-self: flex-end;width: 50%;}#sk-container-id-5 div.sk-parallel-item:last-child::after {align-self: flex-start;width: 50%;}#sk-container-id-5 div.sk-parallel-item:only-child::after {width: 0;}#sk-container-id-5 div.sk-dashed-wrapped {border: 1px dashed gray;margin: 0 0.4em 0.5em 0.4em;box-sizing: border-box;padding-bottom: 0.4em;background-color: white;}#sk-container-id-5 div.sk-label label {font-family: monospace;font-weight: bold;display: inline-block;line-height: 1.2em;}#sk-container-id-5 div.sk-label-container {text-align: center;}#sk-container-id-5 div.sk-container {/* jupyter's `normalize.less` sets `[hidden] { display: none; }` but bootstrap.min.css set `[hidden] { display: none !important; }` so we also need the `!important` here to be able to override the default hidden behavior on the sphinx rendered scikit-learn.org. See: https://github.com/scikit-learn/scikit-learn/issues/21755 */display: inline-block !important;position: relative;}#sk-container-id-5 div.sk-text-repr-fallback {display: none;}</style><div id=\"sk-container-id-5\" class=\"sk-top-container\"><div class=\"sk-text-repr-fallback\"><pre>RandomForestRegressor(n_estimators=90)</pre><b>In a Jupyter environment, please rerun this cell to show the HTML representation or trust the notebook. <br />On GitHub, the HTML representation is unable to render, please try loading this page with nbviewer.org.</b></div><div class=\"sk-container\" hidden><div class=\"sk-item\"><div class=\"sk-estimator sk-toggleable\"><input class=\"sk-toggleable__control sk-hidden--visually\" id=\"sk-estimator-id-5\" type=\"checkbox\" checked><label for=\"sk-estimator-id-5\" class=\"sk-toggleable__label sk-toggleable__label-arrow\">RandomForestRegressor</label><div class=\"sk-toggleable__content\"><pre>RandomForestRegressor(n_estimators=90)</pre></div></div></div></div></div>"
      ],
      "text/plain": [
       "RandomForestRegressor(n_estimators=90)"
      ]
     },
     "execution_count": 60,
     "metadata": {},
     "output_type": "execute_result"
    }
   ],
   "source": [
    "improved_model1=RandomForestRegressor(90,max_depth=None)\n",
    "improved_model1\n",
    "\n",
    "improved_model1.fit(X_train,y_train)"
   ]
  },
  {
   "cell_type": "code",
   "execution_count": 61,
   "id": "1098c652",
   "metadata": {},
   "outputs": [
    {
     "data": {
      "text/plain": [
       "array([[ 0.02997901,  0.03482515,  0.00241222],\n",
       "       [-0.04852312,  0.0347216 ,  0.00729677],\n",
       "       [ 0.0089019 ,  0.0263193 ,  0.005287  ],\n",
       "       ...,\n",
       "       [ 0.00175076,  0.03526093,  0.0006652 ],\n",
       "       [-0.05860064,  0.02845987,  0.00218127],\n",
       "       [ 0.02136758,  0.03509436,  0.00354683]])"
      ]
     },
     "execution_count": 61,
     "metadata": {},
     "output_type": "execute_result"
    }
   ],
   "source": [
    "improvedModel_yPreds=improved_model1.predict(X_test)\n",
    "improvedModel_yPreds"
   ]
  },
  {
   "cell_type": "markdown",
   "id": "5e08cd41-b712-46b4-8c69-34597c1ab36a",
   "metadata": {},
   "source": [
    "# Evaluating the tuned model"
   ]
  },
  {
   "cell_type": "markdown",
   "id": "87f1bbfc-cace-4954-b4ed-52be8f52f6f6",
   "metadata": {},
   "source": [
    " *The problem in question is that of regression and not classification, so we need to use the Regression metrics.\n",
    "    https://scikit-learn.org/stable/modules/model_evaluation.html\n",
    "    * The metrics used in this study are:\n",
    "            > R-squared score (r-squared)\n",
    "            > Mean absolute error (MAE)\n",
    "            > Mean squared error (MSE)\n",
    "            > Root mean squared error (RMSE)\n",
    "            > Max error\n",
    "            "
   ]
  },
  {
   "cell_type": "code",
   "execution_count": 62,
   "id": "beb77ee8",
   "metadata": {},
   "outputs": [
    {
     "data": {
      "text/plain": [
       "{'r-squared': 0.8862672448531237,\n",
       " 'Mean absolute error (MAE)': 0.0013894563451159105,\n",
       " 'Mean squared error(MSE)': 4.073183583933314e-06}"
      ]
     },
     "execution_count": 62,
     "metadata": {},
     "output_type": "execute_result"
    }
   ],
   "source": [
    "from sklearn.metrics import r2_score, mean_squared_error, mean_absolute_error\n",
    "\n",
    "metrics ={\"r-squared\": r2_score, \n",
    "          \"Mean absolute error (MAE)\": mean_absolute_error, \n",
    "          \"Mean squared error(MSE)\":mean_squared_error\n",
    "         }\n",
    "\n",
    "Improved_model1_scores={}\n",
    "\n",
    "for key,value in metrics.items():\n",
    "   Improved_model1_scores[key]= value(y_test, improvedModel_yPreds).astype(\"float\")\n",
    "\n",
    "Improved_model1_scores"
   ]
  },
  {
   "cell_type": "markdown",
   "id": "38c4edd3-a9aa-404b-a018-02478b75020b",
   "metadata": {},
   "source": [
    "# Comparing these values with the values obtained before Tuning the Machine learning model"
   ]
  },
  {
   "cell_type": "markdown",
   "id": "e3826eee-72ae-484d-9fd6-75fa84e757a0",
   "metadata": {},
   "source": [
    "Recalling the score values of both models"
   ]
  },
  {
   "cell_type": "code",
   "execution_count": 63,
   "id": "7488b1d1-3ec1-4488-b8a2-13bc18ccef79",
   "metadata": {},
   "outputs": [
    {
     "data": {
      "text/plain": [
       "{'r-squared': 0.88625952668291,\n",
       " 'Mean absolute error (MAE)': 0.0013891598366113965,\n",
       " 'Mean squared error(MSE)': 4.072962682930386e-06}"
      ]
     },
     "execution_count": 63,
     "metadata": {},
     "output_type": "execute_result"
    }
   ],
   "source": [
    "model1_scores"
   ]
  },
  {
   "cell_type": "code",
   "execution_count": 64,
   "id": "d9a703f5-de5d-4d1e-a153-aa892b54e4a9",
   "metadata": {},
   "outputs": [
    {
     "data": {
      "text/plain": [
       "{'r-squared': 0.8862672448531237,\n",
       " 'Mean absolute error (MAE)': 0.0013894563451159105,\n",
       " 'Mean squared error(MSE)': 4.073183583933314e-06}"
      ]
     },
     "execution_count": 64,
     "metadata": {},
     "output_type": "execute_result"
    }
   ],
   "source": [
    "Improved_model1_scores"
   ]
  },
  {
   "cell_type": "markdown",
   "id": "67effbbf-d920-4eb5-b47f-d35a99ea5008",
   "metadata": {},
   "source": [
    "## Finding the Difference"
   ]
  },
  {
   "cell_type": "code",
   "execution_count": 65,
   "id": "152e4536-d91c-44dc-9d34-62ac5ecc97de",
   "metadata": {},
   "outputs": [
    {
     "data": {
      "text/plain": [
       "array([7.71817021e-06, 2.96508505e-07, 2.20901003e-10])"
      ]
     },
     "execution_count": 65,
     "metadata": {},
     "output_type": "execute_result"
    }
   ],
   "source": [
    "score_differences=(np.array(list(Improved_model1_scores.values()))-np.array(list(model1_scores.values())))\n",
    "score_differences"
   ]
  },
  {
   "cell_type": "markdown",
   "id": "0a4de145-05e5-4d2e-806b-b2834e092439",
   "metadata": {},
   "source": [
    "## Showing the difference in a table"
   ]
  },
  {
   "cell_type": "code",
   "execution_count": 66,
   "id": "c7e3e2c5-5557-4070-aba8-4c506ec888a0",
   "metadata": {},
   "outputs": [
    {
     "data": {
      "text/html": [
       "<div>\n",
       "<style scoped>\n",
       "    .dataframe tbody tr th:only-of-type {\n",
       "        vertical-align: middle;\n",
       "    }\n",
       "\n",
       "    .dataframe tbody tr th {\n",
       "        vertical-align: top;\n",
       "    }\n",
       "\n",
       "    .dataframe thead tr th {\n",
       "        text-align: left;\n",
       "    }\n",
       "</style>\n",
       "<table border=\"1\" class=\"dataframe\">\n",
       "  <thead>\n",
       "    <tr>\n",
       "      <th></th>\n",
       "      <th>R-squared diff</th>\n",
       "      <th>Mean absolute error (MAE) diff</th>\n",
       "      <th>Mean squared error(MSE) diff</th>\n",
       "    </tr>\n",
       "  </thead>\n",
       "  <tbody>\n",
       "    <tr>\n",
       "      <th>0</th>\n",
       "      <td>0.000008</td>\n",
       "      <td>2.965085e-07</td>\n",
       "      <td>2.209010e-10</td>\n",
       "    </tr>\n",
       "  </tbody>\n",
       "</table>\n",
       "</div>"
      ],
      "text/plain": [
       "  R-squared diff Mean absolute error (MAE) diff Mean squared error(MSE) diff\n",
       "0       0.000008                   2.965085e-07                 2.209010e-10"
      ]
     },
     "execution_count": 66,
     "metadata": {},
     "output_type": "execute_result"
    }
   ],
   "source": [
    "pd.DataFrame([score_differences] ,columns=[['R-squared diff','Mean absolute error (MAE) diff' ,'Mean squared error(MSE) diff']])"
   ]
  },
  {
   "cell_type": "markdown",
   "id": "a784a817-4650-450b-b4ed-aa071a4908e3",
   "metadata": {
    "tags": []
   },
   "source": [
    "# Performing Feature Importance\n",
    "    Feature importance is a model inspection technique that measures the contribution of each feature to a fitted model's statistical performance on a given tabular dataset ."
   ]
  },
  {
   "cell_type": "code",
   "execution_count": 67,
   "id": "36424f71",
   "metadata": {},
   "outputs": [],
   "source": [
    "feature_importance = improved_model1.feature_importances_\n",
    "feature_importances= feature_importance[:20]"
   ]
  },
  {
   "cell_type": "code",
   "execution_count": 68,
   "id": "3d363066-b37f-45a0-8f50-9c09bf0d97ba",
   "metadata": {},
   "outputs": [
    {
     "data": {
      "image/png": "[encoded data removed]",
      "text/plain": [
       "<Figure size 640x480 with 1 Axes>"
      ]
     },
     "metadata": {},
     "output_type": "display_data"
    }
   ],
   "source": [
    "plt.barh( X_train.columns, feature_importances)\n",
    "plt.savefig('./Graph Showing Feature Importance(#100).pdf', dpi=1200, format= 'pdf')"
   ]
  },
  {
   "cell_type": "markdown",
   "id": "fdc18014-8e5b-41af-9746-e0488a35e14f",
   "metadata": {
    "tags": []
   },
   "source": [
    "# Predicting the velocity"
   ]
  },
  {
   "cell_type": "code",
   "execution_count": 69,
   "id": "22e10fff-4aca-4037-9c66-9ff6de70caee",
   "metadata": {},
   "outputs": [
    {
     "data": {
      "text/html": [
       "<div>\n",
       "<style scoped>\n",
       "    .dataframe tbody tr th:only-of-type {\n",
       "        vertical-align: middle;\n",
       "    }\n",
       "\n",
       "    .dataframe tbody tr th {\n",
       "        vertical-align: top;\n",
       "    }\n",
       "\n",
       "    .dataframe thead th {\n",
       "        text-align: right;\n",
       "    }\n",
       "</style>\n",
       "<table border=\"1\" class=\"dataframe\">\n",
       "  <thead>\n",
       "    <tr style=\"text-align: right;\">\n",
       "      <th></th>\n",
       "      <th>Unnamed: 0</th>\n",
       "      <th>Time (s)</th>\n",
       "      <th>Volume Fraction of Phase 1</th>\n",
       "      <th>Wall Shear Stress: Magnitude (Pa)</th>\n",
       "      <th>Report: Element Count 1</th>\n",
       "      <th>Report: Total Solver CPU Time (s)</th>\n",
       "      <th>X (m)</th>\n",
       "      <th>Y (m)</th>\n",
       "      <th>Z (m)</th>\n",
       "    </tr>\n",
       "  </thead>\n",
       "  <tbody>\n",
       "    <tr>\n",
       "      <th>0</th>\n",
       "      <td>0</td>\n",
       "      <td>0.02</td>\n",
       "      <td>0.010824</td>\n",
       "      <td>0</td>\n",
       "      <td>1128</td>\n",
       "      <td>5.851</td>\n",
       "      <td>-0.113685</td>\n",
       "      <td>0.032540</td>\n",
       "      <td>0.014828</td>\n",
       "    </tr>\n",
       "    <tr>\n",
       "      <th>1</th>\n",
       "      <td>1</td>\n",
       "      <td>0.02</td>\n",
       "      <td>0.006975</td>\n",
       "      <td>0</td>\n",
       "      <td>1128</td>\n",
       "      <td>5.851</td>\n",
       "      <td>-0.113686</td>\n",
       "      <td>0.025651</td>\n",
       "      <td>0.007872</td>\n",
       "    </tr>\n",
       "    <tr>\n",
       "      <th>2</th>\n",
       "      <td>2</td>\n",
       "      <td>0.02</td>\n",
       "      <td>0.010824</td>\n",
       "      <td>0</td>\n",
       "      <td>1128</td>\n",
       "      <td>5.851</td>\n",
       "      <td>-0.113689</td>\n",
       "      <td>0.024866</td>\n",
       "      <td>0.018086</td>\n",
       "    </tr>\n",
       "    <tr>\n",
       "      <th>3</th>\n",
       "      <td>3</td>\n",
       "      <td>0.02</td>\n",
       "      <td>0.034522</td>\n",
       "      <td>0</td>\n",
       "      <td>1128</td>\n",
       "      <td>5.851</td>\n",
       "      <td>-0.113687</td>\n",
       "      <td>0.038670</td>\n",
       "      <td>0.008284</td>\n",
       "    </tr>\n",
       "    <tr>\n",
       "      <th>4</th>\n",
       "      <td>4</td>\n",
       "      <td>0.02</td>\n",
       "      <td>0.010824</td>\n",
       "      <td>0</td>\n",
       "      <td>1128</td>\n",
       "      <td>5.851</td>\n",
       "      <td>-0.113689</td>\n",
       "      <td>0.026663</td>\n",
       "      <td>0.013483</td>\n",
       "    </tr>\n",
       "    <tr>\n",
       "      <th>...</th>\n",
       "      <td>...</td>\n",
       "      <td>...</td>\n",
       "      <td>...</td>\n",
       "      <td>...</td>\n",
       "      <td>...</td>\n",
       "      <td>...</td>\n",
       "      <td>...</td>\n",
       "      <td>...</td>\n",
       "      <td>...</td>\n",
       "    </tr>\n",
       "    <tr>\n",
       "      <th>2641417</th>\n",
       "      <td>30668</td>\n",
       "      <td>2.00</td>\n",
       "      <td>0.085416</td>\n",
       "      <td>0</td>\n",
       "      <td>30673</td>\n",
       "      <td>10843.272</td>\n",
       "      <td>-0.117250</td>\n",
       "      <td>0.034019</td>\n",
       "      <td>0.007598</td>\n",
       "    </tr>\n",
       "    <tr>\n",
       "      <th>2641418</th>\n",
       "      <td>30669</td>\n",
       "      <td>2.00</td>\n",
       "      <td>0.085416</td>\n",
       "      <td>0</td>\n",
       "      <td>30673</td>\n",
       "      <td>10843.272</td>\n",
       "      <td>-0.117254</td>\n",
       "      <td>0.029126</td>\n",
       "      <td>0.007375</td>\n",
       "    </tr>\n",
       "    <tr>\n",
       "      <th>2641419</th>\n",
       "      <td>30670</td>\n",
       "      <td>2.00</td>\n",
       "      <td>0.049209</td>\n",
       "      <td>0</td>\n",
       "      <td>30673</td>\n",
       "      <td>10843.272</td>\n",
       "      <td>-0.117258</td>\n",
       "      <td>0.035297</td>\n",
       "      <td>0.015387</td>\n",
       "    </tr>\n",
       "    <tr>\n",
       "      <th>2641420</th>\n",
       "      <td>30671</td>\n",
       "      <td>2.00</td>\n",
       "      <td>0.163638</td>\n",
       "      <td>0</td>\n",
       "      <td>30673</td>\n",
       "      <td>10843.272</td>\n",
       "      <td>-0.117258</td>\n",
       "      <td>0.026099</td>\n",
       "      <td>0.002817</td>\n",
       "    </tr>\n",
       "    <tr>\n",
       "      <th>2641421</th>\n",
       "      <td>30672</td>\n",
       "      <td>2.00</td>\n",
       "      <td>0.049209</td>\n",
       "      <td>0</td>\n",
       "      <td>30673</td>\n",
       "      <td>10843.272</td>\n",
       "      <td>-0.117258</td>\n",
       "      <td>0.028311</td>\n",
       "      <td>0.014175</td>\n",
       "    </tr>\n",
       "  </tbody>\n",
       "</table>\n",
       "<p>2641422 rows × 9 columns</p>\n",
       "</div>"
      ],
      "text/plain": [
       "         Unnamed: 0  Time (s)  Volume Fraction of Phase 1  \\\n",
       "0                 0      0.02                    0.010824   \n",
       "1                 1      0.02                    0.006975   \n",
       "2                 2      0.02                    0.010824   \n",
       "3                 3      0.02                    0.034522   \n",
       "4                 4      0.02                    0.010824   \n",
       "...             ...       ...                         ...   \n",
       "2641417       30668      2.00                    0.085416   \n",
       "2641418       30669      2.00                    0.085416   \n",
       "2641419       30670      2.00                    0.049209   \n",
       "2641420       30671      2.00                    0.163638   \n",
       "2641421       30672      2.00                    0.049209   \n",
       "\n",
       "         Wall Shear Stress: Magnitude (Pa)  Report: Element Count 1  \\\n",
       "0                                        0                     1128   \n",
       "1                                        0                     1128   \n",
       "2                                        0                     1128   \n",
       "3                                        0                     1128   \n",
       "4                                        0                     1128   \n",
       "...                                    ...                      ...   \n",
       "2641417                                  0                    30673   \n",
       "2641418                                  0                    30673   \n",
       "2641419                                  0                    30673   \n",
       "2641420                                  0                    30673   \n",
       "2641421                                  0                    30673   \n",
       "\n",
       "         Report: Total Solver CPU Time (s)     X (m)     Y (m)     Z (m)  \n",
       "0                                    5.851 -0.113685  0.032540  0.014828  \n",
       "1                                    5.851 -0.113686  0.025651  0.007872  \n",
       "2                                    5.851 -0.113689  0.024866  0.018086  \n",
       "3                                    5.851 -0.113687  0.038670  0.008284  \n",
       "4                                    5.851 -0.113689  0.026663  0.013483  \n",
       "...                                    ...       ...       ...       ...  \n",
       "2641417                          10843.272 -0.117250  0.034019  0.007598  \n",
       "2641418                          10843.272 -0.117254  0.029126  0.007375  \n",
       "2641419                          10843.272 -0.117258  0.035297  0.015387  \n",
       "2641420                          10843.272 -0.117258  0.026099  0.002817  \n",
       "2641421                          10843.272 -0.117258  0.028311  0.014175  \n",
       "\n",
       "[2641422 rows x 9 columns]"
      ]
     },
     "execution_count": 69,
     "metadata": {},
     "output_type": "execute_result"
    }
   ],
   "source": [
    "U=Granular_flow_data.drop([\"Parcel Centroid[X] (m)\", \"Parcel Centroid[Y] (m)\", \"Parcel Centroid[Z] (m)\", \"Particle Velocity[i] (m/s)\", \"Particle Velocity[j] (m/s)\", \"Particle Velocity[k] (m/s)\", \"Particle Velocity: Magnitude (m/s)\"], axis=1)\n",
    "U"
   ]
  },
  {
   "cell_type": "code",
   "execution_count": 70,
   "id": "de416768-8f2f-433b-84a4-a5d6e8c02979",
   "metadata": {},
   "outputs": [
    {
     "data": {
      "text/plain": [
       "count    2641422.0\n",
       "mean           0.0\n",
       "std            0.0\n",
       "min            0.0\n",
       "25%            0.0\n",
       "50%            0.0\n",
       "75%            0.0\n",
       "max            0.0\n",
       "Name: Wall Shear Stress: Magnitude (Pa), dtype: float64"
      ]
     },
     "execution_count": 70,
     "metadata": {},
     "output_type": "execute_result"
    }
   ],
   "source": [
    "U[\"Wall Shear Stress: Magnitude (Pa)\"].describe()"
   ]
  },
  {
   "cell_type": "code",
   "execution_count": 71,
   "id": "e7f7bae1-0492-4692-9c63-09be356a1aa3",
   "metadata": {},
   "outputs": [
    {
     "data": {
      "text/html": [
       "<div>\n",
       "<style scoped>\n",
       "    .dataframe tbody tr th:only-of-type {\n",
       "        vertical-align: middle;\n",
       "    }\n",
       "\n",
       "    .dataframe tbody tr th {\n",
       "        vertical-align: top;\n",
       "    }\n",
       "\n",
       "    .dataframe thead th {\n",
       "        text-align: right;\n",
       "    }\n",
       "</style>\n",
       "<table border=\"1\" class=\"dataframe\">\n",
       "  <thead>\n",
       "    <tr style=\"text-align: right;\">\n",
       "      <th></th>\n",
       "      <th>Particle Velocity[i] (m/s)</th>\n",
       "      <th>Particle Velocity[j] (m/s)</th>\n",
       "      <th>Particle Velocity[k] (m/s)</th>\n",
       "    </tr>\n",
       "  </thead>\n",
       "  <tbody>\n",
       "    <tr>\n",
       "      <th>0</th>\n",
       "      <td>0.576229</td>\n",
       "      <td>7.599137e-06</td>\n",
       "      <td>-0.156682</td>\n",
       "    </tr>\n",
       "    <tr>\n",
       "      <th>1</th>\n",
       "      <td>0.575964</td>\n",
       "      <td>-3.384995e-05</td>\n",
       "      <td>-0.156740</td>\n",
       "    </tr>\n",
       "    <tr>\n",
       "      <th>2</th>\n",
       "      <td>0.576129</td>\n",
       "      <td>8.063311e-05</td>\n",
       "      <td>-0.156886</td>\n",
       "    </tr>\n",
       "    <tr>\n",
       "      <th>3</th>\n",
       "      <td>0.576709</td>\n",
       "      <td>-4.113741e-04</td>\n",
       "      <td>-0.155926</td>\n",
       "    </tr>\n",
       "    <tr>\n",
       "      <th>4</th>\n",
       "      <td>0.576153</td>\n",
       "      <td>3.311456e-05</td>\n",
       "      <td>-0.156845</td>\n",
       "    </tr>\n",
       "    <tr>\n",
       "      <th>...</th>\n",
       "      <td>...</td>\n",
       "      <td>...</td>\n",
       "      <td>...</td>\n",
       "    </tr>\n",
       "    <tr>\n",
       "      <th>2641417</th>\n",
       "      <td>0.538821</td>\n",
       "      <td>-1.702028e-07</td>\n",
       "      <td>-0.108070</td>\n",
       "    </tr>\n",
       "    <tr>\n",
       "      <th>2641418</th>\n",
       "      <td>0.538780</td>\n",
       "      <td>-1.942652e-07</td>\n",
       "      <td>-0.108018</td>\n",
       "    </tr>\n",
       "    <tr>\n",
       "      <th>2641419</th>\n",
       "      <td>0.538740</td>\n",
       "      <td>-2.003241e-08</td>\n",
       "      <td>-0.107967</td>\n",
       "    </tr>\n",
       "    <tr>\n",
       "      <th>2641420</th>\n",
       "      <td>0.538740</td>\n",
       "      <td>-4.235156e-08</td>\n",
       "      <td>-0.107966</td>\n",
       "    </tr>\n",
       "    <tr>\n",
       "      <th>2641421</th>\n",
       "      <td>0.538740</td>\n",
       "      <td>-9.259014e-08</td>\n",
       "      <td>-0.107967</td>\n",
       "    </tr>\n",
       "  </tbody>\n",
       "</table>\n",
       "<p>2641422 rows × 3 columns</p>\n",
       "</div>"
      ],
      "text/plain": [
       "         Particle Velocity[i] (m/s)  Particle Velocity[j] (m/s)  \\\n",
       "0                          0.576229                7.599137e-06   \n",
       "1                          0.575964               -3.384995e-05   \n",
       "2                          0.576129                8.063311e-05   \n",
       "3                          0.576709               -4.113741e-04   \n",
       "4                          0.576153                3.311456e-05   \n",
       "...                             ...                         ...   \n",
       "2641417                    0.538821               -1.702028e-07   \n",
       "2641418                    0.538780               -1.942652e-07   \n",
       "2641419                    0.538740               -2.003241e-08   \n",
       "2641420                    0.538740               -4.235156e-08   \n",
       "2641421                    0.538740               -9.259014e-08   \n",
       "\n",
       "         Particle Velocity[k] (m/s)  \n",
       "0                         -0.156682  \n",
       "1                         -0.156740  \n",
       "2                         -0.156886  \n",
       "3                         -0.155926  \n",
       "4                         -0.156845  \n",
       "...                             ...  \n",
       "2641417                   -0.108070  \n",
       "2641418                   -0.108018  \n",
       "2641419                   -0.107967  \n",
       "2641420                   -0.107966  \n",
       "2641421                   -0.107967  \n",
       "\n",
       "[2641422 rows x 3 columns]"
      ]
     },
     "execution_count": 71,
     "metadata": {},
     "output_type": "execute_result"
    }
   ],
   "source": [
    "v=Granular_flow_data[[\"Particle Velocity[i] (m/s)\", \"Particle Velocity[j] (m/s)\", \"Particle Velocity[k] (m/s)\"]]\n",
    "v"
   ]
  },
  {
   "cell_type": "code",
   "execution_count": 74,
   "id": "d62b1d19-dd55-4156-af29-e2d8dd25f0dd",
   "metadata": {},
   "outputs": [],
   "source": [
    "# %%time\n",
    "\n",
    "# U_train, U_test, v_train, v_test=train_test_split(U,v,\n",
    "#                                                   test_size=0.2, \n",
    "#                                                   random_state=42)\n",
    "\n",
    "# velocity_model1= RandomForestRegressor(n_estimators=200)\n",
    "# velocity_model1.fit(U_train, v_train)"
   ]
  },
  {
   "cell_type": "code",
   "execution_count": 75,
   "id": "be8e2a2f-3d24-4bc7-b8a5-344b1f79865a",
   "metadata": {},
   "outputs": [],
   "source": [
    "# velocity_model1.score(U_test, v_test)"
   ]
  },
  {
   "cell_type": "markdown",
   "id": "a398a5ce-c9d7-46ec-a679-265f395ce588",
   "metadata": {},
   "source": [
    "# Using Multi-layer Percerptron Regressor (MLP Regressor)"
   ]
  },
  {
   "cell_type": "code",
   "execution_count": 76,
   "id": "7d78fae9-b8ee-4cc7-a68a-0354879106e3",
   "metadata": {},
   "outputs": [],
   "source": [
    "# %%time\n",
    "\n",
    "# from sklearn.neural_network import MLPRegressor\n",
    "\n",
    "\n",
    "# MLP= MLPRegressor(random_state=42)\n",
    "\n",
    "# MLP.fit(U_train, v_train)"
   ]
  },
  {
   "cell_type": "code",
   "execution_count": 77,
   "id": "53fe7519-bae9-4b9e-86bf-10079fb13634",
   "metadata": {},
   "outputs": [],
   "source": [
    "# MLP.score(X=U_test,y=v_test)"
   ]
  },
  {
   "cell_type": "markdown",
   "id": "5441fd22",
   "metadata": {},
   "source": [
    "## Exporting the y_test and the RandomForestRegressor Predicted data (y_preds)"
   ]
  },
  {
   "cell_type": "code",
   "execution_count": 78,
   "id": "dd038e15",
   "metadata": {},
   "outputs": [
    {
     "data": {
      "text/html": [
       "<div>\n",
       "<style scoped>\n",
       "    .dataframe tbody tr th:only-of-type {\n",
       "        vertical-align: middle;\n",
       "    }\n",
       "\n",
       "    .dataframe tbody tr th {\n",
       "        vertical-align: top;\n",
       "    }\n",
       "\n",
       "    .dataframe thead th {\n",
       "        text-align: right;\n",
       "    }\n",
       "</style>\n",
       "<table border=\"1\" class=\"dataframe\">\n",
       "  <thead>\n",
       "    <tr style=\"text-align: right;\">\n",
       "      <th></th>\n",
       "      <th>y_test(i)</th>\n",
       "      <th>y_test(j)</th>\n",
       "      <th>y_test(k)</th>\n",
       "      <th>y_preds(i)</th>\n",
       "      <th>y_preds(j)</th>\n",
       "      <th>y_preds(k)</th>\n",
       "    </tr>\n",
       "  </thead>\n",
       "  <tbody>\n",
       "    <tr>\n",
       "      <th>0</th>\n",
       "      <td>0.031502</td>\n",
       "      <td>0.033440</td>\n",
       "      <td>0.002208</td>\n",
       "      <td>0.029320</td>\n",
       "      <td>0.034945</td>\n",
       "      <td>0.002347</td>\n",
       "    </tr>\n",
       "    <tr>\n",
       "      <th>1</th>\n",
       "      <td>-0.049162</td>\n",
       "      <td>0.029499</td>\n",
       "      <td>0.007040</td>\n",
       "      <td>-0.048454</td>\n",
       "      <td>0.035142</td>\n",
       "      <td>0.007159</td>\n",
       "    </tr>\n",
       "    <tr>\n",
       "      <th>2</th>\n",
       "      <td>0.007145</td>\n",
       "      <td>0.025976</td>\n",
       "      <td>0.005395</td>\n",
       "      <td>0.008948</td>\n",
       "      <td>0.026167</td>\n",
       "      <td>0.005346</td>\n",
       "    </tr>\n",
       "    <tr>\n",
       "      <th>3</th>\n",
       "      <td>0.017912</td>\n",
       "      <td>0.026251</td>\n",
       "      <td>0.003920</td>\n",
       "      <td>0.019014</td>\n",
       "      <td>0.024825</td>\n",
       "      <td>0.004230</td>\n",
       "    </tr>\n",
       "    <tr>\n",
       "      <th>4</th>\n",
       "      <td>-0.066240</td>\n",
       "      <td>0.033535</td>\n",
       "      <td>0.008997</td>\n",
       "      <td>-0.067198</td>\n",
       "      <td>0.032203</td>\n",
       "      <td>0.008307</td>\n",
       "    </tr>\n",
       "    <tr>\n",
       "      <th>...</th>\n",
       "      <td>...</td>\n",
       "      <td>...</td>\n",
       "      <td>...</td>\n",
       "      <td>...</td>\n",
       "      <td>...</td>\n",
       "      <td>...</td>\n",
       "    </tr>\n",
       "    <tr>\n",
       "      <th>528280</th>\n",
       "      <td>-0.079945</td>\n",
       "      <td>0.034668</td>\n",
       "      <td>0.009816</td>\n",
       "      <td>-0.080161</td>\n",
       "      <td>0.032603</td>\n",
       "      <td>0.009480</td>\n",
       "    </tr>\n",
       "    <tr>\n",
       "      <th>528281</th>\n",
       "      <td>-0.049620</td>\n",
       "      <td>0.037336</td>\n",
       "      <td>0.003339</td>\n",
       "      <td>-0.050342</td>\n",
       "      <td>0.034435</td>\n",
       "      <td>0.003297</td>\n",
       "    </tr>\n",
       "    <tr>\n",
       "      <th>528282</th>\n",
       "      <td>0.000587</td>\n",
       "      <td>0.034223</td>\n",
       "      <td>0.000501</td>\n",
       "      <td>0.001741</td>\n",
       "      <td>0.035585</td>\n",
       "      <td>0.000699</td>\n",
       "    </tr>\n",
       "    <tr>\n",
       "      <th>528283</th>\n",
       "      <td>-0.057399</td>\n",
       "      <td>0.027527</td>\n",
       "      <td>0.003134</td>\n",
       "      <td>-0.058650</td>\n",
       "      <td>0.028457</td>\n",
       "      <td>0.002157</td>\n",
       "    </tr>\n",
       "    <tr>\n",
       "      <th>528284</th>\n",
       "      <td>0.024550</td>\n",
       "      <td>0.034840</td>\n",
       "      <td>0.003569</td>\n",
       "      <td>0.021909</td>\n",
       "      <td>0.034998</td>\n",
       "      <td>0.003599</td>\n",
       "    </tr>\n",
       "  </tbody>\n",
       "</table>\n",
       "<p>528285 rows × 6 columns</p>\n",
       "</div>"
      ],
      "text/plain": [
       "        y_test(i)  y_test(j)  y_test(k)  y_preds(i)  y_preds(j)  y_preds(k)\n",
       "0        0.031502   0.033440   0.002208    0.029320    0.034945    0.002347\n",
       "1       -0.049162   0.029499   0.007040   -0.048454    0.035142    0.007159\n",
       "2        0.007145   0.025976   0.005395    0.008948    0.026167    0.005346\n",
       "3        0.017912   0.026251   0.003920    0.019014    0.024825    0.004230\n",
       "4       -0.066240   0.033535   0.008997   -0.067198    0.032203    0.008307\n",
       "...           ...        ...        ...         ...         ...         ...\n",
       "528280  -0.079945   0.034668   0.009816   -0.080161    0.032603    0.009480\n",
       "528281  -0.049620   0.037336   0.003339   -0.050342    0.034435    0.003297\n",
       "528282   0.000587   0.034223   0.000501    0.001741    0.035585    0.000699\n",
       "528283  -0.057399   0.027527   0.003134   -0.058650    0.028457    0.002157\n",
       "528284   0.024550   0.034840   0.003569    0.021909    0.034998    0.003599\n",
       "\n",
       "[528285 rows x 6 columns]"
      ]
     },
     "execution_count": 78,
     "metadata": {},
     "output_type": "execute_result"
    }
   ],
   "source": [
    "test_n_predicted_data=pd.DataFrame(np.array(y_test), columns=['y_test(i)','y_test(j)', 'y_test(k)'])\n",
    "\n",
    "test_n_predicted_data[['y_preds(i)', 'y_preds(j)', 'y_preds(k)']]=np.array(y_preds)\n",
    "\n",
    "test_n_predicted_data.to_csv('./test_n_predicted_data(#100).csv', index=False)\n",
    "\n",
    "test_n_predicted_data"
   ]
  },
  {
   "cell_type": "markdown",
   "id": "23c9b193",
   "metadata": {},
   "source": [
    "## Difference Between the y_test (Actual data) and the y_preds (Predicted Data )"
   ]
  },
  {
   "cell_type": "code",
   "execution_count": 79,
   "id": "7db7a166",
   "metadata": {},
   "outputs": [
    {
     "data": {
      "text/html": [
       "<div>\n",
       "<style scoped>\n",
       "    .dataframe tbody tr th:only-of-type {\n",
       "        vertical-align: middle;\n",
       "    }\n",
       "\n",
       "    .dataframe tbody tr th {\n",
       "        vertical-align: top;\n",
       "    }\n",
       "\n",
       "    .dataframe thead th {\n",
       "        text-align: right;\n",
       "    }\n",
       "</style>\n",
       "<table border=\"1\" class=\"dataframe\">\n",
       "  <thead>\n",
       "    <tr style=\"text-align: right;\">\n",
       "      <th></th>\n",
       "      <th>y_test(i) - y_preds(i)</th>\n",
       "      <th>y_test(j) - y_preds(j)</th>\n",
       "      <th>y_test(k) - y_preds(k)</th>\n",
       "    </tr>\n",
       "  </thead>\n",
       "  <tbody>\n",
       "    <tr>\n",
       "      <th>0</th>\n",
       "      <td>0.002182</td>\n",
       "      <td>-0.001505</td>\n",
       "      <td>-0.000139</td>\n",
       "    </tr>\n",
       "    <tr>\n",
       "      <th>1</th>\n",
       "      <td>-0.000708</td>\n",
       "      <td>-0.005642</td>\n",
       "      <td>-0.000120</td>\n",
       "    </tr>\n",
       "    <tr>\n",
       "      <th>2</th>\n",
       "      <td>-0.001803</td>\n",
       "      <td>-0.000191</td>\n",
       "      <td>0.000049</td>\n",
       "    </tr>\n",
       "    <tr>\n",
       "      <th>3</th>\n",
       "      <td>-0.001102</td>\n",
       "      <td>0.001426</td>\n",
       "      <td>-0.000310</td>\n",
       "    </tr>\n",
       "    <tr>\n",
       "      <th>4</th>\n",
       "      <td>0.000958</td>\n",
       "      <td>0.001333</td>\n",
       "      <td>0.000690</td>\n",
       "    </tr>\n",
       "    <tr>\n",
       "      <th>...</th>\n",
       "      <td>...</td>\n",
       "      <td>...</td>\n",
       "      <td>...</td>\n",
       "    </tr>\n",
       "    <tr>\n",
       "      <th>528280</th>\n",
       "      <td>0.000216</td>\n",
       "      <td>0.002065</td>\n",
       "      <td>0.000336</td>\n",
       "    </tr>\n",
       "    <tr>\n",
       "      <th>528281</th>\n",
       "      <td>0.000721</td>\n",
       "      <td>0.002900</td>\n",
       "      <td>0.000041</td>\n",
       "    </tr>\n",
       "    <tr>\n",
       "      <th>528282</th>\n",
       "      <td>-0.001154</td>\n",
       "      <td>-0.001362</td>\n",
       "      <td>-0.000197</td>\n",
       "    </tr>\n",
       "    <tr>\n",
       "      <th>528283</th>\n",
       "      <td>0.001251</td>\n",
       "      <td>-0.000930</td>\n",
       "      <td>0.000977</td>\n",
       "    </tr>\n",
       "    <tr>\n",
       "      <th>528284</th>\n",
       "      <td>0.002641</td>\n",
       "      <td>-0.000158</td>\n",
       "      <td>-0.000030</td>\n",
       "    </tr>\n",
       "  </tbody>\n",
       "</table>\n",
       "<p>528285 rows × 3 columns</p>\n",
       "</div>"
      ],
      "text/plain": [
       "        y_test(i) - y_preds(i)  y_test(j) - y_preds(j)  y_test(k) - y_preds(k)\n",
       "0                     0.002182               -0.001505               -0.000139\n",
       "1                    -0.000708               -0.005642               -0.000120\n",
       "2                    -0.001803               -0.000191                0.000049\n",
       "3                    -0.001102                0.001426               -0.000310\n",
       "4                     0.000958                0.001333                0.000690\n",
       "...                        ...                     ...                     ...\n",
       "528280                0.000216                0.002065                0.000336\n",
       "528281                0.000721                0.002900                0.000041\n",
       "528282               -0.001154               -0.001362               -0.000197\n",
       "528283                0.001251               -0.000930                0.000977\n",
       "528284                0.002641               -0.000158               -0.000030\n",
       "\n",
       "[528285 rows x 3 columns]"
      ]
     },
     "execution_count": 79,
     "metadata": {},
     "output_type": "execute_result"
    }
   ],
   "source": [
    "dataDifference = np.array(y_test)-np.array(y_preds)\n",
    "df_dataDifference=pd.DataFrame(dataDifference, columns=['y_test(i) - y_preds(i)', 'y_test(j) - y_preds(j)', 'y_test(k) - y_preds(k)'])\n",
    "df_dataDifference"
   ]
  },
  {
   "cell_type": "markdown",
   "id": "eb03ba12",
   "metadata": {},
   "source": [
    "*The dataDifference is approximately equal to zero, this is better seen when the values are rounded to 3 decimal places as shown below"
   ]
  },
  {
   "cell_type": "code",
   "execution_count": 80,
   "id": "3419e70b",
   "metadata": {},
   "outputs": [
    {
     "data": {
      "text/html": [
       "<div>\n",
       "<style scoped>\n",
       "    .dataframe tbody tr th:only-of-type {\n",
       "        vertical-align: middle;\n",
       "    }\n",
       "\n",
       "    .dataframe tbody tr th {\n",
       "        vertical-align: top;\n",
       "    }\n",
       "\n",
       "    .dataframe thead th {\n",
       "        text-align: right;\n",
       "    }\n",
       "</style>\n",
       "<table border=\"1\" class=\"dataframe\">\n",
       "  <thead>\n",
       "    <tr style=\"text-align: right;\">\n",
       "      <th></th>\n",
       "      <th>y_test(i) - y_preds(i)</th>\n",
       "      <th>y_test(j) - y_preds(j)</th>\n",
       "      <th>y_test(k) - y_preds(k)</th>\n",
       "    </tr>\n",
       "  </thead>\n",
       "  <tbody>\n",
       "    <tr>\n",
       "      <th>0</th>\n",
       "      <td>0.002</td>\n",
       "      <td>-0.002</td>\n",
       "      <td>-0.000</td>\n",
       "    </tr>\n",
       "    <tr>\n",
       "      <th>1</th>\n",
       "      <td>-0.001</td>\n",
       "      <td>-0.006</td>\n",
       "      <td>-0.000</td>\n",
       "    </tr>\n",
       "    <tr>\n",
       "      <th>2</th>\n",
       "      <td>-0.002</td>\n",
       "      <td>-0.000</td>\n",
       "      <td>0.000</td>\n",
       "    </tr>\n",
       "    <tr>\n",
       "      <th>3</th>\n",
       "      <td>-0.001</td>\n",
       "      <td>0.001</td>\n",
       "      <td>-0.000</td>\n",
       "    </tr>\n",
       "    <tr>\n",
       "      <th>4</th>\n",
       "      <td>0.001</td>\n",
       "      <td>0.001</td>\n",
       "      <td>0.001</td>\n",
       "    </tr>\n",
       "    <tr>\n",
       "      <th>...</th>\n",
       "      <td>...</td>\n",
       "      <td>...</td>\n",
       "      <td>...</td>\n",
       "    </tr>\n",
       "    <tr>\n",
       "      <th>528280</th>\n",
       "      <td>0.000</td>\n",
       "      <td>0.002</td>\n",
       "      <td>0.000</td>\n",
       "    </tr>\n",
       "    <tr>\n",
       "      <th>528281</th>\n",
       "      <td>0.001</td>\n",
       "      <td>0.003</td>\n",
       "      <td>0.000</td>\n",
       "    </tr>\n",
       "    <tr>\n",
       "      <th>528282</th>\n",
       "      <td>-0.001</td>\n",
       "      <td>-0.001</td>\n",
       "      <td>-0.000</td>\n",
       "    </tr>\n",
       "    <tr>\n",
       "      <th>528283</th>\n",
       "      <td>0.001</td>\n",
       "      <td>-0.001</td>\n",
       "      <td>0.001</td>\n",
       "    </tr>\n",
       "    <tr>\n",
       "      <th>528284</th>\n",
       "      <td>0.003</td>\n",
       "      <td>-0.000</td>\n",
       "      <td>-0.000</td>\n",
       "    </tr>\n",
       "  </tbody>\n",
       "</table>\n",
       "<p>528285 rows × 3 columns</p>\n",
       "</div>"
      ],
      "text/plain": [
       "        y_test(i) - y_preds(i)  y_test(j) - y_preds(j)  y_test(k) - y_preds(k)\n",
       "0                        0.002                  -0.002                  -0.000\n",
       "1                       -0.001                  -0.006                  -0.000\n",
       "2                       -0.002                  -0.000                   0.000\n",
       "3                       -0.001                   0.001                  -0.000\n",
       "4                        0.001                   0.001                   0.001\n",
       "...                        ...                     ...                     ...\n",
       "528280                   0.000                   0.002                   0.000\n",
       "528281                   0.001                   0.003                   0.000\n",
       "528282                  -0.001                  -0.001                  -0.000\n",
       "528283                   0.001                  -0.001                   0.001\n",
       "528284                   0.003                  -0.000                  -0.000\n",
       "\n",
       "[528285 rows x 3 columns]"
      ]
     },
     "execution_count": 80,
     "metadata": {},
     "output_type": "execute_result"
    }
   ],
   "source": [
    "df_dataDifference.round(3)"
   ]
  },
  {
   "cell_type": "markdown",
   "id": "41fd308f",
   "metadata": {},
   "source": [
    "## Exporting the dataDifference"
   ]
  },
  {
   "cell_type": "code",
   "execution_count": 81,
   "id": "c147fa48",
   "metadata": {},
   "outputs": [],
   "source": [
    "df_dataDifference.to_csv('difference btw y_test and y_preds(#100).csv', index=False)"
   ]
  },
  {
   "cell_type": "markdown",
   "id": "bb6747ff",
   "metadata": {},
   "source": [
    "## Exporting the Training Data (X_train and y_train)"
   ]
  },
  {
   "cell_type": "code",
   "execution_count": 82,
   "id": "8b4bdf88",
   "metadata": {},
   "outputs": [
    {
     "data": {
      "text/html": [
       "<div>\n",
       "<style scoped>\n",
       "    .dataframe tbody tr th:only-of-type {\n",
       "        vertical-align: middle;\n",
       "    }\n",
       "\n",
       "    .dataframe tbody tr th {\n",
       "        vertical-align: top;\n",
       "    }\n",
       "\n",
       "    .dataframe thead th {\n",
       "        text-align: right;\n",
       "    }\n",
       "</style>\n",
       "<table border=\"1\" class=\"dataframe\">\n",
       "  <thead>\n",
       "    <tr style=\"text-align: right;\">\n",
       "      <th></th>\n",
       "      <th>Unnamed: 0</th>\n",
       "      <th>Time (s)</th>\n",
       "      <th>Particle Velocity[i] (m/s)</th>\n",
       "      <th>Particle Velocity[j] (m/s)</th>\n",
       "      <th>Particle Velocity[k] (m/s)</th>\n",
       "      <th>Particle Velocity: Magnitude (m/s)</th>\n",
       "      <th>Volume Fraction of Phase 1</th>\n",
       "      <th>Wall Shear Stress: Magnitude (Pa)</th>\n",
       "      <th>Report: Element Count 1</th>\n",
       "      <th>Report: Total Solver CPU Time (s)</th>\n",
       "      <th>Parcel Centroid[X] (m)</th>\n",
       "      <th>Parcel Centroid[Y] (m)</th>\n",
       "      <th>Parcel Centroid[Z] (m)</th>\n",
       "    </tr>\n",
       "  </thead>\n",
       "  <tbody>\n",
       "    <tr>\n",
       "      <th>206759</th>\n",
       "      <td>18593</td>\n",
       "      <td>0.38</td>\n",
       "      <td>0.624326</td>\n",
       "      <td>-0.000049</td>\n",
       "      <td>-0.216191</td>\n",
       "      <td>0.660698</td>\n",
       "      <td>0.162017</td>\n",
       "      <td>0</td>\n",
       "      <td>20921</td>\n",
       "      <td>831.111</td>\n",
       "      <td>-0.108972</td>\n",
       "      <td>0.024604</td>\n",
       "      <td>0.008159</td>\n",
       "    </tr>\n",
       "    <tr>\n",
       "      <th>1496358</th>\n",
       "      <td>21873</td>\n",
       "      <td>1.26</td>\n",
       "      <td>0.705964</td>\n",
       "      <td>-0.015627</td>\n",
       "      <td>-0.024537</td>\n",
       "      <td>0.706563</td>\n",
       "      <td>0.149046</td>\n",
       "      <td>0</td>\n",
       "      <td>30673</td>\n",
       "      <td>6134.646</td>\n",
       "      <td>-0.084143</td>\n",
       "      <td>0.034701</td>\n",
       "      <td>0.004505</td>\n",
       "    </tr>\n",
       "    <tr>\n",
       "      <th>235984</th>\n",
       "      <td>4862</td>\n",
       "      <td>0.42</td>\n",
       "      <td>1.027998</td>\n",
       "      <td>-0.017445</td>\n",
       "      <td>-0.053750</td>\n",
       "      <td>1.029550</td>\n",
       "      <td>0.038313</td>\n",
       "      <td>0</td>\n",
       "      <td>23127</td>\n",
       "      <td>1012.077</td>\n",
       "      <td>-0.027211</td>\n",
       "      <td>0.037417</td>\n",
       "      <td>0.005829</td>\n",
       "    </tr>\n",
       "    <tr>\n",
       "      <th>1917219</th>\n",
       "      <td>13115</td>\n",
       "      <td>1.54</td>\n",
       "      <td>0.745870</td>\n",
       "      <td>-0.010373</td>\n",
       "      <td>-0.065553</td>\n",
       "      <td>0.748817</td>\n",
       "      <td>0.159320</td>\n",
       "      <td>0</td>\n",
       "      <td>30718</td>\n",
       "      <td>7927.276</td>\n",
       "      <td>-0.047574</td>\n",
       "      <td>0.023127</td>\n",
       "      <td>0.003724</td>\n",
       "    </tr>\n",
       "    <tr>\n",
       "      <th>1233298</th>\n",
       "      <td>4279</td>\n",
       "      <td>1.10</td>\n",
       "      <td>1.079409</td>\n",
       "      <td>0.004584</td>\n",
       "      <td>-0.017984</td>\n",
       "      <td>1.079568</td>\n",
       "      <td>0.119247</td>\n",
       "      <td>0</td>\n",
       "      <td>30679</td>\n",
       "      <td>5116.494</td>\n",
       "      <td>0.019445</td>\n",
       "      <td>0.029986</td>\n",
       "      <td>0.007202</td>\n",
       "    </tr>\n",
       "    <tr>\n",
       "      <th>...</th>\n",
       "      <td>...</td>\n",
       "      <td>...</td>\n",
       "      <td>...</td>\n",
       "      <td>...</td>\n",
       "      <td>...</td>\n",
       "      <td>...</td>\n",
       "      <td>...</td>\n",
       "      <td>...</td>\n",
       "      <td>...</td>\n",
       "      <td>...</td>\n",
       "      <td>...</td>\n",
       "      <td>...</td>\n",
       "      <td>...</td>\n",
       "    </tr>\n",
       "    <tr>\n",
       "      <th>110268</th>\n",
       "      <td>10129</td>\n",
       "      <td>0.28</td>\n",
       "      <td>0.731843</td>\n",
       "      <td>-0.000075</td>\n",
       "      <td>-0.352359</td>\n",
       "      <td>0.812250</td>\n",
       "      <td>0.107464</td>\n",
       "      <td>0</td>\n",
       "      <td>15406</td>\n",
       "      <td>456.199</td>\n",
       "      <td>-0.096571</td>\n",
       "      <td>0.036543</td>\n",
       "      <td>0.012349</td>\n",
       "    </tr>\n",
       "    <tr>\n",
       "      <th>1692743</th>\n",
       "      <td>3510</td>\n",
       "      <td>1.40</td>\n",
       "      <td>0.976007</td>\n",
       "      <td>-0.002792</td>\n",
       "      <td>-0.029698</td>\n",
       "      <td>0.976463</td>\n",
       "      <td>0.118693</td>\n",
       "      <td>0</td>\n",
       "      <td>30681</td>\n",
       "      <td>7031.006</td>\n",
       "      <td>0.011038</td>\n",
       "      <td>0.031379</td>\n",
       "      <td>0.002928</td>\n",
       "    </tr>\n",
       "    <tr>\n",
       "      <th>2356330</th>\n",
       "      <td>21954</td>\n",
       "      <td>1.82</td>\n",
       "      <td>0.694416</td>\n",
       "      <td>0.028030</td>\n",
       "      <td>-0.004786</td>\n",
       "      <td>0.694998</td>\n",
       "      <td>0.163251</td>\n",
       "      <td>0</td>\n",
       "      <td>30743</td>\n",
       "      <td>9708.255</td>\n",
       "      <td>-0.085467</td>\n",
       "      <td>0.029363</td>\n",
       "      <td>0.002927</td>\n",
       "    </tr>\n",
       "    <tr>\n",
       "      <th>2229084</th>\n",
       "      <td>17744</td>\n",
       "      <td>1.74</td>\n",
       "      <td>0.689450</td>\n",
       "      <td>0.033427</td>\n",
       "      <td>-0.042708</td>\n",
       "      <td>0.691580</td>\n",
       "      <td>0.163489</td>\n",
       "      <td>0</td>\n",
       "      <td>30760</td>\n",
       "      <td>9195.825</td>\n",
       "      <td>-0.067794</td>\n",
       "      <td>0.025219</td>\n",
       "      <td>0.001993</td>\n",
       "    </tr>\n",
       "    <tr>\n",
       "      <th>2219110</th>\n",
       "      <td>7770</td>\n",
       "      <td>1.74</td>\n",
       "      <td>0.936276</td>\n",
       "      <td>-0.004637</td>\n",
       "      <td>-0.013222</td>\n",
       "      <td>0.936381</td>\n",
       "      <td>0.120018</td>\n",
       "      <td>0</td>\n",
       "      <td>30760</td>\n",
       "      <td>9195.825</td>\n",
       "      <td>-0.011003</td>\n",
       "      <td>0.035754</td>\n",
       "      <td>0.004212</td>\n",
       "    </tr>\n",
       "  </tbody>\n",
       "</table>\n",
       "<p>2113137 rows × 13 columns</p>\n",
       "</div>"
      ],
      "text/plain": [
       "         Unnamed: 0  Time (s)  Particle Velocity[i] (m/s)  \\\n",
       "206759        18593      0.38                    0.624326   \n",
       "1496358       21873      1.26                    0.705964   \n",
       "235984         4862      0.42                    1.027998   \n",
       "1917219       13115      1.54                    0.745870   \n",
       "1233298        4279      1.10                    1.079409   \n",
       "...             ...       ...                         ...   \n",
       "110268        10129      0.28                    0.731843   \n",
       "1692743        3510      1.40                    0.976007   \n",
       "2356330       21954      1.82                    0.694416   \n",
       "2229084       17744      1.74                    0.689450   \n",
       "2219110        7770      1.74                    0.936276   \n",
       "\n",
       "         Particle Velocity[j] (m/s)  Particle Velocity[k] (m/s)  \\\n",
       "206759                    -0.000049                   -0.216191   \n",
       "1496358                   -0.015627                   -0.024537   \n",
       "235984                    -0.017445                   -0.053750   \n",
       "1917219                   -0.010373                   -0.065553   \n",
       "1233298                    0.004584                   -0.017984   \n",
       "...                             ...                         ...   \n",
       "110268                    -0.000075                   -0.352359   \n",
       "1692743                   -0.002792                   -0.029698   \n",
       "2356330                    0.028030                   -0.004786   \n",
       "2229084                    0.033427                   -0.042708   \n",
       "2219110                   -0.004637                   -0.013222   \n",
       "\n",
       "         Particle Velocity: Magnitude (m/s)  Volume Fraction of Phase 1  \\\n",
       "206759                             0.660698                    0.162017   \n",
       "1496358                            0.706563                    0.149046   \n",
       "235984                             1.029550                    0.038313   \n",
       "1917219                            0.748817                    0.159320   \n",
       "1233298                            1.079568                    0.119247   \n",
       "...                                     ...                         ...   \n",
       "110268                             0.812250                    0.107464   \n",
       "1692743                            0.976463                    0.118693   \n",
       "2356330                            0.694998                    0.163251   \n",
       "2229084                            0.691580                    0.163489   \n",
       "2219110                            0.936381                    0.120018   \n",
       "\n",
       "         Wall Shear Stress: Magnitude (Pa)  Report: Element Count 1  \\\n",
       "206759                                   0                    20921   \n",
       "1496358                                  0                    30673   \n",
       "235984                                   0                    23127   \n",
       "1917219                                  0                    30718   \n",
       "1233298                                  0                    30679   \n",
       "...                                    ...                      ...   \n",
       "110268                                   0                    15406   \n",
       "1692743                                  0                    30681   \n",
       "2356330                                  0                    30743   \n",
       "2229084                                  0                    30760   \n",
       "2219110                                  0                    30760   \n",
       "\n",
       "         Report: Total Solver CPU Time (s)  Parcel Centroid[X] (m)  \\\n",
       "206759                             831.111               -0.108972   \n",
       "1496358                           6134.646               -0.084143   \n",
       "235984                            1012.077               -0.027211   \n",
       "1917219                           7927.276               -0.047574   \n",
       "1233298                           5116.494                0.019445   \n",
       "...                                    ...                     ...   \n",
       "110268                             456.199               -0.096571   \n",
       "1692743                           7031.006                0.011038   \n",
       "2356330                           9708.255               -0.085467   \n",
       "2229084                           9195.825               -0.067794   \n",
       "2219110                           9195.825               -0.011003   \n",
       "\n",
       "         Parcel Centroid[Y] (m)  Parcel Centroid[Z] (m)  \n",
       "206759                 0.024604                0.008159  \n",
       "1496358                0.034701                0.004505  \n",
       "235984                 0.037417                0.005829  \n",
       "1917219                0.023127                0.003724  \n",
       "1233298                0.029986                0.007202  \n",
       "...                         ...                     ...  \n",
       "110268                 0.036543                0.012349  \n",
       "1692743                0.031379                0.002928  \n",
       "2356330                0.029363                0.002927  \n",
       "2229084                0.025219                0.001993  \n",
       "2219110                0.035754                0.004212  \n",
       "\n",
       "[2113137 rows x 13 columns]"
      ]
     },
     "execution_count": 82,
     "metadata": {},
     "output_type": "execute_result"
    }
   ],
   "source": [
    "TrainingData = X_train\n",
    "TrainingData[['Parcel Centroid[X] (m)', 'Parcel Centroid[Y] (m)', 'Parcel Centroid[Z] (m)']]=y_train\n",
    "TrainingData"
   ]
  },
  {
   "cell_type": "code",
   "execution_count": 83,
   "id": "38cbff9c",
   "metadata": {},
   "outputs": [],
   "source": [
    "TrainingData.to_csv('./Training_Data(#100).csv', index=False)"
   ]
  },
  {
   "cell_type": "markdown",
   "id": "deca7f2e",
   "metadata": {},
   "source": [
    "## Exporting X_test"
   ]
  },
  {
   "cell_type": "code",
   "execution_count": 84,
   "id": "3060e4a3",
   "metadata": {},
   "outputs": [],
   "source": [
    "Xtest=X_test\n",
    "Xtest.to_csv('./X_test(#100).csv')"
   ]
  },
  {
   "cell_type": "markdown",
   "id": "5cac3b1a",
   "metadata": {},
   "source": [
    "## Exporting y_test"
   ]
  },
  {
   "cell_type": "code",
   "execution_count": 85,
   "id": "f467bb81",
   "metadata": {},
   "outputs": [],
   "source": [
    "Ytest=y_test\n",
    "Ytest.to_csv('./y_test(#100).csv')"
   ]
  },
  {
   "cell_type": "markdown",
   "id": "5f8892bb",
   "metadata": {},
   "source": [
    "## Exporting both X_test and y_test as a combined file"
   ]
  },
  {
   "cell_type": "code",
   "execution_count": 86,
   "id": "3e90951f",
   "metadata": {},
   "outputs": [],
   "source": [
    "Xtest[['Parcel Centroid[X] (m)', 'Parcel Centroid[Y] (m)', 'Parcel Centroid[Z] (m)']]=Ytest\n",
    "\n",
    "Xtest.to_csv('./X_test and y_test(#100).csv')"
   ]
  },
  {
   "cell_type": "markdown",
   "id": "140f9c6c",
   "metadata": {},
   "source": [
    "## Saving the Trained machine Learning model to a file"
   ]
  },
  {
   "cell_type": "code",
   "execution_count": 87,
   "id": "c4596ff3",
   "metadata": {},
   "outputs": [
    {
     "data": {
      "text/plain": [
       "['./saved_RidgeRegrsor_model100.pkl']"
      ]
     },
     "execution_count": 87,
     "metadata": {},
     "output_type": "execute_result"
    }
   ],
   "source": [
    "import joblib\n",
    "\n",
    "\n",
    "joblib.dump(model1, './saved_RandomFrstRegrsor_model100.pkl') #RandomForestRegressor\n",
    "joblib.dump(model2, './saved_LinearRegrsor_model100.pkl') #LinearRegressor\n",
    "joblib.dump(model3, './saved_RidgeRegrsor_model100.pkl') #RidgeRegressor"
   ]
  },
  {
   "cell_type": "code",
   "execution_count": null,
   "id": "7c2a7423",
   "metadata": {},
   "outputs": [],
   "source": []
  },
  {
   "cell_type": "code",
   "execution_count": 88,
   "id": "646cf1a4-71a1-44d7-aa69-9be3a794eefa",
   "metadata": {},
   "outputs": [
    {
     "name": "stdout",
     "output_type": "stream",
     "text": [
      "This notebook code was last run on 2024-07-16 00:17:56.277353\n"
     ]
    }
   ],
   "source": [
    "from datetime import datetime\n",
    "\n",
    "\n",
    "print(f\"This notebook code was last run on {datetime.now()}\")"
   ]
  }
 ],
 "metadata": {
  "kernelspec": {
   "display_name": "Python 3 (ipykernel)",
   "language": "python",
   "name": "python3"
  },
  "language_info": {
   "codemirror_mode": {
    "name": "ipython",
    "version": 3
   },
   "file_extension": ".py",
   "mimetype": "text/x-python",
   "name": "python",
   "nbconvert_exporter": "python",
   "pygments_lexer": "ipython3",
   "version": "3.10.9"
  }
 },
 "nbformat": 4,
 "nbformat_minor": 5
}
