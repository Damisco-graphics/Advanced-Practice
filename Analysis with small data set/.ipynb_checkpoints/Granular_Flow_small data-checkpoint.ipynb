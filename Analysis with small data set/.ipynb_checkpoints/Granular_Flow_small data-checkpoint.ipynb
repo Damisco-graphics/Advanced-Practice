{
 "cells": [
  {
   "cell_type": "markdown",
   "id": "4b49399e-fdf7-4e5a-9351-79754e455df6",
   "metadata": {},
   "source": [
    "#  Data Analytics and Machine Learning of the Data space in Granular Flow"
   ]
  },
  {
   "cell_type": "code",
   "execution_count": 1,
   "id": "be4fdd26-0a4a-43d3-b735-d96dcc573b6a",
   "metadata": {},
   "outputs": [],
   "source": [
    "%matplotlib inline\n",
    "import pandas as pd\n",
    "import numpy as np\n",
    "import matplotlib.pyplot as plt\n",
    "import sklearn\n"
   ]
  },
  {
   "cell_type": "code",
   "execution_count": 2,
   "id": "f956a917-720a-49f8-93db-8b0e0735149e",
   "metadata": {
    "tags": []
   },
   "outputs": [],
   "source": [
    "#pd.set_option('display.max_column', None)\n",
    "#pd.set_option('display.max_rows', None)"
   ]
  },
  {
   "cell_type": "markdown",
   "id": "206ad89a-1937-40fe-9611-ab4c7c5e8e7d",
   "metadata": {
    "tags": []
   },
   "source": [
    "# 1.0 Combining the data gathered for each time step into a single csv file"
   ]
  },
  {
   "cell_type": "code",
   "execution_count": 3,
   "id": "790bd4bb-0350-4293-a1ec-475a61caf964",
   "metadata": {},
   "outputs": [],
   "source": [
    "granular_flow_data_paths=['./Tables/XYZ_Internal_Table_table_100.csv','./Tables/XYZ_Internal_Table_table_200.csv', \n",
    "                          './Tables/XYZ_Internal_Table_table_300.csv', './Tables/XYZ_Internal_Table_table_400.csv', './Tables/XYZ_Internal_Table_table_500.csv', './Tables/XYZ_Internal_Table_table_600.csv', './Tables/XYZ_Internal_Table_table_700.csv', './Tables/XYZ_Internal_Table_table_800.csv', './Tables/XYZ_Internal_Table_table_900.csv', './Tables/XYZ_Internal_Table_table_1000.csv', './Tables/XYZ_Internal_Table_table_1100.csv' ]\n",
    "\n",
    "granular_flow_dataset = []\n",
    "for datapath in granular_flow_data_paths:\n",
    "    df=pd.read_csv(datapath)\n",
    "    granular_flow_dataset.append(df)\n"
   ]
  },
  {
   "cell_type": "code",
   "execution_count": 4,
   "id": "97526889-3389-4342-9679-ace46ac32364",
   "metadata": {},
   "outputs": [],
   "source": [
    "y=pd.concat(granular_flow_dataset)\n",
    "Combined_flow_data=y.to_csv('./Combined flow data.csv')\n",
    "Combined_flow_data"
   ]
  },
  {
   "cell_type": "markdown",
   "id": "5cf71c68-8ea9-4a9b-969c-d6f3ecb1a8ba",
   "metadata": {},
   "source": [
    "# 2.0 Working With the Saved file"
   ]
  },
  {
   "cell_type": "markdown",
   "id": "63da890d-4efb-4d52-809e-22c2d91d4329",
   "metadata": {},
   "source": [
    "## 2.1 Reading (Loading) the combined saved data"
   ]
  },
  {
   "cell_type": "code",
   "execution_count": 5,
   "id": "92eaa73b-6241-4ae4-a88a-7d79304c27b3",
   "metadata": {
    "scrolled": true
   },
   "outputs": [
    {
     "data": {
      "text/html": [
       "<div>\n",
       "<style scoped>\n",
       "    .dataframe tbody tr th:only-of-type {\n",
       "        vertical-align: middle;\n",
       "    }\n",
       "\n",
       "    .dataframe tbody tr th {\n",
       "        vertical-align: top;\n",
       "    }\n",
       "\n",
       "    .dataframe thead th {\n",
       "        text-align: right;\n",
       "    }\n",
       "</style>\n",
       "<table border=\"1\" class=\"dataframe\">\n",
       "  <thead>\n",
       "    <tr style=\"text-align: right;\">\n",
       "      <th></th>\n",
       "      <th>Unnamed: 0</th>\n",
       "      <th>Time (s)</th>\n",
       "      <th>Parcel Centroid[X] (m)</th>\n",
       "      <th>Parcel Centroid[Y] (m)</th>\n",
       "      <th>Parcel Centroid[Z] (m)</th>\n",
       "      <th>Particle Velocity[i] (m/s)</th>\n",
       "      <th>Particle Velocity[j] (m/s)</th>\n",
       "      <th>Particle Velocity[k] (m/s)</th>\n",
       "      <th>Particle Velocity: Magnitude (m/s)</th>\n",
       "      <th>Volume Fraction of Phase 1</th>\n",
       "      <th>Wall Shear Stress: Magnitude (Pa)</th>\n",
       "      <th>Report: Element Count 1</th>\n",
       "      <th>Report: Total Solver CPU Time (s)</th>\n",
       "      <th>X (m)</th>\n",
       "      <th>Y (m)</th>\n",
       "      <th>Z (m)</th>\n",
       "    </tr>\n",
       "  </thead>\n",
       "  <tbody>\n",
       "    <tr>\n",
       "      <th>0</th>\n",
       "      <td>0</td>\n",
       "      <td>0.02</td>\n",
       "      <td>-0.105754</td>\n",
       "      <td>0.031774</td>\n",
       "      <td>0.002455</td>\n",
       "      <td>0.761367</td>\n",
       "      <td>3.673675e-03</td>\n",
       "      <td>-0.138890</td>\n",
       "      <td>0.773941</td>\n",
       "      <td>0.064024</td>\n",
       "      <td>0</td>\n",
       "      <td>2777</td>\n",
       "      <td>24.532</td>\n",
       "      <td>-0.105754</td>\n",
       "      <td>0.031774</td>\n",
       "      <td>0.002455</td>\n",
       "    </tr>\n",
       "    <tr>\n",
       "      <th>1</th>\n",
       "      <td>1</td>\n",
       "      <td>0.02</td>\n",
       "      <td>-0.106013</td>\n",
       "      <td>0.024868</td>\n",
       "      <td>0.015521</td>\n",
       "      <td>0.648313</td>\n",
       "      <td>2.494714e-04</td>\n",
       "      <td>-0.251882</td>\n",
       "      <td>0.695525</td>\n",
       "      <td>0.077178</td>\n",
       "      <td>0</td>\n",
       "      <td>2777</td>\n",
       "      <td>24.532</td>\n",
       "      <td>-0.106013</td>\n",
       "      <td>0.024868</td>\n",
       "      <td>0.015521</td>\n",
       "    </tr>\n",
       "    <tr>\n",
       "      <th>2</th>\n",
       "      <td>2</td>\n",
       "      <td>0.02</td>\n",
       "      <td>-0.106014</td>\n",
       "      <td>0.027605</td>\n",
       "      <td>0.006328</td>\n",
       "      <td>0.647975</td>\n",
       "      <td>-1.013336e-04</td>\n",
       "      <td>-0.251266</td>\n",
       "      <td>0.694986</td>\n",
       "      <td>0.064024</td>\n",
       "      <td>0</td>\n",
       "      <td>2777</td>\n",
       "      <td>24.532</td>\n",
       "      <td>-0.106014</td>\n",
       "      <td>0.027605</td>\n",
       "      <td>0.006328</td>\n",
       "    </tr>\n",
       "    <tr>\n",
       "      <th>3</th>\n",
       "      <td>3</td>\n",
       "      <td>0.02</td>\n",
       "      <td>-0.106013</td>\n",
       "      <td>0.024352</td>\n",
       "      <td>0.008947</td>\n",
       "      <td>0.648059</td>\n",
       "      <td>4.421311e-05</td>\n",
       "      <td>-0.251678</td>\n",
       "      <td>0.695214</td>\n",
       "      <td>0.064024</td>\n",
       "      <td>0</td>\n",
       "      <td>2777</td>\n",
       "      <td>24.532</td>\n",
       "      <td>-0.106013</td>\n",
       "      <td>0.024352</td>\n",
       "      <td>0.008947</td>\n",
       "    </tr>\n",
       "    <tr>\n",
       "      <th>4</th>\n",
       "      <td>4</td>\n",
       "      <td>0.02</td>\n",
       "      <td>-0.106007</td>\n",
       "      <td>0.026172</td>\n",
       "      <td>0.016868</td>\n",
       "      <td>0.648702</td>\n",
       "      <td>7.440611e-04</td>\n",
       "      <td>-0.250163</td>\n",
       "      <td>0.695267</td>\n",
       "      <td>0.077178</td>\n",
       "      <td>0</td>\n",
       "      <td>2777</td>\n",
       "      <td>24.532</td>\n",
       "      <td>-0.106007</td>\n",
       "      <td>0.026172</td>\n",
       "      <td>0.016868</td>\n",
       "    </tr>\n",
       "    <tr>\n",
       "      <th>...</th>\n",
       "      <td>...</td>\n",
       "      <td>...</td>\n",
       "      <td>...</td>\n",
       "      <td>...</td>\n",
       "      <td>...</td>\n",
       "      <td>...</td>\n",
       "      <td>...</td>\n",
       "      <td>...</td>\n",
       "      <td>...</td>\n",
       "      <td>...</td>\n",
       "      <td>...</td>\n",
       "      <td>...</td>\n",
       "      <td>...</td>\n",
       "      <td>...</td>\n",
       "      <td>...</td>\n",
       "      <td>...</td>\n",
       "    </tr>\n",
       "    <tr>\n",
       "      <th>132311</th>\n",
       "      <td>18270</td>\n",
       "      <td>0.22</td>\n",
       "      <td>-0.117250</td>\n",
       "      <td>0.040575</td>\n",
       "      <td>0.014844</td>\n",
       "      <td>0.538821</td>\n",
       "      <td>1.922194e-07</td>\n",
       "      <td>-0.108071</td>\n",
       "      <td>0.549552</td>\n",
       "      <td>0.040602</td>\n",
       "      <td>0</td>\n",
       "      <td>18275</td>\n",
       "      <td>607.436</td>\n",
       "      <td>-0.117250</td>\n",
       "      <td>0.040575</td>\n",
       "      <td>0.014844</td>\n",
       "    </tr>\n",
       "    <tr>\n",
       "      <th>132312</th>\n",
       "      <td>18271</td>\n",
       "      <td>0.22</td>\n",
       "      <td>-0.117254</td>\n",
       "      <td>0.040656</td>\n",
       "      <td>0.010430</td>\n",
       "      <td>0.538780</td>\n",
       "      <td>3.806327e-09</td>\n",
       "      <td>-0.108018</td>\n",
       "      <td>0.549502</td>\n",
       "      <td>0.086906</td>\n",
       "      <td>0</td>\n",
       "      <td>18275</td>\n",
       "      <td>607.436</td>\n",
       "      <td>-0.117254</td>\n",
       "      <td>0.040656</td>\n",
       "      <td>0.010430</td>\n",
       "    </tr>\n",
       "    <tr>\n",
       "      <th>132313</th>\n",
       "      <td>18272</td>\n",
       "      <td>0.22</td>\n",
       "      <td>-0.117258</td>\n",
       "      <td>0.031591</td>\n",
       "      <td>0.021938</td>\n",
       "      <td>0.538739</td>\n",
       "      <td>-2.009805e-07</td>\n",
       "      <td>-0.107967</td>\n",
       "      <td>0.549452</td>\n",
       "      <td>0.048327</td>\n",
       "      <td>0</td>\n",
       "      <td>18275</td>\n",
       "      <td>607.436</td>\n",
       "      <td>-0.117258</td>\n",
       "      <td>0.031591</td>\n",
       "      <td>0.021938</td>\n",
       "    </tr>\n",
       "    <tr>\n",
       "      <th>132314</th>\n",
       "      <td>18273</td>\n",
       "      <td>0.22</td>\n",
       "      <td>-0.117265</td>\n",
       "      <td>0.035741</td>\n",
       "      <td>0.021986</td>\n",
       "      <td>0.538658</td>\n",
       "      <td>9.289315e-08</td>\n",
       "      <td>-0.107863</td>\n",
       "      <td>0.549351</td>\n",
       "      <td>0.040602</td>\n",
       "      <td>0</td>\n",
       "      <td>18275</td>\n",
       "      <td>607.436</td>\n",
       "      <td>-0.117265</td>\n",
       "      <td>0.035741</td>\n",
       "      <td>0.021986</td>\n",
       "    </tr>\n",
       "    <tr>\n",
       "      <th>132315</th>\n",
       "      <td>18274</td>\n",
       "      <td>0.22</td>\n",
       "      <td>-0.117269</td>\n",
       "      <td>0.025780</td>\n",
       "      <td>0.004942</td>\n",
       "      <td>0.538617</td>\n",
       "      <td>-2.137597e-08</td>\n",
       "      <td>-0.107811</td>\n",
       "      <td>0.549301</td>\n",
       "      <td>0.160566</td>\n",
       "      <td>0</td>\n",
       "      <td>18275</td>\n",
       "      <td>607.436</td>\n",
       "      <td>-0.117269</td>\n",
       "      <td>0.025780</td>\n",
       "      <td>0.004942</td>\n",
       "    </tr>\n",
       "  </tbody>\n",
       "</table>\n",
       "<p>132316 rows × 16 columns</p>\n",
       "</div>"
      ],
      "text/plain": [
       "        Unnamed: 0  Time (s)  Parcel Centroid[X] (m)  Parcel Centroid[Y] (m)  \\\n",
       "0                0      0.02               -0.105754                0.031774   \n",
       "1                1      0.02               -0.106013                0.024868   \n",
       "2                2      0.02               -0.106014                0.027605   \n",
       "3                3      0.02               -0.106013                0.024352   \n",
       "4                4      0.02               -0.106007                0.026172   \n",
       "...            ...       ...                     ...                     ...   \n",
       "132311       18270      0.22               -0.117250                0.040575   \n",
       "132312       18271      0.22               -0.117254                0.040656   \n",
       "132313       18272      0.22               -0.117258                0.031591   \n",
       "132314       18273      0.22               -0.117265                0.035741   \n",
       "132315       18274      0.22               -0.117269                0.025780   \n",
       "\n",
       "        Parcel Centroid[Z] (m)  Particle Velocity[i] (m/s)  \\\n",
       "0                     0.002455                    0.761367   \n",
       "1                     0.015521                    0.648313   \n",
       "2                     0.006328                    0.647975   \n",
       "3                     0.008947                    0.648059   \n",
       "4                     0.016868                    0.648702   \n",
       "...                        ...                         ...   \n",
       "132311                0.014844                    0.538821   \n",
       "132312                0.010430                    0.538780   \n",
       "132313                0.021938                    0.538739   \n",
       "132314                0.021986                    0.538658   \n",
       "132315                0.004942                    0.538617   \n",
       "\n",
       "        Particle Velocity[j] (m/s)  Particle Velocity[k] (m/s)  \\\n",
       "0                     3.673675e-03                   -0.138890   \n",
       "1                     2.494714e-04                   -0.251882   \n",
       "2                    -1.013336e-04                   -0.251266   \n",
       "3                     4.421311e-05                   -0.251678   \n",
       "4                     7.440611e-04                   -0.250163   \n",
       "...                            ...                         ...   \n",
       "132311                1.922194e-07                   -0.108071   \n",
       "132312                3.806327e-09                   -0.108018   \n",
       "132313               -2.009805e-07                   -0.107967   \n",
       "132314                9.289315e-08                   -0.107863   \n",
       "132315               -2.137597e-08                   -0.107811   \n",
       "\n",
       "        Particle Velocity: Magnitude (m/s)  Volume Fraction of Phase 1  \\\n",
       "0                                 0.773941                    0.064024   \n",
       "1                                 0.695525                    0.077178   \n",
       "2                                 0.694986                    0.064024   \n",
       "3                                 0.695214                    0.064024   \n",
       "4                                 0.695267                    0.077178   \n",
       "...                                    ...                         ...   \n",
       "132311                            0.549552                    0.040602   \n",
       "132312                            0.549502                    0.086906   \n",
       "132313                            0.549452                    0.048327   \n",
       "132314                            0.549351                    0.040602   \n",
       "132315                            0.549301                    0.160566   \n",
       "\n",
       "        Wall Shear Stress: Magnitude (Pa)  Report: Element Count 1  \\\n",
       "0                                       0                     2777   \n",
       "1                                       0                     2777   \n",
       "2                                       0                     2777   \n",
       "3                                       0                     2777   \n",
       "4                                       0                     2777   \n",
       "...                                   ...                      ...   \n",
       "132311                                  0                    18275   \n",
       "132312                                  0                    18275   \n",
       "132313                                  0                    18275   \n",
       "132314                                  0                    18275   \n",
       "132315                                  0                    18275   \n",
       "\n",
       "        Report: Total Solver CPU Time (s)     X (m)     Y (m)     Z (m)  \n",
       "0                                  24.532 -0.105754  0.031774  0.002455  \n",
       "1                                  24.532 -0.106013  0.024868  0.015521  \n",
       "2                                  24.532 -0.106014  0.027605  0.006328  \n",
       "3                                  24.532 -0.106013  0.024352  0.008947  \n",
       "4                                  24.532 -0.106007  0.026172  0.016868  \n",
       "...                                   ...       ...       ...       ...  \n",
       "132311                            607.436 -0.117250  0.040575  0.014844  \n",
       "132312                            607.436 -0.117254  0.040656  0.010430  \n",
       "132313                            607.436 -0.117258  0.031591  0.021938  \n",
       "132314                            607.436 -0.117265  0.035741  0.021986  \n",
       "132315                            607.436 -0.117269  0.025780  0.004942  \n",
       "\n",
       "[132316 rows x 16 columns]"
      ]
     },
     "execution_count": 5,
     "metadata": {},
     "output_type": "execute_result"
    }
   ],
   "source": [
    "\n",
    "Granular_flow_data= pd.read_csv('./Combined flow data.csv')\n",
    "Granular_flow_data"
   ]
  },
  {
   "cell_type": "markdown",
   "id": "c3273090-12f2-4388-8b8c-e0e90c794d6a",
   "metadata": {},
   "source": [
    "## Finding patterns in the data using correlation matrix"
   ]
  },
  {
   "cell_type": "code",
   "execution_count": 6,
   "id": "c386ccf1-ea75-4797-bf51-01fcf7f94009",
   "metadata": {},
   "outputs": [
    {
     "data": {
      "image/png": "[encoded data removed]",
      "text/plain": [
       "<Figure size 1250x1000 with 2 Axes>"
      ]
     },
     "metadata": {},
     "output_type": "display_data"
    }
   ],
   "source": [
    "import seaborn as sns\n",
    "\n",
    "corr_matrix =Granular_flow_data.corr()\n",
    "\n",
    "fig, ax_corr_Matrix=plt.subplots(figsize=(12.5,10))\n",
    "\n",
    "color = plt.get_cmap('YlGnBu')   # default color\n",
    "color.set_bad('lightblue')  \n",
    "\n",
    "ax =sns.heatmap(corr_matrix, \n",
    "                annot=True,\n",
    "                fmt=\".2f\",\n",
    "                cmap=color\n",
    "               )\n",
    "fig.savefig('./Correlation_matrix_for_the_data.png', dpi=1200, bbox_inches='tight')"
   ]
  },
  {
   "cell_type": "markdown",
   "id": "06c198f6-1712-4fd4-ad89-7802118f586a",
   "metadata": {},
   "source": [
    "## 2.2 Splitting the data"
   ]
  },
  {
   "cell_type": "code",
   "execution_count": 7,
   "id": "5f60ea1a-676d-484e-8f95-f9fe85272743",
   "metadata": {},
   "outputs": [],
   "source": [
    "\n",
    "X=Granular_flow_data.drop(['Parcel Centroid[X] (m)', 'Parcel Centroid[Y] (m)', 'Parcel Centroid[Z] (m)', 'X (m)',\t'Y (m)',\t'Z (m)'], axis=1)\n",
    "y= Granular_flow_data[['Parcel Centroid[X] (m)', 'Parcel Centroid[Y] (m)', 'Parcel Centroid[Z] (m)']]\n"
   ]
  },
  {
   "cell_type": "code",
   "execution_count": 8,
   "id": "7f23a498-fed8-4cbe-8dd4-97597f9bd8a4",
   "metadata": {},
   "outputs": [
    {
     "data": {
      "text/html": [
       "<div>\n",
       "<style scoped>\n",
       "    .dataframe tbody tr th:only-of-type {\n",
       "        vertical-align: middle;\n",
       "    }\n",
       "\n",
       "    .dataframe tbody tr th {\n",
       "        vertical-align: top;\n",
       "    }\n",
       "\n",
       "    .dataframe thead th {\n",
       "        text-align: right;\n",
       "    }\n",
       "</style>\n",
       "<table border=\"1\" class=\"dataframe\">\n",
       "  <thead>\n",
       "    <tr style=\"text-align: right;\">\n",
       "      <th></th>\n",
       "      <th>Unnamed: 0</th>\n",
       "      <th>Time (s)</th>\n",
       "      <th>Particle Velocity[i] (m/s)</th>\n",
       "      <th>Particle Velocity[j] (m/s)</th>\n",
       "      <th>Particle Velocity[k] (m/s)</th>\n",
       "      <th>Particle Velocity: Magnitude (m/s)</th>\n",
       "      <th>Volume Fraction of Phase 1</th>\n",
       "      <th>Wall Shear Stress: Magnitude (Pa)</th>\n",
       "      <th>Report: Element Count 1</th>\n",
       "      <th>Report: Total Solver CPU Time (s)</th>\n",
       "    </tr>\n",
       "  </thead>\n",
       "  <tbody>\n",
       "    <tr>\n",
       "      <th>0</th>\n",
       "      <td>0</td>\n",
       "      <td>0.02</td>\n",
       "      <td>0.761367</td>\n",
       "      <td>3.673675e-03</td>\n",
       "      <td>-0.138890</td>\n",
       "      <td>0.773941</td>\n",
       "      <td>0.064024</td>\n",
       "      <td>0</td>\n",
       "      <td>2777</td>\n",
       "      <td>24.532</td>\n",
       "    </tr>\n",
       "    <tr>\n",
       "      <th>1</th>\n",
       "      <td>1</td>\n",
       "      <td>0.02</td>\n",
       "      <td>0.648313</td>\n",
       "      <td>2.494714e-04</td>\n",
       "      <td>-0.251882</td>\n",
       "      <td>0.695525</td>\n",
       "      <td>0.077178</td>\n",
       "      <td>0</td>\n",
       "      <td>2777</td>\n",
       "      <td>24.532</td>\n",
       "    </tr>\n",
       "    <tr>\n",
       "      <th>2</th>\n",
       "      <td>2</td>\n",
       "      <td>0.02</td>\n",
       "      <td>0.647975</td>\n",
       "      <td>-1.013336e-04</td>\n",
       "      <td>-0.251266</td>\n",
       "      <td>0.694986</td>\n",
       "      <td>0.064024</td>\n",
       "      <td>0</td>\n",
       "      <td>2777</td>\n",
       "      <td>24.532</td>\n",
       "    </tr>\n",
       "    <tr>\n",
       "      <th>3</th>\n",
       "      <td>3</td>\n",
       "      <td>0.02</td>\n",
       "      <td>0.648059</td>\n",
       "      <td>4.421311e-05</td>\n",
       "      <td>-0.251678</td>\n",
       "      <td>0.695214</td>\n",
       "      <td>0.064024</td>\n",
       "      <td>0</td>\n",
       "      <td>2777</td>\n",
       "      <td>24.532</td>\n",
       "    </tr>\n",
       "    <tr>\n",
       "      <th>4</th>\n",
       "      <td>4</td>\n",
       "      <td>0.02</td>\n",
       "      <td>0.648702</td>\n",
       "      <td>7.440611e-04</td>\n",
       "      <td>-0.250163</td>\n",
       "      <td>0.695267</td>\n",
       "      <td>0.077178</td>\n",
       "      <td>0</td>\n",
       "      <td>2777</td>\n",
       "      <td>24.532</td>\n",
       "    </tr>\n",
       "    <tr>\n",
       "      <th>...</th>\n",
       "      <td>...</td>\n",
       "      <td>...</td>\n",
       "      <td>...</td>\n",
       "      <td>...</td>\n",
       "      <td>...</td>\n",
       "      <td>...</td>\n",
       "      <td>...</td>\n",
       "      <td>...</td>\n",
       "      <td>...</td>\n",
       "      <td>...</td>\n",
       "    </tr>\n",
       "    <tr>\n",
       "      <th>132311</th>\n",
       "      <td>18270</td>\n",
       "      <td>0.22</td>\n",
       "      <td>0.538821</td>\n",
       "      <td>1.922194e-07</td>\n",
       "      <td>-0.108071</td>\n",
       "      <td>0.549552</td>\n",
       "      <td>0.040602</td>\n",
       "      <td>0</td>\n",
       "      <td>18275</td>\n",
       "      <td>607.436</td>\n",
       "    </tr>\n",
       "    <tr>\n",
       "      <th>132312</th>\n",
       "      <td>18271</td>\n",
       "      <td>0.22</td>\n",
       "      <td>0.538780</td>\n",
       "      <td>3.806327e-09</td>\n",
       "      <td>-0.108018</td>\n",
       "      <td>0.549502</td>\n",
       "      <td>0.086906</td>\n",
       "      <td>0</td>\n",
       "      <td>18275</td>\n",
       "      <td>607.436</td>\n",
       "    </tr>\n",
       "    <tr>\n",
       "      <th>132313</th>\n",
       "      <td>18272</td>\n",
       "      <td>0.22</td>\n",
       "      <td>0.538739</td>\n",
       "      <td>-2.009805e-07</td>\n",
       "      <td>-0.107967</td>\n",
       "      <td>0.549452</td>\n",
       "      <td>0.048327</td>\n",
       "      <td>0</td>\n",
       "      <td>18275</td>\n",
       "      <td>607.436</td>\n",
       "    </tr>\n",
       "    <tr>\n",
       "      <th>132314</th>\n",
       "      <td>18273</td>\n",
       "      <td>0.22</td>\n",
       "      <td>0.538658</td>\n",
       "      <td>9.289315e-08</td>\n",
       "      <td>-0.107863</td>\n",
       "      <td>0.549351</td>\n",
       "      <td>0.040602</td>\n",
       "      <td>0</td>\n",
       "      <td>18275</td>\n",
       "      <td>607.436</td>\n",
       "    </tr>\n",
       "    <tr>\n",
       "      <th>132315</th>\n",
       "      <td>18274</td>\n",
       "      <td>0.22</td>\n",
       "      <td>0.538617</td>\n",
       "      <td>-2.137597e-08</td>\n",
       "      <td>-0.107811</td>\n",
       "      <td>0.549301</td>\n",
       "      <td>0.160566</td>\n",
       "      <td>0</td>\n",
       "      <td>18275</td>\n",
       "      <td>607.436</td>\n",
       "    </tr>\n",
       "  </tbody>\n",
       "</table>\n",
       "<p>132316 rows × 10 columns</p>\n",
       "</div>"
      ],
      "text/plain": [
       "        Unnamed: 0  Time (s)  Particle Velocity[i] (m/s)  \\\n",
       "0                0      0.02                    0.761367   \n",
       "1                1      0.02                    0.648313   \n",
       "2                2      0.02                    0.647975   \n",
       "3                3      0.02                    0.648059   \n",
       "4                4      0.02                    0.648702   \n",
       "...            ...       ...                         ...   \n",
       "132311       18270      0.22                    0.538821   \n",
       "132312       18271      0.22                    0.538780   \n",
       "132313       18272      0.22                    0.538739   \n",
       "132314       18273      0.22                    0.538658   \n",
       "132315       18274      0.22                    0.538617   \n",
       "\n",
       "        Particle Velocity[j] (m/s)  Particle Velocity[k] (m/s)  \\\n",
       "0                     3.673675e-03                   -0.138890   \n",
       "1                     2.494714e-04                   -0.251882   \n",
       "2                    -1.013336e-04                   -0.251266   \n",
       "3                     4.421311e-05                   -0.251678   \n",
       "4                     7.440611e-04                   -0.250163   \n",
       "...                            ...                         ...   \n",
       "132311                1.922194e-07                   -0.108071   \n",
       "132312                3.806327e-09                   -0.108018   \n",
       "132313               -2.009805e-07                   -0.107967   \n",
       "132314                9.289315e-08                   -0.107863   \n",
       "132315               -2.137597e-08                   -0.107811   \n",
       "\n",
       "        Particle Velocity: Magnitude (m/s)  Volume Fraction of Phase 1  \\\n",
       "0                                 0.773941                    0.064024   \n",
       "1                                 0.695525                    0.077178   \n",
       "2                                 0.694986                    0.064024   \n",
       "3                                 0.695214                    0.064024   \n",
       "4                                 0.695267                    0.077178   \n",
       "...                                    ...                         ...   \n",
       "132311                            0.549552                    0.040602   \n",
       "132312                            0.549502                    0.086906   \n",
       "132313                            0.549452                    0.048327   \n",
       "132314                            0.549351                    0.040602   \n",
       "132315                            0.549301                    0.160566   \n",
       "\n",
       "        Wall Shear Stress: Magnitude (Pa)  Report: Element Count 1  \\\n",
       "0                                       0                     2777   \n",
       "1                                       0                     2777   \n",
       "2                                       0                     2777   \n",
       "3                                       0                     2777   \n",
       "4                                       0                     2777   \n",
       "...                                   ...                      ...   \n",
       "132311                                  0                    18275   \n",
       "132312                                  0                    18275   \n",
       "132313                                  0                    18275   \n",
       "132314                                  0                    18275   \n",
       "132315                                  0                    18275   \n",
       "\n",
       "        Report: Total Solver CPU Time (s)  \n",
       "0                                  24.532  \n",
       "1                                  24.532  \n",
       "2                                  24.532  \n",
       "3                                  24.532  \n",
       "4                                  24.532  \n",
       "...                                   ...  \n",
       "132311                            607.436  \n",
       "132312                            607.436  \n",
       "132313                            607.436  \n",
       "132314                            607.436  \n",
       "132315                            607.436  \n",
       "\n",
       "[132316 rows x 10 columns]"
      ]
     },
     "execution_count": 8,
     "metadata": {},
     "output_type": "execute_result"
    }
   ],
   "source": [
    "X"
   ]
  },
  {
   "cell_type": "code",
   "execution_count": 9,
   "id": "101a9fd5-1d03-4b92-a242-fc7434704cb7",
   "metadata": {},
   "outputs": [
    {
     "data": {
      "text/html": [
       "<div>\n",
       "<style scoped>\n",
       "    .dataframe tbody tr th:only-of-type {\n",
       "        vertical-align: middle;\n",
       "    }\n",
       "\n",
       "    .dataframe tbody tr th {\n",
       "        vertical-align: top;\n",
       "    }\n",
       "\n",
       "    .dataframe thead th {\n",
       "        text-align: right;\n",
       "    }\n",
       "</style>\n",
       "<table border=\"1\" class=\"dataframe\">\n",
       "  <thead>\n",
       "    <tr style=\"text-align: right;\">\n",
       "      <th></th>\n",
       "      <th>Parcel Centroid[X] (m)</th>\n",
       "      <th>Parcel Centroid[Y] (m)</th>\n",
       "      <th>Parcel Centroid[Z] (m)</th>\n",
       "    </tr>\n",
       "  </thead>\n",
       "  <tbody>\n",
       "    <tr>\n",
       "      <th>0</th>\n",
       "      <td>-0.105754</td>\n",
       "      <td>0.031774</td>\n",
       "      <td>0.002455</td>\n",
       "    </tr>\n",
       "    <tr>\n",
       "      <th>1</th>\n",
       "      <td>-0.106013</td>\n",
       "      <td>0.024868</td>\n",
       "      <td>0.015521</td>\n",
       "    </tr>\n",
       "    <tr>\n",
       "      <th>2</th>\n",
       "      <td>-0.106014</td>\n",
       "      <td>0.027605</td>\n",
       "      <td>0.006328</td>\n",
       "    </tr>\n",
       "    <tr>\n",
       "      <th>3</th>\n",
       "      <td>-0.106013</td>\n",
       "      <td>0.024352</td>\n",
       "      <td>0.008947</td>\n",
       "    </tr>\n",
       "    <tr>\n",
       "      <th>4</th>\n",
       "      <td>-0.106007</td>\n",
       "      <td>0.026172</td>\n",
       "      <td>0.016868</td>\n",
       "    </tr>\n",
       "    <tr>\n",
       "      <th>...</th>\n",
       "      <td>...</td>\n",
       "      <td>...</td>\n",
       "      <td>...</td>\n",
       "    </tr>\n",
       "    <tr>\n",
       "      <th>132311</th>\n",
       "      <td>-0.117250</td>\n",
       "      <td>0.040575</td>\n",
       "      <td>0.014844</td>\n",
       "    </tr>\n",
       "    <tr>\n",
       "      <th>132312</th>\n",
       "      <td>-0.117254</td>\n",
       "      <td>0.040656</td>\n",
       "      <td>0.010430</td>\n",
       "    </tr>\n",
       "    <tr>\n",
       "      <th>132313</th>\n",
       "      <td>-0.117258</td>\n",
       "      <td>0.031591</td>\n",
       "      <td>0.021938</td>\n",
       "    </tr>\n",
       "    <tr>\n",
       "      <th>132314</th>\n",
       "      <td>-0.117265</td>\n",
       "      <td>0.035741</td>\n",
       "      <td>0.021986</td>\n",
       "    </tr>\n",
       "    <tr>\n",
       "      <th>132315</th>\n",
       "      <td>-0.117269</td>\n",
       "      <td>0.025780</td>\n",
       "      <td>0.004942</td>\n",
       "    </tr>\n",
       "  </tbody>\n",
       "</table>\n",
       "<p>132316 rows × 3 columns</p>\n",
       "</div>"
      ],
      "text/plain": [
       "        Parcel Centroid[X] (m)  Parcel Centroid[Y] (m)  Parcel Centroid[Z] (m)\n",
       "0                    -0.105754                0.031774                0.002455\n",
       "1                    -0.106013                0.024868                0.015521\n",
       "2                    -0.106014                0.027605                0.006328\n",
       "3                    -0.106013                0.024352                0.008947\n",
       "4                    -0.106007                0.026172                0.016868\n",
       "...                        ...                     ...                     ...\n",
       "132311               -0.117250                0.040575                0.014844\n",
       "132312               -0.117254                0.040656                0.010430\n",
       "132313               -0.117258                0.031591                0.021938\n",
       "132314               -0.117265                0.035741                0.021986\n",
       "132315               -0.117269                0.025780                0.004942\n",
       "\n",
       "[132316 rows x 3 columns]"
      ]
     },
     "execution_count": 9,
     "metadata": {},
     "output_type": "execute_result"
    }
   ],
   "source": [
    "y"
   ]
  },
  {
   "cell_type": "markdown",
   "id": "d3969a21-d07e-4e49-bf81-a17a519835aa",
   "metadata": {},
   "source": [
    "## 2.3 Checking if there is any missing value in our data\n",
    "            * If there is any non-numerical value, we perform feature encoding\n",
    "            * And/ or if there is any missing value, we perform imputation\n",
    "            * If no missing value, then we continue to building the machine Learning Model"
   ]
  },
  {
   "cell_type": "code",
   "execution_count": 10,
   "id": "ac4438d5-345c-427f-9bad-02be39c8347c",
   "metadata": {},
   "outputs": [
    {
     "data": {
      "text/plain": [
       "Unnamed: 0                            0\n",
       "Time (s)                              0\n",
       "Particle Velocity[i] (m/s)            0\n",
       "Particle Velocity[j] (m/s)            0\n",
       "Particle Velocity[k] (m/s)            0\n",
       "Particle Velocity: Magnitude (m/s)    0\n",
       "Volume Fraction of Phase 1            0\n",
       "Wall Shear Stress: Magnitude (Pa)     0\n",
       "Report: Element Count 1               0\n",
       "Report: Total Solver CPU Time (s)     0\n",
       "dtype: int64"
      ]
     },
     "execution_count": 10,
     "metadata": {},
     "output_type": "execute_result"
    }
   ],
   "source": [
    "X.isna().sum()"
   ]
  },
  {
   "cell_type": "code",
   "execution_count": 11,
   "id": "03466f28-74e8-4b0d-bf70-7eb0b698015e",
   "metadata": {},
   "outputs": [
    {
     "data": {
      "text/plain": [
       "Parcel Centroid[X] (m)    0\n",
       "Parcel Centroid[Y] (m)    0\n",
       "Parcel Centroid[Z] (m)    0\n",
       "dtype: int64"
      ]
     },
     "execution_count": 11,
     "metadata": {},
     "output_type": "execute_result"
    }
   ],
   "source": [
    "y.isna().sum()"
   ]
  },
  {
   "cell_type": "markdown",
   "id": "d4d124dc-35ad-4296-94d8-0622f682aec9",
   "metadata": {},
   "source": [
    "# 3.0 Building and Training the Machine Learning Model for our Data"
   ]
  },
  {
   "cell_type": "code",
   "execution_count": 12,
   "id": "2b87d1d0-e55e-4ae4-9102-b224f44dfeab",
   "metadata": {},
   "outputs": [
    {
     "data": {
      "text/plain": [
       "<bound method BaseEstimator.get_params of RandomForestRegressor(n_estimators=10)>"
      ]
     },
     "execution_count": 12,
     "metadata": {},
     "output_type": "execute_result"
    }
   ],
   "source": [
    "from sklearn.ensemble import RandomForestRegressor\n",
    "\n",
    "model1 =RandomForestRegressor(n_estimators=10)\n",
    "model1.get_params"
   ]
  },
  {
   "cell_type": "code",
   "execution_count": 13,
   "id": "8139a34a-3cd8-47e1-9c07-cd9806ec41b7",
   "metadata": {},
   "outputs": [
    {
     "data": {
      "text/html": [
       "<style>#sk-container-id-1 {color: black;background-color: white;}#sk-container-id-1 pre{padding: 0;}#sk-container-id-1 div.sk-toggleable {background-color: white;}#sk-container-id-1 label.sk-toggleable__label {cursor: pointer;display: block;width: 100%;margin-bottom: 0;padding: 0.3em;box-sizing: border-box;text-align: center;}#sk-container-id-1 label.sk-toggleable__label-arrow:before {content: \"▸\";float: left;margin-right: 0.25em;color: #696969;}#sk-container-id-1 label.sk-toggleable__label-arrow:hover:before {color: black;}#sk-container-id-1 div.sk-estimator:hover label.sk-toggleable__label-arrow:before {color: black;}#sk-container-id-1 div.sk-toggleable__content {max-height: 0;max-width: 0;overflow: hidden;text-align: left;background-color: #f0f8ff;}#sk-container-id-1 div.sk-toggleable__content pre {margin: 0.2em;color: black;border-radius: 0.25em;background-color: #f0f8ff;}#sk-container-id-1 input.sk-toggleable__control:checked~div.sk-toggleable__content {max-height: 200px;max-width: 100%;overflow: auto;}#sk-container-id-1 input.sk-toggleable__control:checked~label.sk-toggleable__label-arrow:before {content: \"▾\";}#sk-container-id-1 div.sk-estimator input.sk-toggleable__control:checked~label.sk-toggleable__label {background-color: #d4ebff;}#sk-container-id-1 div.sk-label input.sk-toggleable__control:checked~label.sk-toggleable__label {background-color: #d4ebff;}#sk-container-id-1 input.sk-hidden--visually {border: 0;clip: rect(1px 1px 1px 1px);clip: rect(1px, 1px, 1px, 1px);height: 1px;margin: -1px;overflow: hidden;padding: 0;position: absolute;width: 1px;}#sk-container-id-1 div.sk-estimator {font-family: monospace;background-color: #f0f8ff;border: 1px dotted black;border-radius: 0.25em;box-sizing: border-box;margin-bottom: 0.5em;}#sk-container-id-1 div.sk-estimator:hover {background-color: #d4ebff;}#sk-container-id-1 div.sk-parallel-item::after {content: \"\";width: 100%;border-bottom: 1px solid gray;flex-grow: 1;}#sk-container-id-1 div.sk-label:hover label.sk-toggleable__label {background-color: #d4ebff;}#sk-container-id-1 div.sk-serial::before {content: \"\";position: absolute;border-left: 1px solid gray;box-sizing: border-box;top: 0;bottom: 0;left: 50%;z-index: 0;}#sk-container-id-1 div.sk-serial {display: flex;flex-direction: column;align-items: center;background-color: white;padding-right: 0.2em;padding-left: 0.2em;position: relative;}#sk-container-id-1 div.sk-item {position: relative;z-index: 1;}#sk-container-id-1 div.sk-parallel {display: flex;align-items: stretch;justify-content: center;background-color: white;position: relative;}#sk-container-id-1 div.sk-item::before, #sk-container-id-1 div.sk-parallel-item::before {content: \"\";position: absolute;border-left: 1px solid gray;box-sizing: border-box;top: 0;bottom: 0;left: 50%;z-index: -1;}#sk-container-id-1 div.sk-parallel-item {display: flex;flex-direction: column;z-index: 1;position: relative;background-color: white;}#sk-container-id-1 div.sk-parallel-item:first-child::after {align-self: flex-end;width: 50%;}#sk-container-id-1 div.sk-parallel-item:last-child::after {align-self: flex-start;width: 50%;}#sk-container-id-1 div.sk-parallel-item:only-child::after {width: 0;}#sk-container-id-1 div.sk-dashed-wrapped {border: 1px dashed gray;margin: 0 0.4em 0.5em 0.4em;box-sizing: border-box;padding-bottom: 0.4em;background-color: white;}#sk-container-id-1 div.sk-label label {font-family: monospace;font-weight: bold;display: inline-block;line-height: 1.2em;}#sk-container-id-1 div.sk-label-container {text-align: center;}#sk-container-id-1 div.sk-container {/* jupyter's `normalize.less` sets `[hidden] { display: none; }` but bootstrap.min.css set `[hidden] { display: none !important; }` so we also need the `!important` here to be able to override the default hidden behavior on the sphinx rendered scikit-learn.org. See: https://github.com/scikit-learn/scikit-learn/issues/21755 */display: inline-block !important;position: relative;}#sk-container-id-1 div.sk-text-repr-fallback {display: none;}</style><div id=\"sk-container-id-1\" class=\"sk-top-container\"><div class=\"sk-text-repr-fallback\"><pre>RandomForestRegressor(n_estimators=10)</pre><b>In a Jupyter environment, please rerun this cell to show the HTML representation or trust the notebook. <br />On GitHub, the HTML representation is unable to render, please try loading this page with nbviewer.org.</b></div><div class=\"sk-container\" hidden><div class=\"sk-item\"><div class=\"sk-estimator sk-toggleable\"><input class=\"sk-toggleable__control sk-hidden--visually\" id=\"sk-estimator-id-1\" type=\"checkbox\" checked><label for=\"sk-estimator-id-1\" class=\"sk-toggleable__label sk-toggleable__label-arrow\">RandomForestRegressor</label><div class=\"sk-toggleable__content\"><pre>RandomForestRegressor(n_estimators=10)</pre></div></div></div></div></div>"
      ],
      "text/plain": [
       "RandomForestRegressor(n_estimators=10)"
      ]
     },
     "execution_count": 13,
     "metadata": {},
     "output_type": "execute_result"
    }
   ],
   "source": [
    "np.random.seed(42)\n",
    "from sklearn.model_selection import train_test_split\n",
    "\n",
    "X_train, X_test, y_train, y_test= train_test_split(X,y,\n",
    "                                                   test_size=0.2)\n",
    "\n",
    "model1.fit(X_train, y_train)"
   ]
  },
  {
   "cell_type": "markdown",
   "id": "370c23f2-6b0f-4e52-aae4-f4db42a6134a",
   "metadata": {},
   "source": [
    "## 3.1 Predicting with our model"
   ]
  },
  {
   "cell_type": "code",
   "execution_count": 14,
   "id": "81f14ae7-b9af-48ef-b0e0-b51580ac410d",
   "metadata": {},
   "outputs": [
    {
     "data": {
      "text/plain": [
       "array([[-0.07033733,  0.03015237,  0.00623679],\n",
       "       [-0.09819082,  0.0354989 ,  0.00903425],\n",
       "       [-0.10166821,  0.03635914,  0.00661332],\n",
       "       ...,\n",
       "       [-0.10083132,  0.0295711 ,  0.01283442],\n",
       "       [-0.06159568,  0.02427658,  0.00175479],\n",
       "       [-0.09550467,  0.03003019,  0.01164979]])"
      ]
     },
     "execution_count": 14,
     "metadata": {},
     "output_type": "execute_result"
    }
   ],
   "source": [
    "y_preds=model1.predict(X_test)\n",
    "\n",
    "y_preds\n"
   ]
  },
  {
   "cell_type": "code",
   "execution_count": 15,
   "id": "b239e1da-d3fa-4eb7-8315-83c2e8022814",
   "metadata": {},
   "outputs": [
    {
     "data": {
      "text/html": [
       "<div>\n",
       "<style scoped>\n",
       "    .dataframe tbody tr th:only-of-type {\n",
       "        vertical-align: middle;\n",
       "    }\n",
       "\n",
       "    .dataframe tbody tr th {\n",
       "        vertical-align: top;\n",
       "    }\n",
       "\n",
       "    .dataframe thead th {\n",
       "        text-align: right;\n",
       "    }\n",
       "</style>\n",
       "<table border=\"1\" class=\"dataframe\">\n",
       "  <thead>\n",
       "    <tr style=\"text-align: right;\">\n",
       "      <th></th>\n",
       "      <th>Parcel Centroid[X] (m)</th>\n",
       "      <th>Parcel Centroid[Y] (m)</th>\n",
       "      <th>Parcel Centroid[Z] (m)</th>\n",
       "    </tr>\n",
       "  </thead>\n",
       "  <tbody>\n",
       "    <tr>\n",
       "      <th>0</th>\n",
       "      <td>-0.070337</td>\n",
       "      <td>0.030152</td>\n",
       "      <td>0.006237</td>\n",
       "    </tr>\n",
       "    <tr>\n",
       "      <th>1</th>\n",
       "      <td>-0.098191</td>\n",
       "      <td>0.035499</td>\n",
       "      <td>0.009034</td>\n",
       "    </tr>\n",
       "    <tr>\n",
       "      <th>2</th>\n",
       "      <td>-0.101668</td>\n",
       "      <td>0.036359</td>\n",
       "      <td>0.006613</td>\n",
       "    </tr>\n",
       "    <tr>\n",
       "      <th>3</th>\n",
       "      <td>-0.099405</td>\n",
       "      <td>0.035691</td>\n",
       "      <td>0.003851</td>\n",
       "    </tr>\n",
       "    <tr>\n",
       "      <th>4</th>\n",
       "      <td>-0.078971</td>\n",
       "      <td>0.032328</td>\n",
       "      <td>0.006506</td>\n",
       "    </tr>\n",
       "    <tr>\n",
       "      <th>...</th>\n",
       "      <td>...</td>\n",
       "      <td>...</td>\n",
       "      <td>...</td>\n",
       "    </tr>\n",
       "    <tr>\n",
       "      <th>26459</th>\n",
       "      <td>-0.083500</td>\n",
       "      <td>0.035491</td>\n",
       "      <td>0.003956</td>\n",
       "    </tr>\n",
       "    <tr>\n",
       "      <th>26460</th>\n",
       "      <td>-0.052765</td>\n",
       "      <td>0.035463</td>\n",
       "      <td>0.005692</td>\n",
       "    </tr>\n",
       "    <tr>\n",
       "      <th>26461</th>\n",
       "      <td>-0.100831</td>\n",
       "      <td>0.029571</td>\n",
       "      <td>0.012834</td>\n",
       "    </tr>\n",
       "    <tr>\n",
       "      <th>26462</th>\n",
       "      <td>-0.061596</td>\n",
       "      <td>0.024277</td>\n",
       "      <td>0.001755</td>\n",
       "    </tr>\n",
       "    <tr>\n",
       "      <th>26463</th>\n",
       "      <td>-0.095505</td>\n",
       "      <td>0.030030</td>\n",
       "      <td>0.011650</td>\n",
       "    </tr>\n",
       "  </tbody>\n",
       "</table>\n",
       "<p>26464 rows × 3 columns</p>\n",
       "</div>"
      ],
      "text/plain": [
       "       Parcel Centroid[X] (m)  Parcel Centroid[Y] (m)  Parcel Centroid[Z] (m)\n",
       "0                   -0.070337                0.030152                0.006237\n",
       "1                   -0.098191                0.035499                0.009034\n",
       "2                   -0.101668                0.036359                0.006613\n",
       "3                   -0.099405                0.035691                0.003851\n",
       "4                   -0.078971                0.032328                0.006506\n",
       "...                       ...                     ...                     ...\n",
       "26459               -0.083500                0.035491                0.003956\n",
       "26460               -0.052765                0.035463                0.005692\n",
       "26461               -0.100831                0.029571                0.012834\n",
       "26462               -0.061596                0.024277                0.001755\n",
       "26463               -0.095505                0.030030                0.011650\n",
       "\n",
       "[26464 rows x 3 columns]"
      ]
     },
     "execution_count": 15,
     "metadata": {},
     "output_type": "execute_result"
    }
   ],
   "source": [
    "y_preds=pd.DataFrame(y_preds, columns=['Parcel Centroid[X] (m)',\t'Parcel Centroid[Y] (m)',\t'Parcel Centroid[Z] (m)'])\n",
    "y_preds"
   ]
  },
  {
   "cell_type": "code",
   "execution_count": 16,
   "id": "e0f81926-7e76-472c-92af-13d97433f44e",
   "metadata": {},
   "outputs": [
    {
     "data": {
      "text/html": [
       "<div>\n",
       "<style scoped>\n",
       "    .dataframe tbody tr th:only-of-type {\n",
       "        vertical-align: middle;\n",
       "    }\n",
       "\n",
       "    .dataframe tbody tr th {\n",
       "        vertical-align: top;\n",
       "    }\n",
       "\n",
       "    .dataframe thead th {\n",
       "        text-align: right;\n",
       "    }\n",
       "</style>\n",
       "<table border=\"1\" class=\"dataframe\">\n",
       "  <thead>\n",
       "    <tr style=\"text-align: right;\">\n",
       "      <th></th>\n",
       "      <th>Parcel Centroid[X] (m)</th>\n",
       "      <th>Parcel Centroid[Y] (m)</th>\n",
       "      <th>Parcel Centroid[Z] (m)</th>\n",
       "    </tr>\n",
       "  </thead>\n",
       "  <tbody>\n",
       "    <tr>\n",
       "      <th>86244</th>\n",
       "      <td>-0.071601</td>\n",
       "      <td>0.029988</td>\n",
       "      <td>0.005125</td>\n",
       "    </tr>\n",
       "    <tr>\n",
       "      <th>76220</th>\n",
       "      <td>-0.100030</td>\n",
       "      <td>0.036615</td>\n",
       "      <td>0.007536</td>\n",
       "    </tr>\n",
       "    <tr>\n",
       "      <th>23934</th>\n",
       "      <td>-0.102130</td>\n",
       "      <td>0.037137</td>\n",
       "      <td>0.006242</td>\n",
       "    </tr>\n",
       "    <tr>\n",
       "      <th>91842</th>\n",
       "      <td>-0.099844</td>\n",
       "      <td>0.031683</td>\n",
       "      <td>0.003446</td>\n",
       "    </tr>\n",
       "    <tr>\n",
       "      <th>30939</th>\n",
       "      <td>-0.080180</td>\n",
       "      <td>0.032091</td>\n",
       "      <td>0.006331</td>\n",
       "    </tr>\n",
       "    <tr>\n",
       "      <th>...</th>\n",
       "      <td>...</td>\n",
       "      <td>...</td>\n",
       "      <td>...</td>\n",
       "    </tr>\n",
       "    <tr>\n",
       "      <th>123424</th>\n",
       "      <td>-0.082554</td>\n",
       "      <td>0.039152</td>\n",
       "      <td>0.005637</td>\n",
       "    </tr>\n",
       "    <tr>\n",
       "      <th>100623</th>\n",
       "      <td>-0.052231</td>\n",
       "      <td>0.034208</td>\n",
       "      <td>0.005803</td>\n",
       "    </tr>\n",
       "    <tr>\n",
       "      <th>92603</th>\n",
       "      <td>-0.100923</td>\n",
       "      <td>0.033062</td>\n",
       "      <td>0.010606</td>\n",
       "    </tr>\n",
       "    <tr>\n",
       "      <th>99994</th>\n",
       "      <td>-0.056339</td>\n",
       "      <td>0.022383</td>\n",
       "      <td>0.003182</td>\n",
       "    </tr>\n",
       "    <tr>\n",
       "      <th>34119</th>\n",
       "      <td>-0.095481</td>\n",
       "      <td>0.033089</td>\n",
       "      <td>0.011253</td>\n",
       "    </tr>\n",
       "  </tbody>\n",
       "</table>\n",
       "<p>26464 rows × 3 columns</p>\n",
       "</div>"
      ],
      "text/plain": [
       "        Parcel Centroid[X] (m)  Parcel Centroid[Y] (m)  Parcel Centroid[Z] (m)\n",
       "86244                -0.071601                0.029988                0.005125\n",
       "76220                -0.100030                0.036615                0.007536\n",
       "23934                -0.102130                0.037137                0.006242\n",
       "91842                -0.099844                0.031683                0.003446\n",
       "30939                -0.080180                0.032091                0.006331\n",
       "...                        ...                     ...                     ...\n",
       "123424               -0.082554                0.039152                0.005637\n",
       "100623               -0.052231                0.034208                0.005803\n",
       "92603                -0.100923                0.033062                0.010606\n",
       "99994                -0.056339                0.022383                0.003182\n",
       "34119                -0.095481                0.033089                0.011253\n",
       "\n",
       "[26464 rows x 3 columns]"
      ]
     },
     "execution_count": 16,
     "metadata": {},
     "output_type": "execute_result"
    }
   ],
   "source": [
    "y_test"
   ]
  },
  {
   "cell_type": "markdown",
   "id": "7d02d00b-d740-43b7-add7-a74c474197d3",
   "metadata": {},
   "source": [
    "## 3.2 Scoring our model"
   ]
  },
  {
   "cell_type": "code",
   "execution_count": 17,
   "id": "4fa10599-4e93-4463-a8aa-1bc4bbbcdaf8",
   "metadata": {},
   "outputs": [
    {
     "data": {
      "text/plain": [
       "0.9772600438344501"
      ]
     },
     "execution_count": 17,
     "metadata": {},
     "output_type": "execute_result"
    }
   ],
   "source": [
    "model1.score(X_train, y_train)"
   ]
  },
  {
   "cell_type": "code",
   "execution_count": 20,
   "id": "43289846-de41-4ce1-84fb-6201221bbe69",
   "metadata": {},
   "outputs": [
    {
     "ename": "ImportError",
     "evalue": "cannot import name 'root_mean_squared_error' from 'sklearn.metrics' (C:\\ProgramData\\anaconda3\\lib\\site-packages\\sklearn\\metrics\\__init__.py)",
     "output_type": "error",
     "traceback": [
      "\u001b[1;31m---------------------------------------------------------------------------\u001b[0m",
      "\u001b[1;31mImportError\u001b[0m                               Traceback (most recent call last)",
      "Cell \u001b[1;32mIn[20], line 1\u001b[0m\n\u001b[1;32m----> 1\u001b[0m \u001b[38;5;28;01mfrom\u001b[39;00m \u001b[38;5;21;01msklearn\u001b[39;00m\u001b[38;5;21;01m.\u001b[39;00m\u001b[38;5;21;01mmetrics\u001b[39;00m \u001b[38;5;28;01mimport\u001b[39;00m r2_score, mean_squared_error, mean_absolute_error, root_mean_squared_error\n\u001b[0;32m      3\u001b[0m metrics \u001b[38;5;241m=\u001b[39m{\u001b[38;5;124m\"\u001b[39m\u001b[38;5;124mr-squared\u001b[39m\u001b[38;5;124m\"\u001b[39m: r2_score, \n\u001b[0;32m      4\u001b[0m           \u001b[38;5;124m\"\u001b[39m\u001b[38;5;124mMean absolute error (MAE)\u001b[39m\u001b[38;5;124m\"\u001b[39m: mean_absolute_error, \n\u001b[0;32m      5\u001b[0m           \u001b[38;5;124m\"\u001b[39m\u001b[38;5;124mMean squared error(MSE)\u001b[39m\u001b[38;5;124m\"\u001b[39m:mean_squared_error, \n\u001b[0;32m      6\u001b[0m           \u001b[38;5;124m\"\u001b[39m\u001b[38;5;124mRoot mean Squared error(RMSE)\u001b[39m\u001b[38;5;124m\"\u001b[39m: root_mean_squared_error\n\u001b[0;32m      7\u001b[0m          }\n\u001b[0;32m      8\u001b[0m model1_scores\u001b[38;5;241m=\u001b[39m{}\n",
      "\u001b[1;31mImportError\u001b[0m: cannot import name 'root_mean_squared_error' from 'sklearn.metrics' (C:\\ProgramData\\anaconda3\\lib\\site-packages\\sklearn\\metrics\\__init__.py)"
     ]
    }
   ],
   "source": [
    "from sklearn.metrics import r2_score, mean_squared_error, mean_absolute_error, root_mean_squared_error\n",
    "\n",
    "metrics ={\"r-squared\": r2_score, \n",
    "          \"Mean absolute error (MAE)\": mean_absolute_error, \n",
    "          \"Mean squared error(MSE)\":mean_squared_error, \n",
    "          \"Root mean Squared error(RMSE)\": root_mean_squared_error\n",
    "         }\n",
    "model1_scores={}\n",
    "\n",
    "for key,value in metrics.items():\n",
    "    model1_scores[key]=value(y_test, y_preds)\n",
    "\n",
    "    \n",
    "model1_scores"
   ]
  },
  {
   "cell_type": "markdown",
   "id": "dd412002-e681-4a45-b8c4-e66380881108",
   "metadata": {},
   "source": [
    "# 4.0 Plotting the Data\n",
    "Plotting at the first time-index of the test data This is equivalent to the zeroth index\n",
    "We can do the same for other indexes"
   ]
  },
  {
   "cell_type": "code",
   "execution_count": null,
   "id": "449f0a0c-2f6d-4b6b-a48a-7292be95223b",
   "metadata": {},
   "outputs": [],
   "source": [
    "actual_Xi = y_test.iloc[:, :1]\n",
    "actual_Xj=y_test.iloc[:, :2].drop('Parcel Centroid[X] (m)', axis =1)\n",
    "\n",
    "predicted_Xi = y_preds.iloc[:, :1]\n",
    "predicted_Xj = y_preds.iloc[:, :2].drop('Parcel Centroid[X] (m)', axis =1)\n"
   ]
  },
  {
   "cell_type": "markdown",
   "id": "345aa1ef-44be-44f7-b6a1-edcd339a4eea",
   "metadata": {},
   "source": [
    "## 4.2 Separate plots of the Actual Granules Position and the Predicted Granules Position"
   ]
  },
  {
   "cell_type": "code",
   "execution_count": null,
   "id": "2c155a44-24e9-48d9-8a44-ed2dbbf49a5a",
   "metadata": {},
   "outputs": [],
   "source": [
    "#Plotting the actual and Predicted positions \n",
    "# Plot the actual and predicted positions\n",
    "#plt.scatter(actual_Xi, actual_Xj, color='blue', label='Actual')\n",
    "\n",
    "fig, (ax1, ax2) = plt.subplots(2,1, figsize=(5,5))\n",
    "\n",
    "ax1.scatter(actual_Xi, actual_Xj)\n",
    "ax2.scatter(predicted_Xi, predicted_Xj, color='red')\n",
    "\n",
    "ax1.set(title=\"Plot of actual Test data (y_test)\", \n",
    "              xlabel='i (m)',\n",
    "              ylabel='j (m)'\n",
    "             )\n",
    "fig.tight_layout(pad=5)\n",
    "\n",
    "ax2.set(title= \"Plot of the Predicted data (y_preds)\", \n",
    "        xlabel= 'i (m)',\n",
    "        ylabel='j (m)'\n",
    "       )\n",
    "\n",
    "plt.savefig(\"./Separate plots of Actual and Predicted granules Position.png\",  dpi=1200)"
   ]
  },
  {
   "cell_type": "markdown",
   "id": "c481f141-b603-4932-8aae-aafa76ed84f2",
   "metadata": {},
   "source": [
    "## 4.3 Plotting the Actual Granules Position against the Predicted Granules Position"
   ]
  },
  {
   "cell_type": "code",
   "execution_count": null,
   "id": "c21ceb3d-378c-4058-af69-a716c8e0347c",
   "metadata": {},
   "outputs": [],
   "source": [
    "fig, ax3 =plt.subplots(1,1,figsize=(5,5))\n",
    "\n",
    "ax3.scatter(actual_Xi, actual_Xj, color ='blue')\n",
    "\n",
    "ax3.scatter(predicted_Xi, predicted_Xj, color='red')\n",
    "\n",
    "ax3.set(title=\"Actual Granules Position against the Predicted Granules Position\",\n",
    "      xlabel=\"i (m)\",\n",
    "      ylabel=\"j (m)\")\n",
    "\n",
    "plt.savefig('./Actual vs Predicted.png')"
   ]
  },
  {
   "cell_type": "code",
   "execution_count": null,
   "id": "d9d446fb-d1c3-4420-bf99-311e5a00efc4",
   "metadata": {},
   "outputs": [],
   "source": [
    "## 4.3 Plot of the Actual against the Predicted Granules position of the first 500 granules "
   ]
  },
  {
   "cell_type": "code",
   "execution_count": null,
   "id": "ae517dd9-f5a4-4c3b-92cd-6e2fad4ca13d",
   "metadata": {},
   "outputs": [],
   "source": [
    "fig, ax4 =plt.subplots(1,1,figsize=(5,5))\n",
    "plt.scatter(actual_Xi[:500], actual_Xj[:500], color ='blue')\n",
    "plt.scatter(predicted_Xi[:500], predicted_Xj[:500], color='red')\n",
    "\n",
    "ax4.set(title=\"Actual Granules Position against the Predicted Granules Position\",\n",
    "      xlabel=\"i (m)\",\n",
    "      ylabel=\"j (m)\")\n",
    "\n",
    "plt.savefig('./Actual vs Predicted.png',  dpi=1200)"
   ]
  },
  {
   "cell_type": "markdown",
   "id": "782c7cb5-9750-4464-b1b3-f7897ab2340a",
   "metadata": {},
   "source": [
    "# 5.0 Using Linear Regression Model"
   ]
  },
  {
   "cell_type": "code",
   "execution_count": null,
   "id": "21b32d90-6207-428b-9af6-fdaf0166b913",
   "metadata": {},
   "outputs": [],
   "source": [
    "from sklearn.linear_model import LinearRegression\n",
    "\n",
    "model2=LinearRegression()\n",
    "\n",
    "model2.get_params\n",
    "model2.fit(X_train, y_train)\n"
   ]
  },
  {
   "cell_type": "markdown",
   "id": "5324cfb3-2d22-44bc-9968-5fc46c899f42",
   "metadata": {},
   "source": [
    "## 5.1 Making Prediction"
   ]
  },
  {
   "cell_type": "code",
   "execution_count": null,
   "id": "7b0eb2c1-2b13-47a5-b740-60ad3daebe55",
   "metadata": {},
   "outputs": [],
   "source": [
    "yLinear_Preds=model2.predict(X_test)\n",
    "yLinear_Preds"
   ]
  },
  {
   "cell_type": "code",
   "execution_count": null,
   "id": "339bc666-d8f7-4086-a912-529a848bdcb1",
   "metadata": {},
   "outputs": [],
   "source": [
    "yLinear_Preds=pd.DataFrame(yLinear_Preds, columns=['Parcel Centroid[X] (m)', 'Parcel Centroid[Y] (m)', 'Parcel Centroid[Z] (m)'])\n",
    "yLinear_Preds"
   ]
  },
  {
   "cell_type": "code",
   "execution_count": null,
   "id": "c4242c11-beba-4edc-9f15-68276dfa50c3",
   "metadata": {},
   "outputs": [],
   "source": [
    " y_test"
   ]
  },
  {
   "cell_type": "markdown",
   "id": "d4ae8bd8-a981-4c3a-b88e-8f7339783516",
   "metadata": {},
   "source": [
    "## 5.2 Scoring the Linear Regression based model"
   ]
  },
  {
   "cell_type": "code",
   "execution_count": null,
   "id": "85143a79-bc9b-41d2-9721-e8f73c08f0b8",
   "metadata": {},
   "outputs": [],
   "source": [
    "model2.score(X_train, y_train)"
   ]
  },
  {
   "cell_type": "code",
   "execution_count": null,
   "id": "60ee154f-5038-487e-8bf8-75e33f387fde",
   "metadata": {},
   "outputs": [],
   "source": [
    "model2.score(X_test, y_test)"
   ]
  },
  {
   "cell_type": "markdown",
   "id": "bb0a0f3a-78b7-43fb-9f3a-a7c171dd7f58",
   "metadata": {},
   "source": [
    "## 5.3 Plots of the Actual vs  Predicted Granule Position Using the Linear Regression Model"
   ]
  },
  {
   "cell_type": "code",
   "execution_count": null,
   "id": "ca8e509d-37b4-4ddd-8ce0-4adcd693f93e",
   "metadata": {},
   "outputs": [],
   "source": [
    "LR_Pred_Xi=yLinear_Preds.iloc[:,:1]\n",
    "LR_Pred_Xj=yLinear_Preds.iloc[:, :2].drop('Parcel Centroid[X] (m)', axis =1)"
   ]
  },
  {
   "cell_type": "code",
   "execution_count": null,
   "id": "7d94cd4d-ba44-4f99-bb2f-2963f8ef92ce",
   "metadata": {},
   "outputs": [],
   "source": [
    "fig, ax5= plt.subplots(figsize=(5,5))\n",
    "\n",
    "ax5.scatter(actual_Xi, actual_Xj, color='blue')\n",
    "ax5.scatter(LR_Pred_Xi, LR_Pred_Xj, color='red')\n",
    "\n",
    "plt.savefig('./LinearRegression_model.png',  dpi=1200)"
   ]
  },
  {
   "cell_type": "markdown",
   "id": "26a24ac2-c31a-4c9a-919a-59fe4a33fdec",
   "metadata": {},
   "source": [
    "# 6.0 Using Ridge Regression"
   ]
  },
  {
   "cell_type": "code",
   "execution_count": null,
   "id": "ac4240cb-087c-4799-a993-524580bc9ecc",
   "metadata": {},
   "outputs": [],
   "source": [
    "from sklearn.linear_model import Ridge\n",
    "\n",
    "model3= Ridge()\n",
    "\n",
    "model3.get_params\n",
    "\n",
    "model3.fit(X_train, y_train)"
   ]
  },
  {
   "cell_type": "code",
   "execution_count": null,
   "id": "8ae9d071-9e3e-4f44-940d-ccfcfd0908d1",
   "metadata": {},
   "outputs": [],
   "source": [
    "yRidge_preds=model3.predict(X_test)\n",
    "yRidge_preds"
   ]
  },
  {
   "cell_type": "code",
   "execution_count": null,
   "id": "e29f4d76-d415-4c9e-977a-3c94b2fd2111",
   "metadata": {},
   "outputs": [],
   "source": [
    "yRidge_preds=pd.DataFrame(yRidge_preds, columns=['Parcel Centroid[X] (m)', 'Parcel Centroid[Y] (m)', 'Parcel Centroid[Z] (m)'])\n",
    "yRidge_preds"
   ]
  },
  {
   "cell_type": "code",
   "execution_count": null,
   "id": "933bc617-0af8-4cea-a1e1-3d4e91b83c24",
   "metadata": {},
   "outputs": [],
   "source": [
    "y_test"
   ]
  },
  {
   "cell_type": "code",
   "execution_count": null,
   "id": "dc74458d-dcce-419f-93f6-b93cf950d02a",
   "metadata": {},
   "outputs": [],
   "source": [
    "model3.score(X_train, y_train)"
   ]
  },
  {
   "cell_type": "code",
   "execution_count": null,
   "id": "d13b8827-9bcd-49e6-8c12-4a629f9b1eb5",
   "metadata": {},
   "outputs": [],
   "source": [
    "model3.score(X_test, y_test)"
   ]
  },
  {
   "cell_type": "markdown",
   "id": "5f26f07c-300d-45ca-b26c-2cff912592a8",
   "metadata": {},
   "source": [
    "## 6.3 Plotting the graph of Actual against Predicted for the Ridge regression Model"
   ]
  },
  {
   "cell_type": "code",
   "execution_count": null,
   "id": "8ae32248-db12-464e-8ff9-eb03f1019188",
   "metadata": {},
   "outputs": [],
   "source": [
    "RR_preds_Xi= yRidge_preds.iloc[:,:1]\n",
    "RR_preds_Xj= yRidge_preds.iloc[:, :2].drop('Parcel Centroid[X] (m)', axis =1)\n"
   ]
  },
  {
   "cell_type": "code",
   "execution_count": null,
   "id": "559a3846-d876-469b-94f4-2c4087da2269",
   "metadata": {},
   "outputs": [],
   "source": [
    "fig, ax6= plt.subplots(figsize=(5,5))\n",
    "\n",
    "ax6.scatter(actual_Xi, actual_Xj, color='blue')\n",
    "ax6.scatter(RR_preds_Xi, RR_preds_Xj, color='red')\n",
    "\n",
    "plt.savefig('./Ridge Model plot.png',  dpi=1200)"
   ]
  },
  {
   "cell_type": "markdown",
   "id": "6e2abbda-5be7-44a0-bc80-0e9b780dec69",
   "metadata": {},
   "source": [
    "# 7 Using SVR"
   ]
  },
  {
   "cell_type": "code",
   "execution_count": null,
   "id": "33666f62-f18c-4ead-a842-9525ac8e28e0",
   "metadata": {},
   "outputs": [],
   "source": [
    "from sklearn.svm import SVR\n",
    "\n",
    "model4= SVR(kernel=\"poly\", C=100, gamma=\"auto\", degree=3, epsilon=0.1, coef0=1)\n",
    "\n",
    "model4.get_params\n",
    "\n",
    "model4.fit(X_train, y_train.iloc[:, 0]) # can not capture the 2D array of y, it can predict for 1D"
   ]
  },
  {
   "cell_type": "code",
   "execution_count": null,
   "id": "8009edaa-95fb-4304-9da2-e69324804cff",
   "metadata": {},
   "outputs": [],
   "source": [
    "y_train.iloc[:, 0]"
   ]
  },
  {
   "cell_type": "code",
   "execution_count": null,
   "id": "d41cb196-264c-42f4-9144-ba7c273e5894",
   "metadata": {},
   "outputs": [],
   "source": [
    "y_train.iloc[:, 0].shape"
   ]
  },
  {
   "cell_type": "code",
   "execution_count": null,
   "id": "dbe57fc2-941b-4551-9896-766ceb1c02d0",
   "metadata": {},
   "outputs": [],
   "source": [
    "y_train.shape"
   ]
  },
  {
   "cell_type": "code",
   "execution_count": null,
   "id": "07a2eac2-8f94-423a-a307-ca7e457c8e58",
   "metadata": {},
   "outputs": [],
   "source": [
    "model4.score(X_test, y_test.iloc[:,:1])"
   ]
  },
  {
   "cell_type": "code",
   "execution_count": null,
   "id": "a92e22f0-c136-49f6-8900-f63d66c21a28",
   "metadata": {},
   "outputs": [],
   "source": [
    "pd.DataFrame(model4.predict(X_test))"
   ]
  },
  {
   "cell_type": "code",
   "execution_count": null,
   "id": "43ad2551-f653-4b6a-9e91-c425b1d0149d",
   "metadata": {},
   "outputs": [],
   "source": [
    "y_test.iloc[:,0]"
   ]
  },
  {
   "cell_type": "markdown",
   "id": "8e9886ad-a5f6-40ef-8bff-1911b95ae145",
   "metadata": {},
   "source": [
    "# 8.0 Comparing all the Regression Models"
   ]
  },
  {
   "cell_type": "code",
   "execution_count": null,
   "id": "d7d1aa6a-80a6-4339-bba6-21f1f6ef8abe",
   "metadata": {},
   "outputs": [],
   "source": [
    "fig, (ax3, ax5, ax6) =plt.subplots(1,3,figsize=(15,5))\n",
    "\n",
    "\n",
    "l1=ax3.scatter(actual_Xi, actual_Xj, color ='blue')\n",
    "l2=ax3.scatter(predicted_Xi, predicted_Xj, color='red')\n",
    "ax3.set(title='RandomForestRegressor')\n",
    "\n",
    "ax5.scatter(actual_Xi, actual_Xj, color='blue')\n",
    "ax5.scatter(LR_Pred_Xi, LR_Pred_Xj, color='red')\n",
    "ax5.set(title='LinearRegressor')\n",
    "\n",
    "ax6.scatter(actual_Xi, actual_Xj, color='blue')\n",
    "ax6.scatter(RR_preds_Xi, RR_preds_Xj, color='red')\n",
    "ax6.set(title='RidgeRegressor')\n",
    "\n",
    "fig.tight_layout(pad=5.0)\n",
    "fig.legend(['Actual Granule Position', 'Predicted Granule Position'], loc='lower center')\n",
    "fig.suptitle('Comparison of the Different Machine Learning Model Regression Builds', fontsize=20)\n",
    "plt.savefig('./Comparison of the Different Machine Learning Model Regression Builds.png', dpi=1200)"
   ]
  },
  {
   "cell_type": "markdown",
   "id": "70a30501-aba9-468c-a7f9-c7a543bfbe72",
   "metadata": {},
   "source": [
    "# RandomSearchCV"
   ]
  },
  {
   "cell_type": "code",
   "execution_count": null,
   "id": "d23ca926-47cb-4991-a8ac-e18733e9c303",
   "metadata": {},
   "outputs": [],
   "source": [
    "%%time\n",
    "\n",
    "from sklearn.model_selection import RandomizedSearchCV\n",
    "\n",
    "RndmFrst_grid={\"n_estimators\": np.arange(10,100,10),\n",
    "               \"max_depth\":[None,3,5,10]\n",
    "              }\n",
    "\n",
    "RndmSrch_RndmFrst=RandomizedSearchCV(RandomForestRegressor(),\n",
    "                              param_distributions= RndmFrst_grid,\n",
    "                              cv=5,\n",
    "                                    n_iter=20,\n",
    "                              verbose= 10\n",
    "                             )\n",
    "RndmSrch_RndmFrst.fit(X_train, y_train)"
   ]
  },
  {
   "cell_type": "code",
   "execution_count": null,
   "id": "3a8255be-119f-46a0-a75f-c82481d73a1f",
   "metadata": {},
   "outputs": [],
   "source": [
    "%%time\n",
    "\n",
    "RndmSrch_RndmFrst.score(X_test,y_test)"
   ]
  },
  {
   "cell_type": "code",
   "execution_count": null,
   "id": "00171382-3039-47fa-9a57-f0ce6daf8d48",
   "metadata": {},
   "outputs": [],
   "source": [
    "RndmSrch_RndmFrst.best_params_"
   ]
  },
  {
   "cell_type": "markdown",
   "id": "b21c8093",
   "metadata": {},
   "source": [
    "## Making Use of the RandomizedSearchCV RandomForest Best_params for predicting our data"
   ]
  },
  {
   "cell_type": "code",
   "execution_count": null,
   "id": "55a4bb64",
   "metadata": {},
   "outputs": [],
   "source": [
    "improved_model1=RandomForestRegressor(90,max_depth=None)\n",
    "improved_model1\n",
    "\n",
    "improved_model1.fit(X_train,y_train)"
   ]
  },
  {
   "cell_type": "code",
   "execution_count": null,
   "id": "1098c652",
   "metadata": {},
   "outputs": [],
   "source": [
    "improvedModel_yPreds=improved_model1.predict(X_test)\n",
    "improvedModel_yPreds"
   ]
  },
  {
   "cell_type": "markdown",
   "id": "3e1703bb-4bc4-45f8-a3c6-2096190371d3",
   "metadata": {},
   "source": [
    "# Evaluating the tuned model"
   ]
  },
  {
   "cell_type": "markdown",
   "id": "d3b49867-38e3-4141-bb7d-1ba22ece8ca2",
   "metadata": {},
   "source": [
    " *The problem in question is that of regression and not classification, so we need to use the Regression metrics.\n",
    "    https://scikit-learn.org/stable/modules/model_evaluation.html\n",
    "    * The metrics used in this study are:\n",
    "            > R-squared score (r-squared)\n",
    "            > Mean absolute error (MAE)\n",
    "            > Mean squared error (MSE)\n",
    "            > Root mean squared error (RMSE)\n",
    "            > Max error\n",
    "            "
   ]
  },
  {
   "cell_type": "code",
   "execution_count": null,
   "id": "beb77ee8",
   "metadata": {},
   "outputs": [],
   "source": [
    "from sklearn.metrics import r2_score, mean_squared_error, mean_absolute_error, root_mean_squared_error\n",
    "\n",
    "metrics ={\"r-squared\": r2_score, \n",
    "          \"Mean absolute error (MAE)\": mean_absolute_error, \n",
    "          \"Mean squared error(MSE)\":mean_squared_error, \n",
    "          \"Root mean Squared error(RMSE)\": root_mean_squared_error\n",
    "         }\n",
    "\n",
    "Improved_model1_scores={}\n",
    "\n",
    "for key,value in metrics.items():\n",
    "   Improved_model1_scores[key]= value(y_test, improvedModel_yPreds).astype(\"float\")\n",
    "\n",
    "Improved_model1_scores"
   ]
  },
  {
   "cell_type": "markdown",
   "id": "01406cbd-b9da-4f95-8d0d-6532eec0f46f",
   "metadata": {},
   "source": [
    "# Comparing these values with the values obtained before Tuning the Machine learning model"
   ]
  },
  {
   "cell_type": "markdown",
   "id": "a6928668-5649-400f-9373-34b1fad1c55d",
   "metadata": {},
   "source": [
    "Recalling the score values of both models"
   ]
  },
  {
   "cell_type": "code",
   "execution_count": 2,
   "id": "36424f71",
   "metadata": {},
   "outputs": [
    {
     "ename": "NameError",
     "evalue": "name 'model1_scores' is not defined",
     "output_type": "error",
     "traceback": [
      "\u001b[1;31m---------------------------------------------------------------------------\u001b[0m",
      "\u001b[1;31mNameError\u001b[0m                                 Traceback (most recent call last)",
      "Cell \u001b[1;32mIn[2], line 1\u001b[0m\n\u001b[1;32m----> 1\u001b[0m model1_scores\n",
      "\u001b[1;31mNameError\u001b[0m: name 'model1_scores' is not defined"
     ]
    }
   ],
   "source": [
    "model1_scores"
   ]
  },
  {
   "cell_type": "code",
   "execution_count": null,
   "id": "53481e10-ce5a-466a-bc19-0cf9d41f521b",
   "metadata": {},
   "outputs": [],
   "source": [
    "Improved_model1_scores"
   ]
  },
  {
   "cell_type": "markdown",
   "id": "45c420f6-2c70-412a-aaaa-34b15dea4b3f",
   "metadata": {},
   "source": [
    "## Finding the Difference"
   ]
  },
  {
   "cell_type": "code",
   "execution_count": 1,
   "id": "2fcce542-738b-48e9-be41-1421bf15844e",
   "metadata": {},
   "outputs": [
    {
     "ename": "NameError",
     "evalue": "name 'np' is not defined",
     "output_type": "error",
     "traceback": [
      "\u001b[1;31m---------------------------------------------------------------------------\u001b[0m",
      "\u001b[1;31mNameError\u001b[0m                                 Traceback (most recent call last)",
      "Cell \u001b[1;32mIn[1], line 1\u001b[0m\n\u001b[1;32m----> 1\u001b[0m score_differences\u001b[38;5;241m=\u001b[39m(np\u001b[38;5;241m.\u001b[39marray(\u001b[38;5;28mlist\u001b[39m(Improved_model1_scores\u001b[38;5;241m.\u001b[39mvalues()))\u001b[38;5;241m-\u001b[39mnp\u001b[38;5;241m.\u001b[39marray(\u001b[38;5;28mlist\u001b[39m(model1_scores\u001b[38;5;241m.\u001b[39mvalues())))\n\u001b[0;32m      2\u001b[0m score_differences\n",
      "\u001b[1;31mNameError\u001b[0m: name 'np' is not defined"
     ]
    }
   ],
   "source": [
    "score_differences=(np.array(list(Improved_model1_scores.values()))-np.array(list(model1_scores.values())))\n",
    "score_differences"
   ]
  },
  {
   "cell_type": "markdown",
   "id": "715e62bf-4ff5-473a-8296-aa9db794669f",
   "metadata": {},
   "source": [
    "## Showing the difference in a table"
   ]
  },
  {
   "cell_type": "code",
   "execution_count": null,
   "id": "5c8dfb55-7107-4266-865a-5c4f26902322",
   "metadata": {},
   "outputs": [],
   "source": [
    "pd.DataFrame([score_differences] ,columns=[['R-squared diff','Mean absolute error (MAE) diff' ,'Mean squared error(MSE) diff','Root mean Squared error(RMSE) diff']])"
   ]
  },
  {
   "cell_type": "markdown",
   "id": "ee34a318-1449-4e18-b1fb-7d0f85565c6d",
   "metadata": {},
   "source": [
    "# Performing Feature Importance"
   ]
  },
  {
   "cell_type": "code",
   "execution_count": null,
   "id": "97f639f6-eb01-438d-909f-1ecc9e45575a",
   "metadata": {},
   "outputs": [],
   "source": [
    "feature_importance = improved_model1.feature_importances_\n",
    "feature_importances= feature_importance[:20]"
   ]
  },
  {
   "cell_type": "code",
   "execution_count": null,
   "id": "61d25f07-465d-4705-a3df-f3fa9dac9ac7",
   "metadata": {},
   "outputs": [],
   "source": [
    "plt.barh( X_train.columns, feature_importances)\n",
    "plt.savefig('./Graph Showing Feature Importance.pdf', dpi=1200, format= 'pdf')"
   ]
  },
  {
   "cell_type": "markdown",
   "id": "fdc18014-8e5b-41af-9746-e0488a35e14f",
   "metadata": {},
   "source": [
    "# Predicting the Velocity"
   ]
  },
  {
   "cell_type": "code",
   "execution_count": null,
   "id": "22e10fff-4aca-4037-9c66-9ff6de70caee",
   "metadata": {},
   "outputs": [],
   "source": [
    "U=Granular_flow_data.drop([\"Parcel Centroid[X] (m)\", \"Parcel Centroid[Y] (m)\", \"Parcel Centroid[Z] (m)\", \"Particle Velocity[i] (m/s)\", \"Particle Velocity[j] (m/s)\", \"Particle Velocity[k] (m/s)\", \"Particle Velocity: Magnitude (m/s)\"], axis=1)\n",
    "U"
   ]
  },
  {
   "cell_type": "code",
   "execution_count": null,
   "id": "de416768-8f2f-433b-84a4-a5d6e8c02979",
   "metadata": {},
   "outputs": [],
   "source": [
    "U[\"Wall Shear Stress: Magnitude (Pa)\"].describe()"
   ]
  },
  {
   "cell_type": "code",
   "execution_count": null,
   "id": "e7f7bae1-0492-4692-9c63-09be356a1aa3",
   "metadata": {},
   "outputs": [],
   "source": [
    "v=Granular_flow_data[[\"Particle Velocity[i] (m/s)\", \"Particle Velocity[j] (m/s)\", \"Particle Velocity[k] (m/s)\"]]\n",
    "v"
   ]
  },
  {
   "cell_type": "code",
   "execution_count": null,
   "id": "d62b1d19-dd55-4156-af29-e2d8dd25f0dd",
   "metadata": {},
   "outputs": [],
   "source": [
    "%%time\n",
    "\n",
    "U_train, U_test, v_train, v_test=train_test_split(U,v,\n",
    "                                                  test_size=0.2, \n",
    "                                                  random_state=42)\n",
    "\n",
    "velocity_model1 =RandomForestRegressor(n_estimators=100)\n",
    "velocity_model1.fit(U_train, v_train)"
   ]
  },
  {
   "cell_type": "code",
   "execution_count": null,
   "id": "be8e2a2f-3d24-4bc7-b8a5-344b1f79865a",
   "metadata": {},
   "outputs": [],
   "source": [
    "velocity_model1.score(U_test, v_test)"
   ]
  },
  {
   "cell_type": "markdown",
   "id": "a398a5ce-c9d7-46ec-a679-265f395ce588",
   "metadata": {},
   "source": [
    "# Using Multi-layer Percerptron Regressor (MLP Regressor)"
   ]
  },
  {
   "cell_type": "code",
   "execution_count": null,
   "id": "7d78fae9-b8ee-4cc7-a68a-0354879106e3",
   "metadata": {},
   "outputs": [],
   "source": [
    "%%time\n",
    "\n",
    "from sklearn.neural_network import MLPRegressor\n",
    "\n",
    "\n",
    "MLP= MLPRegressor(random_state=42)\n",
    "\n",
    "MLP.fit(U_train, v_train)"
   ]
  },
  {
   "cell_type": "code",
   "execution_count": null,
   "id": "53fe7519-bae9-4b9e-86bf-10079fb13634",
   "metadata": {},
   "outputs": [],
   "source": [
    "MLP.score(X=U_test,y=v_test)"
   ]
  },
  {
   "cell_type": "code",
   "execution_count": null,
   "id": "5e0259ca-3231-4d43-89a1-fdf30af559bb",
   "metadata": {},
   "outputs": [],
   "source": []
  }
 ],
 "metadata": {
  "kernelspec": {
   "display_name": "Python 3 (ipykernel)",
   "language": "python",
   "name": "python3"
  },
  "language_info": {
   "codemirror_mode": {
    "name": "ipython",
    "version": 3
   },
   "file_extension": ".py",
   "mimetype": "text/x-python",
   "name": "python",
   "nbconvert_exporter": "python",
   "pygments_lexer": "ipython3",
   "version": "3.12.2"
  }
 },
 "nbformat": 4,
 "nbformat_minor": 5
}
